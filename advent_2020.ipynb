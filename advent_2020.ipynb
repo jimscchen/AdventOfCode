{
 "cells": [
  {
   "cell_type": "code",
   "execution_count": 477,
   "metadata": {},
   "outputs": [],
   "source": [
    "import numpy as np\n",
    "import pandas as pd\n",
    "\n",
    "from itertools import combinations, permutations\n",
    "import itertools\n",
    "\n",
    "from collections import Counter, defaultdict\n",
    "\n",
    "import re"
   ]
  },
  {
   "cell_type": "code",
   "execution_count": 2,
   "metadata": {},
   "outputs": [],
   "source": [
    "def read_raw_input(day):\n",
    "    with open('input_' + str(day)) as inputfile:\n",
    "         return inputfile.read().strip()"
   ]
  },
  {
   "cell_type": "code",
   "execution_count": 52,
   "metadata": {},
   "outputs": [],
   "source": [
    "def aoc_1(expenses):\n",
    "    expense_lookup = {2020-expense:expense for expense in expenses}\n",
    "    for expense in expenses:\n",
    "        if expense in expense_lookup:\n",
    "            return expense * expense_lookup[expense]\n",
    "    return -1"
   ]
  },
  {
   "cell_type": "code",
   "execution_count": 53,
   "metadata": {},
   "outputs": [],
   "source": [
    "def aoc_1b(expenses):\n",
    "    expense_lookup = {2020-expense:expense for expense in expenses}\n",
    "    for i in range(len(expenses)):\n",
    "        for j in range(i+1, len(expenses)):\n",
    "            if expenses[i] + expenses[j] in expense_lookup:\n",
    "                return expenses[i] * expenses[j] * expense_lookup[expenses[i] + expenses[j]]\n",
    "    return -1"
   ]
  },
  {
   "cell_type": "code",
   "execution_count": 51,
   "metadata": {},
   "outputs": [],
   "source": [
    "aoc_input = [int(expense) for expense in read_raw_input(1).split()]"
   ]
  },
  {
   "cell_type": "code",
   "execution_count": 55,
   "metadata": {},
   "outputs": [
    {
     "data": {
      "text/plain": [
       "1020084"
      ]
     },
     "execution_count": 55,
     "metadata": {},
     "output_type": "execute_result"
    }
   ],
   "source": [
    "aoc_1(aoc_input)"
   ]
  },
  {
   "cell_type": "code",
   "execution_count": 56,
   "metadata": {},
   "outputs": [
    {
     "data": {
      "text/plain": [
       "295086480"
      ]
     },
     "execution_count": 56,
     "metadata": {},
     "output_type": "execute_result"
    }
   ],
   "source": [
    "aoc_1b(aoc_input)"
   ]
  },
  {
   "cell_type": "code",
   "execution_count": 23,
   "metadata": {},
   "outputs": [],
   "source": [
    "with open('input_day2') as inputfile:\n",
    "    input_2_raw = inputfile.read().strip()"
   ]
  },
  {
   "cell_type": "code",
   "execution_count": 27,
   "metadata": {},
   "outputs": [],
   "source": [
    "input_2 = [x for x in input_2_raw.split('\\n') if x != '']"
   ]
  },
  {
   "cell_type": "code",
   "execution_count": 38,
   "metadata": {},
   "outputs": [],
   "source": [
    "def parse_password(password_string):\n",
    "    nums, token, string = password_string.split()\n",
    "    low_num, high_num = [int(num) for num in nums.split('-')]\n",
    "    return low_num, high_num, token[0], string\n",
    "\n",
    "def aoc_2(password_strings):\n",
    "    res = 0\n",
    "    for password_string in password_strings:\n",
    "        low_count, high_count, token, string = parse_password(password_string)\n",
    "        str_counter = Counter(string)\n",
    "        if low_count <= string.count(token) <= high_count:\n",
    "            res += 1\n",
    "    return res\n",
    "    "
   ]
  },
  {
   "cell_type": "code",
   "execution_count": 39,
   "metadata": {
    "scrolled": true
   },
   "outputs": [
    {
     "data": {
      "text/plain": [
       "519"
      ]
     },
     "execution_count": 39,
     "metadata": {},
     "output_type": "execute_result"
    }
   ],
   "source": [
    "aoc_2(input_2)"
   ]
  },
  {
   "cell_type": "code",
   "execution_count": 42,
   "metadata": {},
   "outputs": [],
   "source": [
    "def aoc_2b(password_strings):\n",
    "    res = 0\n",
    "    for password_string in password_strings:\n",
    "        low_count, high_count, token, string = parse_password(password_string)\n",
    "        if (string[low_count-1] == token) != ( string[high_count-1] == token):\n",
    "            res += 1\n",
    "    return res"
   ]
  },
  {
   "cell_type": "code",
   "execution_count": 43,
   "metadata": {},
   "outputs": [
    {
     "data": {
      "text/plain": [
       "708"
      ]
     },
     "execution_count": 43,
     "metadata": {},
     "output_type": "execute_result"
    }
   ],
   "source": [
    "aoc_2b(input_2)"
   ]
  },
  {
   "cell_type": "code",
   "execution_count": 44,
   "metadata": {},
   "outputs": [],
   "source": [
    "with open('input_day3') as inputfile:\n",
    "    input_3_raw = inputfile.read().strip()"
   ]
  },
  {
   "cell_type": "code",
   "execution_count": 45,
   "metadata": {},
   "outputs": [],
   "source": [
    "input_3 = input_3_raw.split('\\n')"
   ]
  },
  {
   "cell_type": "code",
   "execution_count": 54,
   "metadata": {},
   "outputs": [],
   "source": [
    "def aoc_3(terrain, slopes):\n",
    "    res = []\n",
    "    for x, y in slopes:\n",
    "        tree_count = 0\n",
    "        current_x = x\n",
    "        for current_y in range(y, len(terrain), y):\n",
    "            tree_count += terrain[current_y][current_x] == '#'\n",
    "            current_x = (current_x + x) % len(input_3[0])\n",
    "        res.append(tree_count)\n",
    "    return np.prod(res)"
   ]
  },
  {
   "cell_type": "code",
   "execution_count": 55,
   "metadata": {},
   "outputs": [
    {
     "data": {
      "text/plain": [
       "200"
      ]
     },
     "execution_count": 55,
     "metadata": {},
     "output_type": "execute_result"
    }
   ],
   "source": [
    "aoc_3(input_3, [(3, 1)])"
   ]
  },
  {
   "cell_type": "code",
   "execution_count": 57,
   "metadata": {},
   "outputs": [
    {
     "data": {
      "text/plain": [
       "3737923200"
      ]
     },
     "execution_count": 57,
     "metadata": {},
     "output_type": "execute_result"
    }
   ],
   "source": [
    "aoc_3(input_3, [(1, 2), (3, 1), (7, 1), (5, 1), (1, 1)])"
   ]
  },
  {
   "cell_type": "code",
   "execution_count": 58,
   "metadata": {},
   "outputs": [],
   "source": [
    "with open('input_day4') as inputfile:\n",
    "    input_4_raw = inputfile.read().strip()"
   ]
  },
  {
   "cell_type": "code",
   "execution_count": 59,
   "metadata": {},
   "outputs": [],
   "source": [
    "input_4 = input_4_raw.split('\\n\\n')"
   ]
  },
  {
   "cell_type": "code",
   "execution_count": 119,
   "metadata": {},
   "outputs": [],
   "source": [
    "def validate_passport(passport, validate_field=False):\n",
    "    SUFFICIENT_FIELDS = {'ecl', 'iyr', 'hgt', 'eyr', 'pid', 'byr', 'hcl'}\n",
    "    if not SUFFICIENT_FIELDS <= passport.keys():\n",
    "        return False\n",
    "    if not validate_field:\n",
    "        return True\n",
    "    \n",
    "    def validate_year(yr, yr_begin, yr_end):\n",
    "        return yr_begin <= yr <= yr_end\n",
    "    \n",
    "    def validate_hgt(hgt):\n",
    "        num = hgt[:-2]\n",
    "        unit = hgt[-2:]\n",
    "        \n",
    "        if unit == 'in' and 59 <= int(num) <= 76:\n",
    "            return True\n",
    "        if unit == 'cm' and 150 <= int(num) <= 193:\n",
    "            return True\n",
    "        return False\n",
    "    \n",
    "    def validate_hcl(hcl):\n",
    "        return re.compile('#[0-9a-f]{6}').fullmatch(hcl) != None\n",
    "    \n",
    "    def validate_ecl(ecl):\n",
    "        COLORS = {'amb', 'blu', 'brn', 'gry', 'grn', 'hzl', 'oth'}\n",
    "        return ecl in COLORS\n",
    "    \n",
    "    def validate_pid(pid):\n",
    "        return re.compile('\\d{9}').fullmatch(pid) != None\n",
    "    \n",
    "    if not validate_year(int(passport['byr']), 1920, 2002):\n",
    "        return False\n",
    "    if not validate_year(int(passport['iyr']), 2010, 2020):\n",
    "        return False\n",
    "    if not validate_year(int(passport['eyr']), 2020, 2030):\n",
    "        return False\n",
    "    if not validate_hgt(passport['hgt']):\n",
    "        return False\n",
    "    if not validate_hcl(passport['hcl']):\n",
    "        return False\n",
    "    if not validate_ecl(passport['ecl']):\n",
    "        return False\n",
    "    if not validate_pid(passport['pid']):\n",
    "        return False\n",
    "    \n",
    "    return True\n",
    "\n",
    "def aoc_4(passports):\n",
    "    valid_count = 0\n",
    "    for raw_passport in passports:\n",
    "        passport = {field.split(':')[0]:field.split(':')[-1] for field in raw_passport.split()}\n",
    "        valid_count += validate_passport(passport)\n",
    "    return valid_count\n",
    "\n",
    "def aoc_4b(passports):\n",
    "    valid_count = 0\n",
    "    for raw_passport in passports:\n",
    "        passport = {field.split(':')[0]:field.split(':')[-1] for field in raw_passport.split()}\n",
    "        valid_count += validate_passport(passport, True)\n",
    "    return valid_count"
   ]
  },
  {
   "cell_type": "code",
   "execution_count": 90,
   "metadata": {},
   "outputs": [
    {
     "data": {
      "text/plain": [
       "226"
      ]
     },
     "execution_count": 90,
     "metadata": {},
     "output_type": "execute_result"
    }
   ],
   "source": [
    "aoc_4(input_4)"
   ]
  },
  {
   "cell_type": "code",
   "execution_count": 120,
   "metadata": {},
   "outputs": [
    {
     "data": {
      "text/plain": [
       "160"
      ]
     },
     "execution_count": 120,
     "metadata": {},
     "output_type": "execute_result"
    }
   ],
   "source": [
    "aoc_4b(input_4)"
   ]
  },
  {
   "cell_type": "code",
   "execution_count": 151,
   "metadata": {},
   "outputs": [],
   "source": [
    "with open('input_day5') as inputfile:\n",
    "    input_5_raw = inputfile.read().strip()"
   ]
  },
  {
   "cell_type": "code",
   "execution_count": 152,
   "metadata": {},
   "outputs": [],
   "source": [
    "input_5 = input_5_raw.split('\\n')"
   ]
  },
  {
   "cell_type": "code",
   "execution_count": 169,
   "metadata": {},
   "outputs": [],
   "source": [
    "def get_seatid(seat_code):\n",
    "    seat_id = 0\n",
    "    for code in seat_code:\n",
    "        seat_id *= 2\n",
    "        seat_id += code in 'BR'\n",
    "    return seat_id"
   ]
  },
  {
   "cell_type": "code",
   "execution_count": 174,
   "metadata": {},
   "outputs": [],
   "source": [
    "def aoc_5(seat_codes):\n",
    "    return max([get_seatid(seat_code) for seat_code in seat_codes])"
   ]
  },
  {
   "cell_type": "code",
   "execution_count": 175,
   "metadata": {},
   "outputs": [
    {
     "data": {
      "text/plain": [
       "935"
      ]
     },
     "execution_count": 175,
     "metadata": {},
     "output_type": "execute_result"
    }
   ],
   "source": [
    "aoc_5(input_5)"
   ]
  },
  {
   "cell_type": "code",
   "execution_count": 159,
   "metadata": {},
   "outputs": [],
   "source": [
    "def aoc_5_b(seat_codes):\n",
    "    seat_ids = [get_seatid(seat_code) for seat_code in seat_codes]\n",
    "    return [seat_id for seat_id in range(min(seat_ids), max(seat_ids)+1) if seat_id not in seat_ids]"
   ]
  },
  {
   "cell_type": "code",
   "execution_count": 171,
   "metadata": {},
   "outputs": [
    {
     "data": {
      "text/plain": [
       "[743]"
      ]
     },
     "execution_count": 171,
     "metadata": {},
     "output_type": "execute_result"
    }
   ],
   "source": [
    "aoc_5_b(input_5)"
   ]
  },
  {
   "cell_type": "code",
   "execution_count": 204,
   "metadata": {},
   "outputs": [],
   "source": [
    "with open('input_day6') as inputfile:\n",
    "    input_6_raw = inputfile.read().strip()"
   ]
  },
  {
   "cell_type": "code",
   "execution_count": 205,
   "metadata": {},
   "outputs": [],
   "source": [
    "input_6 = input_6_raw.split('\\n\\n')"
   ]
  },
  {
   "cell_type": "code",
   "execution_count": 206,
   "metadata": {},
   "outputs": [],
   "source": [
    "def aoc_6(answers):\n",
    "    res = 0\n",
    "    for answer in answers:\n",
    "        string = ''.join(answer.split())\n",
    "        res += len(Counter(string))\n",
    "    return res"
   ]
  },
  {
   "cell_type": "code",
   "execution_count": 207,
   "metadata": {},
   "outputs": [
    {
     "data": {
      "text/plain": [
       "6775"
      ]
     },
     "execution_count": 207,
     "metadata": {},
     "output_type": "execute_result"
    }
   ],
   "source": [
    "aoc_6(input_6)"
   ]
  },
  {
   "cell_type": "code",
   "execution_count": 202,
   "metadata": {},
   "outputs": [],
   "source": [
    "def aoc_6_b(answers):\n",
    "    res = 0\n",
    "    for answer in answers:\n",
    "        nump = len(answer.split())\n",
    "        string = ''.join(answer.split())\n",
    "        res += len({k for k, v in Counter(string).items() if v == nump})\n",
    "    return res"
   ]
  },
  {
   "cell_type": "code",
   "execution_count": 203,
   "metadata": {},
   "outputs": [
    {
     "data": {
      "text/plain": [
       "3356"
      ]
     },
     "execution_count": 203,
     "metadata": {},
     "output_type": "execute_result"
    }
   ],
   "source": [
    "aoc_6_b(input_6)"
   ]
  },
  {
   "cell_type": "code",
   "execution_count": 394,
   "metadata": {},
   "outputs": [],
   "source": [
    "with open('input_day7') as inputfile:\n",
    "    input_7_raw = inputfile.read().strip()"
   ]
  },
  {
   "cell_type": "code",
   "execution_count": 395,
   "metadata": {},
   "outputs": [],
   "source": [
    "input_7 = input_7_raw.split('\\n')"
   ]
  },
  {
   "cell_type": "code",
   "execution_count": 396,
   "metadata": {},
   "outputs": [],
   "source": [
    "def aoc_7(bag_relations):\n",
    "    bag_dict = defaultdict(list)\n",
    "    for bag_relation in bag_relations:\n",
    "        outer_bag, inner_bags = bag_relation.split('contain')\n",
    "        outer_bag = re.findall('^(\\w+ \\w+) bags', outer_bag).pop()\n",
    "        inner_bags = re.findall('\\d+ (\\w+ \\w+) bag[s]*', inner_bags)\n",
    "    \n",
    "        for inner_bag in inner_bags:\n",
    "            bag_dict[inner_bag].append(outer_bag)\n",
    "            \n",
    "    res = set()\n",
    "    check_bags = set(['shiny gold'])\n",
    "    while check_bags:\n",
    "        tmp = sum([outer_bag for inner_bag, outer_bag in bag_dict.items() \n",
    "                   if inner_bag in check_bags], list())\n",
    "        tmp = set(tmp)\n",
    "        res = res.union(tmp)\n",
    "        check_bags = tmp\n",
    "    return len(res)"
   ]
  },
  {
   "cell_type": "code",
   "execution_count": 397,
   "metadata": {},
   "outputs": [
    {
     "data": {
      "text/plain": [
       "222"
      ]
     },
     "execution_count": 397,
     "metadata": {},
     "output_type": "execute_result"
    }
   ],
   "source": [
    "aoc_7(input_7)"
   ]
  },
  {
   "cell_type": "code",
   "execution_count": 398,
   "metadata": {},
   "outputs": [],
   "source": [
    "def aoc_7_b(bag_relations):\n",
    "    bag_dict = defaultdict(list)\n",
    "    for bag_relation in bag_relations:\n",
    "        outer_bag, inner_bags = bag_relation.split('contain')\n",
    "        outer_bag = re.findall('^(\\w+ \\w+) bags', outer_bag).pop()\n",
    "        inner_bags = re.findall('(\\d+) (\\w+ \\w+) bag[s]*', inner_bags)\n",
    "    \n",
    "        for num, inner_bag in inner_bags:\n",
    "            bag_dict[outer_bag].append((int(num), inner_bag))\n",
    "    def lookup(bag):\n",
    "        res = 1\n",
    "        for b in bag_dict[bag]:\n",
    "            res += b[0]*lookup(b[1])\n",
    "        return res\n",
    "    return lookup('shiny gold') -1"
   ]
  },
  {
   "cell_type": "code",
   "execution_count": 399,
   "metadata": {},
   "outputs": [
    {
     "data": {
      "text/plain": [
       "13264"
      ]
     },
     "execution_count": 399,
     "metadata": {},
     "output_type": "execute_result"
    }
   ],
   "source": [
    "aoc_7_b(input_7)"
   ]
  },
  {
   "cell_type": "code",
   "execution_count": 3,
   "metadata": {},
   "outputs": [],
   "source": [
    "with open('input_day8') as inputfile:\n",
    "    input_8_raw = inputfile.read().strip()"
   ]
  },
  {
   "cell_type": "code",
   "execution_count": 4,
   "metadata": {},
   "outputs": [],
   "source": [
    "input_8 = input_8_raw.strip().split('\\n')"
   ]
  },
  {
   "cell_type": "code",
   "execution_count": 550,
   "metadata": {},
   "outputs": [],
   "source": [
    "def aoc_8(commands):\n",
    "    visited = set()\n",
    "    tracker = acc = 0\n",
    "    while tracker not in visited:\n",
    "        visited.add(tracker)\n",
    "        cmd, val = commands[tracker].split()\n",
    "        if cmd == 'acc':\n",
    "            acc += int(val)\n",
    "            tracker += 1\n",
    "        if cmd == 'nop':\n",
    "            tracker += 1\n",
    "        if cmd == 'jmp':\n",
    "            tracker += int(val)\n",
    "    return acc"
   ]
  },
  {
   "cell_type": "code",
   "execution_count": 551,
   "metadata": {},
   "outputs": [
    {
     "data": {
      "text/plain": [
       "1753"
      ]
     },
     "execution_count": 551,
     "metadata": {},
     "output_type": "execute_result"
    }
   ],
   "source": [
    "aoc_8(input_8)"
   ]
  },
  {
   "cell_type": "code",
   "execution_count": 579,
   "metadata": {},
   "outputs": [],
   "source": [
    "def aoc_8_b(commands):\n",
    "    checked = []\n",
    "    cur = 0\n",
    "    COMMAND_OVERRIDE = {'nop':'jmp', 'jmp':'nop'}\n",
    "    branch_point = (0, 0)\n",
    "    while cur < len(commands):\n",
    "        visited = set()\n",
    "        cur, acc = branch_point\n",
    "        flipped = False\n",
    "        while cur not in visited and cur < len(commands):\n",
    "            visited.add(cur)\n",
    "            cmd, val = commands[cur].split()\n",
    "            \n",
    "            if not flipped and cmd in COMMAND_OVERRIDE and cur not in checked:\n",
    "                flipped = True\n",
    "                branch_point = (cur, acc)\n",
    "                cmd = COMMAND_OVERRIDE[cmd]\n",
    "                checked.append(cur)\n",
    "                \n",
    "            if cmd == 'acc':\n",
    "                acc += int(val)\n",
    "                cur += 1\n",
    "            if cmd == 'nop':\n",
    "                cur += 1\n",
    "            if cmd == 'jmp':\n",
    "                cur += int(val)\n",
    "    return acc"
   ]
  },
  {
   "cell_type": "code",
   "execution_count": 580,
   "metadata": {
    "scrolled": true
   },
   "outputs": [
    {
     "data": {
      "text/plain": [
       "733"
      ]
     },
     "execution_count": 580,
     "metadata": {},
     "output_type": "execute_result"
    }
   ],
   "source": [
    "aoc_8_b(input_8)"
   ]
  },
  {
   "cell_type": "code",
   "execution_count": 566,
   "metadata": {},
   "outputs": [],
   "source": [
    "def execute(commands, cur=0, acc=0):\n",
    "    visited = set()\n",
    "    while cur not in visited and cur < len(commands):\n",
    "        visited.add(cur)\n",
    "        cmd, val = commands[cur].split()\n",
    "        if cmd == 'acc':\n",
    "            acc += int(val)\n",
    "            cur += 1\n",
    "        if cmd == 'nop':\n",
    "            cur += 1\n",
    "        if cmd == 'jmp':\n",
    "            cur += int(val)\n",
    "    return acc, cur < len(commands)"
   ]
  },
  {
   "cell_type": "code",
   "execution_count": 567,
   "metadata": {},
   "outputs": [
    {
     "data": {
      "text/plain": [
       "(1753, True)"
      ]
     },
     "execution_count": 567,
     "metadata": {},
     "output_type": "execute_result"
    }
   ],
   "source": [
    "execute(input_8)"
   ]
  },
  {
   "cell_type": "code",
   "execution_count": 49,
   "metadata": {},
   "outputs": [],
   "source": [
    "class aoc_engine:\n",
    "    commands = None\n",
    "    cur = None\n",
    "    acc = None\n",
    "    visited = None\n",
    "    cur_saved = None\n",
    "    acc_saved = None\n",
    "    visited_saved = None\n",
    "    \n",
    "    def __init__(self, commands):\n",
    "        self.commands = commands\n",
    "        self.cur = 0\n",
    "        self.acc = 0\n",
    "        self.visited = set()\n",
    "    \n",
    "    def get_current_command(self):\n",
    "        return self.commands[self.cur].split()\n",
    "    \n",
    "    def step(self):\n",
    "        cmd, val = self.commands[self.cur].split()\n",
    "        self.visited.add(self.cur)\n",
    "        if cmd == 'acc':\n",
    "            self.acc += int(val)\n",
    "            self.cur += 1\n",
    "        if cmd == 'nop':\n",
    "            self.cur += 1\n",
    "        if cmd == 'jmp':\n",
    "            self.cur += int(val)\n",
    "            \n",
    "    def step_override(self):\n",
    "        cmd, val = self.commands[self.cur].split()\n",
    "        self.visited.add(self.cur)\n",
    "        if cmd == 'jmp':\n",
    "            self.cur += 1\n",
    "        if cmd == 'nop':\n",
    "            self.cur += int(val)\n",
    "    \n",
    "    def run_all(self):\n",
    "        while self.cur not in self.visited and self.cur < len(self.commands):\n",
    "            self.step()\n",
    "        if self.cur < len(self.commands):\n",
    "            result = -1\n",
    "        else: result = 0\n",
    "        \n",
    "        return self.acc, result\n",
    "    \n",
    "    def save_state(self):\n",
    "        self.cur_saved = self.cur\n",
    "        self.acc_saved = self.acc\n",
    "        self.visited_saved = self.visited.copy()\n",
    "    \n",
    "    def load_state(self):\n",
    "        self.cur = self.cur_saved\n",
    "        self.acc = self.acc_saved\n",
    "        self.visited = self.visited_saved.copy()\n",
    "        "
   ]
  },
  {
   "cell_type": "code",
   "execution_count": 50,
   "metadata": {},
   "outputs": [],
   "source": [
    "t = aoc_engine(input_8)"
   ]
  },
  {
   "cell_type": "code",
   "execution_count": 59,
   "metadata": {},
   "outputs": [
    {
     "name": "stdout",
     "output_type": "stream",
     "text": [
      "733 0\n"
     ]
    }
   ],
   "source": [
    "t = aoc_engine(input_8)\n",
    "checked = []\n",
    "outcome = -1\n",
    "OVERRIDE = {'nop':'jmp', 'jmp':'nop'}\n",
    "while outcome == -1:\n",
    "    if t.cur_saved is not None:\n",
    "        t.load_state()\n",
    "    while t.get_current_command()[0] not in OVERRIDE or t.cur in checked:\n",
    "        t.step()\n",
    "    checked.append(t.cur)\n",
    "    t.save_state()\n",
    "    t.step_override()\n",
    "    acc, outcome = t.run_all()\n",
    "\n",
    "print(acc, outcome)"
   ]
  },
  {
   "cell_type": "code",
   "execution_count": 89,
   "metadata": {},
   "outputs": [],
   "source": [
    "with open('input_day9') as inputfile:\n",
    "    input_9_raw = inputfile.read().strip()"
   ]
  },
  {
   "cell_type": "code",
   "execution_count": 90,
   "metadata": {},
   "outputs": [],
   "source": [
    "input_9 = input_9_raw.split('\\n')\n",
    "input_9 = [int(x) for x in input_9]"
   ]
  },
  {
   "cell_type": "code",
   "execution_count": 82,
   "metadata": {},
   "outputs": [],
   "source": [
    "input_9 = [int(x) for x in input_9]"
   ]
  },
  {
   "cell_type": "code",
   "execution_count": null,
   "metadata": {},
   "outputs": [],
   "source": [
    "373803594"
   ]
  },
  {
   "cell_type": "code",
   "execution_count": 88,
   "metadata": {},
   "outputs": [
    {
     "name": "stdout",
     "output_type": "stream",
     "text": [
      "found\n",
      "51152360\n"
     ]
    }
   ],
   "source": [
    "for i in range(len(input_9)):\n",
    "    j = 2\n",
    "    while sum(input_9[i:i+j]) <= 373803594:\n",
    "        if sum(input_9[i:i+j]) == 373803594:\n",
    "            print('found')\n",
    "            print(min(input_9[i:i+j])+ max(input_9[i:i+j]))\n",
    "        j += 1\n",
    "    "
   ]
  },
  {
   "cell_type": "code",
   "execution_count": 85,
   "metadata": {},
   "outputs": [
    {
     "data": {
      "text/plain": [
       "[24, 27]"
      ]
     },
     "execution_count": 85,
     "metadata": {},
     "output_type": "execute_result"
    }
   ],
   "source": [
    "input_9[0:2]"
   ]
  },
  {
   "cell_type": "code",
   "execution_count": 96,
   "metadata": {},
   "outputs": [],
   "source": [
    "def aoc_9(prembles):\n",
    "    for i, num in enumerate(prembles):\n",
    "        if i < 25: continue\n",
    "        valid_nums = set(prembles[i-25:i])\n",
    "        for valid_num in valid_nums:\n",
    "            if num - valid_num in valid_nums and num != valid_num * 2:\n",
    "                break\n",
    "        else:\n",
    "            return num"
   ]
  },
  {
   "cell_type": "code",
   "execution_count": 97,
   "metadata": {},
   "outputs": [
    {
     "data": {
      "text/plain": [
       "373803594"
      ]
     },
     "execution_count": 97,
     "metadata": {},
     "output_type": "execute_result"
    }
   ],
   "source": [
    "aoc_9(input_9)"
   ]
  },
  {
   "cell_type": "code",
   "execution_count": 106,
   "metadata": {},
   "outputs": [],
   "source": [
    "def aoc_9_b(prembles, match):\n",
    "    for i in range(len(prembles)):\n",
    "        block_size = 2\n",
    "        while sum(input_9[i:i+block_size]) <= match:\n",
    "            if sum(input_9[i:i+block_size]) == match:\n",
    "                return min(input_9[i:i+block_size]) + max(input_9[i:i+block_size])\n",
    "            block_size += 1\n",
    "    return -1"
   ]
  },
  {
   "cell_type": "code",
   "execution_count": 107,
   "metadata": {},
   "outputs": [
    {
     "data": {
      "text/plain": [
       "51152360"
      ]
     },
     "execution_count": 107,
     "metadata": {},
     "output_type": "execute_result"
    }
   ],
   "source": [
    "aoc_9_b(input_9, aoc_9(input_9))"
   ]
  },
  {
   "cell_type": "code",
   "execution_count": 188,
   "metadata": {},
   "outputs": [],
   "source": [
    "with open('input_day10') as inputfile:\n",
    "    input_10_raw = inputfile.read().strip()"
   ]
  },
  {
   "cell_type": "code",
   "execution_count": 195,
   "metadata": {},
   "outputs": [],
   "source": [
    "input_10 = input_10_raw.split('\\n')\n",
    "input_10 = [int(x) for x in input_10]"
   ]
  },
  {
   "cell_type": "code",
   "execution_count": 190,
   "metadata": {},
   "outputs": [],
   "source": [
    "def aoc_10(x):\n",
    "    res = defaultdict(int)\n",
    "    x = sorted(x)\n",
    "    for i in range(len(x)-1):\n",
    "        res[x[i+1] - x[i]] += 1\n",
    "    return (res[1]+1) * (res[3]+1)"
   ]
  },
  {
   "cell_type": "code",
   "execution_count": 191,
   "metadata": {},
   "outputs": [
    {
     "data": {
      "text/plain": [
       "2475"
      ]
     },
     "execution_count": 191,
     "metadata": {},
     "output_type": "execute_result"
    }
   ],
   "source": [
    "aoc_10(input_10)"
   ]
  },
  {
   "cell_type": "code",
   "execution_count": 192,
   "metadata": {},
   "outputs": [],
   "source": [
    "def aoc_10_b(x):\n",
    "    dp = defaultdict(int)\n",
    "    tmp = [0] + list(sorted(x))\n",
    "    dp[max(tmp)] = 1\n",
    "    for num in tmp[-2::-1]:\n",
    "        dp[num] = dp[num+1] + dp[num+2] + dp[num+3] \n",
    "    return dp[0]"
   ]
  },
  {
   "cell_type": "code",
   "execution_count": 193,
   "metadata": {},
   "outputs": [
    {
     "data": {
      "text/plain": [
       "442136281481216"
      ]
     },
     "execution_count": 193,
     "metadata": {},
     "output_type": "execute_result"
    }
   ],
   "source": [
    "aoc_10_b(input_10)"
   ]
  },
  {
   "cell_type": "code",
   "execution_count": 5,
   "metadata": {},
   "outputs": [],
   "source": [
    "with open('input_day11') as inputfile:\n",
    "    input_11_raw = inputfile.read().strip()"
   ]
  },
  {
   "cell_type": "code",
   "execution_count": 6,
   "metadata": {},
   "outputs": [],
   "source": [
    "input_11 = input_11_raw.strip().split('\\n')"
   ]
  },
  {
   "cell_type": "code",
   "execution_count": 25,
   "metadata": {},
   "outputs": [],
   "source": [
    "def aoc_11(seatmap):\n",
    "    current_map = {}\n",
    "    for i in range(len(seatmap)):\n",
    "        for j in range(len(seatmap[0])):\n",
    "            current_map[i+j*1j] = (seatmap[i][j] == 'L') - 1\n",
    "        \n",
    "    DIRECTIONS = {1, -1, 1j, -1j, 1+1j, 1-1j, -1+1j, -1-1j}\n",
    "    num_change = -1\n",
    "    while num_change != 0:\n",
    "        new_map = current_map.copy()\n",
    "        num_change = 0\n",
    "        for seat, value in current_map.items():\n",
    "            adj = [current_map.get(seat+direction, -1) for direction in DIRECTIONS].count(1)\n",
    "            if (adj == 0 and value == 0) or (adj >= 4 and value == 1):\n",
    "                num_change += 1\n",
    "                new_map[seat] = 1-value\n",
    "        \n",
    "        current_map = new_map\n",
    "    return list(new_map.values()).count(1)"
   ]
  },
  {
   "cell_type": "code",
   "execution_count": 26,
   "metadata": {},
   "outputs": [
    {
     "data": {
      "text/plain": [
       "2281"
      ]
     },
     "execution_count": 26,
     "metadata": {},
     "output_type": "execute_result"
    }
   ],
   "source": [
    "aoc_11(input_11)"
   ]
  },
  {
   "cell_type": "code",
   "execution_count": 38,
   "metadata": {},
   "outputs": [],
   "source": [
    "def aoc_11_b(seatmap):\n",
    "    current_map = {}\n",
    "    for i in range(len(seatmap)):\n",
    "        for j in range(len(seatmap[0])):\n",
    "            current_map[i+j*1j] = (seatmap[i][j] == 'L') - 1\n",
    "        \n",
    "    DIRECTIONS = {1, -1, 1j, -1j, 1+1j, 1-1j, -1+1j, -1-1j}\n",
    "    changed = True\n",
    "    while changed != 0:\n",
    "        new_map = current_map.copy()\n",
    "        changed = False\n",
    "        for seat, value in current_map.items():\n",
    "            distance = 1\n",
    "            found = set()\n",
    "            seat_count = 0\n",
    "            while found != DIRECTIONS:\n",
    "                for direction in DIRECTIONS-found:\n",
    "                    vis_seat = current_map.get(seat + direction*distance, 0)\n",
    "                    if vis_seat != -1:\n",
    "                        found.add(direction)\n",
    "                        seat_count += vis_seat\n",
    "                distance += 1\n",
    "                        \n",
    "            if (seat_count == 0 and value == 0) or (seat_count >= 5 and value == 1):\n",
    "                changed = True\n",
    "                new_map[seat] = 1-value\n",
    "        \n",
    "        current_map = new_map\n",
    "    return list(new_map.values()).count(1)"
   ]
  },
  {
   "cell_type": "code",
   "execution_count": 46,
   "metadata": {},
   "outputs": [
    {
     "data": {
      "text/plain": [
       "2085"
      ]
     },
     "execution_count": 46,
     "metadata": {},
     "output_type": "execute_result"
    }
   ],
   "source": [
    "aoc_11_b(input_11)"
   ]
  },
  {
   "cell_type": "code",
   "execution_count": 112,
   "metadata": {},
   "outputs": [],
   "source": [
    "aoc_input = read_raw_input(12).split('\\n')"
   ]
  },
  {
   "cell_type": "code",
   "execution_count": 113,
   "metadata": {},
   "outputs": [],
   "source": [
    "def aoc_12(x):\n",
    "    cord = 0\n",
    "    MOVE={'N':1, 'S':-1, 'E':1j, 'W':-1j}\n",
    "    d = 'E'\n",
    "    LTURN = {'E':'N', 'N':'W', 'W':'S', 'S':'E'}\n",
    "    RTURN = {v:k for k, v in LTURN.items()}\n",
    "    for move in x:\n",
    "        cmd = move[0]\n",
    "        val = int(move[1:])\n",
    "        #print(cmd, val)\n",
    "        if cmd in 'NWES':\n",
    "            cord += val*MOVE[cmd]\n",
    "        if cmd == 'F':\n",
    "            cord += val*MOVE[d]\n",
    "        if cmd == 'L':\n",
    "            for _ in range(val//90):\n",
    "                d = LTURN[d]\n",
    "        if cmd == 'R':\n",
    "            for _ in range(val//90):\n",
    "                d = RTURN[d]\n",
    "    return abs(cord.imag) + abs(cord.real)"
   ]
  },
  {
   "cell_type": "code",
   "execution_count": 114,
   "metadata": {},
   "outputs": [
    {
     "data": {
      "text/plain": [
       "820.0"
      ]
     },
     "execution_count": 114,
     "metadata": {},
     "output_type": "execute_result"
    }
   ],
   "source": [
    "aoc_12(aoc_input)"
   ]
  },
  {
   "cell_type": "code",
   "execution_count": 115,
   "metadata": {},
   "outputs": [],
   "source": [
    "def aoc_12_b(x):\n",
    "    cord = 0\n",
    "    wp = 1+10j\n",
    "    MOVE={'N':1, 'S':-1, 'E':1j, 'W':-1j}\n",
    "    for move in x:\n",
    "        cmd = move[0]\n",
    "        val = int(move[1:])\n",
    "        if cmd in 'NWES':\n",
    "            wp += val*MOVE[cmd]\n",
    "        if cmd == 'F':\n",
    "            cord += val*wp\n",
    "        if cmd == 'L':\n",
    "            wp /= 1j**(val/90)\n",
    "        if cmd == 'R':\n",
    "            wp *= 1j**(val/90)\n",
    "    return abs(cord.real)+abs(cord.imag)"
   ]
  },
  {
   "cell_type": "code",
   "execution_count": 116,
   "metadata": {},
   "outputs": [
    {
     "data": {
      "text/plain": [
       "66614.0"
      ]
     },
     "execution_count": 116,
     "metadata": {},
     "output_type": "execute_result"
    }
   ],
   "source": [
    "aoc_12_b(aoc_input)"
   ]
  },
  {
   "cell_type": "code",
   "execution_count": 2402,
   "metadata": {},
   "outputs": [],
   "source": [
    "aoc_input = read_raw_input(13).split('\\n')"
   ]
  },
  {
   "cell_type": "code",
   "execution_count": 2403,
   "metadata": {},
   "outputs": [],
   "source": [
    "def aoc_13(bus_info):\n",
    "    t = 1013728\n",
    "    buses = [int(x) for x in re.findall('\\d+', bus_info[-1])]\n",
    "    buses = sorted([(x -  t%x, x) for x in buses])\n",
    "    \n",
    "    return np.prod(buses[0])"
   ]
  },
  {
   "cell_type": "code",
   "execution_count": 2404,
   "metadata": {},
   "outputs": [
    {
     "data": {
      "text/plain": [
       "8063"
      ]
     },
     "execution_count": 2404,
     "metadata": {},
     "output_type": "execute_result"
    }
   ],
   "source": [
    "aoc_13(aoc_input)"
   ]
  },
  {
   "cell_type": "code",
   "execution_count": 2405,
   "metadata": {},
   "outputs": [],
   "source": [
    "def aoc_13b(x):\n",
    "    buses = x[-1].split(',')\n",
    "    bus_order = []\n",
    "    bus_delay = []\n",
    "    for i, bus in enumerate(buses):\n",
    "        if bus != 'x':\n",
    "            bus_order.append(int(bus))\n",
    "            bus_delay.append(i)\n",
    "    \n",
    "    res = bus_order[0]\n",
    "    common_multiplier = res\n",
    "    for i in range(1, len(bus_delay)):\n",
    "        while (res+bus_delay[i]) % bus_order[i] != 0:\n",
    "            res += common_multiplier\n",
    "        common_multiplier = common_multiplier*bus_order[i]\n",
    "        #print(res)\n",
    "    return res\n",
    "\n",
    "    "
   ]
  },
  {
   "cell_type": "code",
   "execution_count": 2406,
   "metadata": {},
   "outputs": [
    {
     "data": {
      "text/plain": [
       "775230782877242"
      ]
     },
     "execution_count": 2406,
     "metadata": {},
     "output_type": "execute_result"
    }
   ],
   "source": [
    "aoc_13b(aoc_input)"
   ]
  },
  {
   "cell_type": "code",
   "execution_count": 625,
   "metadata": {},
   "outputs": [],
   "source": [
    "aoc_input = read_raw_input(14).split('\\n')"
   ]
  },
  {
   "cell_type": "code",
   "execution_count": 626,
   "metadata": {},
   "outputs": [],
   "source": [
    "def aoc_14(x):\n",
    "    mask = 'x'*36\n",
    "    mem = {}\n",
    "    for cmd in x:\n",
    "        v1, v2 = cmd.split(' = ')\n",
    "        if v1 == 'mask':\n",
    "            mask = v2\n",
    "            \n",
    "        else:\n",
    "            v2 = bin(int(v2))[2:]\n",
    "            v2 = (36-len(v2))*'0' + v2\n",
    "            res = ''\n",
    "            for i in range(36):\n",
    "                if mask[i] != 'X':\n",
    "                    #print(i, mask[i])\n",
    "                    res += mask[i]\n",
    "                else:\n",
    "                    res += v2[i]\n",
    "            #print(v1, v2, int(v2, 2), mask)\n",
    "            mem[v1] = int(res, 2)\n",
    "    #print(mem)\n",
    "    return sum(v for k, v in mem.items())"
   ]
  },
  {
   "cell_type": "code",
   "execution_count": 627,
   "metadata": {},
   "outputs": [
    {
     "data": {
      "text/plain": [
       "11926135976176"
      ]
     },
     "execution_count": 627,
     "metadata": {},
     "output_type": "execute_result"
    }
   ],
   "source": [
    "aoc_14(aoc_input)"
   ]
  },
  {
   "cell_type": "code",
   "execution_count": 636,
   "metadata": {},
   "outputs": [],
   "source": [
    "def aoc_14b(x):\n",
    "    def solve_floating(val):\n",
    "        locs = [i for i in range(36) if val[i] == 'X']\n",
    "        p = [('0', '1')] * len(locs)\n",
    "        combos = itertools.product(*p)\n",
    "        registers = []\n",
    "        for combo in combos:\n",
    "            for i in range(len(locs)):\n",
    "                val[locs[i]] = combo[i]\n",
    "            registers.append(int(''.join(val), 2))\n",
    "        return registers\n",
    "    \n",
    "    mask = 'X'*36\n",
    "    mem = {}\n",
    "    \n",
    "    for cmd in x:\n",
    "        v1, v2 = cmd.split(' = ')\n",
    "        if v1 == 'mask':\n",
    "            mask = v2\n",
    "        else:\n",
    "            v1 = int(re.findall('\\d+', v1)[0])\n",
    "            v1 = bin(int(v1))[2:]\n",
    "            v1 = (36-len(v1))*'0' + v1\n",
    "            res = [v1[i] if mask[i] == '0' else mask[i] for i in range(36)]\n",
    "\n",
    "            for register in solve_floating(res):\n",
    "                mem[register] = int(v2)\n",
    "    \n",
    "    return sum([v for k, v in mem.items()])"
   ]
  },
  {
   "cell_type": "code",
   "execution_count": 637,
   "metadata": {},
   "outputs": [
    {
     "data": {
      "text/plain": [
       "4330547254348"
      ]
     },
     "execution_count": 637,
     "metadata": {},
     "output_type": "execute_result"
    }
   ],
   "source": [
    "aoc_14b(aoc_input)"
   ]
  },
  {
   "cell_type": "code",
   "execution_count": 2409,
   "metadata": {},
   "outputs": [],
   "source": [
    "aoc_input = [1,0,18,10,19,6]"
   ]
  },
  {
   "cell_type": "code",
   "execution_count": 2410,
   "metadata": {},
   "outputs": [],
   "source": [
    "def aoc_15(x, NUM_LOOPS=2020):\n",
    "    tracker = {}\n",
    "    num = next_num = 0\n",
    "    for i in range(NUM_LOOPS-1):\n",
    "        if i < len(x):\n",
    "            tracker[x[i]] = i\n",
    "            continue\n",
    "        if num in tracker:\n",
    "            next_num = i - tracker[num]\n",
    "        else:\n",
    "            next_num = 0\n",
    "        tracker[num] = i\n",
    "        num = next_num\n",
    "    return num"
   ]
  },
  {
   "cell_type": "code",
   "execution_count": 2412,
   "metadata": {},
   "outputs": [
    {
     "data": {
      "text/plain": [
       "10613991"
      ]
     },
     "execution_count": 2412,
     "metadata": {},
     "output_type": "execute_result"
    }
   ],
   "source": [
    "aoc_15(aoc_input, 30000000)"
   ]
  },
  {
   "cell_type": "code",
   "execution_count": 179,
   "metadata": {},
   "outputs": [],
   "source": [
    "aoc_input = read_raw_input(16).split('\\n\\n')"
   ]
  },
  {
   "cell_type": "code",
   "execution_count": 258,
   "metadata": {},
   "outputs": [],
   "source": [
    "def aoc_16(x):\n",
    "    ticket_fields = np.array([int(val) for val in re.findall('\\d+', x[2])])\n",
    "    status = np.zeros(len(ticket_fields))\n",
    "    valid_ranges = np.array([int(val) for val in re.findall('\\d+', x[0])]).reshape(-1, 2)\n",
    "    \n",
    "    for lower, upper in valid_ranges:\n",
    "        status += (lower <= ticket_fields) & (ticket_fields <= upper)\n",
    "    return np.sum(ticket_fields[status == 0])"
   ]
  },
  {
   "cell_type": "code",
   "execution_count": 259,
   "metadata": {},
   "outputs": [
    {
     "data": {
      "text/plain": [
       "26988"
      ]
     },
     "execution_count": 259,
     "metadata": {},
     "output_type": "execute_result"
    }
   ],
   "source": [
    "aoc_16(aoc_input)"
   ]
  },
  {
   "cell_type": "code",
   "execution_count": 305,
   "metadata": {},
   "outputs": [],
   "source": [
    "def aoc_16b(x):\n",
    "    my_ticket = [int(val) for val in x[1].split('\\n')[1].split(',')]\n",
    "    NUM_FIELDS = len(my_ticket)\n",
    "    other_tickets = np.array([int(val) for val in re.findall('\\d+', x[2])]).reshape(-1, NUM_FIELDS)\n",
    "    valid_ranges = np.array([int(val) for val in re.findall('\\d+', x[0])]).reshape(NUM_FIELDS, 2, 2)\n",
    "    \n",
    "    check_valid = np.zeros(other_tickets.shape)\n",
    "    for i in range(NUM_FIELDS):\n",
    "        for lower, upper in np.array(valid_ranges).reshape(-1, 2):\n",
    "            check_valid[:, i] += (lower <= other_tickets[:, i]) & (other_tickets[:, i] < upper)\n",
    "    valid_tickets = other_tickets[np.prod(check_valid, axis=1) != 0]\n",
    "\n",
    "    possible_mappings = np.zeros((NUM_FIELDS, NUM_FIELDS))\n",
    "    for ticket_column in range(NUM_FIELDS):\n",
    "        for range_column in range(NUM_FIELDS):\n",
    "            check = np.zeros(len(valid_tickets))\n",
    "            for lower, upper in valid_ranges[range_column]:\n",
    "                check += (lower <= valid_tickets[:, ticket_column]) & (valid_tickets[:, ticket_column] <= upper)\n",
    "            if np.sum(check == 0) == 0:\n",
    "                possible_mappings[ticket_column, range_column] += 1\n",
    "                \n",
    "    final_mapping = {}\n",
    "    while np.sum(possible_mappings) > 0:\n",
    "        for ticket_column in range(NUM_FIELDS):\n",
    "            if np.sum(possible_mappings[ticket_column]) == 1:\n",
    "                range_column = np.argmax(possible_mappings[ticket_column])\n",
    "                final_mapping[ticket_column] = range_column\n",
    "                possible_mappings[:, range_column] = 0\n",
    "    return np.prod([my_ticket[k] for k, v in final_mapping.items() if v < 6])"
   ]
  },
  {
   "cell_type": "code",
   "execution_count": 306,
   "metadata": {},
   "outputs": [
    {
     "data": {
      "text/plain": [
       "(426362917709, [89, 109, 103, 97, 83, 53])"
      ]
     },
     "execution_count": 306,
     "metadata": {},
     "output_type": "execute_result"
    }
   ],
   "source": [
    "aoc_16b(aoc_input)"
   ]
  },
  {
   "cell_type": "code",
   "execution_count": 2413,
   "metadata": {},
   "outputs": [],
   "source": [
    "aoc_input = read_raw_input(17).split('\\n')"
   ]
  },
  {
   "cell_type": "code",
   "execution_count": 2414,
   "metadata": {},
   "outputs": [],
   "source": [
    "def aoc_17(initial_map, dimension=3):   \n",
    "    NEIGHBORS = list(itertools.product(*([(-1, 0, 1)]*dimension)))\n",
    "    NEIGHBORS = [x for x in NEIGHBORS if x != tuple([0]*dimension)]\n",
    "    \n",
    "    def sum_n(x, y):\n",
    "        return tuple([x[i]+y[i] for i in range(len(x))])\n",
    "\n",
    "            \n",
    "    \n",
    "    grid = {}\n",
    "    for i in range(len(initial_map)):\n",
    "        for j in range(len(initial_map[0])):\n",
    "            if initial_map[i][j] == '#':\n",
    "                grid[tuple([i, j] + [0]*(dimension-2))] = 1\n",
    "        \n",
    "    for _ in range(6):\n",
    "        brightness_grid = defaultdict(int)\n",
    "        for point in grid:\n",
    "            for n in NEIGHBORS:\n",
    "                brightness_grid[sum_n(point, n)] += 1\n",
    "        \n",
    "        grid = {point:1 for point, brightness in brightness_grid.items() \n",
    "                if brightness == 3 or (brightness == 2 and point in grid)}\n",
    "    return sum([v for k, v in grid.items()])"
   ]
  },
  {
   "cell_type": "code",
   "execution_count": 2415,
   "metadata": {},
   "outputs": [
    {
     "data": {
      "text/plain": [
       "315"
      ]
     },
     "execution_count": 2415,
     "metadata": {},
     "output_type": "execute_result"
    }
   ],
   "source": [
    "aoc_17(aoc_input)"
   ]
  },
  {
   "cell_type": "code",
   "execution_count": 2416,
   "metadata": {},
   "outputs": [
    {
     "data": {
      "text/plain": [
       "1520"
      ]
     },
     "execution_count": 2416,
     "metadata": {},
     "output_type": "execute_result"
    }
   ],
   "source": [
    "aoc_17(aoc_input, 4)"
   ]
  },
  {
   "cell_type": "code",
   "execution_count": 901,
   "metadata": {},
   "outputs": [],
   "source": [
    "aoc_input = read_raw_input(18).split('\\n')"
   ]
  },
  {
   "cell_type": "code",
   "execution_count": 902,
   "metadata": {},
   "outputs": [],
   "source": [
    "def aoc_18(formulae):\n",
    "    def add_num(a, b):\n",
    "        return int(a)+int(b)\n",
    "    def multiply_num(a, b):\n",
    "        return int(a)*int(b)\n",
    "    \n",
    "    def eager_eval(row):\n",
    "        if row.find('(') != -1:\n",
    "            end_idx = row.find(')')\n",
    "            start_idx = row[:end_idx].rfind('(')\n",
    "            return eager_eval(row[:start_idx] + \n",
    "                             str(eager_eval(row[start_idx+1:end_idx])) + \n",
    "                             row[end_idx+1:])\n",
    "        OPERATORS = {'+':add_num, '*':multiply_num}\n",
    "        current_token = ''\n",
    "        token_list = []\n",
    "        for c in row+' ':\n",
    "            if c == ' ':\n",
    "                token_list.append(current_token)\n",
    "                current_token = ''\n",
    "            else:\n",
    "                current_token += c\n",
    "            if len(token_list) == 3:\n",
    "                token_list = [OPERATORS[token_list[1]](token_list[0], token_list[2])]\n",
    "        return token_list[0]\n",
    "    \n",
    "    return sum(eager_eval(row) for row in formulae)"
   ]
  },
  {
   "cell_type": "code",
   "execution_count": 903,
   "metadata": {},
   "outputs": [
    {
     "data": {
      "text/plain": [
       "280014646144"
      ]
     },
     "execution_count": 903,
     "metadata": {},
     "output_type": "execute_result"
    }
   ],
   "source": [
    "aoc_18(aoc_input)"
   ]
  },
  {
   "cell_type": "code",
   "execution_count": 675,
   "metadata": {},
   "outputs": [],
   "source": [
    "def aoc_18b(formulae):\n",
    "    def eval_row(row):\n",
    "        if row.find('(') != -1:\n",
    "            end_idx = row.find(')')\n",
    "            start_idx = row[:end_idx].rfind('(')\n",
    "            return eval_row(row[:start_idx] + \n",
    "                            str(eval_row(row[start_idx+1:end_idx])) + \n",
    "                            row[end_idx+1:])\n",
    "\n",
    "        vals = row.split()\n",
    "        for operator in '+*':\n",
    "            i = 0\n",
    "            while operator in vals and i < len(vals):\n",
    "                if vals[i] == operator:\n",
    "                    tmp_val = eval(''.join(vals[i-1:i+2]))\n",
    "                    vals = vals[:i-1] + [str(tmp_val)] + vals[i+2:]\n",
    "                    i -= 2\n",
    "                i += 1\n",
    "        return int(vals[0])\n",
    "    \n",
    "    return sum(eval_row(row) for row in formulae)"
   ]
  },
  {
   "cell_type": "code",
   "execution_count": 707,
   "metadata": {},
   "outputs": [
    {
     "data": {
      "text/plain": [
       "9966990988262"
      ]
     },
     "execution_count": 707,
     "metadata": {},
     "output_type": "execute_result"
    }
   ],
   "source": [
    "aoc_18b(aoc_input)"
   ]
  },
  {
   "cell_type": "code",
   "execution_count": 905,
   "metadata": {},
   "outputs": [],
   "source": [
    "aoc_input = read_raw_input(19).split('\\n\\n')"
   ]
  },
  {
   "cell_type": "code",
   "execution_count": 908,
   "metadata": {},
   "outputs": [],
   "source": [
    "def aoc_19(x):\n",
    "    messages = x[1].split('\\n')\n",
    "    rules = defaultdict(list)\n",
    "    string_patterns = defaultdict(list)\n",
    "    for rule in x[0].replace('\"', '').split('\\n'):\n",
    "        rule_num, structures = rule.split(': ')\n",
    "        if 'a' in rule or 'b' in rule:\n",
    "            string_patterns[rule_num].append(structures)\n",
    "        structures = structures.split(' | ')\n",
    "        for structure in structures:\n",
    "            rules[rule_num].append(structure.split())\n",
    "            \n",
    "    def decode_rule(rule='0'):\n",
    "        if rule in string_patterns:\n",
    "            return string_patterns[rule]\n",
    "        \n",
    "        res = sum([[''.join(substring) for substring in \n",
    "                  list(itertools.product(\n",
    "                      *[decode_rule(sub_rule) for sub_rule in structure]))] \n",
    "                   for structure in rules[rule]], list())\n",
    "        string_patterns[rule] = res\n",
    "        return res\n",
    "\n",
    "    decode_rule('0')\n",
    "    \n",
    "    return len([_ for message in messages if message in string_patterns['0']])"
   ]
  },
  {
   "cell_type": "code",
   "execution_count": 1055,
   "metadata": {},
   "outputs": [],
   "source": [
    "def aoc_19regex(x):\n",
    "    messages = x[1].split('\\n')\n",
    "    rules = defaultdict(list)\n",
    "    string_patterns = {}\n",
    "    for rule in x[0].replace('\"', '').split('\\n'):\n",
    "        rule_num, structures = rule.split(': ')\n",
    "        if 'a' in rule or 'b' in rule:\n",
    "            string_patterns[f'<{rule_num}>'] = structures\n",
    "            continue\n",
    "        structures = structures.split('|')\n",
    "        regex_strings = []\n",
    "        for structure in structures:\n",
    "            regex_strings.append(''.join([f'<{sub_rule}>' for sub_rule in structure.split()]))            \n",
    "        string_patterns[f'<{rule_num}>'] = f'({\"|\".join(regex_strings)})'\n",
    "    \n",
    "    def expand_rule(rule_num):\n",
    "        res = f'<{rule_num}>'\n",
    "        sub_rules = re.findall('\\d+', res)\n",
    "        while sub_rules:\n",
    "            for sub_rule in sub_rules:\n",
    "                res = res.replace(f'<{sub_rule}>', string_patterns[f'<{sub_rule}>'])\n",
    "            sub_rules = re.findall('\\d+', res)\n",
    "        return res\n",
    "    \n",
    "    rule_42 = expand_rule(42)\n",
    "    rule_31 = expand_rule(31)\n",
    "    rule_0 = expand_rule\n",
    "    def special_match(s, r42=rule_42, r31=rule_31):\n",
    "        fullstring = f'{r42}+{r31}+'\n",
    "        if not re.fullmatch(fullstring, s):\n",
    "            return False\n",
    "        num_42 = 0\n",
    "        for i in range(1, 21):\n",
    "            for j in range(i+1, 21):\n",
    "                if re.fullmatch(r42+'{'+str(j)+'}'+r31+'{'+str(i)+'}', s):\n",
    "                    return True\n",
    "        return False\n",
    "    return len([_ for message in messages if special_match(message)])    "
   ]
  },
  {
   "cell_type": "code",
   "execution_count": 1056,
   "metadata": {},
   "outputs": [
    {
     "data": {
      "text/plain": [
       "392"
      ]
     },
     "execution_count": 1056,
     "metadata": {},
     "output_type": "execute_result"
    }
   ],
   "source": [
    "aoc_19regex(aoc_input)"
   ]
  },
  {
   "cell_type": "code",
   "execution_count": 898,
   "metadata": {},
   "outputs": [],
   "source": [
    "def aoc_19b(x):\n",
    "    messages = x[1].split('\\n')\n",
    "    rules = defaultdict(list)\n",
    "    string_patterns = defaultdict(list)\n",
    "    \n",
    "    for rule in x[0].replace('\"', '').split('\\n'):\n",
    "        rule_num, structures = rule.split(': ')\n",
    "        if 'a' in rule or 'b' in rule:\n",
    "            string_patterns[rule_num].append(structures)\n",
    "        structures = structures.split(' | ')\n",
    "        for structure in structures:\n",
    "            rules[rule_num].append(structure.split())\n",
    "            \n",
    "    def decode_rule(rule='0'):\n",
    "        if rule in string_patterns:\n",
    "            return string_patterns[rule]\n",
    "        \n",
    "        res = sum([[''.join(substring) for substring in \n",
    "                  list(itertools.product(\n",
    "                      *[decode_rule(sub_rule) for sub_rule in structure]))] \n",
    "                   for structure in rules[rule]], list())\n",
    "        string_patterns[rule] = res\n",
    "        return res\n",
    "\n",
    "    decode_rule('0')\n",
    "    \n",
    "    def recurvise_check(s):\n",
    "        if len(s)%8 !=0:\n",
    "            return False\n",
    "        i = num_42 = num_31 = 0\n",
    "        while i < len(s) and s[i:i+8] in string_patterns['42']:\n",
    "            i += 8\n",
    "            num_42 += 1\n",
    "        while i < len(s): \n",
    "            if s[i:i+8] not in string_patterns['31']:\n",
    "                return False\n",
    "            else: \n",
    "                i += 8\n",
    "                num_31 += 1\n",
    "        return num_42 > num_31 > 0\n",
    "        \n",
    "    return len([message for message in messages if recurvise_check(message) \n",
    "                or message in string_patterns['0']])"
   ]
  },
  {
   "cell_type": "code",
   "execution_count": 899,
   "metadata": {},
   "outputs": [
    {
     "data": {
      "text/plain": [
       "392"
      ]
     },
     "execution_count": 899,
     "metadata": {},
     "output_type": "execute_result"
    }
   ],
   "source": [
    "aoc_19b(aoc_input)"
   ]
  },
  {
   "cell_type": "code",
   "execution_count": 1793,
   "metadata": {},
   "outputs": [],
   "source": [
    "aoc_input = read_raw_input(20).split('\\n\\n')"
   ]
  },
  {
   "cell_type": "code",
   "execution_count": 1794,
   "metadata": {},
   "outputs": [],
   "source": [
    "def aoc_20(x):\n",
    "    GRID_DIM = int(len(x)**0.5)\n",
    "    TILE_SIZE = len(x[0].split('\\n')[-1])-2\n",
    "    SEAMONSTER = {18j, 1, 1+5j, 1+6j, 1+11j, 1+12j, 1+17j, 1+18j, 1+19j,\n",
    "                  2+1j, 2+4j, 2+7j, 2+10j, 2+13j, 2+16j}\n",
    "    DIRECTIONS = {(0, 1), (1, 0)}\n",
    "    \n",
    "    grid = set()\n",
    "    tile_pos = np.zeros((GRID_DIM, GRID_DIM))\n",
    "    orientation = {}\n",
    "    edges = defaultdict(list)\n",
    "    edge_match = defaultdict(list)\n",
    "    tile_content = defaultdict(list)\n",
    "    \n",
    "    def rotate(tilegrid, size):\n",
    "        new_grid = {wave/1j + 1j*(size-1) for wave in tilegrid}\n",
    "        return new_grid\n",
    "    \n",
    "    def flip(tilegrid, size):\n",
    "        new_grid = {(size-1-wave.real) + (wave.imag)*1j for wave in tilegrid}\n",
    "        return new_grid\n",
    "    \n",
    "    def populate(i, j):\n",
    "        tile_id = tile_pos[i, j]\n",
    "        tile_points = {point+i*TILE_SIZE+1j*TILE_SIZE*j for point in tile_content[tile_id]}\n",
    "        return tile_points\n",
    "    \n",
    "    def seamonster(i, j, g):\n",
    "        return len([point for point in SEAMONSTER if i+j*1j + point in grid]) == len(SEAMONSTER)\n",
    "    \n",
    "    def fix_orientation(i, j):\n",
    "        tile_id = tile_pos[i][j]\n",
    "        left, up = orientation[(i, j)]\n",
    "        is_flip = (left+1)%4 != up\n",
    "        num_rotate = (3-left)%4\n",
    "        for i in range(num_rotate):\n",
    "            tile_content[tile_id] = rotate(tile_content[tile_id], TILE_SIZE)\n",
    "        if is_flip:\n",
    "            tile_content[tile_id] = flip(tile_content[tile_id], TILE_SIZE)\n",
    "        \n",
    "    for tile in x:\n",
    "        tile_id = int(re.findall('\\d+', tile.split('\\n')[0]).pop())\n",
    "        actual_tile = tile.split('\\n')[1:]\n",
    "        edges[tile_id].append(actual_tile[0])\n",
    "        edges[tile_id].append(''.join([row[-1] for row in actual_tile]))\n",
    "        edges[tile_id].append(actual_tile[-1])\n",
    "        edges[tile_id].append(''.join([row[0] for row in actual_tile]))\n",
    "        \n",
    "        for i, edge in enumerate(edges[tile_id]):\n",
    "            edge_match[edge].append((tile_id, i))\n",
    "            edge_match[edge[::-1]].append((tile_id, i))\n",
    "        \n",
    "        tile_data = set()\n",
    "        for i, row in enumerate(tile.split('\\n')[2:-1]):\n",
    "            for j, c in enumerate(row[1:-1]):\n",
    "                if c == '#':\n",
    "                    tile_data.add(i+j*1j)\n",
    "        tile_content[tile_id] = tile_data\n",
    "    \n",
    "    outer_edges = {e for e, matches in edge_match.items() if len(matches) == 1}\n",
    "    \n",
    "    for tile, tile_edges in edges.items():\n",
    "        outer_tile_edges = ([i for i in range(4) if tile_edges[i] in outer_edges])\n",
    "        if len(outer_tile_edges) == 2:\n",
    "            tile_pos[0][0] = tile\n",
    "            orientation[(0, 0)] = tuple(outer_tile_edges)\n",
    "            break\n",
    "            \n",
    "    for num_run, direction in enumerate(DIRECTIONS):\n",
    "        for idx in range(1, GRID_DIM):\n",
    "            last_cord = ((idx-1) * direction[0], (idx-1) * direction[1])\n",
    "            cord = (idx*direction[0], idx*direction[1])\n",
    "            \n",
    "            matching_tile = tile_pos[last_cord]\n",
    "            matching_edge = edges[matching_tile][(orientation[(last_cord)][num_run]+2)%4]\n",
    "            \n",
    "            tile_data = [data for data in edge_match[matching_edge] if data[0] != matching_tile].pop()\n",
    "            tile_pos[cord] = tile_data[0]\n",
    "            \n",
    "            tile_orientation = [0, 0]            \n",
    "            tile_orientation[num_run] = tile_data[1]\n",
    "            tile_orientation[1-num_run] = [edge_id for edge_id, edge in enumerate(edges[tile_data[0]])\n",
    "                                           if edge in outer_edges and \n",
    "                                           (edge_id+2)%4 != tile_orientation[num_run]].pop()\n",
    "            \n",
    "            orientation[cord] = tile_orientation\n",
    "        \n",
    "    for i in range(1, GRID_DIM):\n",
    "        for j in range(1, GRID_DIM):\n",
    "            top_tile = tile_pos[i-1, j]\n",
    "            top_edge = edges[top_tile][(orientation[(i-1, j)][1]+2)%4]\n",
    "            top_data = [data for data in edge_match[top_edge] if data[0] != top_tile].pop()\n",
    "            \n",
    "            left_tile = tile_pos[i, j-1]\n",
    "            left_edge = edges[left_tile][(orientation[(i, j-1)][0]+2)%4]\n",
    "            left_data = [data for data in edge_match[left_edge] if data[0] != left_tile].pop()\n",
    "            \n",
    "            tile_pos[i, j] = top_data[0]\n",
    "            orientation[(i, j)] = [left_data[1], top_data[1]]\n",
    "                        \n",
    "    for i in range(12):\n",
    "        for j in range(12):\n",
    "            fix_orientation(i, j)\n",
    "            grid = grid.union(populate(i, j))\n",
    "    \n",
    "    seamonster_count = 0\n",
    "    for num_run in range(8):\n",
    "        if num_run%4 == 0:\n",
    "            grid = flip(grid, GRID_DIM*TILE_SIZE)\n",
    "        if seamonster_count > 0:\n",
    "            break\n",
    "        seamonster_count = len([_ for i in range(GRID_DIM*TILE_SIZE) \n",
    "                                for j in range((GRID_DIM*TILE_SIZE))\n",
    "                                if seamonster(i, j, grid) > 0])\n",
    "        grid = rotate(grid, GRID_DIM*TILE_SIZE)\n",
    "        \n",
    "    return len(grid) - seamonster_count*len(SEAMONSTER)"
   ]
  },
  {
   "cell_type": "code",
   "execution_count": 1795,
   "metadata": {
    "scrolled": false
   },
   "outputs": [
    {
     "data": {
      "text/plain": [
       "2495"
      ]
     },
     "execution_count": 1795,
     "metadata": {},
     "output_type": "execute_result"
    }
   ],
   "source": [
    "aoc_20(aoc_input)"
   ]
  },
  {
   "cell_type": "code",
   "execution_count": 2003,
   "metadata": {},
   "outputs": [],
   "source": [
    "aoc_input = read_raw_input(21).split('\\n')"
   ]
  },
  {
   "cell_type": "code",
   "execution_count": 2005,
   "metadata": {},
   "outputs": [],
   "source": [
    "def aoc_21(x):\n",
    "    food_set = defaultdict(int)\n",
    "    allergen_set = {}\n",
    "    for ingredient in x:\n",
    "        foods, allergens = ingredient.split(' (contains ')\n",
    "        foods = foods.split()\n",
    "        current_food_set = set(foods)\n",
    "        for food in foods:\n",
    "            food_set[food] += 1\n",
    "        allergens = allergens[:-1].split(', ')\n",
    "        for allergen in allergens:\n",
    "            if allergen in allergen_set:\n",
    "                tmp_set = allergen_set[allergen]\n",
    "                tmp_set = tmp_set.intersection(current_food_set)\n",
    "            else:\n",
    "                tmp_set = set(foods)\n",
    "            allergen_set[allergen] = tmp_set\n",
    "    total_food = set()\n",
    "    for allergen, foods in allergen_set.items():\n",
    "        total_food = total_food.union(foods)\n",
    "        \n",
    "    return sum([v for k, v in food_set.items() if k not in total_food])"
   ]
  },
  {
   "cell_type": "code",
   "execution_count": 2006,
   "metadata": {},
   "outputs": [
    {
     "data": {
      "text/plain": [
       "2786"
      ]
     },
     "execution_count": 2006,
     "metadata": {},
     "output_type": "execute_result"
    }
   ],
   "source": [
    "aoc_21(aoc_input)"
   ]
  },
  {
   "cell_type": "code",
   "execution_count": 2009,
   "metadata": {},
   "outputs": [],
   "source": [
    "def aoc_21b(food_allergens):\n",
    "    allergen_data = {}\n",
    "    for ingredient in food_allergens:\n",
    "        foods, allergens = ingredient.split(' (contains ')\n",
    "        food_set = set(foods.split())\n",
    "        allergens = allergens[:-1].split(', ')\n",
    "        for allergen in allergens:\n",
    "            allergen_data[allergen] = allergen_data.get(allergen, food_set).intersection(food_set)\n",
    "    res = []\n",
    "    identified = set()\n",
    "    while len(identified) < len(allergen_data):\n",
    "        for allergen, foods in allergen_data.items():\n",
    "            unidentified_foods = [food for food in foods if food not in identified]\n",
    "            if len(unidentified_foods) == 1:\n",
    "                res.append((allergen, unidentified_foods[0]))\n",
    "                identified.add(unidentified_foods[0])\n",
    "    return ','.join([x[1] for x in sorted(res)])"
   ]
  },
  {
   "cell_type": "code",
   "execution_count": 2010,
   "metadata": {},
   "outputs": [
    {
     "data": {
      "text/plain": [
       "'prxmdlz,ncjv,knprxg,lxjtns,vzzz,clg,cxfz,qdfpq'"
      ]
     },
     "execution_count": 2010,
     "metadata": {},
     "output_type": "execute_result"
    }
   ],
   "source": [
    "aoc_21b(aoc_input)"
   ]
  },
  {
   "cell_type": "code",
   "execution_count": 2382,
   "metadata": {},
   "outputs": [],
   "source": [
    "aoc_input = read_raw_input(22).split('\\n\\n')"
   ]
  },
  {
   "cell_type": "code",
   "execution_count": 2012,
   "metadata": {},
   "outputs": [],
   "source": [
    "def aoc_22(x):\n",
    "    cards1 = [int(c) for c in x[0].split('\\n')[1:]]\n",
    "    cards2 = [int(c) for c in x[1].split('\\n')[1:]]\n",
    "    while cards1 and cards2:\n",
    "        c1 = cards1.pop(0)\n",
    "        c2 = cards2.pop(0)\n",
    "        if c1 > c2:\n",
    "            cards1 += [c1, c2]\n",
    "            pass\n",
    "        else:\n",
    "            cards2 += [c2, c1]\n",
    "            pass\n",
    "            \n",
    "    final = cards1+cards2\n",
    "    return sum([(i+1) * c for i, c in enumerate(final[::-1])])"
   ]
  },
  {
   "cell_type": "code",
   "execution_count": 2013,
   "metadata": {},
   "outputs": [
    {
     "data": {
      "text/plain": [
       "32598"
      ]
     },
     "execution_count": 2013,
     "metadata": {},
     "output_type": "execute_result"
    }
   ],
   "source": [
    "aoc_22(aoc_input)"
   ]
  },
  {
   "cell_type": "code",
   "execution_count": 2383,
   "metadata": {},
   "outputs": [],
   "source": [
    "def aoc_22b(x):\n",
    "    cards1 = [int(c) for c in x[0].split('\\n')[1:]]\n",
    "    cards2 = [int(c) for c in x[1].split('\\n')[1:]]\n",
    "    sub_count = [0]\n",
    "    dp = {}\n",
    "    def run_subgame(cards1, cards2):\n",
    "        state1 = set()\n",
    "        state2 = set()\n",
    "        tkey = (tuple(cards1), tuple(cards2))\n",
    "        rkey = (tkey[1], tkey[0])\n",
    "        if tkey in dp:\n",
    "            #print('repeat')\n",
    "            return dp[tkey]\n",
    "        if rkey in dp:\n",
    "            return not dp[rkey]\n",
    "        while cards1 and cards2:\n",
    "            ct1 = tuple(cards1)\n",
    "            ct2 = tuple(cards2)\n",
    "            if ct1 in state1 or ct2 in state2:\n",
    "                dp[tkey] = True\n",
    "                return True\n",
    "            state1.add(ct1)\n",
    "            state2.add(ct2)\n",
    "            c1 = cards1.pop(0)\n",
    "            c2 = cards2.pop(0)\n",
    "            if len(cards1)+1 > c1 and len(cards2)+1 > c2:\n",
    "                sub_game_result = run_subgame(list(cards1[c1:]), list(cards2[:c2]))\n",
    "                sub_count[0] -= 1\n",
    "                if sub_game_result:\n",
    "                    cards1 += [c1, c2]\n",
    "                else:\n",
    "                    cards2 += [c2, c1]\n",
    "            else:\n",
    "                if c1 > c2:\n",
    "                    cards1 += [c1, c2]\n",
    "                    pass\n",
    "                else:\n",
    "                    cards2 += [c2, c1]\n",
    "                    pass\n",
    "        dp[tkey] = len(cards2) == 0\n",
    "        return dp[tkey]\n",
    "    \n",
    "    gstate1 = set()\n",
    "    gstate2 = set()\n",
    "    while cards1 and cards2:\n",
    "        ct1 = tuple(cards1)\n",
    "        ct2 = tuple(cards2)\n",
    "        gstate1.add(ct1)\n",
    "        gstate2.add(ct2)\n",
    "        c1 = cards1.pop(0)\n",
    "        c2 = cards2.pop(0)\n",
    "        if len(cards1)+1 > c1 and len(cards2)+1 > c2:\n",
    "            sub_game_result = run_subgame(list(cards1[:c1]), list(cards2[:c2]))\n",
    "            if sub_game_result:\n",
    "                cards1 += [c1, c2]\n",
    "            else:\n",
    "                cards2 += [c2, c1]\n",
    "        else:\n",
    "            if c1 > c2:\n",
    "                cards1 += [c1, c2]\n",
    "                pass\n",
    "            else:\n",
    "                cards2 += [c2, c1]\n",
    "                pass\n",
    "    \n",
    "    final = cards1+cards2\n",
    "    return sum([(i+1) * c for i, c in enumerate(final[::-1])])\n",
    "    return"
   ]
  },
  {
   "cell_type": "code",
   "execution_count": 2384,
   "metadata": {},
   "outputs": [
    {
     "data": {
      "text/plain": [
       "35836"
      ]
     },
     "execution_count": 2384,
     "metadata": {},
     "output_type": "execute_result"
    }
   ],
   "source": [
    "aoc_22b(aoc_input)"
   ]
  },
  {
   "cell_type": "code",
   "execution_count": 2026,
   "metadata": {},
   "outputs": [],
   "source": [
    "aoc_input = '952438716'"
   ]
  },
  {
   "cell_type": "code",
   "execution_count": 2254,
   "metadata": {},
   "outputs": [],
   "source": [
    "def aoc_23(cup_order, extended_range=1000000):\n",
    "    tmp_list = [int(x) for x in list(cup_order)] + list(range(10, extended_range+1))\n",
    "    \n",
    "    cups = {}\n",
    "    for i, num in enumerate(tmp_list):\n",
    "        before = (i-1)%len(tmp_list)\n",
    "        after = (i+1)%len(tmp_list)\n",
    "        cups[num] = (tmp_list[before], tmp_list[after])\n",
    "    \n",
    "    def connect_chain(previous_node, next_node):\n",
    "        cups[previous_node] = (cups[previous_node][0], next_node)\n",
    "        cups[next_node] = (previous_node, cups[next_node][1])\n",
    "        \n",
    "    def hold_3(node_list):\n",
    "        for _ in range(3):\n",
    "            node_list.append(cups[node_list[-1]][1])\n",
    "        return node_list[1:], cups[node_list[-1]][1]\n",
    "        \n",
    "    cur = tmp_list[0]\n",
    "    for _ in range(10000000):\n",
    "        hold, new_chain = hold_3([cur])\n",
    "        dest = cur-1\n",
    "        connect_chain(cur, new_chain)\n",
    "        \n",
    "        while dest in hold or dest <= 0:\n",
    "            dest = dest-1 if dest > 1 else max(cups)\n",
    "        \n",
    "        nxt = cups[dest][1]\n",
    "        connect_chain(dest, hold[0])\n",
    "        connect_chain(hold[2], nxt)\n",
    "        cur = cups[cur][1]\n",
    "                    \n",
    "    a = cups[1][1]\n",
    "    b = cups[a][1]\n",
    "    return a*b, a, b"
   ]
  },
  {
   "cell_type": "code",
   "execution_count": 2255,
   "metadata": {},
   "outputs": [
    {
     "data": {
      "text/plain": [
       "(902208073192, 978763, 921784)"
      ]
     },
     "execution_count": 2255,
     "metadata": {},
     "output_type": "execute_result"
    }
   ],
   "source": [
    "aoc_23b(aoc_input)"
   ]
  },
  {
   "cell_type": "code",
   "execution_count": 2378,
   "metadata": {},
   "outputs": [],
   "source": [
    "aoc_input = raw_input_24.strip().split('\\n')"
   ]
  },
  {
   "cell_type": "code",
   "execution_count": 2379,
   "metadata": {},
   "outputs": [],
   "source": [
    "def aoc_24(x):\n",
    "    grid = defaultdict(int)\n",
    "    DIRECTIONS = {'se':0.5+0.5j, 'ne':-0.5+0.5j, 'sw':0.5-0.5j, 'nw':-0.5-0.5j, 'w':-1j, 'e':1j}\n",
    "    last = ''\n",
    "    for tile in x:\n",
    "        cord = sum([DIRECTIONS[x] for x in re.findall('ne|se|e|w|nw|sw', tile)])\n",
    "        grid[cord] = 1-grid[cord]\n",
    "        \n",
    "    return sum(grid.values())"
   ]
  },
  {
   "cell_type": "code",
   "execution_count": 2381,
   "metadata": {},
   "outputs": [
    {
     "data": {
      "text/plain": [
       "377"
      ]
     },
     "execution_count": 2381,
     "metadata": {},
     "output_type": "execute_result"
    }
   ],
   "source": [
    "aoc_24(aoc_input)"
   ]
  },
  {
   "cell_type": "code",
   "execution_count": 2334,
   "metadata": {},
   "outputs": [],
   "source": [
    "def aoc_24b(x):\n",
    "    grid = defaultdict(int)\n",
    "    DIRECTIONS = {'se':0.5+0.5j, 'ne':-0.5+0.5j, 'sw':0.5-0.5j, 'nw':-0.5-0.5j, 'w':-1j, 'e':1j}\n",
    "    for tile in x:\n",
    "        cord = sum([DIRECTIONS[x] for x in re.findall('ne|se|e|w|nw|sw', tile)])\n",
    "        grid[cord] = 1-grid[cord]\n",
    "    \n",
    "    for _ in range(100):\n",
    "        grid_sum = defaultdict(int)\n",
    "        for cord, v in grid.items():\n",
    "            for d in DIRECTIONS.values():\n",
    "                grid_sum[cord+d] += v\n",
    "        \n",
    "        for cord in set(grid_sum).union(set(grid)):\n",
    "            if grid[cord] == 1 and grid_sum[cord] not in [1, 2]:\n",
    "                grid[cord] = 0\n",
    "            elif grid_sum[cord] == 2:\n",
    "                grid[cord] = 1\n",
    "    return sum(grid.values())"
   ]
  },
  {
   "cell_type": "code",
   "execution_count": 2335,
   "metadata": {},
   "outputs": [
    {
     "data": {
      "text/plain": [
       "4231"
      ]
     },
     "execution_count": 2335,
     "metadata": {},
     "output_type": "execute_result"
    }
   ],
   "source": [
    "aoc_24b(aoc_input)"
   ]
  },
  {
   "cell_type": "code",
   "execution_count": 2363,
   "metadata": {},
   "outputs": [],
   "source": [
    "aoc_input = [1614360,7734663]"
   ]
  },
  {
   "cell_type": "code",
   "execution_count": 2364,
   "metadata": {},
   "outputs": [],
   "source": [
    "def aoc_25(keys):\n",
    "    num = subject = 7\n",
    "    card_loops = 0\n",
    "    while num != keys[0]:\n",
    "        num = (num * subject) % 20201227\n",
    "        card_loops += 1\n",
    "        \n",
    "    num = subject = keys[1]\n",
    "    for _ in range(card_loops):\n",
    "        num = (num * subject) % 20201227\n",
    "    return num"
   ]
  },
  {
   "cell_type": "code",
   "execution_count": 2365,
   "metadata": {
    "scrolled": false
   },
   "outputs": [
    {
     "data": {
      "text/plain": [
       "5414549"
      ]
     },
     "execution_count": 2365,
     "metadata": {},
     "output_type": "execute_result"
    }
   ],
   "source": [
    "aoc_25(aoc_input)"
   ]
  },
  {
   "cell_type": "code",
   "execution_count": null,
   "metadata": {},
   "outputs": [],
   "source": []
  }
 ],
 "metadata": {
  "kernelspec": {
   "display_name": "Python 3",
   "language": "python",
   "name": "python3"
  },
  "language_info": {
   "codemirror_mode": {
    "name": "ipython",
    "version": 3
   },
   "file_extension": ".py",
   "mimetype": "text/x-python",
   "name": "python",
   "nbconvert_exporter": "python",
   "pygments_lexer": "ipython3",
   "version": "3.7.6"
  }
 },
 "nbformat": 4,
 "nbformat_minor": 4
}
