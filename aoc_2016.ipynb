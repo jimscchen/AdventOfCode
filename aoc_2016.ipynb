{
 "cells": [
  {
   "cell_type": "code",
   "execution_count": 1,
   "metadata": {},
   "outputs": [],
   "source": [
    "import numpy as np\n",
    "import pandas as pd\n",
    "\n",
    "from itertools import combinations, permutations\n",
    "import itertools\n",
    "\n",
    "from collections import Counter, defaultdict\n",
    "\n",
    "import re\n",
    "\n",
    "import hashlib"
   ]
  },
  {
   "cell_type": "code",
   "execution_count": 2,
   "metadata": {},
   "outputs": [],
   "source": [
    "def read_raw_input(day):\n",
    "    with open('input_' + str(day)) as inputfile:\n",
    "         return inputfile.read().strip()"
   ]
  },
  {
   "cell_type": "code",
   "execution_count": 29,
   "metadata": {},
   "outputs": [],
   "source": [
    "aoc_input = re.findall('\\w\\d+', read_raw_input(1))"
   ]
  },
  {
   "cell_type": "code",
   "execution_count": 17,
   "metadata": {},
   "outputs": [],
   "source": [
    "def aoc_1(directions):\n",
    "    cord = 0\n",
    "    current_direction = 1\n",
    "    for direction in directions:\n",
    "        if direction[0] == 'L':\n",
    "            current_direction *= 1j\n",
    "        else:\n",
    "            current_direction /= 1j\n",
    "        cord += int(direction[1:]) * current_direction\n",
    "    return abs(cord.real)+abs(cord.imag)"
   ]
  },
  {
   "cell_type": "code",
   "execution_count": 18,
   "metadata": {},
   "outputs": [
    {
     "data": {
      "text/plain": [
       "239.0"
      ]
     },
     "execution_count": 18,
     "metadata": {},
     "output_type": "execute_result"
    }
   ],
   "source": [
    "aoc_1(aoc_input)"
   ]
  },
  {
   "cell_type": "code",
   "execution_count": 27,
   "metadata": {},
   "outputs": [],
   "source": [
    "def aoc_1b(directions):\n",
    "    visited = set()\n",
    "    cord = 0\n",
    "    current_direction = 1\n",
    "    for direction in directions:\n",
    "        if direction[0] == 'L':\n",
    "            current_direction *= 1j\n",
    "        else:\n",
    "            current_direction /= 1j\n",
    "        for _ in range(int(direction[1:])):\n",
    "            cord += current_direction\n",
    "            if cord in visited:\n",
    "                return abs(cord.real)+abs(cord.imag)\n",
    "            visited.add(cord)\n",
    "    return abs(cord.real)+abs(cord.imag)"
   ]
  },
  {
   "cell_type": "code",
   "execution_count": 30,
   "metadata": {},
   "outputs": [
    {
     "data": {
      "text/plain": [
       "141.0"
      ]
     },
     "execution_count": 30,
     "metadata": {},
     "output_type": "execute_result"
    }
   ],
   "source": [
    "aoc_1b(aoc_input)"
   ]
  },
  {
   "cell_type": "code",
   "execution_count": 40,
   "metadata": {},
   "outputs": [],
   "source": [
    "aoc_input = read_raw_input(2).split()"
   ]
  },
  {
   "cell_type": "code",
   "execution_count": 36,
   "metadata": {},
   "outputs": [],
   "source": [
    "def aoc_2(passwords):\n",
    "    PAD = {-1+1j:'1', 1j:'2', 1+1j:'3', -1:'4', 0:'5',\n",
    "           1:'6', -1-1j:'7', -1j:'8', 1-1j:'9'}\n",
    "    DIRECTIONS = {'U':1j, 'R':1, 'L':-1, 'D':-1j}\n",
    "    cord = 0\n",
    "    res = ''\n",
    "    for password in passwords:\n",
    "        for k in password:\n",
    "            if cord+DIRECTIONS[k] in PAD:\n",
    "                cord += DIRECTIONS[k]\n",
    "        res += PAD[cord]\n",
    "    return res"
   ]
  },
  {
   "cell_type": "code",
   "execution_count": 41,
   "metadata": {},
   "outputs": [
    {
     "data": {
      "text/plain": [
       "'14894'"
      ]
     },
     "execution_count": 41,
     "metadata": {},
     "output_type": "execute_result"
    }
   ],
   "source": [
    "aoc_2(aoc_input)"
   ]
  },
  {
   "cell_type": "code",
   "execution_count": 42,
   "metadata": {},
   "outputs": [],
   "source": [
    "def aoc_2b(passwords):\n",
    "    PAD = {2j:'1', -1+1j:'2', 1j:'3', 1+1j:'4', -2:'5', -1:'6', 0:'7',\n",
    "           1:'8', 2:'9', -1-1j:'A', -1j:'B', 1-1j:'C', -2j:'D'}\n",
    "    DIRECTIONS = {'U':1j, 'R':1, 'L':-1, 'D':-1j}\n",
    "    cord = -2\n",
    "    res = ''\n",
    "    for password in passwords:\n",
    "        for k in password:\n",
    "            if cord+DIRECTIONS[k] in PAD:\n",
    "                cord += DIRECTIONS[k]\n",
    "        res += PAD[cord]\n",
    "    return res"
   ]
  },
  {
   "cell_type": "code",
   "execution_count": 43,
   "metadata": {},
   "outputs": [
    {
     "data": {
      "text/plain": [
       "'26B96'"
      ]
     },
     "execution_count": 43,
     "metadata": {},
     "output_type": "execute_result"
    }
   ],
   "source": [
    "aoc_2b(aoc_input)"
   ]
  },
  {
   "cell_type": "code",
   "execution_count": 44,
   "metadata": {},
   "outputs": [],
   "source": [
    "aoc_input = read_raw_input(3).split('\\n')"
   ]
  },
  {
   "cell_type": "code",
   "execution_count": 45,
   "metadata": {},
   "outputs": [],
   "source": [
    "def aoc_3(triangles):\n",
    "    res = 0\n",
    "    for triangle in triangles:\n",
    "        sides = [int(x) for x in triangle.split()]\n",
    "        res += (max(sides)*2) < sum(sides)\n",
    "    return res"
   ]
  },
  {
   "cell_type": "code",
   "execution_count": 46,
   "metadata": {},
   "outputs": [
    {
     "data": {
      "text/plain": [
       "982"
      ]
     },
     "execution_count": 46,
     "metadata": {},
     "output_type": "execute_result"
    }
   ],
   "source": [
    "aoc_3(aoc_input)"
   ]
  },
  {
   "cell_type": "code",
   "execution_count": 51,
   "metadata": {},
   "outputs": [],
   "source": [
    "def aoc_3b(triangles):\n",
    "    res = 0\n",
    "    idx = 0\n",
    "    def good_triangle(x, y, z):\n",
    "        return max(x, y, z) * 2 < sum([x, y, z])\n",
    "    while idx < len(triangles):\n",
    "        s1 = [int(x) for x in triangles[idx].split()]\n",
    "        s2 = [int(x) for x in triangles[idx+1].split()]\n",
    "        s3 = [int(x) for x in triangles[idx+2].split()]\n",
    "        for i in range(3):\n",
    "            res += good_triangle(s1[i], s2[i], s3[i])\n",
    "        idx += 3\n",
    "    return res"
   ]
  },
  {
   "cell_type": "code",
   "execution_count": 52,
   "metadata": {},
   "outputs": [
    {
     "data": {
      "text/plain": [
       "1826"
      ]
     },
     "execution_count": 52,
     "metadata": {},
     "output_type": "execute_result"
    }
   ],
   "source": [
    "aoc_3b(aoc_input)"
   ]
  },
  {
   "cell_type": "code",
   "execution_count": 54,
   "metadata": {},
   "outputs": [],
   "source": [
    "aoc_input = read_raw_input(4).split('\\n')"
   ]
  },
  {
   "cell_type": "code",
   "execution_count": 74,
   "metadata": {},
   "outputs": [],
   "source": [
    "def aoc_4(rooms):\n",
    "    res = 0\n",
    "    for room in rooms:\n",
    "        matched = re.match('(.+)-(\\d+)\\[(\\w+)\\]', room)\n",
    "        password = matched[1]\n",
    "        val = int(matched[2])\n",
    "        checksum = matched[3]\n",
    "        token_count = Counter(password)\n",
    "        password_checksum = sorted([(-v, token) for token, v in token_count.items() \n",
    "                                    if token != '-'])[:5]\n",
    "        if ''.join([x[1] for x in password_checksum]) == checksum:\n",
    "            res += val\n",
    "    return res"
   ]
  },
  {
   "cell_type": "code",
   "execution_count": 75,
   "metadata": {},
   "outputs": [
    {
     "data": {
      "text/plain": [
       "278221"
      ]
     },
     "execution_count": 75,
     "metadata": {},
     "output_type": "execute_result"
    }
   ],
   "source": [
    "aoc_4(aoc_input)"
   ]
  },
  {
   "cell_type": "code",
   "execution_count": 84,
   "metadata": {},
   "outputs": [],
   "source": [
    "def aoc_4b(rooms):\n",
    "    for room in rooms:\n",
    "        matched = re.match('(.+)-(\\d+)\\[(\\w+)\\]', room)\n",
    "        password = matched[1]\n",
    "        val = int(matched[2])\n",
    "        res = ''\n",
    "        for c in password:\n",
    "            if c == '-':\n",
    "                res += ' '\n",
    "            else:\n",
    "                res += chr((ord(c) - ord('a') + val) % 26 + ord('a'))\n",
    "        if 'northpole' in res:\n",
    "            return password, res, val\n",
    "    return res"
   ]
  },
  {
   "cell_type": "code",
   "execution_count": 85,
   "metadata": {},
   "outputs": [
    {
     "data": {
      "text/plain": [
       "('ghkmaihex-hucxvm-lmhktzx', 'northpole object storage', 267)"
      ]
     },
     "execution_count": 85,
     "metadata": {},
     "output_type": "execute_result"
    }
   ],
   "source": [
    "aoc_4b(aoc_input)"
   ]
  },
  {
   "cell_type": "code",
   "execution_count": 87,
   "metadata": {},
   "outputs": [],
   "source": [
    "aoc_input = 'wtnhxymk'"
   ]
  },
  {
   "cell_type": "code",
   "execution_count": 104,
   "metadata": {},
   "outputs": [],
   "source": [
    "def aoc_5(door_id):\n",
    "    res = ''\n",
    "    i = 1\n",
    "    while len(res) < 8:\n",
    "        md5hash = hashlib.md5((door_id+str(i)).encode()).hexdigest()\n",
    "        if md5hash[:5] == '00000':\n",
    "            res += md5hash[5]\n",
    "            \n",
    "        i += 1\n",
    "    return res"
   ]
  },
  {
   "cell_type": "code",
   "execution_count": 95,
   "metadata": {},
   "outputs": [
    {
     "data": {
      "text/plain": [
       "'2414bc77'"
      ]
     },
     "execution_count": 95,
     "metadata": {},
     "output_type": "execute_result"
    }
   ],
   "source": [
    "aoc_5(aoc_input)"
   ]
  },
  {
   "cell_type": "code",
   "execution_count": 110,
   "metadata": {},
   "outputs": [],
   "source": [
    "def aoc_5b(door_id):\n",
    "    res = ['' for _ in range(8)]\n",
    "    i = 1\n",
    "    found = set()\n",
    "    while len(found) < 8:\n",
    "        md5hash = hashlib.md5((door_id+str(i)).encode()).hexdigest()\n",
    "        if md5hash[:5] == '00000' and md5hash[5] in '01234567' and md5hash[5] not in found:\n",
    "            res[int(md5hash[5])] += md5hash[6]\n",
    "            found.add(md5hash[5])\n",
    "            #return res\n",
    "        i += 1\n",
    "    return ''.join(res)"
   ]
  },
  {
   "cell_type": "code",
   "execution_count": 112,
   "metadata": {},
   "outputs": [
    {
     "data": {
      "text/plain": [
       "'437e60fc'"
      ]
     },
     "execution_count": 112,
     "metadata": {},
     "output_type": "execute_result"
    }
   ],
   "source": [
    "aoc_5b(aoc_input)"
   ]
  },
  {
   "cell_type": "code",
   "execution_count": 117,
   "metadata": {},
   "outputs": [],
   "source": [
    "aoc_input = read_raw_input(6).split('\\n')"
   ]
  },
  {
   "cell_type": "code",
   "execution_count": 124,
   "metadata": {},
   "outputs": [],
   "source": [
    "def aoc_6(messages):\n",
    "    len_message = len(messages[0])\n",
    "    trackers = [[] for _ in range(len_message)]\n",
    "    for message in messages:\n",
    "        for i, c in enumerate(message):\n",
    "            trackers[i].append(c)\n",
    "    res = [Counter(tracker).most_common(1)[0][0] for tracker in trackers]\n",
    "    return ''.join(res)"
   ]
  },
  {
   "cell_type": "code",
   "execution_count": 125,
   "metadata": {},
   "outputs": [
    {
     "data": {
      "text/plain": [
       "'liwvqppc'"
      ]
     },
     "execution_count": 125,
     "metadata": {},
     "output_type": "execute_result"
    }
   ],
   "source": [
    "aoc_6(aoc_input)"
   ]
  },
  {
   "cell_type": "code",
   "execution_count": 126,
   "metadata": {},
   "outputs": [],
   "source": [
    "def aoc_6b(messages):\n",
    "    len_message = len(messages[0])\n",
    "    trackers = [[] for _ in range(len_message)]\n",
    "    for message in messages:\n",
    "        for i, c in enumerate(message):\n",
    "            trackers[i].append(c)\n",
    "    res = [Counter(tracker).most_common()[-1][0] for tracker in trackers]\n",
    "    return ''.join(res)"
   ]
  },
  {
   "cell_type": "code",
   "execution_count": 127,
   "metadata": {},
   "outputs": [
    {
     "data": {
      "text/plain": [
       "'caqfbzlh'"
      ]
     },
     "execution_count": 127,
     "metadata": {},
     "output_type": "execute_result"
    }
   ],
   "source": [
    "aoc_6b(aoc_input)"
   ]
  },
  {
   "cell_type": "code",
   "execution_count": 128,
   "metadata": {},
   "outputs": [],
   "source": [
    "aoc_input = read_raw_input(7).split('\\n')"
   ]
  },
  {
   "cell_type": "code",
   "execution_count": 136,
   "metadata": {},
   "outputs": [],
   "source": [
    "def aoc_7(ips):\n",
    "    def has_abba(s):\n",
    "        for i in range(1, len(s)-2):\n",
    "            if s[i] == s[i+1] and s[i-1] == s[i+2] and s[i] != s[i-1]:\n",
    "                return True\n",
    "        return False\n",
    "    \n",
    "    res = 0\n",
    "    for ip in ips:\n",
    "        brackets = re.findall('\\[\\w+\\]', ip)\n",
    "        if len([bracket for bracket in brackets if has_abba(bracket)]) > 0:\n",
    "            continue\n",
    "        res += has_abba(ip)\n",
    "    return res"
   ]
  },
  {
   "cell_type": "code",
   "execution_count": 137,
   "metadata": {},
   "outputs": [
    {
     "data": {
      "text/plain": [
       "105"
      ]
     },
     "execution_count": 137,
     "metadata": {},
     "output_type": "execute_result"
    }
   ],
   "source": [
    "aoc_7(aoc_input)"
   ]
  },
  {
   "cell_type": "code",
   "execution_count": 148,
   "metadata": {},
   "outputs": [],
   "source": [
    "def aoc_7b(ips):\n",
    "    def find_bab(s):\n",
    "        bab_list = []\n",
    "        for i in range(1, len(s)-1):\n",
    "            if s[i-1] == s[i+1] and s[i] != s[i-1]:\n",
    "                bab_list.append(s[i]+s[i-1]+s[i])\n",
    "        return bab_list\n",
    "    \n",
    "    res = 0\n",
    "    for ip in ips:\n",
    "        brackets = re.findall('\\[\\w+\\]', ip)\n",
    "        babs = []\n",
    "        for bracket in brackets:\n",
    "            babs += find_bab(bracket)\n",
    "            ip = ip.replace(bracket, '')\n",
    "        for bab in babs:\n",
    "            if bab in ip:\n",
    "                res += 1\n",
    "                break\n",
    "    return res"
   ]
  },
  {
   "cell_type": "code",
   "execution_count": 149,
   "metadata": {},
   "outputs": [
    {
     "data": {
      "text/plain": [
       "258"
      ]
     },
     "execution_count": 149,
     "metadata": {},
     "output_type": "execute_result"
    }
   ],
   "source": [
    "aoc_7b(aoc_input)"
   ]
  },
  {
   "cell_type": "code",
   "execution_count": 150,
   "metadata": {},
   "outputs": [],
   "source": [
    "aoc_input = read_raw_input(8).split('\\n')"
   ]
  },
  {
   "cell_type": "code",
   "execution_count": 178,
   "metadata": {},
   "outputs": [],
   "source": [
    "def aoc_8(commands):\n",
    "    grid = np.zeros((50, 6))\n",
    "    for cmd in commands:\n",
    "        val1, val2 = [int(x) for x in re.findall('\\d+', cmd)]\n",
    "        if cmd.startswith('rect'):\n",
    "            grid[:val1, :val2] = 1\n",
    "        if 'row' in cmd:\n",
    "            grid[:, val1] = grid[[i-val2 for i in range(50)], val1]\n",
    "        if 'column' in cmd:\n",
    "            grid[val1, :] = grid[val1, [i-val2 for i in range(6)]]\n",
    "\n",
    "    return np.sum(grid)"
   ]
  },
  {
   "cell_type": "code",
   "execution_count": 179,
   "metadata": {},
   "outputs": [
    {
     "data": {
      "text/plain": [
       "121.0"
      ]
     },
     "execution_count": 179,
     "metadata": {},
     "output_type": "execute_result"
    }
   ],
   "source": [
    "aoc_8(aoc_input)"
   ]
  },
  {
   "cell_type": "code",
   "execution_count": 192,
   "metadata": {},
   "outputs": [],
   "source": [
    "def aoc_8b(commands):\n",
    "    grid = np.zeros((50, 6))\n",
    "    for cmd in commands:\n",
    "        val1, val2 = [int(x) for x in re.findall('\\d+', cmd)]\n",
    "        if cmd.startswith('rect'):\n",
    "            grid[:val1, :val2] = 1\n",
    "        if 'row' in cmd:\n",
    "            grid[:, val1] = grid[[i-val2 for i in range(50)], val1]\n",
    "        if 'column' in cmd:\n",
    "            grid[val1, :] = grid[val1, [i-val2 for i in range(6)]]\n",
    "    grid = grid.T\n",
    "    for row in grid:\n",
    "        for c in row:\n",
    "            if c == 0: print('.', end='')\n",
    "            else: print('#', end='')\n",
    "        print()\n",
    "    return np.sum(grid)"
   ]
  },
  {
   "cell_type": "code",
   "execution_count": 193,
   "metadata": {},
   "outputs": [
    {
     "name": "stdout",
     "output_type": "stream",
     "text": [
      "###..#..#.###..#..#..##..####..##..####..###.#....\n",
      "#..#.#..#.#..#.#..#.#..#.#....#..#.#......#..#....\n",
      "#..#.#..#.#..#.#..#.#....###..#..#.###....#..#....\n",
      "###..#..#.###..#..#.#....#....#..#.#......#..#....\n",
      "#.#..#..#.#.#..#..#.#..#.#....#..#.#......#..#....\n",
      "#..#..##..#..#..##...##..####..##..####..###.####.\n"
     ]
    },
    {
     "data": {
      "text/plain": [
       "121.0"
      ]
     },
     "execution_count": 193,
     "metadata": {},
     "output_type": "execute_result"
    }
   ],
   "source": [
    "aoc_8b(aoc_input)"
   ]
  },
  {
   "cell_type": "code",
   "execution_count": 194,
   "metadata": {},
   "outputs": [],
   "source": [
    "aoc_input = read_raw_input(9)"
   ]
  },
  {
   "cell_type": "code",
   "execution_count": 218,
   "metadata": {},
   "outputs": [],
   "source": [
    "def aoc_9(compressed_seq):\n",
    "    res = ''\n",
    "    i = 0\n",
    "    \n",
    "    def find_compression(idx):\n",
    "        uncompressed = ''\n",
    "        commands = ''\n",
    "        idx_end = i+1\n",
    "        while compressed_seq[idx_end] != ')':\n",
    "            commands += compressed_seq[idx_end]\n",
    "            idx_end += 1\n",
    "        seq_len, num_repeat = [int(x) for x in commands.split('x')]\n",
    "        seq = compressed_seq[idx_end+1:idx_end+seq_len+1]\n",
    "        uncompressed += seq*num_repeat\n",
    "        return uncompressed, idx_end+seq_len+1\n",
    "    \n",
    "    while i < len(compressed_seq):\n",
    "        if compressed_seq[i] != '(':\n",
    "            res += compressed_seq[i]\n",
    "            i += 1\n",
    "        else:\n",
    "            uncompressed, i = find_compression(i)\n",
    "            res += uncompressed\n",
    "    return len(res)"
   ]
  },
  {
   "cell_type": "code",
   "execution_count": 220,
   "metadata": {},
   "outputs": [
    {
     "data": {
      "text/plain": [
       "112830"
      ]
     },
     "execution_count": 220,
     "metadata": {},
     "output_type": "execute_result"
    }
   ],
   "source": [
    "aoc_9(aoc_input)"
   ]
  },
  {
   "cell_type": "code",
   "execution_count": 232,
   "metadata": {},
   "outputs": [],
   "source": [
    "def aoc_9b(compressed_seq):\n",
    "    i = 0\n",
    "    \n",
    "    def find_compression(idx):\n",
    "        uncompressed = 0\n",
    "        commands = ''\n",
    "        idx_end = i+1\n",
    "        while compressed_seq[idx_end] != ')':\n",
    "            commands += compressed_seq[idx_end]\n",
    "            idx_end += 1\n",
    "        seq_len, num_repeat = [int(x) for x in commands.split('x')]\n",
    "        seq = compressed_seq[idx_end+1:idx_end+seq_len+1]\n",
    "        uncompressed += aoc_9b(seq)*num_repeat\n",
    "        return uncompressed, idx_end+seq_len+1\n",
    "    \n",
    "    res = 0\n",
    "    while i < len(compressed_seq):\n",
    "        if compressed_seq[i] != '(':\n",
    "            res += 1\n",
    "            i += 1\n",
    "        else:\n",
    "            uncompressed, i = find_compression(i)\n",
    "            res += uncompressed\n",
    "    return res"
   ]
  },
  {
   "cell_type": "code",
   "execution_count": 234,
   "metadata": {},
   "outputs": [
    {
     "data": {
      "text/plain": [
       "10931789799"
      ]
     },
     "execution_count": 234,
     "metadata": {},
     "output_type": "execute_result"
    }
   ],
   "source": [
    "aoc_9b(aoc_input)"
   ]
  },
  {
   "cell_type": "code",
   "execution_count": 235,
   "metadata": {},
   "outputs": [],
   "source": [
    "aoc_input = read_raw_input(10).split('\\n')"
   ]
  },
  {
   "cell_type": "code",
   "execution_count": 280,
   "metadata": {},
   "outputs": [],
   "source": [
    "def aoc_10(commands):\n",
    "    commands = list(commands)\n",
    "    \n",
    "    bots = defaultdict(list)\n",
    "    outputs = defaultdict(list)\n",
    "    i = 0\n",
    "    \n",
    "    def run_assign(chip, bot):\n",
    "        bots[bot].append(chip)\n",
    "    \n",
    "    def run_compare(bot, type_lower, num_lower, type_higher, num_higher):\n",
    "        if len(bots[bot]) >= 2:\n",
    "            val1 = bots[bot].pop(0)\n",
    "            val2 = bots[bot].pop(0)\n",
    "            if set([val1, val2]) == {61, 17}:\n",
    "                print(bot)\n",
    "            if type_lower == 'bot':\n",
    "                bots[num_lower].append(min(val1, val2))\n",
    "            else:\n",
    "                outputs[num_lower].append(min(val1, val2))\n",
    "                \n",
    "            if type_higher == 'bot':\n",
    "                bots[num_higher].append(max(val1, val2))\n",
    "            else:\n",
    "                outputs[num_higher].append(max(val1, val2))\n",
    "            return True\n",
    "        else:\n",
    "            return False\n",
    "    \n",
    "    while i < len(commands):\n",
    "        \n",
    "        cmd_assign = re.match('value (\\d+) goes to bot (\\d+)', commands[i])\n",
    "        cmd_compare = re.match('bot (\\d+) .+ (\\w+) (\\d+) .+ (\\w+) (\\d+)', commands[i])\n",
    "        if cmd_assign:\n",
    "            chip = int(cmd_assign[1])\n",
    "            bot = int(cmd_assign[2])\n",
    "            #print(chip, bot)\n",
    "            run_assign(chip, bot)\n",
    "            commands.pop(i)\n",
    "            i = 0\n",
    "            continue\n",
    "            \n",
    "        if cmd_compare:\n",
    "            bot = int(cmd_compare[1])\n",
    "            type_lower = cmd_compare[2]\n",
    "            num_lower = int(cmd_compare[3])\n",
    "            type_higher = cmd_compare[4]\n",
    "            num_higher = int(cmd_compare[5])\n",
    "            \n",
    "            if run_compare(bot, type_lower, num_lower, type_higher, num_higher):\n",
    "                commands.pop(i)\n",
    "                i = 0\n",
    "                continue\n",
    "        \n",
    "        i += 1\n",
    "    print(np.prod([outputs[i] for i in range(3)]))\n",
    "    return outputs"
   ]
  },
  {
   "cell_type": "code",
   "execution_count": 281,
   "metadata": {},
   "outputs": [
    {
     "name": "stdout",
     "output_type": "stream",
     "text": [
      "86\n",
      "22847\n"
     ]
    },
    {
     "data": {
      "text/plain": [
       "defaultdict(list,\n",
       "            {3: [2],\n",
       "             10: [3],\n",
       "             8: [5],\n",
       "             5: [7],\n",
       "             1: [11],\n",
       "             20: [13],\n",
       "             13: [17],\n",
       "             15: [19],\n",
       "             14: [23],\n",
       "             19: [29],\n",
       "             2: [31],\n",
       "             16: [37],\n",
       "             6: [41],\n",
       "             9: [43],\n",
       "             7: [47],\n",
       "             18: [53],\n",
       "             4: [59],\n",
       "             17: [61],\n",
       "             0: [67],\n",
       "             11: [71],\n",
       "             12: [73]})"
      ]
     },
     "execution_count": 281,
     "metadata": {},
     "output_type": "execute_result"
    }
   ],
   "source": [
    "aoc_10(aoc_input)"
   ]
  },
  {
   "cell_type": "code",
   "execution_count": 283,
   "metadata": {},
   "outputs": [],
   "source": [
    "aoc_input = read_raw_input(11).split('\\n')"
   ]
  },
  {
   "cell_type": "code",
   "execution_count": 353,
   "metadata": {},
   "outputs": [],
   "source": [
    "def aoc_11(placements):    \n",
    "    state = []\n",
    "    element_list = []\n",
    "    generator_dict = {}\n",
    "    chip_dict = {}\n",
    "    num_elements = 0\n",
    "    \n",
    "    traversed = set()\n",
    "    for i, placement in enumerate(placements):\n",
    "        generators = re.findall('((\\w+) generator)', placement)\n",
    "        for generator in generators:\n",
    "            element_list.append(generator[1])\n",
    "            generator_dict[generator[1]] = i\n",
    "            num_elements += 1\n",
    "        chips = re.findall('((\\w+)-compatible)', placement)\n",
    "        for chip in chips:\n",
    "            chip_dict[chip[1]] = i\n",
    "    \n",
    "    for element in element_list:\n",
    "        state.append(generator_dict[element])\n",
    "        state.append(chip_dict[element])\n",
    "    state = tuple(state+[0])\n",
    "    \n",
    "    def allowed_state(st):\n",
    "        generator_floors = [st[i*2] for i in range(num_elements)]\n",
    "        for i in range(num_elements):\n",
    "            if st[i*2+1] in generator_floors and st[i*2+1] != st[i*2]:\n",
    "                return False\n",
    "        return True\n",
    "    \n",
    "    def generate_state(st):\n",
    "        elevator = st[-1]\n",
    "        res = []\n",
    "        candidates = [i for i in range(num_elements*2) if st[i] == elevator]\n",
    "        combos = list(combinations(candidates, 1)) + list(combinations(candidates, 2))\n",
    "        if elevator < 3:\n",
    "            for combo in combos:\n",
    "                tmp_state = list(st)\n",
    "                for idx in combo:\n",
    "                    tmp_state[idx] += 1\n",
    "                tmp_state[-1] += 1\n",
    "                tmp_state = tuple(tmp_state)\n",
    "                if tmp_state not in traversed and allowed_state(tmp_state):\n",
    "                    res.append(tmp_state)\n",
    "                    traversed.add(tmp_state)\n",
    "        if elevator > 0:\n",
    "            for combo in combos:\n",
    "                tmp_state = list(st)\n",
    "                for idx in combo:\n",
    "                    tmp_state[idx] -= 1\n",
    "                tmp_state[-1] -= 1\n",
    "                tmp_state = tuple(tmp_state)\n",
    "                if tmp_state not in traversed and allowed_state(tmp_state):\n",
    "                    res.append(tmp_state)\n",
    "                    traversed.add(tmp_state)\n",
    "        return res\n",
    "    \n",
    "    candidates = [state]\n",
    "    END_STATE = tuple([3]*(num_elements*2+1))\n",
    "    num_steps = 0\n",
    "    while END_STATE not in candidates:\n",
    "        next_candidates = []\n",
    "        for candidate in candidates:\n",
    "            next_candidates += generate_state(candidate)\n",
    "        num_steps += 1\n",
    "        candidates = next_candidates\n",
    "        #return next_candidates\n",
    "    return num_steps"
   ]
  },
  {
   "cell_type": "code",
   "execution_count": 354,
   "metadata": {},
   "outputs": [
    {
     "data": {
      "text/plain": [
       "31"
      ]
     },
     "execution_count": 354,
     "metadata": {},
     "output_type": "execute_result"
    }
   ],
   "source": [
    "aoc_11(aoc_input)"
   ]
  },
  {
   "cell_type": "code",
   "execution_count": 373,
   "metadata": {},
   "outputs": [],
   "source": [
    "def aoc_11b(placements):   \n",
    "    state = []\n",
    "    element_list = ['elerium', 'dilithium']\n",
    "    generator_dict = {'elerium':0, 'dilithium':0}\n",
    "    chip_dict = {'elerium':0, 'dilithium':0}\n",
    "    num_elements = 2\n",
    "    \n",
    "    traversed = set()\n",
    "    for i, placement in enumerate(placements):\n",
    "        generators = re.findall('((\\w+) generator)', placement)\n",
    "        for generator in generators:\n",
    "            element_list.append(generator[1])\n",
    "            generator_dict[generator[1]] = i\n",
    "            num_elements += 1\n",
    "        chips = re.findall('((\\w+)-compatible)', placement)\n",
    "        for chip in chips:\n",
    "            chip_dict[chip[1]] = i\n",
    "    \n",
    "    for element in element_list:\n",
    "        state.append(generator_dict[element])\n",
    "        state.append(chip_dict[element])    \n",
    "    \n",
    "    def sort_state(st):\n",
    "        res = []\n",
    "        elevator = st[-1]\n",
    "        pairs = sorted([(st[i*2], st[i*2+1]) for i in range(num_elements)])\n",
    "        for pair in pairs:\n",
    "            res.append(pair[0])\n",
    "            res.append(pair[1])\n",
    "            \n",
    "        return tuple(res+[elevator])\n",
    "    \n",
    "    state = sort_state(state+[0])\n",
    "    \n",
    "    def allowed_state(st):\n",
    "        generator_floors = [st[i*2] for i in range(num_elements)]\n",
    "        for i in range(num_elements):\n",
    "            if st[i*2+1] in generator_floors and st[i*2+1] != st[i*2]:\n",
    "                return False\n",
    "        return True\n",
    "    \n",
    "    def generate_state(st):\n",
    "        elevator = st[-1]\n",
    "        res = []\n",
    "        candidates = [i for i in range(num_elements*2) if st[i] == elevator]\n",
    "        combos = list(combinations(candidates, 1)) + list(combinations(candidates, 2))\n",
    "        if elevator < 3:\n",
    "            for combo in combos:\n",
    "                tmp_state = list(st)\n",
    "                for idx in combo:\n",
    "                    tmp_state[idx] += 1\n",
    "                tmp_state[-1] += 1\n",
    "                tmp_state = sort_state(tmp_state)\n",
    "                if tmp_state not in traversed and allowed_state(tmp_state):\n",
    "                    res.append(tmp_state)\n",
    "                    traversed.add(tmp_state)\n",
    "        if elevator > 0:\n",
    "            for combo in combos:\n",
    "                tmp_state = list(st)\n",
    "                for idx in combo:\n",
    "                    tmp_state[idx] -= 1\n",
    "                tmp_state[-1] -= 1\n",
    "                tmp_state = sort_state(tmp_state)\n",
    "                if tmp_state not in traversed and allowed_state(tmp_state):\n",
    "                    res.append(tmp_state)\n",
    "                    traversed.add(tmp_state)\n",
    "        return res\n",
    "    \n",
    "    candidates = [state]\n",
    "    END_STATE = tuple([3]*(num_elements*2+1))\n",
    "    num_steps = 0\n",
    "    while END_STATE not in candidates:\n",
    "        #print(len(candidates))\n",
    "        next_candidates = []\n",
    "        for candidate in candidates:\n",
    "            next_candidates += generate_state(candidate)\n",
    "        num_steps += 1\n",
    "        candidates = next_candidates\n",
    "        #return next_candidates\n",
    "    return num_steps"
   ]
  },
  {
   "cell_type": "code",
   "execution_count": 374,
   "metadata": {},
   "outputs": [
    {
     "data": {
      "text/plain": [
       "55"
      ]
     },
     "execution_count": 374,
     "metadata": {},
     "output_type": "execute_result"
    }
   ],
   "source": [
    "aoc_11b(aoc_input)"
   ]
  },
  {
   "cell_type": "code",
   "execution_count": 834,
   "metadata": {},
   "outputs": [],
   "source": [
    "aoc_input = read_raw_input(12).split('\\n')"
   ]
  },
  {
   "cell_type": "code",
   "execution_count": 835,
   "metadata": {},
   "outputs": [],
   "source": [
    "def aoc_12(instructions):\n",
    "    registers = {'a':0, 'b':0, 'c':0, 'd':0}\n",
    "    idx = 0\n",
    "    while 0 <= idx < len(instructions):\n",
    "        instruction = instructions[idx].split()\n",
    "        vals = []\n",
    "        for val in instruction[1:]:\n",
    "            if val in registers:\n",
    "                vals.append(registers[val])\n",
    "            else:\n",
    "                vals.append(int(val))\n",
    "        #print(instruction)\n",
    "        #print(registers)\n",
    "        if instruction[0] == 'jmp':\n",
    "            idx += vals[0]\n",
    "            continue\n",
    "        if instruction[0] == 'jnz':\n",
    "            if vals[0] != 0:\n",
    "                idx += vals[1]\n",
    "                continue\n",
    "        if instruction[0] == 'cpy':\n",
    "            registers[instruction[2]] = vals[0]\n",
    "        if instruction[0] == 'inc':\n",
    "            registers[instruction[1]] += 1\n",
    "        if instruction[0] == 'dec':\n",
    "            registers[instruction[1]] -= 1\n",
    "        idx += 1\n",
    "    return registers['a']"
   ]
  },
  {
   "cell_type": "code",
   "execution_count": 836,
   "metadata": {},
   "outputs": [
    {
     "data": {
      "text/plain": [
       "318003"
      ]
     },
     "execution_count": 836,
     "metadata": {},
     "output_type": "execute_result"
    }
   ],
   "source": [
    "aoc_12(aoc_input)"
   ]
  },
  {
   "cell_type": "code",
   "execution_count": 397,
   "metadata": {},
   "outputs": [],
   "source": [
    "def aoc_12b(instructions):\n",
    "    registers = {'a':0, 'b':0, 'c':1, 'd':0}\n",
    "    idx = 0\n",
    "    while 0 <= idx < len(instructions):\n",
    "        instruction = instructions[idx].split()\n",
    "        #print(instruction)\n",
    "        #print(registers)\n",
    "        if instruction[0] == 'jmp':\n",
    "            idx += int(instruction[-1])\n",
    "            continue\n",
    "        if instruction[0] == 'jnz':\n",
    "            if instruction[1] in 'abcd':\n",
    "                val = registers[instruction[1]]\n",
    "            else:\n",
    "                val = int(instruction[1])\n",
    "            if val != 0:\n",
    "                idx += int(instruction[-1])\n",
    "                continue\n",
    "        if instruction[0] == 'cpy':\n",
    "            if instruction[1] in 'abcd':\n",
    "                registers[instruction[2]] = registers[instruction[1]]\n",
    "            else:\n",
    "                registers[instruction[2]] = int(instruction[1])\n",
    "        if instruction[0] == 'inc':\n",
    "            registers[instruction[1]] += 1\n",
    "        if instruction[0] == 'dec':\n",
    "            registers[instruction[1]] -= 1\n",
    "        idx += 1\n",
    "    return registers['a']"
   ]
  },
  {
   "cell_type": "code",
   "execution_count": 398,
   "metadata": {},
   "outputs": [
    {
     "data": {
      "text/plain": [
       "9227657"
      ]
     },
     "execution_count": 398,
     "metadata": {},
     "output_type": "execute_result"
    }
   ],
   "source": [
    "aoc_12b(aoc_input)"
   ]
  },
  {
   "cell_type": "code",
   "execution_count": 400,
   "metadata": {},
   "outputs": [],
   "source": [
    "aoc_input = 1362"
   ]
  },
  {
   "cell_type": "code",
   "execution_count": 406,
   "metadata": {},
   "outputs": [],
   "source": [
    "def aoc_13(num):\n",
    "    steps = 0\n",
    "    cords = [1+1j]\n",
    "    checked = {1+1j}\n",
    "    DIRECTIONS = {1, -1, 1j, -1j}\n",
    "    \n",
    "    def is_space(cord):\n",
    "        if cord.imag < 0 or cord.real < 0:\n",
    "            return False\n",
    "        x = cord.real\n",
    "        y = cord.imag\n",
    "        res = x*x + 3*x + 2*x*y + y + y*y + num\n",
    "        return (bin(int(res)).count('1') % 2) == 0\n",
    "    \n",
    "    while 31+39j not in checked:\n",
    "        new_cords = []\n",
    "        for cord in cords:\n",
    "            for direction in DIRECTIONS:\n",
    "                next_cord = cord+direction\n",
    "                if next_cord in checked:\n",
    "                    continue\n",
    "                checked.add(next_cord)\n",
    "                if is_space(next_cord):\n",
    "                    new_cords.append(next_cord)\n",
    "        steps += 1\n",
    "        cords = new_cords\n",
    "    return steps"
   ]
  },
  {
   "cell_type": "code",
   "execution_count": 407,
   "metadata": {},
   "outputs": [
    {
     "data": {
      "text/plain": [
       "82"
      ]
     },
     "execution_count": 407,
     "metadata": {},
     "output_type": "execute_result"
    }
   ],
   "source": [
    "aoc_13(aoc_input)"
   ]
  },
  {
   "cell_type": "code",
   "execution_count": 409,
   "metadata": {},
   "outputs": [],
   "source": [
    "def aoc_13b(num):\n",
    "    steps = 0\n",
    "    cords = [1+1j]\n",
    "    checked = {1+1j}\n",
    "    valids = {1+1j}\n",
    "    DIRECTIONS = {1, -1, 1j, -1j}\n",
    "    \n",
    "    def is_space(cord):\n",
    "        if cord.imag < 0 or cord.real < 0:\n",
    "            return False\n",
    "        x = cord.real\n",
    "        y = cord.imag\n",
    "        res = x*x + 3*x + 2*x*y + y + y*y + num\n",
    "        return (bin(int(res)).count('1') % 2) == 0\n",
    "    \n",
    "    while 31+39j not in checked:\n",
    "        if steps == 50:\n",
    "            break\n",
    "        new_cords = []\n",
    "        for cord in cords:\n",
    "            for direction in DIRECTIONS:\n",
    "                next_cord = cord+direction\n",
    "                if next_cord in checked:\n",
    "                    continue\n",
    "                checked.add(next_cord)\n",
    "                if is_space(next_cord):\n",
    "                    new_cords.append(next_cord)\n",
    "                    valids.add(next_cord)\n",
    "        steps += 1\n",
    "        cords = new_cords\n",
    "    return len(valids)"
   ]
  },
  {
   "cell_type": "code",
   "execution_count": 410,
   "metadata": {},
   "outputs": [
    {
     "data": {
      "text/plain": [
       "138"
      ]
     },
     "execution_count": 410,
     "metadata": {},
     "output_type": "execute_result"
    }
   ],
   "source": [
    "aoc_13b(aoc_input)"
   ]
  },
  {
   "cell_type": "code",
   "execution_count": 5,
   "metadata": {},
   "outputs": [],
   "source": [
    "aoc_input = 'qzyelonm'"
   ]
  },
  {
   "cell_type": "code",
   "execution_count": 56,
   "metadata": {},
   "outputs": [],
   "source": [
    "def aoc_14(x):\n",
    "    i = 0\n",
    "    triples = defaultdict(list)\n",
    "    def find_repeat(s, num_repeat):\n",
    "        for i in range(len(s)-num_repeat+1):\n",
    "            if len(set(s[i:i+num_repeat])) == 1:\n",
    "                return s[i]\n",
    "        return ''\n",
    "    \n",
    "    keys = []\n",
    "    buffer = 1000\n",
    "    while len(keys) < 64 or buffer > 0:\n",
    "        if len(keys) >= 64:\n",
    "            buffer -= 1\n",
    "        hashstring = hashlib.md5((x+str(i)).encode()).hexdigest()\n",
    "        five = find_repeat(hashstring, 5)\n",
    "        for idx in triples[five]:\n",
    "            if idx not in keys and i-idx <= 1000:\n",
    "                keys.append(idx)\n",
    "                \n",
    "        triple = find_repeat(hashstring, 3)\n",
    "        if triple:\n",
    "            triples[triple].append(i)\n",
    "                    \n",
    "        i += 1\n",
    "    return sorted(keys)[63]"
   ]
  },
  {
   "cell_type": "code",
   "execution_count": 57,
   "metadata": {},
   "outputs": [
    {
     "data": {
      "text/plain": [
       "15168"
      ]
     },
     "execution_count": 57,
     "metadata": {},
     "output_type": "execute_result"
    }
   ],
   "source": [
    "aoc_14(aoc_input)"
   ]
  },
  {
   "cell_type": "code",
   "execution_count": 59,
   "metadata": {},
   "outputs": [],
   "source": [
    "def aoc_14b(x):\n",
    "    i = 0\n",
    "    triples = defaultdict(list)\n",
    "    def find_repeat(s, num_repeat):\n",
    "        for i in range(len(s)-num_repeat+1):\n",
    "            if len(set(s[i:i+num_repeat])) == 1:\n",
    "                return s[i]\n",
    "        return ''\n",
    "    \n",
    "    def get_hash(s):\n",
    "        for i in range(2017):\n",
    "            s = hashlib.md5(s.encode()).hexdigest()\n",
    "        return s\n",
    "            \n",
    "    keys = []\n",
    "    buffer = 1000\n",
    "    while len(keys) < 64 or buffer > 0:\n",
    "        if len(keys) >= 64:\n",
    "            buffer -= 1\n",
    "        hashstring = get_hash(x+str(i))\n",
    "        five = find_repeat(hashstring, 5)\n",
    "        for idx in triples[five]:\n",
    "            if idx not in keys and i-idx <= 1000:\n",
    "                keys.append(idx)\n",
    "                \n",
    "        triple = find_repeat(hashstring, 3)\n",
    "        if triple:\n",
    "            triples[triple].append(i)\n",
    "                    \n",
    "        i += 1\n",
    "    return sorted(keys)[63]"
   ]
  },
  {
   "cell_type": "code",
   "execution_count": 62,
   "metadata": {},
   "outputs": [
    {
     "data": {
      "text/plain": [
       "20864"
      ]
     },
     "execution_count": 62,
     "metadata": {},
     "output_type": "execute_result"
    }
   ],
   "source": [
    "aoc_14b(aoc_input)"
   ]
  },
  {
   "cell_type": "code",
   "execution_count": 64,
   "metadata": {},
   "outputs": [],
   "source": [
    "aoc_input = read_raw_input(15).split('\\n')"
   ]
  },
  {
   "cell_type": "code",
   "execution_count": 81,
   "metadata": {},
   "outputs": [],
   "source": [
    "def aoc_15(discs):\n",
    "    disc_offsets = []\n",
    "    for i, disc in enumerate(discs):\n",
    "        disc = re.findall('\\d+', disc)\n",
    "        disc_offsets.append((int(disc[1]), int(disc[3])+i+1))\n",
    "    \n",
    "    lcm = res = 1\n",
    "    for num, offset in disc_offsets:\n",
    "        while (res+offset) % num != 0:\n",
    "            res += lcm\n",
    "        lcm *= num\n",
    "    return res"
   ]
  },
  {
   "cell_type": "code",
   "execution_count": 82,
   "metadata": {},
   "outputs": [
    {
     "data": {
      "text/plain": [
       "122318"
      ]
     },
     "execution_count": 82,
     "metadata": {},
     "output_type": "execute_result"
    }
   ],
   "source": [
    "aoc_15(aoc_input)"
   ]
  },
  {
   "cell_type": "code",
   "execution_count": 90,
   "metadata": {},
   "outputs": [],
   "source": [
    "def aoc_15b(discs):\n",
    "    disc_offsets = []\n",
    "    for i, disc in enumerate(discs):\n",
    "        disc = re.findall('\\d+', disc)\n",
    "        disc_offsets.append((int(disc[1]), int(disc[3])+i+1))\n",
    "    else:\n",
    "        disc_offsets.append((11, i+2))\n",
    "    \n",
    "    lcm = res = 1\n",
    "    for num, offset in disc_offsets:\n",
    "        while (res+offset) % num != 0:\n",
    "            res += lcm\n",
    "        lcm *= num\n",
    "    return res"
   ]
  },
  {
   "cell_type": "code",
   "execution_count": 91,
   "metadata": {},
   "outputs": [
    {
     "data": {
      "text/plain": [
       "3208583"
      ]
     },
     "execution_count": 91,
     "metadata": {},
     "output_type": "execute_result"
    }
   ],
   "source": [
    "aoc_15b(aoc_input)"
   ]
  },
  {
   "cell_type": "code",
   "execution_count": 848,
   "metadata": {},
   "outputs": [],
   "source": [
    "aoc_input = '01111001100111011'"
   ]
  },
  {
   "cell_type": "code",
   "execution_count": 1266,
   "metadata": {},
   "outputs": [],
   "source": [
    "def aoc_16(puzzle, space=272):\n",
    "    def transform(s):\n",
    "        LOOKUP={'0':'1', '1':'0'}\n",
    "        res = ''\n",
    "        for c in s:\n",
    "            res = LOOKUP[c]+res\n",
    "        return s+'0'+res\n",
    "    \n",
    "    def checksum(s):\n",
    "        if len(s) % 2 != 0:\n",
    "            return s\n",
    "        res = ''\n",
    "        for i in range(len(s)//2):\n",
    "            if s[2*i] == s[2*i+1]:\n",
    "                res += '1'\n",
    "            else:\n",
    "                res += '0'\n",
    "        return checksum(res)\n",
    "    \n",
    "    while len(puzzle) < space:\n",
    "        puzzle = transform(puzzle)\n",
    "    i = 0\n",
    "    while i < len(puzzle):\n",
    "        #print(puzzle[i:i+16+1])\n",
    "        i += 16\n",
    "    return checksum(puzzle[:space])"
   ]
  },
  {
   "cell_type": "code",
   "execution_count": 1268,
   "metadata": {},
   "outputs": [
    {
     "data": {
      "text/plain": [
       "'11111000111110000'"
      ]
     },
     "execution_count": 1268,
     "metadata": {},
     "output_type": "execute_result"
    }
   ],
   "source": [
    "aoc_16(aoc_input)"
   ]
  },
  {
   "cell_type": "code",
   "execution_count": 1263,
   "metadata": {},
   "outputs": [],
   "source": [
    "def aoc_16b(puzzle, space=35651584):\n",
    "    seg_lengths = [len(puzzle)+1]\n",
    "    node_counts = [(1, 0)]\n",
    "    while seg_lengths[-1] < space:\n",
    "        seg_lengths.append(seg_lengths[-1]*2)\n",
    "        if not node_counts:\n",
    "            node_counts.append((1, 0))\n",
    "        else:\n",
    "            last_zero, last_one = node_counts[-1]\n",
    "            node_counts.append((1+last_zero+last_one, last_zero+last_one))\n",
    "    \n",
    "    STARTING_COUNT = sum(node_counts[-1])\n",
    "    FLIP_BITS = {'0':'1', '1':'0'}\n",
    "    def full_puzzle(x):\n",
    "        res = x + 'x'\n",
    "        for c in x[::-1]:\n",
    "            res += FLIP_BITS[c]\n",
    "        return res+'x'\n",
    "    \n",
    "    def get_node_counts(num, res=STARTING_COUNT):\n",
    "        bit = 1\n",
    "        res = 0\n",
    "        for i in range(len(seg_lengths))[::-1]:\n",
    "            if seg_lengths[i] <= num:\n",
    "                if bit == 1:\n",
    "                    res += node_counts[i][bit]\n",
    "                    bit = 0\n",
    "                num -= seg_lengths[i]\n",
    "            elif seg_lengths[i] > num:\n",
    "                if bit == 0:\n",
    "                    res -= node_counts[i][bit]\n",
    "                    bit = 1\n",
    "        return res\n",
    "    \n",
    "    puzzle_copy = full_puzzle(puzzle)\n",
    "    ones = puzzle_copy.count('1')\n",
    "\n",
    "    checksum_size = 2\n",
    "    while space % (checksum_size*2) == 0:\n",
    "        checksum_size *= 2\n",
    "    segments = [i*checksum_size for i in range(1, space//checksum_size)] + [space]\n",
    "    last_count = 0\n",
    "    res = ''\n",
    "    for segment in segments:\n",
    "        puzzle_copies, remainder = divmod(segment, len(puzzle_copy))\n",
    "        current_count = ones*puzzle_copies + puzzle_copy[:remainder].count('1') + get_node_counts(segment)\n",
    "        current_count += get_node_counts(segment)\n",
    "        res += '1' if (current_count-last_count) % 2 == 0 else '0'\n",
    "        last_count = current_count\n",
    "    return res"
   ]
  },
  {
   "cell_type": "code",
   "execution_count": 1265,
   "metadata": {
    "scrolled": false
   },
   "outputs": [
    {
     "data": {
      "text/plain": [
       "'00111110000111110'"
      ]
     },
     "execution_count": 1265,
     "metadata": {},
     "output_type": "execute_result"
    }
   ],
   "source": [
    "aoc_16b(aoc_input)"
   ]
  },
  {
   "cell_type": "code",
   "execution_count": 425,
   "metadata": {},
   "outputs": [],
   "source": [
    "aoc_input = 'rrrbmfta'"
   ]
  },
  {
   "cell_type": "code",
   "execution_count": 437,
   "metadata": {},
   "outputs": [],
   "source": [
    "def aoc_17(passcode='rrrbmfta'):\n",
    "    DIRECTIONS = {i:d for i, d in enumerate('UDLR')}\n",
    "    paths = ['']\n",
    "    while True:\n",
    "        new_paths = []\n",
    "        for path in paths:\n",
    "            if path.count('D') - path.count('U') == 3 and path.count('R') - path.count('L') == 3:\n",
    "                return path\n",
    "            md5hash = hashlib.md5((passcode+path).encode()).hexdigest()\n",
    "            for i in range(4):\n",
    "                if md5hash[i] in 'bcdef':\n",
    "                    new_paths.append(path+DIRECTIONS[i])\n",
    "                    #print(md5hash, path+DIRECTIONS[i])\n",
    "        paths = new_paths\n",
    "                    \n",
    "    return -1"
   ]
  },
  {
   "cell_type": "code",
   "execution_count": 438,
   "metadata": {},
   "outputs": [
    {
     "data": {
      "text/plain": [
       "'RLRDRDUDDR'"
      ]
     },
     "execution_count": 438,
     "metadata": {},
     "output_type": "execute_result"
    }
   ],
   "source": [
    "aoc_17()"
   ]
  },
  {
   "cell_type": "code",
   "execution_count": 449,
   "metadata": {},
   "outputs": [],
   "source": [
    "def aoc_17b(passcode='rrrbmfta'):\n",
    "    DIRECTIONS = {i:d for i, d in enumerate('UDLR')}\n",
    "    paths = ['']\n",
    "    longest_path = ''\n",
    "    while paths:\n",
    "        #print(len(longest_path))\n",
    "        new_paths = []\n",
    "        for path in paths:\n",
    "            if path.count('D') < path.count('U') or path.count('R') < path.count('L'):\n",
    "                continue\n",
    "            if path.count('D') - path.count('U') > 3 or path.count('R') - path.count('L') > 3:\n",
    "                continue\n",
    "            if path.count('D') - path.count('U') == 3 and path.count('R') - path.count('L') == 3:\n",
    "                longest_path = path\n",
    "                continue\n",
    "            md5hash = hashlib.md5((passcode+path).encode()).hexdigest()\n",
    "            for i in range(4):\n",
    "                if md5hash[i] in 'bcdef':\n",
    "                    new_paths.append(path+DIRECTIONS[i])\n",
    "                    #print(md5hash, path+DIRECTIONS[i])\n",
    "        paths = new_paths\n",
    "                    \n",
    "    return len(longest_path)"
   ]
  },
  {
   "cell_type": "code",
   "execution_count": 451,
   "metadata": {},
   "outputs": [
    {
     "data": {
      "text/plain": [
       "420"
      ]
     },
     "execution_count": 451,
     "metadata": {},
     "output_type": "execute_result"
    }
   ],
   "source": [
    "aoc_17b()"
   ]
  },
  {
   "cell_type": "code",
   "execution_count": 355,
   "metadata": {},
   "outputs": [],
   "source": [
    "aoc_input = '.^^^^^.^^.^^^.^...^..^^.^.^..^^^^^^^^^^..^...^^.^..^^^^..^^^^...^.^.^^^^^^^^....^..^^^^^^.^^^.^^^.^^'"
   ]
  },
  {
   "cell_type": "code",
   "execution_count": 370,
   "metadata": {},
   "outputs": [],
   "source": [
    "def aoc_18(tiles, num_rows=40):\n",
    "    num_cols = len(tiles)\n",
    "    tiles = '.' + tiles + '.'\n",
    "    res = 0\n",
    "    TRAP_COMBO = {'^^.', '.^^', '^..', '..^'}\n",
    "    for _ in range(num_rows):\n",
    "        #print(tiles)\n",
    "        res += tiles.count('.')-2\n",
    "        new_tiles = '.'\n",
    "        for i in range(1, num_cols+1):\n",
    "            if tiles[i-1:i+2] in TRAP_COMBO:\n",
    "                new_tiles += '^'\n",
    "            else:\n",
    "                new_tiles += '.'\n",
    "        new_tiles += '.'\n",
    "        tiles = new_tiles\n",
    "    return res"
   ]
  },
  {
   "cell_type": "code",
   "execution_count": 371,
   "metadata": {},
   "outputs": [
    {
     "data": {
      "text/plain": [
       "1989"
      ]
     },
     "execution_count": 371,
     "metadata": {},
     "output_type": "execute_result"
    }
   ],
   "source": [
    "aoc_18(aoc_input)"
   ]
  },
  {
   "cell_type": "code",
   "execution_count": 372,
   "metadata": {},
   "outputs": [
    {
     "data": {
      "text/plain": [
       "19999894"
      ]
     },
     "execution_count": 372,
     "metadata": {},
     "output_type": "execute_result"
    }
   ],
   "source": [
    "aoc_18(aoc_input, 400000)"
   ]
  },
  {
   "cell_type": "code",
   "execution_count": 351,
   "metadata": {},
   "outputs": [],
   "source": [
    "def aoc_19(x=3018458):\n",
    "    table = {i:(i+1)%x for i in range(x)}\n",
    "    cur = 0\n",
    "    while len(table) > 1:\n",
    "        nxt = table[table[cur]]\n",
    "        del table[table[cur]]\n",
    "        table[cur] = nxt\n",
    "        cur = nxt\n",
    "    for k in table:\n",
    "        return k+1"
   ]
  },
  {
   "cell_type": "code",
   "execution_count": 352,
   "metadata": {},
   "outputs": [
    {
     "data": {
      "text/plain": [
       "1842613"
      ]
     },
     "execution_count": 352,
     "metadata": {},
     "output_type": "execute_result"
    }
   ],
   "source": [
    "aoc_19()"
   ]
  },
  {
   "cell_type": "code",
   "execution_count": 397,
   "metadata": {},
   "outputs": [],
   "source": [
    "def aoc_19(x=3018458):\n",
    "    table = {i:((i+1)%x, (i-1)%x) for i in range(x)}\n",
    "    cur_elf = 0\n",
    "    target = x // 2 \n",
    "    while len(table) > 1:\n",
    "        #print(table)\n",
    "        next_target = table[target][0]\n",
    "        if len(table) % 2 == 1: \n",
    "            next_target = table[next_target][0]\n",
    "        nxt, prev = table[target]\n",
    "        #print(table, target, prev, nxt)\n",
    "        table[prev] = (nxt, table[prev][1])\n",
    "        table[nxt] = (table[nxt][0], prev)\n",
    "        del table[target]\n",
    "        #print(table)\n",
    "        target = next_target\n",
    "        cur_elf = table[cur_elf][0]\n",
    "    for k in table:\n",
    "        return k+1"
   ]
  },
  {
   "cell_type": "code",
   "execution_count": 398,
   "metadata": {},
   "outputs": [
    {
     "data": {
      "text/plain": [
       "1424135"
      ]
     },
     "execution_count": 398,
     "metadata": {},
     "output_type": "execute_result"
    }
   ],
   "source": [
    "aoc_19()"
   ]
  },
  {
   "cell_type": "code",
   "execution_count": 399,
   "metadata": {},
   "outputs": [],
   "source": [
    "aoc_input = read_raw_input(20).split('\\n')"
   ]
  },
  {
   "cell_type": "code",
   "execution_count": 416,
   "metadata": {},
   "outputs": [],
   "source": [
    "def aoc_20(blacklists):\n",
    "    masks = []\n",
    "    for blacklist in blacklists:\n",
    "        begin, end = [int(x) for x in re.findall('\\d+', blacklist)]\n",
    "        masks.append((begin, end))\n",
    "    masks = sorted(masks, reverse=True)\n",
    "    \n",
    "    cur = 0\n",
    "    print(max(masks))\n",
    "    while masks and cur >= masks[-1][0]:\n",
    "        cur = max(cur, masks.pop()[1]+1)\n",
    "    return cur"
   ]
  },
  {
   "cell_type": "code",
   "execution_count": 417,
   "metadata": {},
   "outputs": [
    {
     "name": "stdout",
     "output_type": "stream",
     "text": [
      "(4292290133, 4294130012)\n"
     ]
    },
    {
     "data": {
      "text/plain": [
       "4793564"
      ]
     },
     "execution_count": 417,
     "metadata": {},
     "output_type": "execute_result"
    }
   ],
   "source": [
    "aoc_20(aoc_input)"
   ]
  },
  {
   "cell_type": "code",
   "execution_count": 423,
   "metadata": {},
   "outputs": [],
   "source": [
    "def aoc_20b(blacklists):\n",
    "    masks = []\n",
    "    for blacklist in blacklists:\n",
    "        begin, end = [int(x) for x in re.findall('\\d+', blacklist)]\n",
    "        masks.append((begin, end))\n",
    "    masks = sorted(masks)\n",
    "    \n",
    "    lower = upper = 0\n",
    "    res = 0\n",
    "    for mask in masks:\n",
    "        if upper >= mask[0]:\n",
    "            upper = max(upper, mask[1])\n",
    "        else:\n",
    "            res += upper-lower+1\n",
    "            lower, upper = mask\n",
    "    else:\n",
    "        res += upper-lower+1\n",
    "            \n",
    "    return 4294967296-res"
   ]
  },
  {
   "cell_type": "code",
   "execution_count": 424,
   "metadata": {},
   "outputs": [
    {
     "data": {
      "text/plain": [
       "146"
      ]
     },
     "execution_count": 424,
     "metadata": {},
     "output_type": "execute_result"
    }
   ],
   "source": [
    "aoc_20b(aoc_input)"
   ]
  },
  {
   "cell_type": "code",
   "execution_count": 452,
   "metadata": {},
   "outputs": [],
   "source": [
    "aoc_input = read_raw_input(21).split('\\n')"
   ]
  },
  {
   "cell_type": "code",
   "execution_count": 505,
   "metadata": {},
   "outputs": [],
   "source": [
    "def aoc_21(instructions, word='abcdefgh'):\n",
    "    word = list(word)\n",
    "    for instruction in instructions:\n",
    "        if instruction.startswith('move'):\n",
    "            before, after = [int(x) for x in re.findall('\\d+', instruction)]\n",
    "            token = word.pop(before)\n",
    "            word.insert(after, token)\n",
    "            continue\n",
    "        if instruction.startswith('swap'):\n",
    "            if 'position' in instruction:\n",
    "                val1, val2 = [int(x) for x in re.findall('\\d+', instruction)]\n",
    "            else:\n",
    "                matched = re.match('swap letter (.) with letter (.)', instruction)\n",
    "                val1 = word.index(matched[1])\n",
    "                val2 = word.index(matched[2])\n",
    "            word[val1], word[val2] = word[val2], word[val1]\n",
    "            continue\n",
    "        if instruction.startswith('reverse'):\n",
    "            begin, end = [int(x) for x in re.findall('\\d+', instruction)]\n",
    "            word[begin:end+1] = word[begin:end+1][::-1]\n",
    "            continue\n",
    "        if instruction.startswith('rotate'):\n",
    "            if 'based on' in instruction:\n",
    "                token = re.match('rotate based on position of letter (.)', instruction)[1]\n",
    "                val = word.index(token)+1+(word.index(token) >= 4)\n",
    "                val = -(val % len(word))\n",
    "                #print(val)\n",
    "                word = word[val:] + word[:val]\n",
    "                #print(word)\n",
    "                continue\n",
    "            val = [int(x) for x in re.findall('\\d+', instruction)][0]\n",
    "            if 'right' in instruction:\n",
    "                val = -val\n",
    "            word = word[val:] + word[:val]\n",
    "            continue\n",
    "        return instruction\n",
    "    return ''.join(word)"
   ]
  },
  {
   "cell_type": "code",
   "execution_count": 507,
   "metadata": {},
   "outputs": [
    {
     "data": {
      "text/plain": [
       "'bfheacgd'"
      ]
     },
     "execution_count": 507,
     "metadata": {},
     "output_type": "execute_result"
    }
   ],
   "source": [
    "aoc_21(aoc_input)"
   ]
  },
  {
   "cell_type": "code",
   "execution_count": 550,
   "metadata": {},
   "outputs": [],
   "source": [
    "def aoc_21b(instructions, word='fbgdceah'):\n",
    "    word = list(word)\n",
    "    for instruction in instructions[::-1]:\n",
    "        if instruction.startswith('move'):\n",
    "            after, before = [int(x) for x in re.findall('\\d+', instruction)]\n",
    "            #print(word)\n",
    "            token = word.pop(before)\n",
    "            #print(token)\n",
    "            word.insert(after, token)\n",
    "            continue\n",
    "        if instruction.startswith('swap'):\n",
    "            if 'position' in instruction:\n",
    "                val1, val2 = [int(x) for x in re.findall('\\d+', instruction)]\n",
    "            else:\n",
    "                matched = re.match('swap letter (.) with letter (.)', instruction)\n",
    "                val1 = word.index(matched[1])\n",
    "                val2 = word.index(matched[2])\n",
    "            word[val1], word[val2] = word[val2], word[val1]\n",
    "            continue\n",
    "        if instruction.startswith('reverse'):\n",
    "            begin, end = [int(x) for x in re.findall('\\d+', instruction)]\n",
    "            word[begin:end+1] = word[begin:end+1][::-1]\n",
    "            continue\n",
    "        if instruction.startswith('rotate'):\n",
    "            if 'based on' in instruction:\n",
    "                token = re.match('rotate based on position of letter (.)', instruction)[1]\n",
    "                final_val = word.index(token)\n",
    "                #print(final_val)\n",
    "                for i in range(len(word)):\n",
    "                    if (2*i+1+(i>=4))%len(word) == final_val:\n",
    "                        #print(i)\n",
    "                        val = (final_val-i)%len(word)\n",
    "                #print(final_val, val)\n",
    "                #print(val)\n",
    "                word = word[val:] + word[:val]\n",
    "                #print(word)\n",
    "                continue\n",
    "            val = [int(x) for x in re.findall('\\d+', instruction)][0]\n",
    "            if 'left' in instruction:\n",
    "                val = -val\n",
    "            word = word[val:] + word[:val]\n",
    "            continue\n",
    "        return instruction\n",
    "    return ''.join(word)"
   ]
  },
  {
   "cell_type": "code",
   "execution_count": 552,
   "metadata": {},
   "outputs": [
    {
     "data": {
      "text/plain": [
       "'gcehdbfa'"
      ]
     },
     "execution_count": 552,
     "metadata": {},
     "output_type": "execute_result"
    }
   ],
   "source": [
    "aoc_21b(aoc_input)"
   ]
  },
  {
   "cell_type": "code",
   "execution_count": 553,
   "metadata": {},
   "outputs": [],
   "source": [
    "aoc_input = read_raw_input(22).split('\\n')"
   ]
  },
  {
   "cell_type": "code",
   "execution_count": 592,
   "metadata": {},
   "outputs": [],
   "source": [
    "def aoc_22(nodes):\n",
    "    res = 0\n",
    "    used_list = []\n",
    "    avail_list = []\n",
    "    for node in nodes:\n",
    "        if 'node' in node:\n",
    "            x, y, node_size, used, avail, _ = [int(val) for val in re.findall('\\d+', node)]\n",
    "            #print(x, y, node_size, used, avail)\n",
    "            if used > 0:\n",
    "                used_list.append(used)\n",
    "                if used <= avail:\n",
    "                    res -= 1\n",
    "            avail_list.append(avail)\n",
    "    used_list = sorted(used_list)\n",
    "    avail_list = sorted(avail_list)\n",
    "    idx_used = idx_avail = 0\n",
    "    while idx_used < len(used_list) and idx_avail < len(avail_list):\n",
    "        while idx_used < len(used_list) and used_list[idx_used] <= avail_list[idx_avail]:\n",
    "            idx_used += 1\n",
    "        while idx_avail < len(avail_list) and avail_list[idx_avail] < used_list[idx_used]:\n",
    "            res += idx_used\n",
    "            idx_avail += 1\n",
    "    if idx_used == len(used_list):\n",
    "        res += idx_used\n",
    "    return res"
   ]
  },
  {
   "cell_type": "code",
   "execution_count": 593,
   "metadata": {},
   "outputs": [
    {
     "data": {
      "text/plain": [
       "1020"
      ]
     },
     "execution_count": 593,
     "metadata": {},
     "output_type": "execute_result"
    }
   ],
   "source": [
    "aoc_22(aoc_input)"
   ]
  },
  {
   "cell_type": "code",
   "execution_count": 625,
   "metadata": {},
   "outputs": [],
   "source": [
    "def aoc_22b(nodes):\n",
    "    steps = goal = empty = 0\n",
    "    grid = set()\n",
    "    DIRECTIONS = {1, -1, 1j, -1j}\n",
    "    \n",
    "    for node in nodes:\n",
    "        if 'node' in node:\n",
    "            x, y, node_size, used, avail, _ = [int(val) for val in re.findall('\\d+', node)]\n",
    "            if used == 0:\n",
    "                empty = x + y*1j\n",
    "            if 0 <= used < 100:\n",
    "                grid.add(x + y*1j)\n",
    "    goal = max([node.real for node in grid if node.imag == 0])\n",
    "    \n",
    "    traversed = {(empty, goal)}\n",
    "    paths = [(empty, goal)]\n",
    "    while paths:\n",
    "        steps += 1\n",
    "        new_paths = []\n",
    "        for old_empty, old_goal in paths:\n",
    "            for d in DIRECTIONS:\n",
    "                new_empty = old_empty+d\n",
    "                if new_empty not in grid:\n",
    "                    continue\n",
    "                if new_empty == old_goal:\n",
    "                    new_state = (new_empty, old_empty)\n",
    "                else:\n",
    "                    new_state = (new_empty, old_goal)\n",
    "                if new_state[1] == 0:\n",
    "                    return steps\n",
    "                if new_state not in traversed:\n",
    "                    traversed.add(new_state)\n",
    "                    new_paths.append(new_state)\n",
    "        paths = new_paths\n",
    "    return steps"
   ]
  },
  {
   "cell_type": "code",
   "execution_count": 626,
   "metadata": {},
   "outputs": [
    {
     "data": {
      "text/plain": [
       "198"
      ]
     },
     "execution_count": 626,
     "metadata": {},
     "output_type": "execute_result"
    }
   ],
   "source": [
    "aoc_22b(aoc_input)"
   ]
  },
  {
   "cell_type": "code",
   "execution_count": 727,
   "metadata": {},
   "outputs": [],
   "source": [
    "aoc_input = read_raw_input(23).split('\\n')"
   ]
  },
  {
   "cell_type": "code",
   "execution_count": 729,
   "metadata": {},
   "outputs": [],
   "source": [
    "def aoc_23(instructions):\n",
    "    registers = {'a':7, 'b':0, 'c':0, 'd':0}\n",
    "    idx = 0\n",
    "    toggle = [0]*len(instructions)\n",
    "    TOGGLE_LOOKUP = {'inc':'dec', 'dec':'inc', 'jmp':'inc', 'cpy':'jnz', 'jnz':'cpy'}\n",
    "    while 0 <= idx < len(instructions):\n",
    "        instruction = instructions[idx].split()\n",
    "        vals = []\n",
    "        for val in instruction[1:]:\n",
    "            if val in registers:\n",
    "                vals.append(registers[val])\n",
    "            else:\n",
    "                vals.append(int(val))\n",
    "        #print(instruction)\n",
    "        if toggle[idx] == 1:\n",
    "            if instruction[0] == 'tgl':\n",
    "                instruction = ['inc', 'a']\n",
    "            else:\n",
    "                instruction[0] = TOGGLE_LOOKUP[instruction[0]]\n",
    "            #print('toggled', instruction)\n",
    "            \n",
    "        try:\n",
    "            if instruction[0] == 'tgl':\n",
    "                toggle[idx+vals[0]] = 1-toggle[idx+vals[0]]\n",
    "            if instruction[0] == 'jmp':\n",
    "                idx += vals[0]\n",
    "                continue\n",
    "            if instruction[0] == 'jnz':\n",
    "                if vals[0] != 0:\n",
    "                    idx += vals[1]\n",
    "                    continue\n",
    "            if instruction[0] == 'cpy':\n",
    "                registers[instruction[2]] = vals[0]\n",
    "            if instruction[0] == 'inc':\n",
    "                registers[instruction[1]] += 1\n",
    "            if instruction[0] == 'dec':\n",
    "                registers[instruction[1]] -= 1\n",
    "            idx += 1\n",
    "        except:\n",
    "            idx += 1\n",
    "    return registers['a']"
   ]
  },
  {
   "cell_type": "code",
   "execution_count": 725,
   "metadata": {},
   "outputs": [],
   "source": [
    "aoc_input = '''\n",
    "cpy 2 a\n",
    "tgl a\n",
    "tgl a\n",
    "tgl a\n",
    "cpy 1 a\n",
    "dec a\n",
    "dec a'''.strip().split('\\n')"
   ]
  },
  {
   "cell_type": "code",
   "execution_count": 730,
   "metadata": {
    "scrolled": false
   },
   "outputs": [
    {
     "data": {
      "text/plain": [
       "12492"
      ]
     },
     "execution_count": 730,
     "metadata": {},
     "output_type": "execute_result"
    }
   ],
   "source": [
    "aoc_23(aoc_input)"
   ]
  },
  {
   "cell_type": "code",
   "execution_count": 764,
   "metadata": {},
   "outputs": [],
   "source": [
    "def aoc_23b(instructions, registers={'a':12, 'b':0, 'c':0, 'd':0}):\n",
    "    registers = registers\n",
    "    idx = 0\n",
    "    toggle = [0]*len(instructions)\n",
    "    TOGGLE_LOOKUP = {'inc':'dec', 'dec':'inc', 'jmp':'inc', 'cpy':'jnz', 'jnz':'cpy'}\n",
    "    loop_count = 0\n",
    "    new_d = True\n",
    "    while 0 <= idx < len(instructions):\n",
    "        if new_d and registers['d'] != 0:\n",
    "            print(registers)\n",
    "            new_d = False\n",
    "            print(loop_count)\n",
    "        if registers['d'] == 0:\n",
    "            new_d = True\n",
    "        loop_count += 1\n",
    "        if loop_count % 100000000 == 0:\n",
    "            print(registers)\n",
    "        instruction = instructions[idx].split()\n",
    "        vals = []\n",
    "        for val in instruction[1:]:\n",
    "            if val in registers:\n",
    "                vals.append(registers[val])\n",
    "            else:\n",
    "                vals.append(int(val))\n",
    "        #print(instruction)\n",
    "        if toggle[idx] == 1:\n",
    "            if instruction[0] == 'tgl':\n",
    "                instruction = ['inc', 'a']\n",
    "            else:\n",
    "                instruction[0] = TOGGLE_LOOKUP[instruction[0]]\n",
    "            #print('toggled', instruction)\n",
    "        if 36894 <= loop_count <= 36902:\n",
    "            print(instruction)\n",
    "            print(registers)\n",
    "            \n",
    "        try:\n",
    "            if instruction[0] == 'tgl':\n",
    "                toggle[idx+vals[0]] = 1-toggle[idx+vals[0]]\n",
    "            if instruction[0] == 'jmp':\n",
    "                idx += vals[0]\n",
    "                continue\n",
    "            if instruction[0] == 'jnz':\n",
    "                if vals[0] != 0:\n",
    "                    idx += vals[1]\n",
    "                    continue\n",
    "            if instruction[0] == 'cpy':\n",
    "                registers[instruction[2]] = vals[0]\n",
    "            if instruction[0] == 'inc':\n",
    "                registers[instruction[1]] += 1\n",
    "            if instruction[0] == 'dec':\n",
    "                registers[instruction[1]] -= 1\n",
    "            idx += 1\n",
    "        except:\n",
    "            idx += 1\n",
    "    return registers['a']"
   ]
  },
  {
   "cell_type": "code",
   "execution_count": 771,
   "metadata": {},
   "outputs": [],
   "source": [
    "def aoc_23b_hack(instructions, registers={'a':12, 'b':0, 'c':0, 'd':0}):\n",
    "    return np.prod(range(1, registers['a']+1)) + 81*92"
   ]
  },
  {
   "cell_type": "code",
   "execution_count": 772,
   "metadata": {},
   "outputs": [
    {
     "data": {
      "text/plain": [
       "12492"
      ]
     },
     "execution_count": 772,
     "metadata": {},
     "output_type": "execute_result"
    }
   ],
   "source": [
    "aoc_23b_hack(aoc_input, {'a':7, 'b':0, 'c':0, 'd':0})"
   ]
  },
  {
   "cell_type": "code",
   "execution_count": 773,
   "metadata": {
    "scrolled": true
   },
   "outputs": [
    {
     "data": {
      "text/plain": [
       "479009052"
      ]
     },
     "execution_count": 773,
     "metadata": {},
     "output_type": "execute_result"
    }
   ],
   "source": [
    "aoc_23b_hack(aoc_input)"
   ]
  },
  {
   "cell_type": "code",
   "execution_count": 774,
   "metadata": {},
   "outputs": [],
   "source": [
    "aoc_input = read_raw_input(24).split('\\n')"
   ]
  },
  {
   "cell_type": "code",
   "execution_count": 829,
   "metadata": {},
   "outputs": [],
   "source": [
    "def aoc_24(maze):\n",
    "    grid = set()\n",
    "    points = {}\n",
    "    distances = {}\n",
    "    for i in range(len(maze)):\n",
    "        for j in range(len(maze[0])):\n",
    "            if maze[i][j] == '#':\n",
    "                continue\n",
    "            grid.add(i+j*1j)\n",
    "            if maze[i][j] != '.':\n",
    "                points[i+j*1j] = int(maze[i][j])\n",
    "    \n",
    "    DIRECTIONS = {1, -1, 1j, -1j}\n",
    "    def find_distances(starting_point):\n",
    "        dist = 0\n",
    "        candidates = set([starting_point])\n",
    "        found = 0\n",
    "        traversed = set()\n",
    "        while candidates and found < len(points):\n",
    "            #print(len(candidates))\n",
    "            new_candidates = []\n",
    "            for candidate in candidates:\n",
    "                traversed.add(candidate)\n",
    "                if candidate in points:\n",
    "                    #print('found', point, candidate, points[point], points[candidate])\n",
    "                    distances[(points[starting_point], points[candidate])] = dist\n",
    "                    found += 1\n",
    "                new_candidates += [candidate+d for d in DIRECTIONS if candidate+d in grid \n",
    "                                   and candidate+d not in traversed]\n",
    "                #print(new_candidates)\n",
    "            dist += 1\n",
    "            candidates = set(new_candidates)\n",
    "        \n",
    "    for point in points:\n",
    "        print('starting', points[point])\n",
    "        find_distances(point)\n",
    "        \n",
    "    paths = permutations(range(1, len(points)))\n",
    "    min_distance = len(maze)**5\n",
    "    print(distances)\n",
    "    for path in paths:\n",
    "        res = current_point = 0\n",
    "        for next_point in path:\n",
    "            res += distances[(current_point, next_point)]\n",
    "            current_point = next_point\n",
    "        res += distances[(current_point, 0)]\n",
    "        min_distance = min(min_distance, res)\n",
    "    return min_distance"
   ]
  },
  {
   "cell_type": "code",
   "execution_count": 830,
   "metadata": {},
   "outputs": [
    {
     "name": "stdout",
     "output_type": "stream",
     "text": [
      "starting 4\n",
      "starting 7\n",
      "starting 3\n",
      "starting 6\n",
      "starting 2\n",
      "starting 0\n",
      "starting 5\n",
      "starting 1\n",
      "{(4, 4): 0, (4, 6): 40, (4, 5): 48, (4, 3): 48, (4, 1): 176, (4, 0): 184, (4, 2): 216, (4, 7): 240, (7, 7): 0, (7, 2): 36, (7, 0): 76, (7, 1): 92, (7, 5): 200, (7, 4): 240, (7, 6): 264, (7, 3): 276, (3, 3): 0, (3, 4): 48, (3, 6): 64, (3, 5): 84, (3, 1): 212, (3, 0): 220, (3, 2): 252, (3, 7): 276, (6, 6): 0, (6, 4): 40, (6, 3): 64, (6, 5): 72, (6, 1): 200, (6, 0): 208, (6, 2): 240, (6, 7): 264, (2, 2): 0, (2, 7): 36, (2, 0): 44, (2, 1): 60, (2, 5): 176, (2, 4): 216, (2, 6): 240, (2, 3): 252, (0, 0): 0, (0, 1): 28, (0, 2): 44, (0, 7): 76, (0, 5): 144, (0, 4): 184, (0, 6): 208, (0, 3): 220, (5, 5): 0, (5, 4): 48, (5, 6): 72, (5, 3): 84, (5, 1): 136, (5, 0): 144, (5, 2): 176, (5, 7): 200, (1, 1): 0, (1, 0): 28, (1, 2): 60, (1, 7): 92, (1, 5): 136, (1, 4): 176, (1, 6): 200, (1, 3): 212}\n"
     ]
    },
    {
     "data": {
      "text/plain": [
       "668"
      ]
     },
     "execution_count": 830,
     "metadata": {},
     "output_type": "execute_result"
    }
   ],
   "source": [
    "aoc_24(aoc_input)"
   ]
  },
  {
   "cell_type": "code",
   "execution_count": 837,
   "metadata": {},
   "outputs": [],
   "source": [
    "aoc_input = read_raw_input(25).split('\\n')"
   ]
  },
  {
   "cell_type": "code",
   "execution_count": 846,
   "metadata": {},
   "outputs": [],
   "source": [
    "def aoc_25(instructions):\n",
    "    \n",
    "    def simulate(a=0):\n",
    "        registers = {'a':a, 'b':0, 'c':1, 'd':0}\n",
    "        idx = 0\n",
    "        tick = 0\n",
    "        TICKS=[0, 1]\n",
    "        while 0 <= idx < len(instructions):\n",
    "            if tick > 1000:\n",
    "                return True\n",
    "            instruction = instructions[idx].split()\n",
    "            vals = []\n",
    "            for val in instruction[1:]:\n",
    "                if val in registers:\n",
    "                    vals.append(registers[val])\n",
    "                else:\n",
    "                    vals.append(int(val))\n",
    "            #print(instruction)\n",
    "            #print(registers)\n",
    "            if instruction[0] == 'out':\n",
    "                if vals[0] != TICKS[tick%2]:\n",
    "                    return False\n",
    "                tick += 1\n",
    "            if instruction[0] == 'jmp':\n",
    "                idx += vals[0]\n",
    "                continue\n",
    "            if instruction[0] == 'jnz':\n",
    "                if vals[0] != 0:\n",
    "                    idx += vals[1]\n",
    "                    continue\n",
    "            if instruction[0] == 'cpy':\n",
    "                registers[instruction[2]] = vals[0]\n",
    "            if instruction[0] == 'inc':\n",
    "                registers[instruction[1]] += 1\n",
    "            if instruction[0] == 'dec':\n",
    "                registers[instruction[1]] -= 1\n",
    "            idx += 1\n",
    "        return registers['a']\n",
    "    \n",
    "    res = 0\n",
    "    while not simulate(res):\n",
    "        res += 1\n",
    "    return res"
   ]
  },
  {
   "cell_type": "code",
   "execution_count": 847,
   "metadata": {},
   "outputs": [
    {
     "data": {
      "text/plain": [
       "192"
      ]
     },
     "execution_count": 847,
     "metadata": {},
     "output_type": "execute_result"
    }
   ],
   "source": [
    "aoc_25(aoc_input)"
   ]
  },
  {
   "cell_type": "code",
   "execution_count": null,
   "metadata": {},
   "outputs": [],
   "source": []
  }
 ],
 "metadata": {
  "kernelspec": {
   "display_name": "Python 3",
   "language": "python",
   "name": "python3"
  },
  "language_info": {
   "codemirror_mode": {
    "name": "ipython",
    "version": 3
   },
   "file_extension": ".py",
   "mimetype": "text/x-python",
   "name": "python",
   "nbconvert_exporter": "python",
   "pygments_lexer": "ipython3",
   "version": "3.7.6"
  }
 },
 "nbformat": 4,
 "nbformat_minor": 4
}
