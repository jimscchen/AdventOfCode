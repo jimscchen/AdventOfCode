{
 "cells": [
  {
   "cell_type": "code",
   "execution_count": 808,
   "metadata": {},
   "outputs": [],
   "source": [
    "import numpy as np\n",
    "import pandas as pd\n",
    "\n",
    "from itertools import combinations, permutations\n",
    "import itertools\n",
    "\n",
    "from collections import Counter, defaultdict\n",
    "\n",
    "import re\n",
    "\n",
    "import hashlib"
   ]
  },
  {
   "cell_type": "code",
   "execution_count": 2,
   "metadata": {},
   "outputs": [],
   "source": [
    "def read_raw_input(day):\n",
    "    with open('input_' + str(day)) as inputfile:\n",
    "         return inputfile.read().strip()"
   ]
  },
  {
   "cell_type": "code",
   "execution_count": 3,
   "metadata": {},
   "outputs": [],
   "source": [
    "aoc_input = read_raw_input(1)"
   ]
  },
  {
   "cell_type": "code",
   "execution_count": 4,
   "metadata": {},
   "outputs": [],
   "source": [
    "def aoc_1(x):\n",
    "    y = x[1:]+x[:1]\n",
    "    return sum([int(x[i]) for i in range(len(x)) if x[i] == y[i]])"
   ]
  },
  {
   "cell_type": "code",
   "execution_count": 5,
   "metadata": {},
   "outputs": [
    {
     "data": {
      "text/plain": [
       "995"
      ]
     },
     "execution_count": 5,
     "metadata": {},
     "output_type": "execute_result"
    }
   ],
   "source": [
    "aoc_1(aoc_input)"
   ]
  },
  {
   "cell_type": "code",
   "execution_count": 9,
   "metadata": {},
   "outputs": [],
   "source": [
    "def aoc_1b(x):\n",
    "    LENGTH = len(x)\n",
    "    y = x[int(LENGTH/2):]+x[:int(LENGTH/2)]\n",
    "    return sum([int(x[i]) for i in range(LENGTH) if x[i] == y[i]])"
   ]
  },
  {
   "cell_type": "code",
   "execution_count": 10,
   "metadata": {},
   "outputs": [
    {
     "data": {
      "text/plain": [
       "1130"
      ]
     },
     "execution_count": 10,
     "metadata": {},
     "output_type": "execute_result"
    }
   ],
   "source": [
    "aoc_1b(aoc_input)"
   ]
  },
  {
   "cell_type": "code",
   "execution_count": 30,
   "metadata": {},
   "outputs": [],
   "source": [
    "aoc_input = read_raw_input(2)"
   ]
  },
  {
   "cell_type": "code",
   "execution_count": 39,
   "metadata": {},
   "outputs": [],
   "source": [
    "def aoc_2(sheet):\n",
    "    NUM_ROWS = len(sheet.split('\\n'))\n",
    "    grid = np.array([int(x) for x in re.findall('\\d+', sheet)]).reshape(NUM_ROWS, -1)\n",
    "    res = 0\n",
    "    return sum(np.max(grid, axis=1)) - sum(np.min(grid, axis=1))"
   ]
  },
  {
   "cell_type": "code",
   "execution_count": 40,
   "metadata": {},
   "outputs": [
    {
     "data": {
      "text/plain": [
       "42378"
      ]
     },
     "execution_count": 40,
     "metadata": {},
     "output_type": "execute_result"
    }
   ],
   "source": [
    "aoc_2(aoc_input)"
   ]
  },
  {
   "cell_type": "code",
   "execution_count": 42,
   "metadata": {},
   "outputs": [],
   "source": [
    "def aoc_2b(sheet):\n",
    "    def checksum(row):\n",
    "        row = [int(x) for x in row.split()]\n",
    "        for i in range(len(row)):\n",
    "            for j in range(i+1, len(row)):\n",
    "                if row[i]%row[j] == 0:\n",
    "                    return row[i]/row[j]\n",
    "                if row[j]%row[i] == 0:\n",
    "                    return row[j]/row[i]\n",
    "    return sum([checksum(row) for row in sheet.split('\\n')])"
   ]
  },
  {
   "cell_type": "code",
   "execution_count": 43,
   "metadata": {},
   "outputs": [
    {
     "data": {
      "text/plain": [
       "246.0"
      ]
     },
     "execution_count": 43,
     "metadata": {},
     "output_type": "execute_result"
    }
   ],
   "source": [
    "aoc_2b(aoc_input)"
   ]
  },
  {
   "cell_type": "code",
   "execution_count": 70,
   "metadata": {},
   "outputs": [],
   "source": [
    "aoc_input = 361527"
   ]
  },
  {
   "cell_type": "code",
   "execution_count": 71,
   "metadata": {},
   "outputs": [],
   "source": [
    "def aoc_3(num):\n",
    "    if num == 1:\n",
    "        return 0\n",
    "    ring_size = 0\n",
    "    while (2*ring_size+1)**2 < num:\n",
    "        ring_size += 1\n",
    "    gap = ring_size * 2\n",
    "    points = [(2*ring_size+1)**2 -gap/2-gap*x for x in range(4)]\n",
    "    #print(points)\n",
    "    return ring_size + np.min(np.abs([num-point for point in points]))"
   ]
  },
  {
   "cell_type": "code",
   "execution_count": 73,
   "metadata": {},
   "outputs": [
    {
     "data": {
      "text/plain": [
       "326.0"
      ]
     },
     "execution_count": 73,
     "metadata": {},
     "output_type": "execute_result"
    }
   ],
   "source": [
    "aoc_3(aoc_input)"
   ]
  },
  {
   "cell_type": "code",
   "execution_count": 87,
   "metadata": {},
   "outputs": [],
   "source": [
    "def aoc_3b(num):\n",
    "    grid = defaultdict(int)\n",
    "    grid[0] = 1\n",
    "    corner = 0\n",
    "    DIRECTIONS = [1, -1j, -1, 1j]\n",
    "    MOVE_CORNER = -1+1j\n",
    "    NEIGHBORS = {-1-1j, -1, -1+1j, -1j, 1j, 1-1j, 1, 1+1j}\n",
    "    \n",
    "    def sum_neighbors(coordinate):\n",
    "        return sum([grid[n+coordinate] for n in NEIGHBORS])\n",
    "    \n",
    "    ring_num = 0\n",
    "    while True:\n",
    "        corner += MOVE_CORNER\n",
    "        ring_num += 1\n",
    "        cord = corner\n",
    "        for d in DIRECTIONS:\n",
    "            for _ in range(ring_num*2):\n",
    "                cord += d\n",
    "                val = sum_neighbors(cord)\n",
    "                #print(cord, val)\n",
    "                if val > num:\n",
    "                    return val\n",
    "                grid[cord] = val\n",
    "    return\n"
   ]
  },
  {
   "cell_type": "code",
   "execution_count": 88,
   "metadata": {},
   "outputs": [
    {
     "data": {
      "text/plain": [
       "363010"
      ]
     },
     "execution_count": 88,
     "metadata": {},
     "output_type": "execute_result"
    }
   ],
   "source": [
    "aoc_3b(aoc_input)"
   ]
  },
  {
   "cell_type": "code",
   "execution_count": 89,
   "metadata": {},
   "outputs": [],
   "source": [
    "aoc_input = read_raw_input(4).split('\\n')"
   ]
  },
  {
   "cell_type": "code",
   "execution_count": 90,
   "metadata": {},
   "outputs": [],
   "source": [
    "def aoc_4(passphrases):\n",
    "    def is_valid(phrase):\n",
    "        return len(phrase.split()) == len(set(phrase.split()))\n",
    "    return sum([is_valid(passphrase) for passphrase in passphrases])"
   ]
  },
  {
   "cell_type": "code",
   "execution_count": 91,
   "metadata": {},
   "outputs": [
    {
     "data": {
      "text/plain": [
       "325"
      ]
     },
     "execution_count": 91,
     "metadata": {},
     "output_type": "execute_result"
    }
   ],
   "source": [
    "aoc_4(aoc_input)"
   ]
  },
  {
   "cell_type": "code",
   "execution_count": 95,
   "metadata": {},
   "outputs": [],
   "source": [
    "def aoc_4b(passphrases):\n",
    "    def is_valid(phrase):\n",
    "        counters = []\n",
    "        for token in phrase.split():\n",
    "            counter = Counter(token)\n",
    "            if counter in counters:\n",
    "                return False\n",
    "            counters.append(counter)\n",
    "        return True\n",
    "    return sum([is_valid(passphrase) for passphrase in passphrases])"
   ]
  },
  {
   "cell_type": "code",
   "execution_count": 96,
   "metadata": {},
   "outputs": [
    {
     "data": {
      "text/plain": [
       "119"
      ]
     },
     "execution_count": 96,
     "metadata": {},
     "output_type": "execute_result"
    }
   ],
   "source": [
    "aoc_4b(aoc_input)"
   ]
  },
  {
   "cell_type": "code",
   "execution_count": 113,
   "metadata": {},
   "outputs": [],
   "source": [
    "aoc_input = [int(x) for x in read_raw_input(5).split('\\n')]"
   ]
  },
  {
   "cell_type": "code",
   "execution_count": 100,
   "metadata": {},
   "outputs": [],
   "source": [
    "def aoc_5(instructions):\n",
    "    idx = 0\n",
    "    cycle = 0\n",
    "    while idx < len(instructions):\n",
    "        cycle += 1\n",
    "        instructions[idx] += 1\n",
    "        idx += instructions[idx]-1\n",
    "    return cycle"
   ]
  },
  {
   "cell_type": "code",
   "execution_count": 101,
   "metadata": {},
   "outputs": [
    {
     "data": {
      "text/plain": [
       "355965"
      ]
     },
     "execution_count": 101,
     "metadata": {},
     "output_type": "execute_result"
    }
   ],
   "source": [
    "aoc_5(aoc_input)"
   ]
  },
  {
   "cell_type": "code",
   "execution_count": 114,
   "metadata": {},
   "outputs": [],
   "source": [
    "def aoc_5b(instructions):\n",
    "    idx = 0\n",
    "    cycle = 0\n",
    "    while idx < len(instructions):\n",
    "        cycle += 1\n",
    "        offset = instructions[idx]\n",
    "        new_offset = offset-1 if offset >= 3 else offset+1\n",
    "        new_idx = offset+idx\n",
    "        instructions[idx] = new_offset\n",
    "        idx = new_idx\n",
    "    return cycle"
   ]
  },
  {
   "cell_type": "code",
   "execution_count": 115,
   "metadata": {},
   "outputs": [
    {
     "data": {
      "text/plain": [
       "26948068"
      ]
     },
     "execution_count": 115,
     "metadata": {},
     "output_type": "execute_result"
    }
   ],
   "source": [
    "aoc_5b(aoc_input)"
   ]
  },
  {
   "cell_type": "code",
   "execution_count": 127,
   "metadata": {},
   "outputs": [],
   "source": [
    "aoc_input = [int(x) for x in read_raw_input(6).split()]"
   ]
  },
  {
   "cell_type": "code",
   "execution_count": 171,
   "metadata": {},
   "outputs": [],
   "source": [
    "def aoc_6(aoc_input):\n",
    "    def update_state(state):\n",
    "        #print(state)\n",
    "        candidate = np.argmax(state)\n",
    "        val, remainder = divmod(state[candidate], len(state))\n",
    "        res = [x if i != candidate else 0 for i, x in enumerate(state)]\n",
    "        return tuple([x+ val + ((i-candidate-1)%len(state) < remainder) \n",
    "                      for i, x in enumerate(res)])\n",
    "    \n",
    "    previous_states = set()\n",
    "    steps = 0\n",
    "    state = tuple(aoc_input)\n",
    "    #return update_state(state)\n",
    "    while state not in previous_states:\n",
    "        previous_states.add(state)\n",
    "        state = update_state(state)\n",
    "        steps += 1\n",
    "    return steps\n",
    "        "
   ]
  },
  {
   "cell_type": "code",
   "execution_count": 172,
   "metadata": {},
   "outputs": [
    {
     "data": {
      "text/plain": [
       "4074"
      ]
     },
     "execution_count": 172,
     "metadata": {},
     "output_type": "execute_result"
    }
   ],
   "source": [
    "aoc_6(aoc_input)"
   ]
  },
  {
   "cell_type": "code",
   "execution_count": 176,
   "metadata": {},
   "outputs": [],
   "source": [
    "def aoc_6b(aoc_input):\n",
    "    def update_state(state):\n",
    "        #print(state)\n",
    "        candidate = np.argmax(state)\n",
    "        val, remainder = divmod(state[candidate], len(state))\n",
    "        res = [x if i != candidate else 0 for i, x in enumerate(state)]\n",
    "        return tuple([x+ val + ((i-candidate-1)%len(state) < remainder) \n",
    "                      for i, x in enumerate(res)])\n",
    "    \n",
    "    previous_states = defaultdict(int)\n",
    "    state = tuple(aoc_input)\n",
    "    while previous_states[state] != 2:\n",
    "        previous_states[state] += 1\n",
    "        state = update_state(state)\n",
    "        \n",
    "    return len([1 for k, v in previous_states.items() if v == 2])"
   ]
  },
  {
   "cell_type": "code",
   "execution_count": 177,
   "metadata": {},
   "outputs": [
    {
     "data": {
      "text/plain": [
       "2793"
      ]
     },
     "execution_count": 177,
     "metadata": {},
     "output_type": "execute_result"
    }
   ],
   "source": [
    "aoc_6b(aoc_input)"
   ]
  },
  {
   "cell_type": "code",
   "execution_count": 178,
   "metadata": {},
   "outputs": [],
   "source": [
    "aoc_input = read_raw_input(7).split('\\n')"
   ]
  },
  {
   "cell_type": "code",
   "execution_count": 181,
   "metadata": {},
   "outputs": [],
   "source": [
    "def aoc_7(programs):\n",
    "    parents = set()\n",
    "    children = set()\n",
    "    for program in programs:\n",
    "        relations = re.findall('\\w+', program)\n",
    "        parents.add(relations[0])\n",
    "        children = children.union(set(relations[1:]))\n",
    "    return (parents-children).pop()"
   ]
  },
  {
   "cell_type": "code",
   "execution_count": 182,
   "metadata": {},
   "outputs": [
    {
     "data": {
      "text/plain": [
       "'dgoocsw'"
      ]
     },
     "execution_count": 182,
     "metadata": {},
     "output_type": "execute_result"
    }
   ],
   "source": [
    "aoc_7(aoc_input)"
   ]
  },
  {
   "cell_type": "code",
   "execution_count": 252,
   "metadata": {},
   "outputs": [],
   "source": [
    "def aoc_7b(programs):\n",
    "    HEAD='dgoocsw'\n",
    "    program_structure = defaultdict(list)\n",
    "    program_weights = {}\n",
    "    program_info = {}\n",
    "    for program in programs:\n",
    "        relations = re.findall('\\w+', program)\n",
    "        program_info[relations[0]] = int(relations[1])\n",
    "        if len(relations) > 2:\n",
    "            program_structure[relations[0]] = tuple(relations[2:])\n",
    "    \n",
    "    def get_weights(program):\n",
    "        res = program_info[program]\n",
    "        for sub_program in program_structure[program]:\n",
    "            sub_weight = get_weights(sub_program)\n",
    "            res += sub_weight\n",
    "            program_weights[program] = res\n",
    "        return res\n",
    "    \n",
    "    def find_anomaly(program, offset=0):\n",
    "        res = defaultdict(list)\n",
    "        for sub_program in program_structure[program]:\n",
    "            res[program_weights[sub_program]].append(sub_program)\n",
    "        if len(res) <= 1 and offset != 0:\n",
    "            return program_info[program]-offset\n",
    "        \n",
    "        tmp = list(res.items())\n",
    "        if len(tmp[0][1]) == 1:\n",
    "            diff = tmp[0][0] - tmp[1][0]\n",
    "            return find_anomaly(tmp[0][1][0], diff)\n",
    "        else:\n",
    "            diff = tmp[1][0] - tmp[0][0]\n",
    "            return find_anomaly(tmp[1][1][0], diff)\n",
    "        \n",
    "        \n",
    "    get_weights(HEAD)\n",
    "    return find_anomaly(HEAD)\n",
    "    "
   ]
  },
  {
   "cell_type": "code",
   "execution_count": 253,
   "metadata": {},
   "outputs": [
    {
     "data": {
      "text/plain": [
       "1275"
      ]
     },
     "execution_count": 253,
     "metadata": {},
     "output_type": "execute_result"
    }
   ],
   "source": [
    "aoc_7b(aoc_input)"
   ]
  },
  {
   "cell_type": "code",
   "execution_count": 254,
   "metadata": {},
   "outputs": [],
   "source": [
    "aoc_input = read_raw_input(8).split('\\n')"
   ]
  },
  {
   "cell_type": "code",
   "execution_count": 257,
   "metadata": {},
   "outputs": [],
   "source": [
    "def aoc_8(instructions):\n",
    "    registers = defaultdict(int)\n",
    "    LOOKUP = {'inc':1, 'dec':-1}\n",
    "    \n",
    "    for instruction in instructions:\n",
    "        vals = instruction.split()\n",
    "        if eval(str(registers[vals[4]])+vals[5]+vals[6]):\n",
    "            registers[vals[0]] += LOOKUP[vals[1]] * int(vals[2])\n",
    "    return max(registers.values())"
   ]
  },
  {
   "cell_type": "code",
   "execution_count": 258,
   "metadata": {},
   "outputs": [
    {
     "data": {
      "text/plain": [
       "6012"
      ]
     },
     "execution_count": 258,
     "metadata": {},
     "output_type": "execute_result"
    }
   ],
   "source": [
    "aoc_8(aoc_input)"
   ]
  },
  {
   "cell_type": "code",
   "execution_count": 262,
   "metadata": {},
   "outputs": [],
   "source": [
    "def aoc_8b(instructions):\n",
    "    registers = defaultdict(int)\n",
    "    LOOKUP = {'inc':1, 'dec':-1}\n",
    "    \n",
    "    max_val = 0\n",
    "    for instruction in instructions:\n",
    "        vals = instruction.split()\n",
    "        if eval(str(registers[vals[4]])+vals[5]+vals[6]):\n",
    "            registers[vals[0]] += LOOKUP[vals[1]] * int(vals[2])\n",
    "            max_val = max(max_val, registers[vals[0]])\n",
    "    return max_val"
   ]
  },
  {
   "cell_type": "code",
   "execution_count": 263,
   "metadata": {},
   "outputs": [
    {
     "data": {
      "text/plain": [
       "6369"
      ]
     },
     "execution_count": 263,
     "metadata": {},
     "output_type": "execute_result"
    }
   ],
   "source": [
    "aoc_8b(aoc_input)"
   ]
  },
  {
   "cell_type": "code",
   "execution_count": 264,
   "metadata": {},
   "outputs": [],
   "source": [
    "aoc_input = read_raw_input(9)"
   ]
  },
  {
   "cell_type": "code",
   "execution_count": 277,
   "metadata": {},
   "outputs": [],
   "source": [
    "def aoc_9(brackets):\n",
    "    brackets = re.sub(r'!.', '', brackets)\n",
    "    brackets = re.sub(r'<[^>]+>', '', brackets)\n",
    "    res = 0\n",
    "    depth = 0\n",
    "    for c in brackets:\n",
    "        if c == '{':\n",
    "            depth += 1\n",
    "        if c == '}':\n",
    "            res += depth\n",
    "            depth -= 1\n",
    "    return res"
   ]
  },
  {
   "cell_type": "code",
   "execution_count": 278,
   "metadata": {},
   "outputs": [
    {
     "data": {
      "text/plain": [
       "7640"
      ]
     },
     "execution_count": 278,
     "metadata": {},
     "output_type": "execute_result"
    }
   ],
   "source": [
    "aoc_9(aoc_input)"
   ]
  },
  {
   "cell_type": "code",
   "execution_count": 279,
   "metadata": {},
   "outputs": [],
   "source": [
    "def aoc_9b(brackets):\n",
    "    brackets = re.sub(r'!.', '', brackets)\n",
    "    original_len = len(brackets)\n",
    "    num_brackets = len(re.findall(r'<[^>]+>', brackets))\n",
    "    removed_len = len(re.sub(r'<[^>]+>', '', brackets))\n",
    "    return original_len-removed_len-2*num_brackets"
   ]
  },
  {
   "cell_type": "code",
   "execution_count": 280,
   "metadata": {},
   "outputs": [
    {
     "data": {
      "text/plain": [
       "4368"
      ]
     },
     "execution_count": 280,
     "metadata": {},
     "output_type": "execute_result"
    }
   ],
   "source": [
    "aoc_9b(aoc_input)"
   ]
  },
  {
   "cell_type": "code",
   "execution_count": 281,
   "metadata": {},
   "outputs": [],
   "source": [
    "aoc_input = [189,1,111,246,254,2,0,120,215,93,255,50,84,15,94,62]"
   ]
  },
  {
   "cell_type": "code",
   "execution_count": 299,
   "metadata": {},
   "outputs": [],
   "source": [
    "def aoc_10(segs, size=256):\n",
    "    res = list(range(size))\n",
    "    cur = 0\n",
    "    skip = 0\n",
    "    for seg in segs:\n",
    "        #print(res)\n",
    "        for i in range(seg//2):\n",
    "            res[(cur+i)%size], res[(cur+seg-i-1)%size] = res[(cur+seg-i-1)%size], res[(cur+i)%size]\n",
    "        cur = (cur+seg+skip) % size\n",
    "        skip += 1\n",
    "    return res[0]*res[1]"
   ]
  },
  {
   "cell_type": "code",
   "execution_count": 300,
   "metadata": {},
   "outputs": [
    {
     "data": {
      "text/plain": [
       "38415"
      ]
     },
     "execution_count": 300,
     "metadata": {},
     "output_type": "execute_result"
    }
   ],
   "source": [
    "aoc_10(aoc_input)"
   ]
  },
  {
   "cell_type": "code",
   "execution_count": 489,
   "metadata": {},
   "outputs": [],
   "source": [
    "aoc_input='189,1,111,246,254,2,0,120,215,93,255,50,84,15,94,62'"
   ]
  },
  {
   "cell_type": "code",
   "execution_count": 501,
   "metadata": {},
   "outputs": [],
   "source": [
    "def aoc_10b(ascii_input, size=256, extra=[17, 31, 73, 47, 23]):\n",
    "    segs = []\n",
    "    for c in ascii_input:\n",
    "        segs.append(ord(c))\n",
    "    segs += extra\n",
    "    res = list(range(size))\n",
    "    cur = 0\n",
    "    skip = 0\n",
    "    for _ in range(64):\n",
    "        for seg in segs:\n",
    "            #print(res)\n",
    "            for i in range(seg//2):\n",
    "                res[(cur+i)%size], res[(cur+seg-i-1)%size] = res[(cur+seg-i-1)%size], res[(cur+i)%size]\n",
    "            cur = (cur+seg+skip) % size\n",
    "            skip += 1\n",
    "    def gethash(nums):\n",
    "        res = nums[0]\n",
    "        for num in nums[1:]:\n",
    "            res ^= num\n",
    "        res = hex(res)[2:]\n",
    "        if len(res) == 1:\n",
    "            res = '0'+res\n",
    "        return res\n",
    "    i = 0\n",
    "    hashstring = ''\n",
    "    while i < size:\n",
    "        hashstring += gethash(res[i:i+16])\n",
    "        i += 16\n",
    "    return hashstring"
   ]
  },
  {
   "cell_type": "code",
   "execution_count": 502,
   "metadata": {},
   "outputs": [
    {
     "data": {
      "text/plain": [
       "'b141c51086502d56e9a27ccb5806fed4'"
      ]
     },
     "execution_count": 502,
     "metadata": {},
     "output_type": "execute_result"
    }
   ],
   "source": [
    "aoc_10b(aoc_input, extra=[])"
   ]
  },
  {
   "cell_type": "code",
   "execution_count": 327,
   "metadata": {},
   "outputs": [],
   "source": [
    "aoc_input = read_raw_input(11).split(',')"
   ]
  },
  {
   "cell_type": "code",
   "execution_count": 338,
   "metadata": {},
   "outputs": [],
   "source": [
    "def aoc_11(directions):\n",
    "    DIRECTIONS = {'nw':0.5-1j, 'sw':-0.5-1j, 'n':1, 's':-1, 'ne':0.5+1j, 'se':-0.5+1j}\n",
    "    final_cord = sum([DIRECTIONS[move] for move in directions])\n",
    "    return abs(final_cord.imag) + max(0, abs(final_cord.real) - abs(final_cord.imag)/2 )"
   ]
  },
  {
   "cell_type": "code",
   "execution_count": 339,
   "metadata": {},
   "outputs": [
    {
     "data": {
      "text/plain": [
       "670.0"
      ]
     },
     "execution_count": 339,
     "metadata": {},
     "output_type": "execute_result"
    }
   ],
   "source": [
    "aoc_11(aoc_input)"
   ]
  },
  {
   "cell_type": "code",
   "execution_count": 342,
   "metadata": {},
   "outputs": [],
   "source": [
    "def aoc_11b(directions):\n",
    "    max_dist = 0\n",
    "    cord = 0\n",
    "    DIRECTIONS = {'nw':0.5-1j, 'sw':-0.5-1j, 'n':1, 's':-1, 'ne':0.5+1j, 'se':-0.5+1j}\n",
    "    for d in directions:\n",
    "        cord += DIRECTIONS[d]\n",
    "        max_dist = max(max_dist, abs(cord.imag) + max(0, abs(cord.real) - abs(cord.imag)/2 ))\n",
    "    return max_dist"
   ]
  },
  {
   "cell_type": "code",
   "execution_count": 343,
   "metadata": {},
   "outputs": [
    {
     "data": {
      "text/plain": [
       "1426.0"
      ]
     },
     "execution_count": 343,
     "metadata": {},
     "output_type": "execute_result"
    }
   ],
   "source": [
    "aoc_11b(aoc_input)"
   ]
  },
  {
   "cell_type": "code",
   "execution_count": 344,
   "metadata": {},
   "outputs": [],
   "source": [
    "aoc_input = read_raw_input(12).split('\\n')"
   ]
  },
  {
   "cell_type": "code",
   "execution_count": 345,
   "metadata": {},
   "outputs": [],
   "source": [
    "def aoc_12(program_relations):\n",
    "    relations = defaultdict(list)\n",
    "    for program_relation in program_relations:\n",
    "        r = re.findall('\\d+', program_relation)\n",
    "        for program in r[1:]:\n",
    "            relations[r[0]].append(program)\n",
    "            relations[program].append(r[0])\n",
    "    \n",
    "    def find_group(program='0'):\n",
    "        traversed = set()\n",
    "        candidates = set([program])\n",
    "        while candidates:\n",
    "            new_candidates = []\n",
    "            for candidate in candidates:\n",
    "                traversed.add(candidate)\n",
    "                new_candidates += relations[candidate]\n",
    "            candidates = set(new_candidates) - traversed\n",
    "        return len(traversed)\n",
    "    \n",
    "    return find_group()"
   ]
  },
  {
   "cell_type": "code",
   "execution_count": 346,
   "metadata": {},
   "outputs": [
    {
     "data": {
      "text/plain": [
       "141"
      ]
     },
     "execution_count": 346,
     "metadata": {},
     "output_type": "execute_result"
    }
   ],
   "source": [
    "aoc_12(aoc_input)"
   ]
  },
  {
   "cell_type": "code",
   "execution_count": 351,
   "metadata": {},
   "outputs": [],
   "source": [
    "def aoc_12b(program_relations):\n",
    "    relations = defaultdict(list)\n",
    "    for program_relation in program_relations:\n",
    "        r = re.findall('\\d+', program_relation)\n",
    "        for program in r[1:]:\n",
    "            relations[r[0]].append(program)\n",
    "            relations[program].append(r[0])\n",
    "    \n",
    "    traversed = set()\n",
    "    remaining = set(relations.keys())\n",
    "    def find_group(program='0'):\n",
    "        candidates = set([program])\n",
    "        while candidates:\n",
    "            new_candidates = []\n",
    "            for candidate in candidates:\n",
    "                traversed.add(candidate)\n",
    "                new_candidates += relations[candidate]\n",
    "            candidates = set(new_candidates) - traversed\n",
    "        return len(traversed)\n",
    "    \n",
    "    num_groups = 0\n",
    "    while remaining:\n",
    "        num_groups += 1\n",
    "        find_group(remaining.pop())\n",
    "        remaining = remaining - traversed\n",
    "    return num_groups"
   ]
  },
  {
   "cell_type": "code",
   "execution_count": 352,
   "metadata": {},
   "outputs": [
    {
     "data": {
      "text/plain": [
       "171"
      ]
     },
     "execution_count": 352,
     "metadata": {},
     "output_type": "execute_result"
    }
   ],
   "source": [
    "aoc_12b(aoc_input)"
   ]
  },
  {
   "cell_type": "code",
   "execution_count": 353,
   "metadata": {},
   "outputs": [],
   "source": [
    "aoc_input = read_raw_input(13).split('\\n')"
   ]
  },
  {
   "cell_type": "code",
   "execution_count": 464,
   "metadata": {},
   "outputs": [],
   "source": [
    "def aoc_13(brackets):\n",
    "    res = 0\n",
    "    for bracket in brackets:\n",
    "        dist, width = [int(x) for x in re.findall('\\d+', bracket)]\n",
    "        if dist%(2*(width-1)) == 0:\n",
    "            res += dist*width\n",
    "    return res"
   ]
  },
  {
   "cell_type": "code",
   "execution_count": 465,
   "metadata": {},
   "outputs": [
    {
     "data": {
      "text/plain": [
       "3184"
      ]
     },
     "execution_count": 465,
     "metadata": {},
     "output_type": "execute_result"
    }
   ],
   "source": [
    "aoc_13(aoc_input)"
   ]
  },
  {
   "cell_type": "code",
   "execution_count": 462,
   "metadata": {},
   "outputs": [],
   "source": [
    "def aoc_13b(brackets):\n",
    "    res = lcm = 1\n",
    "    bracket_data = defaultdict(list)\n",
    "    for bracket in brackets:\n",
    "        dist, width = [int(x) for x in re.findall('\\d+', bracket)]\n",
    "        bracket_data[2*(width-1)].append((-dist)%(2*(width-1)))\n",
    "        \n",
    "    def gen_candidates(a, b, valid_a, valid_b):\n",
    "        lcm = np.lcm(a, b)\n",
    "        new_candidates = [x+a*i for x in valid_a for i in range(int(lcm/a))\n",
    "                         if (x+a*i)%b in valid_b]\n",
    "        return lcm, new_candidates\n",
    "    \n",
    "    res = 1\n",
    "    valid = [0]\n",
    "    for width, invalid in bracket_data.items():\n",
    "        res, valid = gen_candidates(res, width, \n",
    "                                    valid, [x for x in range(width) if x not in invalid])\n",
    "    return min(valid)"
   ]
  },
  {
   "cell_type": "code",
   "execution_count": 463,
   "metadata": {},
   "outputs": [
    {
     "data": {
      "text/plain": [
       "3878062"
      ]
     },
     "execution_count": 463,
     "metadata": {},
     "output_type": "execute_result"
    }
   ],
   "source": [
    "aoc_13b(aoc_input)"
   ]
  },
  {
   "cell_type": "code",
   "execution_count": 492,
   "metadata": {},
   "outputs": [],
   "source": [
    "aoc_input = 'jxqlasbh'"
   ]
  },
  {
   "cell_type": "code",
   "execution_count": 528,
   "metadata": {},
   "outputs": [],
   "source": [
    "def aoc_14(hashkey):\n",
    "    res = 0\n",
    "    for i in range(128):\n",
    "        res += bin(int(aoc_10b(hashkey+'-' + str(i)), 16)).count('1')\n",
    "    return res"
   ]
  },
  {
   "cell_type": "code",
   "execution_count": 529,
   "metadata": {},
   "outputs": [
    {
     "data": {
      "text/plain": [
       "8140"
      ]
     },
     "execution_count": 529,
     "metadata": {},
     "output_type": "execute_result"
    }
   ],
   "source": [
    "aoc_14(aoc_input)"
   ]
  },
  {
   "cell_type": "code",
   "execution_count": 534,
   "metadata": {},
   "outputs": [],
   "source": [
    "def aoc_14b(hashkey):\n",
    "    DIRECTIONS = {1, -1, 1j, -1j}\n",
    "    grid = set()\n",
    "    num_groups = 0\n",
    "    for i in range(128):\n",
    "        hashstring = bin(int(aoc_10b(hashkey+'-' + str(i)), 16))\n",
    "        for j, c in enumerate(hashstring[::-1]):\n",
    "            if c =='1':\n",
    "                grid.add(i+j*1j)\n",
    "    while grid:\n",
    "        num_groups += 1\n",
    "        points = set([grid.pop()])\n",
    "        traversed = set()\n",
    "        while points:\n",
    "            new_points = set()\n",
    "            for point in points:\n",
    "                traversed.add(point)\n",
    "                new_points = new_points.union({point+d for d in DIRECTIONS \n",
    "                                               if point+d in grid and point+d not in traversed})\n",
    "            points = new_points\n",
    "        grid = grid-traversed\n",
    "    return num_groups"
   ]
  },
  {
   "cell_type": "code",
   "execution_count": 535,
   "metadata": {},
   "outputs": [
    {
     "data": {
      "text/plain": [
       "1182"
      ]
     },
     "execution_count": 535,
     "metadata": {},
     "output_type": "execute_result"
    }
   ],
   "source": [
    "aoc_14b(aoc_input)"
   ]
  },
  {
   "cell_type": "code",
   "execution_count": 560,
   "metadata": {},
   "outputs": [],
   "source": [
    "def aoc_15(a=277, b=349, factor_a=16807, factor_b=48271):\n",
    "    MOD = 2147483647\n",
    "    res = 0\n",
    "    for _ in range(40000000):\n",
    "        a = (a*factor_a) % MOD\n",
    "        b = (b*factor_b) % MOD\n",
    "        res += (a & (2**16-1)) == (b & (2**16-1))\n",
    "    return res"
   ]
  },
  {
   "cell_type": "code",
   "execution_count": 561,
   "metadata": {},
   "outputs": [
    {
     "data": {
      "text/plain": [
       "592"
      ]
     },
     "execution_count": 561,
     "metadata": {},
     "output_type": "execute_result"
    }
   ],
   "source": [
    "aoc_15()"
   ]
  },
  {
   "cell_type": "code",
   "execution_count": 566,
   "metadata": {},
   "outputs": [],
   "source": [
    "def aoc_15b(a=277, b=349, factor_a=16807, factor_b=48271):\n",
    "    MOD = 2147483647\n",
    "    res = 0\n",
    "    for _ in range(5000000):\n",
    "        while a%4 != 0:\n",
    "            a = (a*factor_a) % MOD\n",
    "        while b%8 != 0:\n",
    "            b = (b*factor_b) % MOD\n",
    "        res += (a & (2**16-1)) == (b & (2**16-1))\n",
    "        a = (a*factor_a) % MOD\n",
    "        b = (b*factor_b) % MOD\n",
    "    return res"
   ]
  },
  {
   "cell_type": "code",
   "execution_count": 567,
   "metadata": {},
   "outputs": [
    {
     "data": {
      "text/plain": [
       "320"
      ]
     },
     "execution_count": 567,
     "metadata": {},
     "output_type": "execute_result"
    }
   ],
   "source": [
    "aoc_15b()"
   ]
  },
  {
   "cell_type": "code",
   "execution_count": 568,
   "metadata": {},
   "outputs": [],
   "source": [
    "aoc_input = read_raw_input(16).split(',')"
   ]
  },
  {
   "cell_type": "code",
   "execution_count": 665,
   "metadata": {},
   "outputs": [],
   "source": [
    "def aoc_16(dances, position='abcdefghijklmnop'):\n",
    "    res = list(position)\n",
    "    for dance in dances:\n",
    "        vals = [int(x) for x in re.findall('\\d+', dance)]\n",
    "        if dance[0] == 'x':\n",
    "            res[vals[1]], res[vals[0]] = res[vals[0]], res[vals[1]]\n",
    "        if dance[0] == 'p':\n",
    "            idx1 = res.index(dance[1])\n",
    "            idx2 = res.index(dance[3])\n",
    "            res[idx1], res[idx2] = res[idx2], res[idx1]\n",
    "        if dance[0] == 's':\n",
    "            res = res[-vals[0]:] + res[:-vals[0]]\n",
    "        \n",
    "    return ''.join(res)"
   ]
  },
  {
   "cell_type": "code",
   "execution_count": 666,
   "metadata": {},
   "outputs": [
    {
     "data": {
      "text/plain": [
       "'olgejankfhbmpidc'"
      ]
     },
     "execution_count": 666,
     "metadata": {},
     "output_type": "execute_result"
    }
   ],
   "source": [
    "aoc_16(aoc_input)"
   ]
  },
  {
   "cell_type": "code",
   "execution_count": 669,
   "metadata": {},
   "outputs": [],
   "source": [
    "def aoc_16b(dances, position='abcdefghijklmnop'):\n",
    "    state = set()\n",
    "    res = position\n",
    "    \n",
    "    i = 1000000000\n",
    "    while i > 0:\n",
    "        if i > len(state) and ''.join(res) in state:\n",
    "            i = i% len(state)\n",
    "        state.add(res)\n",
    "        res = aoc_16(dances, res)\n",
    "        i -= 1\n",
    "        \n",
    "    return res"
   ]
  },
  {
   "cell_type": "code",
   "execution_count": 670,
   "metadata": {},
   "outputs": [
    {
     "data": {
      "text/plain": [
       "'gfabehpdojkcimnl'"
      ]
     },
     "execution_count": 670,
     "metadata": {},
     "output_type": "execute_result"
    }
   ],
   "source": [
    "aoc_16b(aoc_input)"
   ]
  },
  {
   "cell_type": "code",
   "execution_count": 671,
   "metadata": {},
   "outputs": [],
   "source": [
    "aoc_input = 345"
   ]
  },
  {
   "cell_type": "code",
   "execution_count": 687,
   "metadata": {},
   "outputs": [],
   "source": [
    "def aoc_17(spin):\n",
    "    res = {0:(0, 0)}\n",
    "    cur = 0\n",
    "    for i in range(1, 2018):\n",
    "        for _ in range(spin):\n",
    "            cur = res[cur][1]\n",
    "        nxt = res[cur][1]\n",
    "        res[i] = (cur, nxt)\n",
    "        res[nxt] = (i, res[nxt][1])\n",
    "        res[cur] = (res[cur][0], i)\n",
    "        cur = i\n",
    "        #print(res)\n",
    "    return res[2017][1]"
   ]
  },
  {
   "cell_type": "code",
   "execution_count": 688,
   "metadata": {},
   "outputs": [
    {
     "data": {
      "text/plain": [
       "866"
      ]
     },
     "execution_count": 688,
     "metadata": {},
     "output_type": "execute_result"
    }
   ],
   "source": [
    "aoc_17(aoc_input)"
   ]
  },
  {
   "cell_type": "code",
   "execution_count": 797,
   "metadata": {},
   "outputs": [],
   "source": [
    "def aoc_17b(spin):\n",
    "    num_nodes = 1\n",
    "    mod = 0\n",
    "    res = 0\n",
    "    while num_nodes <= 50000000:\n",
    "        #print(num_nodes, mod)\n",
    "        if num_nodes <= spin:\n",
    "            mod = (mod+spin)%num_nodes\n",
    "            num_nodes += 1\n",
    "            if mod == 0:\n",
    "                print(num_nodes-1, 'early found')\n",
    "                res = num_nodes-1\n",
    "            mod += 1\n",
    "            #print(i, num_nodes, 'position', mod)\n",
    "        else:\n",
    "            inserts, remainder = divmod(num_nodes-mod, spin)\n",
    "            #print('insert', num_nodes, inserts, mod, remainder)\n",
    "            mod = (spin*inserts + mod + spin*int(remainder>0)) % num_nodes\n",
    "            num_nodes += inserts+int(remainder>0)\n",
    "            if mod == 0:\n",
    "                print(num_nodes-1, 'late found')\n",
    "                res = num_nodes-1\n",
    "            mod += 1\n",
    "            #print(i, num_nodes, 'position', mod)\n",
    "        #print(num_nodes, mod, inserts)\n",
    "    return res"
   ]
  },
  {
   "cell_type": "code",
   "execution_count": 799,
   "metadata": {},
   "outputs": [
    {
     "name": "stdout",
     "output_type": "stream",
     "text": [
      "1 early found\n",
      "2 early found\n",
      "12 early found\n",
      "55 early found\n",
      "20528 late found\n",
      "25653 late found\n",
      "78179 late found\n",
      "983945 late found\n",
      "1033570 late found\n",
      "1745250 late found\n",
      "11995607 late found\n"
     ]
    },
    {
     "data": {
      "text/plain": [
       "11995607"
      ]
     },
     "execution_count": 799,
     "metadata": {},
     "output_type": "execute_result"
    }
   ],
   "source": [
    "aoc_17b(aoc_input)"
   ]
  },
  {
   "cell_type": "code",
   "execution_count": 1175,
   "metadata": {},
   "outputs": [],
   "source": [
    "aoc_input = read_raw_input(18).split('\\n')"
   ]
  },
  {
   "cell_type": "code",
   "execution_count": 1176,
   "metadata": {},
   "outputs": [],
   "source": [
    "def aoc_18(commands):\n",
    "    registers = defaultdict(int)\n",
    "    last_rcv = 0\n",
    "    idx = 0\n",
    "    while idx < len(commands):\n",
    "        command = commands[idx]\n",
    "        vals = [int(x) for x in re.findall('-*\\d+', command)]\n",
    "        command = command.split()\n",
    "        if vals:\n",
    "            val = vals[0]\n",
    "        else:\n",
    "            val = registers[command[-1]]\n",
    "        if command[0] == 'jgz':\n",
    "            if registers[command[1]] > 0:\n",
    "                idx += val\n",
    "                continue\n",
    "        if command[0] == 'set':\n",
    "            registers[command[1]] = val\n",
    "        if command[0] == 'snd':\n",
    "            last_rcv = registers[command[1]]\n",
    "        if command[0] == 'add':\n",
    "            registers[command[1]] += val\n",
    "        if command[0] == 'mul':\n",
    "            registers[command[1]] *= val\n",
    "        if command[0] == 'mod':\n",
    "            registers[command[1]] = registers[command[1]] % val\n",
    "        if command[0] == 'rcv':\n",
    "            return last_rcv\n",
    "        idx += 1\n",
    "        \n",
    "        \n",
    "    return last_rcv"
   ]
  },
  {
   "cell_type": "code",
   "execution_count": 1177,
   "metadata": {},
   "outputs": [
    {
     "data": {
      "text/plain": [
       "2951"
      ]
     },
     "execution_count": 1177,
     "metadata": {},
     "output_type": "execute_result"
    }
   ],
   "source": [
    "aoc_18(aoc_input)"
   ]
  },
  {
   "cell_type": "code",
   "execution_count": 1223,
   "metadata": {},
   "outputs": [],
   "source": [
    "def aoc_18b(commands):\n",
    "    global_registers = [defaultdict(int), defaultdict(int)]\n",
    "    global_registers[0]['p'] = 0\n",
    "    global_registers[1]['p'] = 1\n",
    "    receive_queue = [[], []]\n",
    "    #receive_queue[1] = [31]*200\n",
    "    idx0 = idx1 = 0\n",
    "    global_counter = [0]\n",
    "    res = 0\n",
    "    def execute(program, registers, idx=0):\n",
    "        while idx < len(commands):\n",
    "            global_counter[0] += 1\n",
    "            if global_counter[0] % 50000 == 0:\n",
    "                pass\n",
    "            command = commands[idx]\n",
    "            vals = [int(x) for x in re.findall('-*\\d+', command)]\n",
    "            command = command.split()\n",
    "            if vals:\n",
    "                val = vals[-1]\n",
    "            else:\n",
    "                val = registers[command[-1]]\n",
    "            if command[0] == 'jgz':\n",
    "                if len(vals) > 1:\n",
    "                    comp = vals[0]\n",
    "                else: comp = registers[command[1]]\n",
    "                if comp > 0:\n",
    "                    idx += val\n",
    "                    continue\n",
    "            if command[0] == 'set':\n",
    "                registers[command[1]] = val\n",
    "            if command[0] == 'snd':\n",
    "                receive_queue[1-program].append(registers[command[1]])\n",
    "            if command[0] == 'add':\n",
    "                registers[command[1]] += val\n",
    "            if command[0] == 'mul':\n",
    "                registers[command[1]] *= val\n",
    "            if command[0] == 'mod':\n",
    "                registers[command[1]] = registers[command[1]] % val\n",
    "            if command[0] == 'rcv':\n",
    "                if not receive_queue[program]:\n",
    "                    return idx\n",
    "                registers[command[1]] = receive_queue[program][0]\n",
    "                receive_queue[program] = receive_queue[program][1:]\n",
    "            idx += 1\n",
    "    \n",
    "    while res == 0 or receive_queue[0] or receive_queue[1]:\n",
    "        idx0 = execute(0, global_registers[0], idx0)\n",
    "        idx1 = execute(1, global_registers[1], idx1)\n",
    "        res += len(receive_queue[0])\n",
    "    return res"
   ]
  },
  {
   "cell_type": "code",
   "execution_count": 1224,
   "metadata": {},
   "outputs": [
    {
     "data": {
      "text/plain": [
       "7366"
      ]
     },
     "execution_count": 1224,
     "metadata": {},
     "output_type": "execute_result"
    }
   ],
   "source": [
    "aoc_18b(aoc_input)"
   ]
  },
  {
   "cell_type": "code",
   "execution_count": 839,
   "metadata": {},
   "outputs": [],
   "source": [
    "aoc_input = read_raw_input(19).split('\\n')"
   ]
  },
  {
   "cell_type": "code",
   "execution_count": 874,
   "metadata": {},
   "outputs": [],
   "source": [
    "def aoc_19(paths):\n",
    "    grid = {}\n",
    "    direction = 1\n",
    "    cord = 0\n",
    "    for i in range(1, len(paths)):\n",
    "        for j, c in enumerate(paths[i]):\n",
    "            if c != ' ':\n",
    "                grid[i+j*1j] = c\n",
    "            if i == 1 and paths[i][j] == '|':\n",
    "                cord = i-1+j*1j\n",
    "                grid[cord] = '|'\n",
    "    res = ''\n",
    "    cycle = 0\n",
    "    while True:\n",
    "        cycle += 1\n",
    "        #print(cord)\n",
    "        if grid[cord] not in '+-|':\n",
    "            res += grid[cord]\n",
    "        if cord+direction in grid:\n",
    "            cord+= direction\n",
    "        elif cord+(direction*1j) in grid:\n",
    "            #print('change')\n",
    "            direction *= 1j\n",
    "            cord += direction\n",
    "        elif cord+(direction/1j) in grid:\n",
    "            direction /= 1j\n",
    "            cord += direction\n",
    "        else:\n",
    "            break\n",
    "    return res, cycle"
   ]
  },
  {
   "cell_type": "code",
   "execution_count": 875,
   "metadata": {},
   "outputs": [
    {
     "data": {
      "text/plain": [
       "('FEZDNIVJWT', 17200)"
      ]
     },
     "execution_count": 875,
     "metadata": {},
     "output_type": "execute_result"
    }
   ],
   "source": [
    "aoc_19(aoc_input)"
   ]
  },
  {
   "cell_type": "code",
   "execution_count": 881,
   "metadata": {},
   "outputs": [],
   "source": [
    "aoc_input = read_raw_input(20).split('\\n')"
   ]
  },
  {
   "cell_type": "code",
   "execution_count": 882,
   "metadata": {},
   "outputs": [],
   "source": [
    "def aoc_20(particles):\n",
    "    res = []\n",
    "    for i, particle in enumerate(particles):\n",
    "        vals = [int(x) for x in re.findall('-*\\d+', particle)]\n",
    "        l1, l2, l3, v1, v2, v3, a1, a2, a3 = vals\n",
    "        if a1 < 0:\n",
    "            a1, l1, v1 = -a1, -l1, -v1\n",
    "        if a2 < 0:\n",
    "            a2, l2, v2 = -a2, -l2, -v2\n",
    "        if a3 < 0:\n",
    "            a3, l3, v3 = -a3, -l3, -v3\n",
    "        res.append(((a1+a2+a3), (v1+v2+v3), (l1+l2+l3), i))\n",
    "    return min(res)"
   ]
  },
  {
   "cell_type": "code",
   "execution_count": 883,
   "metadata": {},
   "outputs": [
    {
     "data": {
      "text/plain": [
       "(1, -160, 4854, 457)"
      ]
     },
     "execution_count": 883,
     "metadata": {},
     "output_type": "execute_result"
    }
   ],
   "source": [
    "aoc_20(aoc_input)"
   ]
  },
  {
   "cell_type": "code",
   "execution_count": 1064,
   "metadata": {},
   "outputs": [],
   "source": [
    "def aoc_20b(particles):\n",
    "    particle_data = {}\n",
    "    collision_data = {}\n",
    "    collision_times = []\n",
    "    collided_particles = set()\n",
    "    for i, particle in enumerate(particles):\n",
    "        vals = [int(x) for x in re.findall('-*\\d+', particle)]\n",
    "        p1, p2, p3, v1, v2, v3, a1, a2, a3 = vals\n",
    "        particle_data[i] = ((a1, a2, a3), (v1, v2, v3), (p1, p2, p3), i)\n",
    "    \n",
    "    def aoc_20solver(a, b, c):\n",
    "        if a == 0 and b == 0:\n",
    "            res = []\n",
    "        elif a == 0:\n",
    "            res = [-c/b]\n",
    "        else:\n",
    "            res = [-(((2*b+a)/2/a) ** 2 - 2*c/a)**.5 - (2*b+a)/2/a, \n",
    "                   (((2*b+a)/2/a) ** 2 - 2*c/a)**.5 - (2*b+a)/2/a]\n",
    "        res = [aoc_20checker(a, b, c, s) for s in res if aoc_20checker(a, b, c, s) != -1]\n",
    "        return res\n",
    "    \n",
    "    def aoc_20checker(a, b, c, s):\n",
    "        if s.imag != 0:\n",
    "            return -1\n",
    "        s = int(s)\n",
    "        if s < 0:\n",
    "            return -1\n",
    "        if a*s*(s+1)/2 +s*b + c == 0:\n",
    "            return s\n",
    "        s = s+1\n",
    "        if a*s*(s+1)/2 +s*b + c == 0:\n",
    "            return s\n",
    "        return -1\n",
    "    \n",
    "    def check_collision(particle1, particle2):\n",
    "        collisions = []\n",
    "        for i in range(3):\n",
    "            collisions.append(aoc_20solver(particle1[0][i]-particle2[0][i],\n",
    "                                           particle1[1][i]-particle2[1][i],\n",
    "                                           particle1[2][i]-particle2[2][i]))\n",
    "        res = []\n",
    "        for collision in collisions[0]:\n",
    "            if collision in collisions[1] and collision in collisions[2]:\n",
    "                res.append(collision)\n",
    "        return res\n",
    "    \n",
    "    def get_position(particle, t):\n",
    "        return tuple([particle[0][i]*t*(t+1)/2 + t*particle[1][i] + particle[2][i] \n",
    "                      for i in range(3)])\n",
    "    \n",
    "    #return get_position(particle_data[89], 10), get_position(particle_data[90], 10)\n",
    "    for i in range(len(particle_data)):\n",
    "        for j in range(1, len(particle_data)):\n",
    "            for collision_time in check_collision(particle_data[i], particle_data[j]):\n",
    "                if collision_time not in collision_data:\n",
    "                    collision_data[collision_time] = defaultdict(list)\n",
    "                position = get_position(particle_data[i], collision_time)\n",
    "                collision_data[collision_time][position].append(i)\n",
    "                collision_data[collision_time][position].append(j)\n",
    "            if collision_time not in collision_times:\n",
    "                collision_times.append(collision_time)\n",
    "    for collision_time in sorted(collision_times):\n",
    "        for collision, particles in collision_data[collision_time].items():\n",
    "            real_particles = set(particles) - collided_particles\n",
    "            if len(real_particles) > 1:\n",
    "                collided_particles = collided_particles.union(real_particles)\n",
    "    #print(sorted(collision_times))\n",
    "    #print(collision_data)\n",
    "    return len(particle_data) - len(collided_particles)"
   ]
  },
  {
   "cell_type": "code",
   "execution_count": 1065,
   "metadata": {
    "scrolled": true
   },
   "outputs": [
    {
     "data": {
      "text/plain": [
       "448"
      ]
     },
     "execution_count": 1065,
     "metadata": {},
     "output_type": "execute_result"
    }
   ],
   "source": [
    "aoc_20b(aoc_input)"
   ]
  },
  {
   "cell_type": "code",
   "execution_count": 988,
   "metadata": {},
   "outputs": [],
   "source": [
    "def aoc_20solver(a, b, c):\n",
    "    return (-(((2*b+a)/2/a) ** 2 - 2*c/a)**.5 - (2*b+a)/2/a), ((((2*b+a)/2/a) ** 2 - 2*c/a)**.5 - (2*b+a)/2/a)"
   ]
  },
  {
   "cell_type": "code",
   "execution_count": 990,
   "metadata": {},
   "outputs": [],
   "source": [
    "def aoc_20solver(a, b, c, s):\n",
    "    s = int(s)\n",
    "    if a*s*(s+1)/2 +s*b + c == 0:\n",
    "        return True"
   ]
  },
  {
   "cell_type": "code",
   "execution_count": 1237,
   "metadata": {},
   "outputs": [],
   "source": [
    "aoc_input = read_raw_input(21).split('\\n')"
   ]
  },
  {
   "cell_type": "code",
   "execution_count": 1301,
   "metadata": {},
   "outputs": [],
   "source": [
    "def aoc_21(patterns):\n",
    "    RULES = {}\n",
    "    BLOCK_DIMENSIONS = [2, 3]\n",
    "    grid = np.array([[0, 1, 0], [0, 0, 1], [1, 1, 1]])\n",
    "    \n",
    "    def find_pattern(i, j, dim):\n",
    "        s1, s2, s3, s4 = [], [], [], []\n",
    "        for cell_i in range(dim):\n",
    "            hstring, vstring = '', ''\n",
    "            for cell_j in range(dim):\n",
    "                hstring += '#' if grid[i+cell_i, j+cell_j] == 1 else '.'\n",
    "                vstring += '#' if grid[i+cell_j, j+cell_i] == 1 else '.'\n",
    "            s1.append(hstring)\n",
    "            s2.append(hstring[::-1])\n",
    "            s3.append(vstring)\n",
    "            s4.append(vstring[::-1])\n",
    "        for string in [s1, s2, s3, s4]:\n",
    "            if '/'.join(string) in RULES:\n",
    "                return RULES['/'.join(string)]\n",
    "            if '/'.join(string[::-1]) in RULES:\n",
    "                return RULES['/'.join(string[::-1])]\n",
    "        print('error')\n",
    "        return ''\n",
    "    \n",
    "    for pattern in patterns:\n",
    "        before, after = pattern.split(' => ')\n",
    "        RULES[before] = after\n",
    "    \n",
    "    for _ in range(18):\n",
    "        current_dim = grid.shape[0]\n",
    "        for dim in BLOCK_DIMENSIONS:\n",
    "            if current_dim % dim != 0:\n",
    "                continue\n",
    "            num_block = current_dim // dim\n",
    "            new_grid = np.zeros((num_block * (dim+1), num_block * (dim+1)))\n",
    "            \n",
    "            for block_i in range(num_block):\n",
    "                for block_j in range(num_block):\n",
    "                    pattern = find_pattern(block_i*dim, block_j*dim, dim)\n",
    "                    for cell_i, row in enumerate(pattern.split('/')):\n",
    "                        for cell_j, c in enumerate(row):\n",
    "                            new_grid[block_i*(dim+1)+cell_i, block_j*(dim+1)+cell_j] += c == '#'\n",
    "                    \n",
    "            break\n",
    "        grid = new_grid\n",
    "    return np.sum(grid)"
   ]
  },
  {
   "cell_type": "code",
   "execution_count": 1302,
   "metadata": {
    "scrolled": true
   },
   "outputs": [
    {
     "data": {
      "text/plain": [
       "2449665.0"
      ]
     },
     "execution_count": 1302,
     "metadata": {},
     "output_type": "execute_result"
    }
   ],
   "source": [
    "aoc_21(aoc_input)"
   ]
  },
  {
   "cell_type": "code",
   "execution_count": 1132,
   "metadata": {},
   "outputs": [],
   "source": [
    "aoc_input = read_raw_input(22).split('\\n')"
   ]
  },
  {
   "cell_type": "code",
   "execution_count": 1150,
   "metadata": {},
   "outputs": [],
   "source": [
    "def aoc_22(grid_data):\n",
    "    grid = set()\n",
    "    direction = -1\n",
    "    for i, row in enumerate(grid_data):\n",
    "        for j, c in enumerate(row):\n",
    "            if grid_data[i][j] == '#':\n",
    "                grid.add(i+j*1j)\n",
    "    cord = i/2 + i/2*1j\n",
    "    res = 0\n",
    "    for _ in range(10000):\n",
    "        if cord not in grid:\n",
    "            grid.add(cord)\n",
    "            res += 1\n",
    "            direction *= 1j\n",
    "        else:\n",
    "            grid.remove(cord)\n",
    "            direction /= 1j\n",
    "        cord += direction\n",
    "    return res"
   ]
  },
  {
   "cell_type": "code",
   "execution_count": 1151,
   "metadata": {},
   "outputs": [
    {
     "data": {
      "text/plain": [
       "5552"
      ]
     },
     "execution_count": 1151,
     "metadata": {},
     "output_type": "execute_result"
    }
   ],
   "source": [
    "aoc_22(aoc_input)"
   ]
  },
  {
   "cell_type": "code",
   "execution_count": 1158,
   "metadata": {},
   "outputs": [],
   "source": [
    "def aoc_22b(grid_data):\n",
    "    def print_map(si, sj, ei, ej):\n",
    "        for i in range(si, ei):\n",
    "            for j in range(sj, ej):\n",
    "                if i+j*1j == cord:\n",
    "                    print('X', end='')\n",
    "                elif grid[i+j*1j] == 0:\n",
    "                    print('.', end='')\n",
    "                elif grid[i+j*1j] == 1:\n",
    "                    print('W', end='')\n",
    "                elif grid[i+j*1j] == 2:\n",
    "                    print('#', end='')\n",
    "                else:\n",
    "                    print('F', end='')\n",
    "            print()\n",
    "            \n",
    "    grid = defaultdict(int)\n",
    "    direction = -1\n",
    "    for i, row in enumerate(grid_data):\n",
    "        for j, c in enumerate(row):\n",
    "            if grid_data[i][j] == '#':\n",
    "                grid[i+j*1j] = 2\n",
    "    cord = i/2 + i/2*1j\n",
    "    res = 0\n",
    "    for _ in range(10000000):\n",
    "        #print_map(8, 8, 17, 17)\n",
    "        #print('*'*20)\n",
    "        if grid[cord] == 0:\n",
    "            direction *= 1j\n",
    "        if grid[cord] == 1:\n",
    "            res += 1\n",
    "        if grid[cord] == 2:\n",
    "            direction /= 1j\n",
    "        if grid[cord] == 3:\n",
    "            direction = -direction\n",
    "        grid[cord] = (grid[cord]+1)%4\n",
    "        cord += direction\n",
    "    return res"
   ]
  },
  {
   "cell_type": "code",
   "execution_count": 1159,
   "metadata": {},
   "outputs": [
    {
     "data": {
      "text/plain": [
       "2511527"
      ]
     },
     "execution_count": 1159,
     "metadata": {},
     "output_type": "execute_result"
    }
   ],
   "source": [
    "aoc_22b(aoc_input)"
   ]
  },
  {
   "cell_type": "code",
   "execution_count": 1131,
   "metadata": {},
   "outputs": [],
   "source": [
    "aoc_input = read_raw_input(23).split('\\n')"
   ]
  },
  {
   "cell_type": "code",
   "execution_count": 1119,
   "metadata": {},
   "outputs": [],
   "source": [
    "def aoc_23(commands):\n",
    "    registers = defaultdict(int)\n",
    "    registers['a'] = 10\n",
    "    res = idx = cycle = 0\n",
    "    while idx < len(commands):\n",
    "        cycle += 1\n",
    "        command = commands[idx]\n",
    "        if command == 'set f 0':\n",
    "            print(registers)\n",
    "            #return\n",
    "        vals = [int(x) for x in re.findall('-*\\d+', command)]\n",
    "        command = command.split()\n",
    "        if cycle%5000000000 == 0:\n",
    "            print(val, {k:v for k, v in registers.items()})\n",
    "        if vals:\n",
    "            val = vals[-1]\n",
    "        else:\n",
    "            val = registers[command[-1]]\n",
    "        if command[0] == 'jnz':\n",
    "            if len(vals) > 1:\n",
    "                if vals[0] != 0:\n",
    "                    idx += vals[-1]\n",
    "                    continue\n",
    "            if registers[command[1]] != 0:\n",
    "                idx += val\n",
    "                continue\n",
    "        if command[0] == 'set':\n",
    "            registers[command[1]] = val\n",
    "        if command[0] == 'sub':\n",
    "            if command[1] in '':\n",
    "                print(val, {k:v for k, v in registers.items()})\n",
    "            registers[command[1]] -= val\n",
    "        if command[0] == 'add':\n",
    "            registers[command[1]] += val\n",
    "        if command[0] == 'mul':\n",
    "            res += 1\n",
    "            registers[command[1]] *= val\n",
    "        idx += 1\n",
    "    return registers['h']"
   ]
  },
  {
   "cell_type": "code",
   "execution_count": 1122,
   "metadata": {},
   "outputs": [],
   "source": [
    "def is_prime(x):\n",
    "    for i in range(2, int(x**.5)+1):\n",
    "        if x%i == 0:\n",
    "            return False\n",
    "    return True\n",
    "        "
   ]
  },
  {
   "cell_type": "code",
   "execution_count": 1127,
   "metadata": {},
   "outputs": [],
   "source": [
    "res = 0\n",
    "for i in range(108400, 125417, 17):\n",
    "    res += not is_prime(i)"
   ]
  },
  {
   "cell_type": "code",
   "execution_count": 1303,
   "metadata": {},
   "outputs": [
    {
     "data": {
      "text/plain": [
       "903"
      ]
     },
     "execution_count": 1303,
     "metadata": {},
     "output_type": "execute_result"
    }
   ],
   "source": [
    "res"
   ]
  },
  {
   "cell_type": "code",
   "execution_count": 1304,
   "metadata": {},
   "outputs": [],
   "source": [
    "aoc_input = read_raw_input(24).split('\\n')"
   ]
  },
  {
   "cell_type": "code",
   "execution_count": 1343,
   "metadata": {},
   "outputs": [],
   "source": [
    "def aoc_24(components):\n",
    "    graph = defaultdict(list)\n",
    "    for component in components:\n",
    "        a, b = [int(x) for x in re.findall('\\d+', component)]\n",
    "        if a < b:\n",
    "            graph[a].append((a, b))\n",
    "            graph[b].append((a, b))\n",
    "        else: \n",
    "            graph[a].append((b, a))\n",
    "            graph[b].append((b, a))\n",
    "    states = [[0, 0, []]]\n",
    "    res = 0\n",
    "    while states:\n",
    "        new_states = []\n",
    "        for state in states:\n",
    "            for node in graph[state[0]]:\n",
    "                if node in state[2]:\n",
    "                    continue\n",
    "                if node[0] == state[0]:\n",
    "                    new_node = node[1]\n",
    "                else:\n",
    "                    new_node = node[0]\n",
    "                new_dist = sum(node)+state[1]\n",
    "                res = max(res, new_dist)\n",
    "                new_states.append([new_node, new_dist, state[2] + [node]])\n",
    "                \n",
    "        states = new_states\n",
    "    return res"
   ]
  },
  {
   "cell_type": "code",
   "execution_count": 1344,
   "metadata": {},
   "outputs": [
    {
     "data": {
      "text/plain": [
       "1695"
      ]
     },
     "execution_count": 1344,
     "metadata": {},
     "output_type": "execute_result"
    }
   ],
   "source": [
    "aoc_24(aoc_input)"
   ]
  },
  {
   "cell_type": "code",
   "execution_count": 1356,
   "metadata": {},
   "outputs": [],
   "source": [
    "def aoc_24b(components):\n",
    "    graph = defaultdict(list)\n",
    "    for component in components:\n",
    "        a, b = [int(x) for x in re.findall('\\d+', component)]\n",
    "        if a < b:\n",
    "            graph[a].append((a, b))\n",
    "            graph[b].append((a, b))\n",
    "        else: \n",
    "            graph[a].append((b, a))\n",
    "            graph[b].append((b, a))\n",
    "    states = [[0, 0, []]]\n",
    "    res = 0\n",
    "    bridge_len = 0\n",
    "    while states:\n",
    "        new_states = []\n",
    "        for state in states:\n",
    "            for node in graph[state[0]]:\n",
    "                if node in state[2]:\n",
    "                    continue\n",
    "                if node[0] == state[0]:\n",
    "                    new_node = node[1]\n",
    "                else:\n",
    "                    new_node = node[0]\n",
    "                new_dist = sum(node)+state[1]\n",
    "                new_combo = state[2]+[node]\n",
    "                if len(new_combo) > bridge_len:\n",
    "                    bridge_len = len(new_combo)\n",
    "                    res = new_dist\n",
    "                if len(new_combo) == bridge_len:\n",
    "                    res = max(res, new_dist)\n",
    "                new_states.append([new_node, new_dist, new_combo])\n",
    "                \n",
    "        states = new_states\n",
    "    return res"
   ]
  },
  {
   "cell_type": "code",
   "execution_count": 1357,
   "metadata": {},
   "outputs": [
    {
     "data": {
      "text/plain": [
       "1673"
      ]
     },
     "execution_count": 1357,
     "metadata": {},
     "output_type": "execute_result"
    }
   ],
   "source": [
    "aoc_24b(aoc_input)"
   ]
  },
  {
   "cell_type": "code",
   "execution_count": 1360,
   "metadata": {},
   "outputs": [],
   "source": [
    "aoc_input = read_raw_input(25).split('\\n\\n')"
   ]
  },
  {
   "cell_type": "code",
   "execution_count": 1426,
   "metadata": {},
   "outputs": [],
   "source": [
    "def aoc_25(state_instructions):\n",
    "    initial_instruction = state_instructions[0].split('\\n')\n",
    "    current_state = initial_instruction[0][:-1].split()[-1]\n",
    "    current_loc = 0\n",
    "    NUM_STEPS = int(re.findall('\\d+', initial_instruction[1]).pop())\n",
    "    \n",
    "    tape = defaultdict(int)\n",
    "    state_machine = {}\n",
    "    for state_instruction in state_instructions[1:]:\n",
    "        state_instruction = state_instruction.split('\\n')\n",
    "        origin_state = state_instruction[0][:-1].split()[-1]\n",
    "        for i in range(2):\n",
    "            cur_val = int(re.findall('\\d+', state_instruction[i*4+1]).pop())\n",
    "            new_val = int(re.findall('\\d+', state_instruction[i*4+2]).pop())\n",
    "            move = state_instruction[i*4+3][:-1].split()[-1]\n",
    "            move = 1 if move == 'right' else -1                \n",
    "            new_state = state_instruction[i*4+4][:-1].split()[-1]\n",
    "            state_machine[(origin_state, cur_val)] = (new_val, move, new_state)\n",
    "    \n",
    "    for _ in range(NUM_STEPS):\n",
    "        cur_val = tape[current_loc]\n",
    "        tape[current_loc], move, current_state = state_machine[(current_state, cur_val)]\n",
    "        current_loc += move\n",
    "    return sum(tape.values())"
   ]
  },
  {
   "cell_type": "code",
   "execution_count": 1427,
   "metadata": {},
   "outputs": [
    {
     "data": {
      "text/plain": [
       "4769"
      ]
     },
     "execution_count": 1427,
     "metadata": {},
     "output_type": "execute_result"
    }
   ],
   "source": [
    "aoc_25(aoc_input)"
   ]
  },
  {
   "cell_type": "code",
   "execution_count": null,
   "metadata": {},
   "outputs": [],
   "source": []
  }
 ],
 "metadata": {
  "kernelspec": {
   "display_name": "Python 3",
   "language": "python",
   "name": "python3"
  },
  "language_info": {
   "codemirror_mode": {
    "name": "ipython",
    "version": 3
   },
   "file_extension": ".py",
   "mimetype": "text/x-python",
   "name": "python",
   "nbconvert_exporter": "python",
   "pygments_lexer": "ipython3",
   "version": "3.7.6"
  }
 },
 "nbformat": 4,
 "nbformat_minor": 4
}
