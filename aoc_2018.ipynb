{
 "cells": [
  {
   "cell_type": "code",
   "execution_count": 56,
   "metadata": {},
   "outputs": [],
   "source": [
    "import numpy as np\n",
    "import pandas as pd\n",
    "\n",
    "from itertools import combinations, permutations\n",
    "import itertools\n",
    "\n",
    "from collections import Counter, defaultdict\n",
    "\n",
    "import re"
   ]
  },
  {
   "cell_type": "code",
   "execution_count": 57,
   "metadata": {},
   "outputs": [],
   "source": [
    "def read_raw_input(day, STRIP=True):\n",
    "    with open('input_' + str(day)) as inputfile:\n",
    "        if STRIP:\n",
    "            return inputfile.read().strip()\n",
    "        return inputfile.read()"
   ]
  },
  {
   "cell_type": "code",
   "execution_count": 4,
   "metadata": {},
   "outputs": [],
   "source": [
    "aoc_input = read_raw_input(1).split('\\n')"
   ]
  },
  {
   "cell_type": "code",
   "execution_count": 6,
   "metadata": {},
   "outputs": [],
   "source": [
    "def aoc_1(moves):\n",
    "    return sum([int(x) for x in re.findall('-*\\d+', ' '.join(moves))])"
   ]
  },
  {
   "cell_type": "code",
   "execution_count": 7,
   "metadata": {},
   "outputs": [
    {
     "data": {
      "text/plain": [
       "587"
      ]
     },
     "execution_count": 7,
     "metadata": {},
     "output_type": "execute_result"
    }
   ],
   "source": [
    "aoc_1(aoc_input)"
   ]
  },
  {
   "cell_type": "code",
   "execution_count": 12,
   "metadata": {},
   "outputs": [],
   "source": [
    "def aoc_1b(moves):\n",
    "    state = set()\n",
    "    current_frequency = 0\n",
    "    while True:\n",
    "        for move in moves:\n",
    "            if current_frequency in state:\n",
    "                return current_frequency\n",
    "            state.add(current_frequency)\n",
    "            current_frequency += int(re.findall('-*\\d+', move).pop())\n",
    "        #print(current_frequency)\n",
    "    return"
   ]
  },
  {
   "cell_type": "code",
   "execution_count": 13,
   "metadata": {},
   "outputs": [
    {
     "data": {
      "text/plain": [
       "83130"
      ]
     },
     "execution_count": 13,
     "metadata": {},
     "output_type": "execute_result"
    }
   ],
   "source": [
    "aoc_1b(aoc_input)"
   ]
  },
  {
   "cell_type": "code",
   "execution_count": 14,
   "metadata": {},
   "outputs": [],
   "source": [
    "aoc_input = read_raw_input(2).split('\\n')"
   ]
  },
  {
   "cell_type": "code",
   "execution_count": 15,
   "metadata": {},
   "outputs": [],
   "source": [
    "def aoc_2(boxes):\n",
    "    two = three = 0\n",
    "    for box in boxes:\n",
    "        token_counter = Counter(box)\n",
    "        two += 2 in token_counter.values()\n",
    "        three += 3 in token_counter.values()\n",
    "    return two * three"
   ]
  },
  {
   "cell_type": "code",
   "execution_count": 16,
   "metadata": {},
   "outputs": [
    {
     "data": {
      "text/plain": [
       "6150"
      ]
     },
     "execution_count": 16,
     "metadata": {},
     "output_type": "execute_result"
    }
   ],
   "source": [
    "aoc_2(aoc_input)"
   ]
  },
  {
   "cell_type": "code",
   "execution_count": 21,
   "metadata": {},
   "outputs": [],
   "source": [
    "def aoc_2b(boxes):\n",
    "    for i, box in enumerate(boxes):\n",
    "        for box2 in boxes[i+1:]:\n",
    "            res = ''\n",
    "            diff = 0\n",
    "            for string_idx in range(len(box)):\n",
    "                if box[string_idx] == box2[string_idx]:\n",
    "                    res += box[string_idx]\n",
    "                else:\n",
    "                    diff += 1\n",
    "                if diff > 1:\n",
    "                    break\n",
    "            else:\n",
    "                if diff == 1:\n",
    "                    return res\n",
    "                "
   ]
  },
  {
   "cell_type": "code",
   "execution_count": 22,
   "metadata": {},
   "outputs": [
    {
     "data": {
      "text/plain": [
       "'rteotyxzbodglnpkudawhijsc'"
      ]
     },
     "execution_count": 22,
     "metadata": {},
     "output_type": "execute_result"
    }
   ],
   "source": [
    "aoc_2b(aoc_input)"
   ]
  },
  {
   "cell_type": "code",
   "execution_count": 23,
   "metadata": {},
   "outputs": [],
   "source": [
    "aoc_input = read_raw_input(3).split('\\n')"
   ]
  },
  {
   "cell_type": "code",
   "execution_count": 32,
   "metadata": {},
   "outputs": [],
   "source": [
    "def aoc_3(chimneys):\n",
    "    chimney_map = defaultdict(int)\n",
    "    for chimney in chimneys:\n",
    "        vals = [int(x) for x in re.findall('\\d+', chimney)]\n",
    "        for i in range(vals[3]):\n",
    "            for j in range(vals[4]):\n",
    "                chimney_map[(vals[1]+i, (vals[2]+j)*1j)] += 1\n",
    "                \n",
    "    return len([k for k, v in chimney_map.items() if v > 1])"
   ]
  },
  {
   "cell_type": "code",
   "execution_count": 33,
   "metadata": {},
   "outputs": [
    {
     "data": {
      "text/plain": [
       "107043"
      ]
     },
     "execution_count": 33,
     "metadata": {},
     "output_type": "execute_result"
    }
   ],
   "source": [
    "aoc_3(aoc_input)"
   ]
  },
  {
   "cell_type": "code",
   "execution_count": 34,
   "metadata": {},
   "outputs": [],
   "source": [
    "def aoc_3b(chimneys):\n",
    "    chimney_map = defaultdict(int)\n",
    "    for chimney in chimneys:\n",
    "        vals = [int(x) for x in re.findall('\\d+', chimney)]\n",
    "        for i in range(vals[3]):\n",
    "            for j in range(vals[4]):\n",
    "                chimney_map[(vals[1]+i, (vals[2]+j)*1j)] += 1\n",
    "                \n",
    "    for chimney in chimneys:\n",
    "        vals = [int(x) for x in re.findall('\\d+', chimney)]\n",
    "        res = sum([chimney_map[(vals[1]+i, (vals[2]+j)*1j)] for i in range(vals[3]) for j in range(vals[4])])\n",
    "        if res == vals[3]*vals[4]:\n",
    "            return vals[0]\n",
    "                \n",
    "    return len([k for k, v in chimney_map.items() if v > 1])"
   ]
  },
  {
   "cell_type": "code",
   "execution_count": 36,
   "metadata": {},
   "outputs": [
    {
     "data": {
      "text/plain": [
       "346"
      ]
     },
     "execution_count": 36,
     "metadata": {},
     "output_type": "execute_result"
    }
   ],
   "source": [
    "aoc_3b(aoc_input)"
   ]
  },
  {
   "cell_type": "code",
   "execution_count": 38,
   "metadata": {},
   "outputs": [],
   "source": [
    "aoc_input = read_raw_input(4).split('\\n')"
   ]
  },
  {
   "cell_type": "code",
   "execution_count": 42,
   "metadata": {},
   "outputs": [
    {
     "data": {
      "text/plain": [
       "[(0, 1)]"
      ]
     },
     "execution_count": 42,
     "metadata": {},
     "output_type": "execute_result"
    }
   ],
   "source": [
    "t = Counter()\n",
    "t[0] += 1\n",
    "t.most_common(1)"
   ]
  },
  {
   "cell_type": "code",
   "execution_count": 47,
   "metadata": {},
   "outputs": [],
   "source": [
    "def aoc_4(schedule_entries):\n",
    "    sleep_time = defaultdict(Counter)\n",
    "    guard_num = last_sleep = 0\n",
    "    for schedule_entry in sorted(schedule_entries):\n",
    "        if 'Guard' in schedule_entry:\n",
    "            guard_num = int(re.findall('\\d+', schedule_entry)[-1])\n",
    "        if 'asleep' in schedule_entry:\n",
    "            last_sleep = int(re.findall('\\d+', schedule_entry)[-1])\n",
    "        if 'wakes' in schedule_entry:\n",
    "            sleep_time[guard_num] += Counter(range(last_sleep, int(re.findall('\\d+', schedule_entry)[-1])))\n",
    "    max_sleep = 0\n",
    "    selected_guard = 0\n",
    "    for guard, sleep_record in sleep_time.items():\n",
    "        new_sleep = sum(sleep_record.values())\n",
    "        if new_sleep > max_sleep:\n",
    "            selected_guard = guard\n",
    "            max_sleep = new_sleep\n",
    "    return selected_guard * sleep_time[selected_guard].most_common(1).pop()[0]"
   ]
  },
  {
   "cell_type": "code",
   "execution_count": 48,
   "metadata": {
    "scrolled": true
   },
   "outputs": [
    {
     "data": {
      "text/plain": [
       "35623"
      ]
     },
     "execution_count": 48,
     "metadata": {},
     "output_type": "execute_result"
    }
   ],
   "source": [
    "aoc_4(aoc_input)"
   ]
  },
  {
   "cell_type": "code",
   "execution_count": 53,
   "metadata": {},
   "outputs": [],
   "source": [
    "def aoc_4b(schedule_entries):\n",
    "    sleep_time = defaultdict(Counter)\n",
    "    guard_num = last_sleep = 0\n",
    "    for schedule_entry in sorted(schedule_entries):\n",
    "        if 'Guard' in schedule_entry:\n",
    "            guard_num = int(re.findall('\\d+', schedule_entry)[-1])\n",
    "        if 'asleep' in schedule_entry:\n",
    "            last_sleep = int(re.findall('\\d+', schedule_entry)[-1])\n",
    "        if 'wakes' in schedule_entry:\n",
    "            sleep_time[guard_num] += Counter(range(last_sleep, int(re.findall('\\d+', schedule_entry)[-1])))\n",
    "    max_minute_count = 0\n",
    "    selected_guard = 0\n",
    "    max_minute = 0\n",
    "    for guard, sleep_record in sleep_time.items():\n",
    "        new_minute = sleep_record.most_common(1).pop()\n",
    "        if new_minute[1] > max_minute_count:\n",
    "            selected_guard = guard\n",
    "            max_minute_count = new_minute[1]\n",
    "            max_minute = new_minute[0]\n",
    "    return selected_guard * max_minute"
   ]
  },
  {
   "cell_type": "code",
   "execution_count": 54,
   "metadata": {},
   "outputs": [
    {
     "data": {
      "text/plain": [
       "23037"
      ]
     },
     "execution_count": 54,
     "metadata": {},
     "output_type": "execute_result"
    }
   ],
   "source": [
    "aoc_4b(aoc_input)"
   ]
  },
  {
   "cell_type": "code",
   "execution_count": 55,
   "metadata": {},
   "outputs": [],
   "source": [
    "aoc_input = read_raw_input(5)"
   ]
  },
  {
   "cell_type": "code",
   "execution_count": 56,
   "metadata": {},
   "outputs": [],
   "source": [
    "def aoc_5(elements):\n",
    "    res = []\n",
    "    for element in elements:\n",
    "        if res and res[-1].lower() == element.lower() and res[-1] != element:\n",
    "            res.pop()\n",
    "        else:\n",
    "            res.append(element)\n",
    "    return len(res)"
   ]
  },
  {
   "cell_type": "code",
   "execution_count": 57,
   "metadata": {},
   "outputs": [
    {
     "data": {
      "text/plain": [
       "10972"
      ]
     },
     "execution_count": 57,
     "metadata": {},
     "output_type": "execute_result"
    }
   ],
   "source": [
    "aoc_5(aoc_input)"
   ]
  },
  {
   "cell_type": "code",
   "execution_count": 58,
   "metadata": {},
   "outputs": [],
   "source": [
    "def aoc_5b(elements):\n",
    "    element_types = set(elements.lower())\n",
    "    return min([aoc_5(elements.replace(element, '').replace(element.upper(), '')) for element in element_types])"
   ]
  },
  {
   "cell_type": "code",
   "execution_count": 60,
   "metadata": {},
   "outputs": [
    {
     "data": {
      "text/plain": [
       "5278"
      ]
     },
     "execution_count": 60,
     "metadata": {},
     "output_type": "execute_result"
    }
   ],
   "source": [
    "aoc_5b(aoc_input)"
   ]
  },
  {
   "cell_type": "code",
   "execution_count": 131,
   "metadata": {},
   "outputs": [],
   "source": [
    "aoc_input = read_raw_input(6).split('\\n')"
   ]
  },
  {
   "cell_type": "code",
   "execution_count": 114,
   "metadata": {},
   "outputs": [],
   "source": [
    "def aoc_6(cords):\n",
    "    points = np.array([int(x) for x in re.findall('\\d+', ' '.join(cords))]).reshape((-1, 2))\n",
    "    #print(len(points))\n",
    "    max_x = np.max(points[:, 0])\n",
    "    min_x = np.min(points[:, 0])\n",
    "    max_y = np.max(points[:, 1])\n",
    "    min_y = np.min(points[:, 1])\n",
    "    \n",
    "    area_counter = Counter()\n",
    "    infinites = set()\n",
    "    \n",
    "    for i, point in enumerate(points):\n",
    "        x_bounds = [max_x+1, min_x-1]\n",
    "        #print(i, points[1])\n",
    "        for x_bound in x_bounds:\n",
    "            distances = np.sum(np.abs(points - np.array([x_bound, point[1]])), axis=1)\n",
    "            #print(distances)\n",
    "            if np.sum(distances == min(distances)) == 1 and np.argmin(distances) == i:\n",
    "                infinites.add(i)\n",
    "                \n",
    "        y_bounds = [max_y+1, min_y-1]\n",
    "        for y_bound in y_bounds:\n",
    "            distances = np.sum(np.abs(points - np.array([point[0], y_bound])), axis=1)\n",
    "            if np.sum(distances == min(distances)) == 1 and np.argmin(distances) == i:\n",
    "                infinites.add(i)\n",
    "                \n",
    "    for x in range(min_x, max_x+1):\n",
    "        for y in range(min_y, max_y+1):\n",
    "            \n",
    "            distances = np.sum(np.abs(points - np.array([x, y])), axis=1)\n",
    "            if np.sum(distances == min(distances)) == 1:\n",
    "                area_counter[np.argmin(distances)] += 1\n",
    "    return max([v for k, v in area_counter.items() if k not in infinites])"
   ]
  },
  {
   "cell_type": "code",
   "execution_count": 115,
   "metadata": {},
   "outputs": [
    {
     "data": {
      "text/plain": [
       "4011"
      ]
     },
     "execution_count": 115,
     "metadata": {},
     "output_type": "execute_result"
    }
   ],
   "source": [
    "aoc_6(aoc_input)"
   ]
  },
  {
   "cell_type": "code",
   "execution_count": 142,
   "metadata": {},
   "outputs": [],
   "source": [
    "def aoc_6b(cords):\n",
    "    points = np.array([int(x) for x in re.findall('\\d+', ' '.join(cords))]).reshape((-1, 2))\n",
    "    DISTANCE = 10000\n",
    "    DIRECTIONS = {(0, 1), (0, -1), (1, 0), (-1, 0)}\n",
    "    max_x = np.max(points[:, 0]+DISTANCE)\n",
    "    min_x = np.min(points[:, 0]+DISTANCE)\n",
    "    max_y = np.max(points[:, 1]+DISTANCE)\n",
    "    min_y = np.min(points[:, 1]+DISTANCE)\n",
    "    \n",
    "    midpoint = np.mean(points, axis=1)\n",
    "    midpoint = (int(midpoint[0]), int(midpoint[1]))\n",
    "    \n",
    "    res = 0\n",
    "    check_points = set([midpoint])\n",
    "    visited = set()\n",
    "    \n",
    "    while check_points:\n",
    "        new_check_points = set()\n",
    "        for check_point in check_points:\n",
    "            visited.add(check_point)\n",
    "            if np.sum(np.abs(points-check_point)) >= DISTANCE:\n",
    "                continue\n",
    "            res += 1\n",
    "            for direction in DIRECTIONS:\n",
    "                new_point = (check_point[0]+direction[0], check_point[1]+direction[1])\n",
    "                if new_point not in visited:\n",
    "                    new_check_points.add(new_point)\n",
    "        check_points = new_check_points\n",
    "    return res"
   ]
  },
  {
   "cell_type": "code",
   "execution_count": 143,
   "metadata": {},
   "outputs": [
    {
     "data": {
      "text/plain": [
       "46054"
      ]
     },
     "execution_count": 143,
     "metadata": {},
     "output_type": "execute_result"
    }
   ],
   "source": [
    "aoc_6b(aoc_input)"
   ]
  },
  {
   "cell_type": "code",
   "execution_count": 144,
   "metadata": {},
   "outputs": [],
   "source": [
    "aoc_input = read_raw_input(7).split('\\n')"
   ]
  },
  {
   "cell_type": "code",
   "execution_count": 167,
   "metadata": {},
   "outputs": [],
   "source": [
    "def aoc_7(dependencies):\n",
    "    res = ''\n",
    "    dependency_data = defaultdict(list)\n",
    "    reverse_data = defaultdict(list)\n",
    "    \n",
    "    parents = set()\n",
    "    children = set()\n",
    "    \n",
    "    for dependency in dependencies:\n",
    "        parent, child = [x.strip() for x in re.findall(' \\w ', dependency)]\n",
    "        parents.add(parent)\n",
    "        children.add(child)\n",
    "        dependency_data[parent].append(child)\n",
    "        reverse_data[child].append(parent)\n",
    "    \n",
    "    current_nodes = parents - children\n",
    "    print(current_nodes)\n",
    "    completed = set()\n",
    "    while current_nodes:\n",
    "        new_nodes = []\n",
    "        for current_node in sorted(current_nodes):\n",
    "            if set(reverse_data[current_node]) - completed:\n",
    "                new_nodes.append(current_node)\n",
    "                continue\n",
    "            res += current_node\n",
    "            new_nodes += dependency_data[current_node]\n",
    "            completed.add(current_node)\n",
    "            break\n",
    "        current_nodes = current_nodes.union(set(new_nodes)) - completed\n",
    "    return res"
   ]
  },
  {
   "cell_type": "code",
   "execution_count": 168,
   "metadata": {},
   "outputs": [
    {
     "name": "stdout",
     "output_type": "stream",
     "text": [
      "{'F', 'R', 'N', 'C'}\n"
     ]
    },
    {
     "data": {
      "text/plain": [
       "'CFMNLOAHRKPTWBJSYZVGUQXIDE'"
      ]
     },
     "execution_count": 168,
     "metadata": {},
     "output_type": "execute_result"
    }
   ],
   "source": [
    "aoc_7(aoc_input)"
   ]
  },
  {
   "cell_type": "code",
   "execution_count": 225,
   "metadata": {},
   "outputs": [],
   "source": [
    "def aoc_7b(dependencies):\n",
    "    BASE_VALUE = ord('A') - 1 - 60\n",
    "    NUM_WORKERS = 4+1\n",
    "    \n",
    "    cycles = 0\n",
    "    dependency_data = defaultdict(list)\n",
    "    reverse_data = defaultdict(list)\n",
    "    \n",
    "    parents = set()\n",
    "    children = set()\n",
    "    \n",
    "    \n",
    "    for dependency in dependencies:\n",
    "        parent, child = [x.strip() for x in re.findall(' \\w ', dependency)]\n",
    "        parents.add(parent)\n",
    "        children.add(child)\n",
    "        dependency_data[parent].append(child)\n",
    "        reverse_data[child].append(parent)\n",
    "    \n",
    "    current_nodes = parents - children\n",
    "    worker_availabilities = defaultdict(list)\n",
    "    #print(current_nodes)\n",
    "    completed = set()\n",
    "    running_nodes = set()\n",
    "    while current_nodes or max(worker_availabilities) > cycles:\n",
    "        #print(worker_availabilities)\n",
    "        #print(current_nodes)\n",
    "        new_nodes = []\n",
    "        ready_nodes = []\n",
    "        \n",
    "        if cycles in worker_availabilities:\n",
    "            for node in worker_availabilities[cycles]:\n",
    "                completed.add(node)\n",
    "                running_nodes.remove(node)\n",
    "                new_nodes += dependency_data[node]\n",
    "            del worker_availabilities[cycles]\n",
    "\n",
    "        for current_node in sorted(current_nodes, reverse=True):\n",
    "            if set(reverse_data[current_node]) - completed:\n",
    "                new_nodes.append(current_node)\n",
    "                continue\n",
    "            ready_nodes.append(current_node)\n",
    "        #print(ready_nodes)\n",
    "        while sum([len(nodes) for nodes in worker_availabilities.values()]) < NUM_WORKERS and ready_nodes:\n",
    "            current_node = ready_nodes.pop()\n",
    "            worker_availabilities[cycles+ord(current_node)-BASE_VALUE].append(current_node)\n",
    "            running_nodes.add(current_node)\n",
    "        new_nodes += ready_nodes\n",
    "        current_nodes = current_nodes.union(set(new_nodes)) - completed - running_nodes\n",
    "        cycles += 1\n",
    "    return cycles-1"
   ]
  },
  {
   "cell_type": "code",
   "execution_count": 226,
   "metadata": {},
   "outputs": [
    {
     "data": {
      "text/plain": [
       "971"
      ]
     },
     "execution_count": 226,
     "metadata": {},
     "output_type": "execute_result"
    }
   ],
   "source": [
    "aoc_7b(aoc_input)"
   ]
  },
  {
   "cell_type": "code",
   "execution_count": 227,
   "metadata": {},
   "outputs": [],
   "source": [
    "aoc_input = [int(x) for x in read_raw_input(8).split()]"
   ]
  },
  {
   "cell_type": "code",
   "execution_count": 250,
   "metadata": {},
   "outputs": [],
   "source": [
    "def aoc_8(tree_data):\n",
    "    res = {'idx':0, 'meta':0}\n",
    "    \n",
    "    def parse_tree():\n",
    "        num_nodes, num_meta = tree_data[res['idx']:res['idx']+2]\n",
    "        res['idx'] += 2\n",
    "        for _ in range(num_nodes):\n",
    "            parse_tree()\n",
    "        for i in range(num_meta):\n",
    "            res['meta'] += tree_data[res['idx']+i]\n",
    "        res['idx'] += num_meta\n",
    "    parse_tree()\n",
    "    return res['meta']"
   ]
  },
  {
   "cell_type": "code",
   "execution_count": 251,
   "metadata": {},
   "outputs": [
    {
     "data": {
      "text/plain": [
       "49426"
      ]
     },
     "execution_count": 251,
     "metadata": {},
     "output_type": "execute_result"
    }
   ],
   "source": [
    "aoc_8(aoc_input)"
   ]
  },
  {
   "cell_type": "code",
   "execution_count": 256,
   "metadata": {},
   "outputs": [],
   "source": [
    "def aoc_8b(tree_data):\n",
    "    res = {'idx':0, 'meta':0}\n",
    "    def parse_tree():\n",
    "        subtree = defaultdict(int)\n",
    "        num_nodes, num_meta = tree_data[res['idx']:res['idx']+2]\n",
    "        res['idx'] += 2\n",
    "        for i in range(num_nodes):\n",
    "            subtree[i+1] = parse_tree()\n",
    "        #print(subtree)\n",
    "        if num_nodes == 0:\n",
    "            tree_res = sum([metadata for metadata in tree_data[res['idx']:res['idx']+num_meta]])\n",
    "        else:\n",
    "            tree_res = sum([subtree[tree_id] for tree_id in tree_data[res['idx']:res['idx']+num_meta]])\n",
    "        res['idx'] += num_meta\n",
    "        return tree_res\n",
    "    return parse_tree()\n",
    "    return res['meta']"
   ]
  },
  {
   "cell_type": "code",
   "execution_count": 257,
   "metadata": {},
   "outputs": [
    {
     "data": {
      "text/plain": [
       "40688"
      ]
     },
     "execution_count": 257,
     "metadata": {},
     "output_type": "execute_result"
    }
   ],
   "source": [
    "aoc_8b(aoc_input)"
   ]
  },
  {
   "cell_type": "code",
   "execution_count": 286,
   "metadata": {},
   "outputs": [],
   "source": [
    "aoc_input = (411, 7105800)"
   ]
  },
  {
   "cell_type": "code",
   "execution_count": 287,
   "metadata": {},
   "outputs": [],
   "source": [
    "def aoc_9(marbles):\n",
    "    NUM_PLAYERS, NUM_MARBLES = marbles\n",
    "    scores = [0]*NUM_PLAYERS\n",
    "    table = {0:(0, 0)}\n",
    "    cur = 0\n",
    "    cur_player = 0\n",
    "    for i in range(1, NUM_MARBLES+1):\n",
    "        #print(cur, table)\n",
    "        if i % 23 == 0:\n",
    "            #return\n",
    "            for _ in range(7):\n",
    "                cur = table[cur][0]\n",
    "            scores[cur_player] += cur + i\n",
    "            prev, nxt = table[cur]\n",
    "            table[prev] = (table[prev][0], nxt)\n",
    "            table[nxt] = (prev, table[nxt][1])\n",
    "            cur = nxt\n",
    "        else:\n",
    "            cur = table[cur][1]\n",
    "            nxt = table[cur][1]\n",
    "            table[i] = (cur, nxt)\n",
    "            table[cur] = (table[cur][0], i)\n",
    "            cur = i\n",
    "            table[nxt] = (i, table[nxt][1])\n",
    "        cur_player = (cur_player+1) % NUM_PLAYERS\n",
    "    return max(scores)"
   ]
  },
  {
   "cell_type": "code",
   "execution_count": 288,
   "metadata": {},
   "outputs": [
    {
     "data": {
      "text/plain": [
       "3516007333"
      ]
     },
     "execution_count": 288,
     "metadata": {},
     "output_type": "execute_result"
    }
   ],
   "source": [
    "aoc_9(aoc_input)"
   ]
  },
  {
   "cell_type": "code",
   "execution_count": 289,
   "metadata": {},
   "outputs": [],
   "source": [
    "aoc_input = read_raw_input(10).split('\\n')"
   ]
  },
  {
   "cell_type": "code",
   "execution_count": 329,
   "metadata": {},
   "outputs": [],
   "source": [
    "def aoc_10(data):\n",
    "    full_data = np.array([int(x) for x in re.findall('-*\\d+', ' '.join(data))]).reshape(-1, 4)\n",
    "    points = full_data[:, 0:2]\n",
    "    velocities = full_data[:, 2:4]\n",
    "    \n",
    "    cycles = 0\n",
    "    while True:\n",
    "        #print(points[0], velocities[0])\n",
    "        min_x, min_y = np.min(points, axis=0)\n",
    "        max_x, max_y = np.max(points, axis=0)\n",
    "        if max_x - min_x < 10 or max_y - min_y < 10:\n",
    "            tmp = [tuple(point) for point in points]\n",
    "            #print(tmp)\n",
    "            for i in range(min_y, max_y+1):\n",
    "                for j in range(min_x, max_x+1):\n",
    "                    if (j, i) in tmp:\n",
    "                        print('#', end='')\n",
    "                    else:\n",
    "                        print('.', end='')\n",
    "                print()\n",
    "            return cycles\n",
    "        points += velocities\n",
    "        cycles += 1\n",
    "    return points, velocities"
   ]
  },
  {
   "cell_type": "code",
   "execution_count": 330,
   "metadata": {},
   "outputs": [
    {
     "name": "stdout",
     "output_type": "stream",
     "text": [
      "#####...######...####...#.......#####...#....#..######..######\n",
      "#....#..#.......#....#..#.......#....#..##...#.......#..#.....\n",
      "#....#..#.......#.......#.......#....#..##...#.......#..#.....\n",
      "#....#..#.......#.......#.......#....#..#.#..#......#...#.....\n",
      "#####...#####...#.......#.......#####...#.#..#.....#....#####.\n",
      "#..#....#.......#.......#.......#..#....#..#.#....#.....#.....\n",
      "#...#...#.......#.......#.......#...#...#..#.#...#......#.....\n",
      "#...#...#.......#.......#.......#...#...#...##..#.......#.....\n",
      "#....#..#.......#....#..#.......#....#..#...##..#.......#.....\n",
      "#....#..######...####...######..#....#..#....#..######..######\n"
     ]
    },
    {
     "data": {
      "text/plain": [
       "10007"
      ]
     },
     "execution_count": 330,
     "metadata": {},
     "output_type": "execute_result"
    }
   ],
   "source": [
    "aoc_10(aoc_input)"
   ]
  },
  {
   "cell_type": "code",
   "execution_count": 336,
   "metadata": {},
   "outputs": [],
   "source": [
    "aoc_input = 7347"
   ]
  },
  {
   "cell_type": "code",
   "execution_count": 353,
   "metadata": {},
   "outputs": [],
   "source": [
    "def aoc_11(serial_num):\n",
    "    def get_level(x, y):\n",
    "        rid = x+10\n",
    "        res = (rid*y+serial_num)*rid\n",
    "        res = ((res//100) % 10) - 5\n",
    "        return res\n",
    "    grid = {(x, y):get_level(x, y) for x in range(1, 300+1) for y in range(1, 300+1)}\n",
    "    POINTS = list(itertools.product(*[[-1, 0, 1], [-1, 0, 1]]))\n",
    "    res = []\n",
    "    for i in range(1, 300+1):\n",
    "        for j in range(1, 300+1):\n",
    "            res.append((sum([grid.get((i+point[0], j+point[1]), 0) for point in POINTS]), \n",
    "                       (i-1, j-1)))\n",
    "    return max(res)[1]"
   ]
  },
  {
   "cell_type": "code",
   "execution_count": 354,
   "metadata": {},
   "outputs": [
    {
     "data": {
      "text/plain": [
       "(243, 17)"
      ]
     },
     "execution_count": 354,
     "metadata": {},
     "output_type": "execute_result"
    }
   ],
   "source": [
    "aoc_11(aoc_input)"
   ]
  },
  {
   "cell_type": "code",
   "execution_count": 390,
   "metadata": {},
   "outputs": [],
   "source": [
    "def aoc_11b(serial_num):\n",
    "    def get_level(x, y):\n",
    "        rid = x+10\n",
    "        res = (rid*y+serial_num)*rid\n",
    "        res = ((res//100) % 10) - 5\n",
    "        return res\n",
    "    grid = {(x, y):get_level(x, y) for x in range(1, 300+1) for y in range(1, 300+1)}\n",
    "    POINTS = list(itertools.product(*[[-1, 0, 1], [-1, 0, 1]]))\n",
    "    \n",
    "    cum_grid = defaultdict(int)\n",
    "    cum_grid[(1, 1)] = grid[(1, 1)]\n",
    "    for i in range(1, 300+1):\n",
    "        for j in range(1, 300+1):\n",
    "            cum_grid[(i, j)] = cum_grid.get((i-1, j), 0) + grid[(i, j)]\n",
    "    \n",
    "    for i in range(1, 300+1):\n",
    "        for j in range(1, 300+1):\n",
    "            cum_grid[(i, j)] = cum_grid.get((i, j-1), 0) + cum_grid[(i, j)]\n",
    "         \n",
    "    max_level = 0\n",
    "    #return cum_grid\n",
    "    for dim in range(1, 300+1):\n",
    "        for i in range(1, 300+1-dim):\n",
    "            for j in range(1, 300+1-dim):\n",
    "                level = cum_grid[(i-1, j-1)] + cum_grid[(i+dim-1, j+dim-1)]\n",
    "                level -= cum_grid[(i-1, j+dim-1)] + cum_grid[(i+dim-1, j-1)]\n",
    "                if level > max_level:\n",
    "                    max_level = level\n",
    "                    max_cord = (i, j)\n",
    "                    max_dim = dim\n",
    "    return max_cord, max_dim, max_level"
   ]
  },
  {
   "cell_type": "code",
   "execution_count": 391,
   "metadata": {},
   "outputs": [
    {
     "data": {
      "text/plain": [
       "((233, 228), 12, 91)"
      ]
     },
     "execution_count": 391,
     "metadata": {},
     "output_type": "execute_result"
    }
   ],
   "source": [
    "aoc_11b(aoc_input)"
   ]
  },
  {
   "cell_type": "code",
   "execution_count": 392,
   "metadata": {},
   "outputs": [],
   "source": [
    "aoc_input = read_raw_input(12).split('\\n\\n')"
   ]
  },
  {
   "cell_type": "code",
   "execution_count": 411,
   "metadata": {},
   "outputs": [],
   "source": [
    "def aoc_12(patterns):\n",
    "    plants = patterns[0].split(': ')[1]\n",
    "    PATTERNS = {x.split(' => ')[0]:x.split(' => ')[1] for x in patterns[1].split('\\n')}\n",
    "    NUM_GENERATIONS = 20\n",
    "    for _ in range(NUM_GENERATIONS):\n",
    "        new_plants = ''\n",
    "        plants = '....' + plants + '....'\n",
    "        for i in range(2, len(plants)-2):\n",
    "            new_plants += PATTERNS[plants[i-2:i+2+1]]\n",
    "        plants = new_plants\n",
    "    return sum([i-NUM_GENERATIONS*2 for i in range(len(plants)) if plants[i] == '#'])"
   ]
  },
  {
   "cell_type": "code",
   "execution_count": 412,
   "metadata": {},
   "outputs": [
    {
     "data": {
      "text/plain": [
       "3221"
      ]
     },
     "execution_count": 412,
     "metadata": {},
     "output_type": "execute_result"
    }
   ],
   "source": [
    "aoc_12(aoc_input)"
   ]
  },
  {
   "cell_type": "code",
   "execution_count": 445,
   "metadata": {},
   "outputs": [],
   "source": [
    "def aoc_12b(patterns):\n",
    "    plants = patterns[0].split(': ')[1]\n",
    "    PATTERNS = {x.split(' => ')[0]:x.split(' => ')[1] for x in patterns[1].split('\\n')}\n",
    "    NUM_GENERATIONS = 500\n",
    "    SPEED_UP = 50000000000 - 500\n",
    "    for t in range(NUM_GENERATIONS):\n",
    "        new_plants = ''\n",
    "        plants = '....' + plants + '....'\n",
    "        for i in range(2, len(plants)-2):\n",
    "            new_plants += PATTERNS[plants[i-2:i+2+1]]\n",
    "        plants = new_plants\n",
    "    pot_shift = plants.find('#')-500*2\n",
    "    begin = plants.find('#')\n",
    "    end = plants.rfind('#')\n",
    "    return sum([i+pot_shift+SPEED_UP for i, c in enumerate(plants[begin:end+1]) if c == '#'])\n",
    "    return plants.find('#')-500*2"
   ]
  },
  {
   "cell_type": "code",
   "execution_count": 446,
   "metadata": {
    "scrolled": false
   },
   "outputs": [
    {
     "data": {
      "text/plain": [
       "2600000001872"
      ]
     },
     "execution_count": 446,
     "metadata": {},
     "output_type": "execute_result"
    }
   ],
   "source": [
    "aoc_12b(aoc_input)"
   ]
  },
  {
   "cell_type": "code",
   "execution_count": 582,
   "metadata": {},
   "outputs": [],
   "source": [
    "aoc_input = read_raw_input(13, False).split('\\n')"
   ]
  },
  {
   "cell_type": "code",
   "execution_count": 604,
   "metadata": {},
   "outputs": [],
   "source": [
    "def aoc_13(track_data):\n",
    "    TRACK = {}\n",
    "    DIRECTIONS = {'v':1, '^':-1, '<':-1j, '>':1j}\n",
    "    carts = {}\n",
    "    for i, row in enumerate(track_data):\n",
    "        for j, c in enumerate(row+' '):\n",
    "            if c not in ' .':\n",
    "                TRACK[(i+j*1j)] = c\n",
    "            if c in 'v^<>':\n",
    "                carts[(i+j*1j)] = (DIRECTIONS[c], 1j)\n",
    "    \n",
    "    def gen_cart_list():\n",
    "        tmp = sorted([(cord.real, cord.imag) for cord in carts])\n",
    "        return [(x[0]+x[1]*1j) for x in tmp]\n",
    "    \n",
    "    def get_new_direction(track, cart_data):\n",
    "        TURNS = {(1, '\\\\'):1j, (-1, '\\\\'):-1j, (-1j, '\\\\'):-1, (1j, '\\\\'):1,\n",
    "                 (1, '/'):-1j, (-1, '/'):1j, (-1j, '/'):1, (1j, '/'):-1}\n",
    "        INTERSECTION = {1j:1, 1:1/1j, 1/1j:1j}\n",
    "        if track == '+':\n",
    "            return cart_data[0]*cart_data[1], INTERSECTION[cart_data[1]]\n",
    "        else:\n",
    "            return TURNS[(cart_data[0], track)], cart_data[1]\n",
    "        \n",
    "    #return TRACK\n",
    "    \n",
    "    while True:        \n",
    "        for cart in gen_cart_list():\n",
    "            if TRACK[cart] in '/\\\\+':\n",
    "                new_direction, new_turn = get_new_direction(TRACK[cart], carts[cart])\n",
    "                #print(TRACK[cart], carts[cart], new_direction, new_turn)\n",
    "            else:\n",
    "                new_direction, new_turn = carts[cart]\n",
    "                \n",
    "            new_cord = cart + new_direction\n",
    "            if new_cord in carts:\n",
    "                return new_cord\n",
    "            del carts[cart]\n",
    "            carts[new_cord] = (new_direction, new_turn)\n",
    "            \n",
    "    return carts, gen_cart_list()"
   ]
  },
  {
   "cell_type": "code",
   "execution_count": 606,
   "metadata": {
    "scrolled": false
   },
   "outputs": [
    {
     "data": {
      "text/plain": [
       "(99+26j)"
      ]
     },
     "execution_count": 606,
     "metadata": {},
     "output_type": "execute_result"
    }
   ],
   "source": [
    "aoc_13(aoc_input)"
   ]
  },
  {
   "cell_type": "code",
   "execution_count": 613,
   "metadata": {},
   "outputs": [],
   "source": [
    "def aoc_13b(track_data):\n",
    "    TRACK = {}\n",
    "    DIRECTIONS = {'v':1, '^':-1, '<':-1j, '>':1j}\n",
    "    carts = {}\n",
    "    for i, row in enumerate(track_data):\n",
    "        for j, c in enumerate(row+' '):\n",
    "            if c not in ' .':\n",
    "                TRACK[(i+j*1j)] = c\n",
    "            if c in 'v^<>':\n",
    "                carts[(i+j*1j)] = (DIRECTIONS[c], 1j)\n",
    "    \n",
    "    def gen_cart_list():\n",
    "        tmp = sorted([(cord.real, cord.imag) for cord in carts])\n",
    "        return [(x[0]+x[1]*1j) for x in tmp]\n",
    "    \n",
    "    def get_new_direction(track, cart_data):\n",
    "        TURNS = {(1, '\\\\'):1j, (-1, '\\\\'):-1j, (-1j, '\\\\'):-1, (1j, '\\\\'):1,\n",
    "                 (1, '/'):-1j, (-1, '/'):1j, (-1j, '/'):1, (1j, '/'):-1}\n",
    "        INTERSECTION = {1j:1, 1:1/1j, 1/1j:1j}\n",
    "        if track == '+':\n",
    "            return cart_data[0]*cart_data[1], INTERSECTION[cart_data[1]]\n",
    "        else:\n",
    "            return TURNS[(cart_data[0], track)], cart_data[1]\n",
    "        \n",
    "    #return TRACK\n",
    "    \n",
    "    while True:  \n",
    "        if len(carts) == 1:\n",
    "            return carts\n",
    "        for cart in gen_cart_list():\n",
    "            if cart not in carts:\n",
    "                continue\n",
    "            if TRACK[cart] in '/\\\\+':\n",
    "                new_direction, new_turn = get_new_direction(TRACK[cart], carts[cart])\n",
    "                #print(TRACK[cart], carts[cart], new_direction, new_turn)\n",
    "            else:\n",
    "                new_direction, new_turn = carts[cart]\n",
    "                \n",
    "            new_cord = cart + new_direction\n",
    "            del carts[cart]\n",
    "            if new_cord in carts:\n",
    "                del carts[new_cord]\n",
    "                continue\n",
    "            carts[new_cord] = (new_direction, new_turn)\n",
    "            \n",
    "    return carts, gen_cart_list()"
   ]
  },
  {
   "cell_type": "code",
   "execution_count": 614,
   "metadata": {},
   "outputs": [
    {
     "data": {
      "text/plain": [
       "{(48+62j): (1j, 1j)}"
      ]
     },
     "execution_count": 614,
     "metadata": {},
     "output_type": "execute_result"
    }
   ],
   "source": [
    "aoc_13b(aoc_input)"
   ]
  },
  {
   "cell_type": "code",
   "execution_count": 615,
   "metadata": {},
   "outputs": [],
   "source": [
    "aoc_input = 635041"
   ]
  },
  {
   "cell_type": "code",
   "execution_count": 618,
   "metadata": {},
   "outputs": [],
   "source": [
    "def aoc_14(num_recipes):\n",
    "    recipes = [3, 7]\n",
    "    elf1 = 0\n",
    "    elf2 = 1\n",
    "    while len(recipes) < num_recipes+10:\n",
    "        new_recipe = recipes[elf1] + recipes[elf2]\n",
    "        if new_recipe >= 10:\n",
    "            recipes.append(1)\n",
    "        recipes.append(new_recipe%10)\n",
    "        \n",
    "        elf1 = (elf1+recipes[elf1]+1) % len(recipes)\n",
    "        elf2 = (elf2+recipes[elf2]+1) % len(recipes)\n",
    "        \n",
    "    return recipes[num_recipes:num_recipes+10]"
   ]
  },
  {
   "cell_type": "code",
   "execution_count": 620,
   "metadata": {},
   "outputs": [
    {
     "data": {
      "text/plain": [
       "[1, 1, 5, 0, 5, 1, 1, 3, 8, 2]"
      ]
     },
     "execution_count": 620,
     "metadata": {},
     "output_type": "execute_result"
    }
   ],
   "source": [
    "aoc_14(aoc_input)"
   ]
  },
  {
   "cell_type": "code",
   "execution_count": 647,
   "metadata": {},
   "outputs": [],
   "source": [
    "def aoc_14b(answer):\n",
    "    answer = [int(x) for x in list(answer)]\n",
    "    \n",
    "    recipes = [3, 7]\n",
    "    elf1 = 0\n",
    "    elf2 = 1\n",
    "    \n",
    "    cycles = 0\n",
    "    while True:\n",
    "        #print(recipes)\n",
    "        new_recipe = recipes[elf1] + recipes[elf2]\n",
    "        if new_recipe >= 10:\n",
    "            recipes.append(1)\n",
    "            if recipes[-len(answer):] == answer:\n",
    "                return len(recipes)-len(answer)\n",
    "        recipes.append(new_recipe%10)\n",
    "        if recipes[-len(answer):] == answer:\n",
    "            return len(recipes)-len(answer)\n",
    "        \n",
    "        elf1 = (elf1+recipes[elf1]+1) % len(recipes)\n",
    "        elf2 = (elf2+recipes[elf2]+1) % len(recipes)\n",
    "        cycles += 1\n",
    "        \n",
    "    return cycles, recipes[-5:]"
   ]
  },
  {
   "cell_type": "code",
   "execution_count": 648,
   "metadata": {},
   "outputs": [
    {
     "data": {
      "text/plain": [
       "20173656"
      ]
     },
     "execution_count": 648,
     "metadata": {},
     "output_type": "execute_result"
    }
   ],
   "source": [
    "aoc_14b('635041')"
   ]
  },
  {
   "cell_type": "code",
   "execution_count": 1058,
   "metadata": {},
   "outputs": [],
   "source": [
    "aoc_input = read_raw_input(15).split('\\n')"
   ]
  },
  {
   "cell_type": "code",
   "execution_count": 1153,
   "metadata": {},
   "outputs": [],
   "source": [
    "def aoc_15(battle_data, ELF_POWER=3, verbose=0):\n",
    "    DIM_X = len(battle_data)\n",
    "    DIM_Y = len(battle_data[0])\n",
    "    HEALTH = 200\n",
    "    ATTACK = 3\n",
    "    CAVE = set()\n",
    "    DIRECTIONS = [-1, -1j, 1j, 1]\n",
    "    ATTACK_SUCCEED, ATTACK_FAIL = 1, 0\n",
    "    \n",
    "    char_locations = [{}, {}]\n",
    "    char_healths = [{}, {}]\n",
    "    \n",
    "    num_cycle = 0\n",
    "    char_id = 0\n",
    "    for i, row in enumerate(battle_data):\n",
    "        for j, c in enumerate(row):\n",
    "            if c != '#':\n",
    "                CAVE.add(i+j*1j)\n",
    "            if c in 'GE':\n",
    "                char_locations[c=='G'][char_id] = i+j*1j\n",
    "                char_healths[c=='G'][char_id] = 200\n",
    "                char_id += 1\n",
    "            \n",
    "    NUM_ELF = len(char_healths[0])\n",
    "    \n",
    "    def plot_cave(candidates=set(), starting=None, target=None):\n",
    "        for i in range(DIM_X):\n",
    "            char_locs = []\n",
    "            for j in range(DIM_Y):\n",
    "                if i+j*1j in char_locations[1].values():\n",
    "                    char_locs.append(i+j*1j)\n",
    "                if i+j*1j in char_locations[0].values():\n",
    "                    char_locs.append(i+j*1j)\n",
    "                if i+j*1j == starting:\n",
    "                    print('O', end='')\n",
    "                elif i+j*1j == target:\n",
    "                    print('T', end='')\n",
    "                elif i+j*1j in candidates:\n",
    "                    print('X', end='')\n",
    "                elif i+j*1j in char_locations[1].values():\n",
    "                    print('G', end='')\n",
    "                elif i+j*1j in char_locations[0].values():\n",
    "                    print('E', end='')\n",
    "                elif i+j*1j in CAVE:\n",
    "                    print('.', end='')\n",
    "                else:\n",
    "                    print('#', end='')\n",
    "            print(' ' * 5, end='')\n",
    "            charlist = []\n",
    "            for charid, location in char_locations[1].items():\n",
    "                if location in char_locs:\n",
    "                    charlist.append(('G', char_healths[1][charid]))\n",
    "            for charid, location in char_locations[0].items():\n",
    "                if location in char_locs:\n",
    "                    charlist.append(('E', char_healths[0][charid]))\n",
    "            cstring = '|'.join([f'({char[0]}:{char[1]})' for char in charlist])\n",
    "            print(cstring, end='')\n",
    "            print()\n",
    "            \n",
    "    def gen_char_list():\n",
    "        chars = [(cord.real, cord.imag, cid) for locations in char_locations \n",
    "                 for cid, cord in locations.items()]\n",
    "        return [x[2] for x in sorted(chars)]\n",
    "    \n",
    "    def attack(char_location, is_goblin=True):\n",
    "        enemy_location = char_locations[1-is_goblin]\n",
    "        enemy_health = char_healths[1-is_goblin]\n",
    "        attack_power = ATTACK if is_goblin else ELF_POWER\n",
    "        \n",
    "        targets = [enemy for enemy, location in enemy_location.items() \n",
    "                   if location - char_location in DIRECTIONS]\n",
    "        \n",
    "        targets = sorted(targets, key = lambda x: \n",
    "                         (enemy_health[x], enemy_location[x].real, enemy_location[x].imag))\n",
    "        if targets:\n",
    "            enemy_health[targets[0]] -= attack_power\n",
    "            if enemy_health[targets[0]] <= 0:\n",
    "                del enemy_health[targets[0]]\n",
    "                del enemy_location[targets[0]]\n",
    "            return ATTACK_SUCCEED\n",
    "        return ATTACK_FAIL\n",
    "    \n",
    "    def pick_square(location, candidates, allowed_space, verbose=0):\n",
    "        paths = [location]\n",
    "        target_squares = []\n",
    "        traversed = set()\n",
    "        while paths and not target_squares:\n",
    "            new_paths = []\n",
    "            for path in paths:\n",
    "                traversed.add(path)\n",
    "                if path in candidates:\n",
    "                    target_squares.append(path)\n",
    "                new_paths += [path+d for d in DIRECTIONS if path+d in allowed_space-traversed]\n",
    "            paths = set(new_paths)\n",
    "        target = (sorted(target_squares, key=lambda x:(x.real, x.imag))+[None])[0]\n",
    "        if verbose == 2:\n",
    "            plot_cave(candidates, location, target)\n",
    "            print(location, sorted(target_squares, key=lambda x:(x.real, x.imag)))\n",
    "            print()\n",
    "        return sorted(target_squares, key=lambda x:(x.real, x.imag))\n",
    "    \n",
    "    def move(char_id, char_location, is_goblin=True, verbose=0):        \n",
    "        allowed_space = CAVE - set(char_locations[0].values()) - set(char_locations[1].values()) \n",
    "        allowed_space.add(char_location)\n",
    "        candidates = {e+d for e in char_locations[1-is_goblin].values() for d in DIRECTIONS\n",
    "                      if e+d in allowed_space}    \n",
    "        target_squares = pick_square(char_location, candidates, allowed_space, verbose)\n",
    "        if len(target_squares) == 0:\n",
    "            return\n",
    "        \n",
    "        target_square = target_squares[0]\n",
    "        if target_square == char_location:\n",
    "            return\n",
    "        candidates = {char_location+d for d in DIRECTIONS if char_location+d in allowed_space}\n",
    "        \n",
    "        move_list = pick_square(target_square, candidates, allowed_space, verbose)\n",
    "        char_locations[is_goblin][char_id] = move_list[0]\n",
    "        \n",
    "    while char_healths[0] and char_healths[1]:\n",
    "        if verbose == 1:\n",
    "            plot_cave()\n",
    "            print(char_healths[1])\n",
    "            print(char_healths[0])\n",
    "            print('*'*30, num_cycle)\n",
    "        for char in gen_char_list():\n",
    "            if char not in char_locations[0] and char not in char_locations[1]:\n",
    "                continue\n",
    "            if not char_healths[0] or not char_healths[1]:\n",
    "                break\n",
    "            is_goblin = char in char_locations[1]\n",
    "            move(char, char_locations[is_goblin][char], is_goblin, verbose)\n",
    "            attack(char_locations[is_goblin][char], is_goblin)\n",
    "        else:\n",
    "            num_cycle += 1\n",
    "    #print(num_cycle)\n",
    "    if char_healths[0]:\n",
    "        return sum(char_healths[0].values()) * num_cycle, len(char_healths[0]) == NUM_ELF\n",
    "    return sum(char_healths[1].values()) * num_cycle, False"
   ]
  },
  {
   "cell_type": "code",
   "execution_count": 1154,
   "metadata": {
    "scrolled": false
   },
   "outputs": [
    {
     "data": {
      "text/plain": [
       "(198744, False)"
      ]
     },
     "execution_count": 1154,
     "metadata": {},
     "output_type": "execute_result"
    }
   ],
   "source": [
    "aoc_15(aoc_input)"
   ]
  },
  {
   "cell_type": "code",
   "execution_count": 1155,
   "metadata": {},
   "outputs": [],
   "source": [
    "def aoc_15b(battle_data):\n",
    "    elf_power = 3\n",
    "    res = aoc_15(battle_data, elf_power)\n",
    "    while res[1] == False:\n",
    "        elf_power += 1\n",
    "        res = aoc_15(battle_data, elf_power)\n",
    "    return res[0], elf_power"
   ]
  },
  {
   "cell_type": "code",
   "execution_count": 1156,
   "metadata": {
    "scrolled": false
   },
   "outputs": [
    {
     "data": {
      "text/plain": [
       "(66510, 19)"
      ]
     },
     "execution_count": 1156,
     "metadata": {},
     "output_type": "execute_result"
    }
   ],
   "source": [
    "aoc_15b(aoc_input)"
   ]
  },
  {
   "cell_type": "code",
   "execution_count": 1157,
   "metadata": {},
   "outputs": [],
   "source": [
    "aoc_input = read_raw_input(16).split('\\n\\n')"
   ]
  },
  {
   "cell_type": "code",
   "execution_count": 1217,
   "metadata": {},
   "outputs": [],
   "source": [
    "def aoc_16(commands):\n",
    "    def run_addr(registers, inputs):\n",
    "        registers[inputs[3]] = registers[inputs[1]] + registers[inputs[2]]\n",
    "        return registers\n",
    "    \n",
    "    def run_addi(registers, inputs):\n",
    "        registers[inputs[3]] = registers[inputs[1]] + inputs[2]\n",
    "        return registers\n",
    "        \n",
    "    def run_mulr(registers, inputs):\n",
    "        registers[inputs[3]] = registers[inputs[1]] * registers[inputs[2]]\n",
    "        return registers\n",
    "    \n",
    "    def run_muli(registers, inputs):\n",
    "        registers[inputs[3]] = registers[inputs[1]] * inputs[2]\n",
    "        return registers\n",
    "        \n",
    "    def run_banr(registers, inputs):\n",
    "        registers[inputs[3]] = registers[inputs[1]] & registers[inputs[2]]\n",
    "        return registers\n",
    "    \n",
    "    def run_bani(registers, inputs):\n",
    "        registers[inputs[3]] = registers[inputs[1]] & inputs[2]\n",
    "        return registers\n",
    "    \n",
    "    def run_borr(registers, inputs):\n",
    "        registers[inputs[3]] = registers[inputs[1]] | registers[inputs[2]]\n",
    "        return registers\n",
    "    \n",
    "    def run_bori(registers, inputs):\n",
    "        registers[inputs[3]] = registers[inputs[1]] | inputs[2]\n",
    "        return registers\n",
    "    \n",
    "    def run_setr(registers, inputs):\n",
    "        registers[inputs[3]] = registers[inputs[1]]\n",
    "        return registers\n",
    "        \n",
    "    def run_seti(registers, inputs):\n",
    "        registers[inputs[3]] = inputs[1]\n",
    "        return registers\n",
    "    \n",
    "    def run_gtir(registers, inputs):\n",
    "        registers[inputs[3]] = inputs[1] > registers[inputs[2]]\n",
    "        return registers\n",
    "    \n",
    "    def run_gtri(registers, inputs):\n",
    "        registers[inputs[3]] = registers[inputs[1]] > inputs[2]\n",
    "        return registers\n",
    "    \n",
    "    def run_gtrr(registers, inputs):\n",
    "        registers[inputs[3]] = registers[inputs[1]] > registers[inputs[2]]\n",
    "        return registers\n",
    "    \n",
    "    def run_eqir(registers, inputs):\n",
    "        registers[inputs[3]] = inputs[1] == registers[inputs[2]]\n",
    "        return registers\n",
    "    \n",
    "    def run_eqri(registers, inputs):\n",
    "        registers[inputs[3]] = registers[inputs[1]] == inputs[2]\n",
    "        return registers\n",
    "    \n",
    "    def run_eqrr(registers, inputs):\n",
    "        registers[inputs[3]] = registers[inputs[1]] == registers[inputs[2]]\n",
    "        return registers\n",
    "    \n",
    "    functions = [run_addr, run_addi, run_mulr, run_muli,\n",
    "                 run_banr, run_bani, run_borr, run_bori, run_setr, run_seti, \n",
    "                 run_gtir, run_gtri, run_gtrr, run_eqir, run_eqri, run_eqrr]\n",
    "    function_mappings = {i:list(functions) for i in range(16)}\n",
    "    demos = commands[:-1]\n",
    "    res = 0\n",
    "    for demo in demos:\n",
    "        vals = [int(x) for x in re.findall('-*\\d+', demo)]\n",
    "        if not vals:\n",
    "            continue\n",
    "        registers_before = vals[:4]\n",
    "        inputs = vals[4:8]\n",
    "        registers_after = vals[8:]\n",
    "        \n",
    "        valid_mapping = []\n",
    "        function_id = inputs[0]\n",
    "        num_match = 0\n",
    "        for function in function_mappings[function_id]:\n",
    "            if function(list(registers_before), list(inputs)) == registers_after:\n",
    "                num_match += 1\n",
    "        res += num_match >= 3\n",
    "    return res"
   ]
  },
  {
   "cell_type": "code",
   "execution_count": 1218,
   "metadata": {},
   "outputs": [
    {
     "data": {
      "text/plain": [
       "636"
      ]
     },
     "execution_count": 1218,
     "metadata": {},
     "output_type": "execute_result"
    }
   ],
   "source": [
    "aoc_16(aoc_input)"
   ]
  },
  {
   "cell_type": "code",
   "execution_count": 1263,
   "metadata": {},
   "outputs": [],
   "source": [
    "def aoc_16b(commands):\n",
    "    def run_addr(registers, inputs):\n",
    "        registers[inputs[3]] = registers[inputs[1]] + registers[inputs[2]]\n",
    "        return registers\n",
    "    \n",
    "    def run_addi(registers, inputs):\n",
    "        registers[inputs[3]] = registers[inputs[1]] + inputs[2]\n",
    "        return registers\n",
    "        \n",
    "    def run_mulr(registers, inputs):\n",
    "        registers[inputs[3]] = registers[inputs[1]] * registers[inputs[2]]\n",
    "        return registers\n",
    "    \n",
    "    def run_muli(registers, inputs):\n",
    "        registers[inputs[3]] = registers[inputs[1]] * inputs[2]\n",
    "        return registers\n",
    "        \n",
    "    def run_banr(registers, inputs):\n",
    "        registers[inputs[3]] = registers[inputs[1]] & registers[inputs[2]]\n",
    "        return registers\n",
    "    \n",
    "    def run_bani(registers, inputs):\n",
    "        registers[inputs[3]] = registers[inputs[1]] & inputs[2]\n",
    "        return registers\n",
    "    \n",
    "    def run_borr(registers, inputs):\n",
    "        registers[inputs[3]] = registers[inputs[1]] | registers[inputs[2]]\n",
    "        return registers\n",
    "    \n",
    "    def run_bori(registers, inputs):\n",
    "        registers[inputs[3]] = registers[inputs[1]] | inputs[2]\n",
    "        return registers\n",
    "    \n",
    "    def run_setr(registers, inputs):\n",
    "        registers[inputs[3]] = registers[inputs[1]]\n",
    "        return registers\n",
    "        \n",
    "    def run_seti(registers, inputs):\n",
    "        registers[inputs[3]] = inputs[1]\n",
    "        return registers\n",
    "    \n",
    "    def run_gtir(registers, inputs):\n",
    "        registers[inputs[3]] = inputs[1] > registers[inputs[2]]\n",
    "        return registers\n",
    "    \n",
    "    def run_gtri(registers, inputs):\n",
    "        registers[inputs[3]] = registers[inputs[1]] > inputs[2]\n",
    "        return registers\n",
    "    \n",
    "    def run_gtrr(registers, inputs):\n",
    "        registers[inputs[3]] = registers[inputs[1]] > registers[inputs[2]]\n",
    "        return registers\n",
    "    \n",
    "    def run_eqir(registers, inputs):\n",
    "        registers[inputs[3]] = inputs[1] == registers[inputs[2]]\n",
    "        return registers\n",
    "    \n",
    "    def run_eqri(registers, inputs):\n",
    "        registers[inputs[3]] = registers[inputs[1]] == inputs[2]\n",
    "        return registers\n",
    "    \n",
    "    def run_eqrr(registers, inputs):\n",
    "        registers[inputs[3]] = registers[inputs[1]] == registers[inputs[2]]\n",
    "        return registers\n",
    "    \n",
    "    functions = [run_addr, run_addi, run_mulr, run_muli,\n",
    "                 run_banr, run_bani, run_borr, run_bori, run_setr, run_seti, \n",
    "                 run_gtir, run_gtri, run_gtrr, run_eqir, run_eqri, run_eqrr]\n",
    "    function_mappings = {i:list(functions) for i in range(16)}\n",
    "    demos = commands[:-1]\n",
    "    res = 0\n",
    "    for demo in demos:\n",
    "        vals = [int(x) for x in re.findall('-*\\d+', demo)]\n",
    "        if not vals:\n",
    "            continue\n",
    "        registers_before = vals[:4]\n",
    "        inputs = vals[4:8]\n",
    "        registers_after = vals[8:]\n",
    "        \n",
    "        valid_mapping = []\n",
    "        function_id = inputs[0]\n",
    "        num_match = 0\n",
    "        for function in function_mappings[function_id]:\n",
    "            if function(list(registers_before), list(inputs)) == registers_after:\n",
    "                valid_mapping.append(function)\n",
    "        function_mappings[function_id] = valid_mapping\n",
    "    \n",
    "    mapping_matrix = np.zeros((16, 16))\n",
    "    for function_id, function_mapping in function_mappings.items():\n",
    "        for function in function_mapping:\n",
    "            mapping_matrix[function_id, functions.index(function)] = 1\n",
    "    \n",
    "    while np.sum(mapping_matrix) > 16:\n",
    "        #print(mapping_matrix)\n",
    "        for i in range(16):\n",
    "            if np.sum(mapping_matrix[i, :]) == 1:\n",
    "                idx = np.argmax(mapping_matrix[i, :])\n",
    "                mapping_matrix[:, idx] = 0\n",
    "                mapping_matrix[i, idx] = 1\n",
    "    final_mapping = {}\n",
    "    for i in range(16):\n",
    "        idx = np.argmax(mapping_matrix[i, :])\n",
    "        final_mapping[i] = functions[idx]\n",
    "    \n",
    "    registers = [0]*4\n",
    "    for command in commands[-1].split('\\n'):\n",
    "        vals = [int(x) for x in re.findall('\\d+', command)]\n",
    "        function = final_mapping[vals[0]]\n",
    "        registers = function(registers, vals)\n",
    "    return registers[0]"
   ]
  },
  {
   "cell_type": "code",
   "execution_count": 1264,
   "metadata": {},
   "outputs": [
    {
     "data": {
      "text/plain": [
       "674"
      ]
     },
     "execution_count": 1264,
     "metadata": {},
     "output_type": "execute_result"
    }
   ],
   "source": [
    "aoc_16b(aoc_input)"
   ]
  },
  {
   "cell_type": "code",
   "execution_count": 1265,
   "metadata": {},
   "outputs": [],
   "source": [
    "aoc_input = read_raw_input(17).split('\\n')"
   ]
  },
  {
   "cell_type": "code",
   "execution_count": 1304,
   "metadata": {},
   "outputs": [],
   "source": [
    "t = '''x=495, y=2..7\n",
    "y=7, x=495..501\n",
    "x=501, y=3..7\n",
    "x=498, y=2..4\n",
    "x=506, y=1..2\n",
    "x=498, y=10..13\n",
    "x=504, y=10..13\n",
    "y=13, x=498..504'''.split('\\n')"
   ]
  },
  {
   "cell_type": "code",
   "execution_count": 1466,
   "metadata": {},
   "outputs": [],
   "source": [
    "def aoc_17(clays):\n",
    "    CLAY = -1\n",
    "    EMPTY = 0\n",
    "    FLOW_WATER = 1\n",
    "    STILL_WATER = 2\n",
    "    ASCII = {CLAY:'#', EMPTY:'.', FLOW_WATER:'|', STILL_WATER:'~'}\n",
    "    \n",
    "    fall_points = []\n",
    "    expand_points = []\n",
    "    def plot_grid(min_x, max_x, min_y, max_y):\n",
    "        for i in range(min_y, max_y):\n",
    "            for j in range(min_x, max_x):\n",
    "                print(ASCII[clay_grid[i, j]], end='')                    \n",
    "            print()\n",
    "    \n",
    "    def water_fall(cord):\n",
    "        #print('fall', cord)\n",
    "        y, x = cord\n",
    "        while y < DIM_Y:\n",
    "            clay_grid[y, x] = FLOW_WATER\n",
    "            if clay_grid[y+1, x] in [STILL_WATER, CLAY]:\n",
    "                expand_points.append((y, x))\n",
    "                return\n",
    "            y += 1\n",
    "        \n",
    "    def water_expand(cord):\n",
    "        y, x = cord\n",
    "        if clay_grid[y, x] == STILL_WATER:\n",
    "            return\n",
    "        #print('expand', cord)\n",
    "        left_expand = right_expand = x\n",
    "        left_bound = right_bound = False\n",
    "        while left_expand > 0:\n",
    "            if clay_grid[y, left_expand-1] == CLAY and clay_grid[y+1, left_expand] in [CLAY, STILL_WATER]:\n",
    "                left_bound = True\n",
    "                break\n",
    "            if clay_grid[y+1, left_expand] in [EMPTY, FLOW_WATER]:\n",
    "                left_bound = False\n",
    "                break\n",
    "            left_expand -= 1\n",
    "        while right_expand < DIM_X:\n",
    "            if clay_grid[y, right_expand+1] == CLAY and clay_grid[y+1, right_expand] in [CLAY, STILL_WATER]:\n",
    "                right_bound = True\n",
    "                break\n",
    "            if clay_grid[y+1, right_expand] in [EMPTY, FLOW_WATER]:\n",
    "                right_bound = False\n",
    "                break\n",
    "            right_expand += 1\n",
    "        #print(left_bound, right_bound)\n",
    "        if left_bound and right_bound:\n",
    "            clay_grid[y, left_expand:right_expand+1] = STILL_WATER\n",
    "            expand_points.append((y-1, x))\n",
    "            return\n",
    "        if not left_bound:\n",
    "            fall_points.append((y, left_expand))\n",
    "        if not right_bound:\n",
    "            fall_points.append((y, right_expand))\n",
    "        clay_grid[y, left_expand:right_expand+1] = FLOW_WATER\n",
    "            \n",
    "    grid = set()\n",
    "    for clay in clays:\n",
    "        vals = [int(x) for x in re.findall('\\d+', clay)]\n",
    "        if clay[0] == 'y':\n",
    "            for j in range(vals[1], vals[2]+1):\n",
    "                grid.add(vals[0]+j*1j)\n",
    "        else:\n",
    "            for i in range(vals[1], vals[2]+1):\n",
    "                grid.add(i+vals[0]*1j)\n",
    "    DIM_X = int(max([x.imag for x in grid])+1)\n",
    "    DIM_Y = int(max([x.real for x in grid])+1)\n",
    "    Y_START = int(min([x.real for x in grid]))\n",
    "    \n",
    "    clay_grid = np.zeros((DIM_Y+1, DIM_X+1))\n",
    "    for j in range(DIM_X):\n",
    "        for i in range(DIM_Y):\n",
    "            if i+j*1j in grid:\n",
    "                clay_grid[i, j] = CLAY\n",
    "                \n",
    "    fall_points.append((0, 500))\n",
    "    clay_grid[0, 500] = FLOW_WATER\n",
    "    while fall_points or expand_points:\n",
    "        while fall_points:\n",
    "            water_fall(fall_points.pop())\n",
    "        while expand_points:\n",
    "            water_expand(expand_points.pop())\n",
    "    return np.sum(clay_grid[Y_START:DIM_Y, :] == STILL_WATER)"
   ]
  },
  {
   "cell_type": "code",
   "execution_count": 1465,
   "metadata": {
    "scrolled": true
   },
   "outputs": [
    {
     "data": {
      "text/plain": [
       "25419"
      ]
     },
     "execution_count": 1465,
     "metadata": {},
     "output_type": "execute_result"
    }
   ],
   "source": [
    "aoc_17(aoc_input)"
   ]
  },
  {
   "cell_type": "code",
   "execution_count": 1509,
   "metadata": {},
   "outputs": [],
   "source": [
    "aoc_input = read_raw_input(18).split('\\n')"
   ]
  },
  {
   "cell_type": "code",
   "execution_count": 1533,
   "metadata": {},
   "outputs": [],
   "source": [
    "def aoc_18(x):\n",
    "    grid = defaultdict(int)\n",
    "    grid_sum = defaultdict(int)\n",
    "    DIRECTIONS = {1, -1, 1j, -1j, 1+1j, 1-1j, -1+1j, -1-1j}\n",
    "    for i, row in enumerate(x):\n",
    "        for j, c in enumerate(row):\n",
    "            if c == '|':\n",
    "                grid[i+j*1j] = 1\n",
    "            if c == '#':\n",
    "                grid[i+j*1j] = 1j\n",
    "            if c == '.':\n",
    "                grid[i+j*1j] = 0\n",
    "    cords = list(grid.keys())\n",
    "    states = defaultdict(int)\n",
    "    num_loops = 1000000000\n",
    "    results = []\n",
    "    while num_loops > 0:\n",
    "        new_state = tuple([grid[cord] for cord in cords])\n",
    "        if states[new_state] == 1:\n",
    "            results.append(sum(grid.values()).imag * sum(grid.values()).real)\n",
    "        if states[new_state] == 2:\n",
    "            return results[num_loops%(len(results))]\n",
    "        states[new_state] += 1\n",
    "        for cord in cords:\n",
    "            grid_sum[cord] = sum([grid[cord+d] for d in DIRECTIONS])\n",
    "        for cord in cords:\n",
    "            if grid[cord] == 1 and grid_sum[cord].imag >= 3:\n",
    "                grid[cord] = 1j\n",
    "            elif grid[cord] == 1j and (grid_sum[cord].imag == 0 or grid_sum[cord].real == 0):\n",
    "                grid[cord] =  0\n",
    "            elif grid[cord] == 0 and grid_sum[cord].real >= 3:\n",
    "                grid[cord] = 1\n",
    "        num_loops -= 1\n",
    "    return sum(grid.values()).imag * sum(grid.values()).real"
   ]
  },
  {
   "cell_type": "code",
   "execution_count": 1534,
   "metadata": {
    "scrolled": true
   },
   "outputs": [
    {
     "data": {
      "text/plain": [
       "190512.0"
      ]
     },
     "execution_count": 1534,
     "metadata": {},
     "output_type": "execute_result"
    }
   ],
   "source": [
    "aoc_18(aoc_input)"
   ]
  },
  {
   "cell_type": "code",
   "execution_count": 1535,
   "metadata": {},
   "outputs": [],
   "source": [
    "aoc_input = read_raw_input(19).split('\\n')"
   ]
  },
  {
   "cell_type": "code",
   "execution_count": 1596,
   "metadata": {},
   "outputs": [],
   "source": [
    "def aoc_19(commands):\n",
    "    registers = defaultdict(int)\n",
    "    registers[0] = 1\n",
    "    IDX_REGISTER = int(commands[0].split()[-1])\n",
    "    COMMANDS = commands[1:]\n",
    "    \n",
    "    def run_addr(inputs):\n",
    "        registers[inputs[2]] = registers[inputs[0]] + registers[inputs[1]]\n",
    "    \n",
    "    def run_addi(inputs):\n",
    "        registers[inputs[2]] = registers[inputs[0]] + inputs[1]\n",
    "        \n",
    "    def run_mulr(inputs):\n",
    "        registers[inputs[2]] = registers[inputs[0]] * registers[inputs[1]]\n",
    "    \n",
    "    def run_muli(inputs):\n",
    "        registers[inputs[2]] = registers[inputs[0]] * inputs[1]\n",
    "        \n",
    "    def run_banr(inputs):\n",
    "        registers[inputs[2]] = registers[inputs[0]] & registers[inputs[1]]\n",
    "    \n",
    "    def run_bani(inputs):\n",
    "        registers[inputs[2]] = registers[inputs[0]] & inputs[1]\n",
    "    \n",
    "    def run_borr(inputs):\n",
    "        registers[inputs[2]] = registers[inputs[0]] | registers[inputs[1]]\n",
    "    \n",
    "    def run_bori(inputs):\n",
    "        registers[inputs[2]] = registers[inputs[0]] | inputs[1]\n",
    "    \n",
    "    def run_setr(inputs):\n",
    "        registers[inputs[2]] = registers[inputs[0]]\n",
    "        \n",
    "    def run_seti(inputs):\n",
    "        registers[inputs[2]] = inputs[0]\n",
    "    \n",
    "    def run_gtir(inputs):\n",
    "        registers[inputs[2]] = inputs[0] > registers[inputs[1]]\n",
    "    \n",
    "    def run_gtri(inputs):\n",
    "        registers[inputs[2]] = registers[inputs[0]] > inputs[1]\n",
    "    \n",
    "    def run_gtrr(inputs):\n",
    "        registers[inputs[2]] = registers[inputs[0]] > registers[inputs[1]]\n",
    "    \n",
    "    def run_eqir(inputs):\n",
    "        registers[inputs[2]] = inputs[0] == registers[inputs[1]]\n",
    "    \n",
    "    def run_eqri(inputs):\n",
    "        registers[inputs[2]] = registers[inputs[0]] == inputs[1]\n",
    "    \n",
    "    def run_eqrr(inputs):\n",
    "        registers[inputs[2]] = registers[inputs[0]] == registers[inputs[1]]\n",
    "    \n",
    "    functions = {'addr':run_addr, 'addi':run_addi,'mulr': run_mulr, 'muli':run_muli,\n",
    "                 'banr':run_banr, 'bani':run_bani, 'borr':run_borr, 'bori':run_bori, \n",
    "                 'setr':run_setr, 'seti':run_seti, 'gtir':run_gtir, 'gtri':run_gtri, \n",
    "                 'gtrr':run_gtrr, 'eqir':run_eqir, 'eqri':run_eqri, 'eqrr':run_eqrr}\n",
    "    \n",
    "    while 0 <= registers[IDX_REGISTER] < len(COMMANDS):\n",
    "        idx = registers[IDX_REGISTER]\n",
    "        command = COMMANDS[idx].split()\n",
    "        if idx == 9:\n",
    "            #print('speed_up_loop 1')\n",
    "            if registers[3] * registers[1] < registers[2]:\n",
    "                run_seti([registers[2]//registers[3], 1, 1])\n",
    "            elif registers[1] < registers[2]:\n",
    "                run_seti([registers[2]+1, 1, 1])\n",
    "        if idx == 13:\n",
    "            if registers[3]**2 > registers[2]:\n",
    "            #print('speed_up_loop 2')\n",
    "                run_seti([2, 3, 3])\n",
    "        print(idx, command, [(i, int(registers[i])) for i in range(6)])\n",
    "        #print(registers)\n",
    "        vals = [int(x) for x in command[1:]]\n",
    "        functions[command[0]](vals)\n",
    "        registers[IDX_REGISTER] += 1\n",
    "    \n",
    "    return registers[0]\n",
    "    "
   ]
  },
  {
   "cell_type": "code",
   "execution_count": 1600,
   "metadata": {},
   "outputs": [
    {
     "data": {
      "text/plain": [
       "27024480.0"
      ]
     },
     "execution_count": 1600,
     "metadata": {},
     "output_type": "execute_result"
    }
   ],
   "source": [
    "res = 0\n",
    "num = 1\n",
    "while num**2 < 10551432:\n",
    "    if 10551432%num == 0:\n",
    "        res += num\n",
    "        res += 10551432/num\n",
    "    num += 1\n",
    "res"
   ]
  },
  {
   "cell_type": "code",
   "execution_count": 81,
   "metadata": {},
   "outputs": [],
   "source": [
    "aoc_input = read_raw_input(20)[1:-1]"
   ]
  },
  {
   "cell_type": "code",
   "execution_count": 220,
   "metadata": {},
   "outputs": [],
   "source": [
    "def aoc_20(gates_data):\n",
    "    DIRECTIONS = {'N':-1, 'S':1, 'E':1j, 'W':-1j}\n",
    "    dp = {}\n",
    "    branch_lookup = {}\n",
    "    \n",
    "    def resolve_branch(branch_string):\n",
    "        if branch_string in branch_lookup:\n",
    "            return f'*{branch_lookup[branch_string]}*'\n",
    "        branch_id = f'{len(branch_lookup)}'\n",
    "        branch_lookup[branch_string] = branch_id\n",
    "        doors = set()\n",
    "        endpoints = set()\n",
    "        for branch in branch_string[1:-1].split('|'):\n",
    "            branch_doors, branch_endpoints = resolve_string(branch)\n",
    "            doors = doors.union(branch_doors)\n",
    "            endpoints = endpoints.union(branch_endpoints)\n",
    "        dp[branch_id] = (doors, endpoints)\n",
    "        return f'*{branch_lookup[branch_string]}*'\n",
    "    \n",
    "    def resolve_string(gate_string):\n",
    "        distances = {}\n",
    "        endpoints = {0}\n",
    "        doors = set()\n",
    "        i = 0\n",
    "        while i < len(gate_string):\n",
    "            if gate_string[i] == '*':\n",
    "                token_length = gate_string[i+1:].find('*')\n",
    "                token = gate_string[i+1:i+1+token_length]\n",
    "                i += token_length+2\n",
    "                \n",
    "                branch_doors, branch_endpoints = dp[token]\n",
    "                new_endpoints = set()\n",
    "                for endpoint in endpoints:\n",
    "                    doors = doors.union({(door[0]+endpoint, door[1]+endpoint) for door in branch_doors})\n",
    "                    new_endpoints = new_endpoints.union({endpoint+branch_endpoint \n",
    "                                                        for branch_endpoint in branch_endpoints})\n",
    "                \n",
    "            else:\n",
    "                new_endpoints = set()\n",
    "                for endpoint in endpoints:\n",
    "                    new_endpoint = endpoint+DIRECTIONS[gate_string[i]]\n",
    "                    doors.add((endpoint, new_endpoint))\n",
    "                    doors.add((new_endpoint, endpoint))\n",
    "                    new_endpoints.add(new_endpoint)\n",
    "                endpoints = new_endpoints\n",
    "                i += 1\n",
    "        return doors, endpoints\n",
    "        \n",
    "    def encode_gates(gates, cord=0, distance=0):\n",
    "        while ')' in gates:\n",
    "            branch_end = gates.find(')')\n",
    "            branch_begin = gates[:branch_end].rfind('(')\n",
    "            branch = resolve_branch(gates[branch_begin:branch_end+1])\n",
    "            gates = gates[:branch_begin] + branch + gates[branch_end+1:]\n",
    "        return gates\n",
    "    \n",
    "    paths = {0}\n",
    "    distance = -1\n",
    "    traversed = set()\n",
    "    s = encode_gates(gates_data)\n",
    "    facility, endpoints = resolve_string(s)\n",
    "    res = 0\n",
    "    while paths:\n",
    "        new_paths = []\n",
    "        for path in paths:\n",
    "            traversed.add(path)\n",
    "            new_paths += [path+d for d in DIRECTIONS.values() \n",
    "                          if (path, path+d) in facility and path+d not in traversed]\n",
    "        distance += 1\n",
    "        if distance >= 1000:\n",
    "            res += len(paths)\n",
    "        paths = set(new_paths)\n",
    "    return distance, res\n",
    "    "
   ]
  },
  {
   "cell_type": "code",
   "execution_count": 221,
   "metadata": {},
   "outputs": [
    {
     "data": {
      "text/plain": [
       "(3725, 8541)"
      ]
     },
     "execution_count": 221,
     "metadata": {},
     "output_type": "execute_result"
    }
   ],
   "source": [
    "aoc_20(aoc_input)"
   ]
  },
  {
   "cell_type": "code",
   "execution_count": 222,
   "metadata": {},
   "outputs": [],
   "source": [
    "aoc_input = read_raw_input(21).split('\\n')"
   ]
  },
  {
   "cell_type": "code",
   "execution_count": 362,
   "metadata": {},
   "outputs": [],
   "source": [
    "def aoc_21(commands):\n",
    "    registers = defaultdict(int)\n",
    "    #registers[0] = 3345459\n",
    "    IDX_REGISTER = int(commands[0].split()[-1])\n",
    "    COMMANDS = commands[1:]\n",
    "    \n",
    "    def run_addr(inputs):\n",
    "        registers[inputs[2]] = registers[inputs[0]] + registers[inputs[1]]\n",
    "    \n",
    "    def run_addi(inputs):\n",
    "        registers[inputs[2]] = registers[inputs[0]] + inputs[1]\n",
    "        \n",
    "    def run_mulr(inputs):\n",
    "        registers[inputs[2]] = registers[inputs[0]] * registers[inputs[1]]\n",
    "    \n",
    "    def run_muli(inputs):\n",
    "        registers[inputs[2]] = registers[inputs[0]] * inputs[1]\n",
    "        \n",
    "    def run_banr(inputs):\n",
    "        registers[inputs[2]] = registers[inputs[0]] & registers[inputs[1]]\n",
    "    \n",
    "    def run_bani(inputs):\n",
    "        registers[inputs[2]] = registers[inputs[0]] & inputs[1]\n",
    "    \n",
    "    def run_borr(inputs):\n",
    "        registers[inputs[2]] = registers[inputs[0]] | registers[inputs[1]]\n",
    "    \n",
    "    def run_bori(inputs):\n",
    "        registers[inputs[2]] = registers[inputs[0]] | inputs[1]\n",
    "    \n",
    "    def run_setr(inputs):\n",
    "        registers[inputs[2]] = registers[inputs[0]]\n",
    "        \n",
    "    def run_seti(inputs):\n",
    "        registers[inputs[2]] = inputs[0]\n",
    "    \n",
    "    def run_gtir(inputs):\n",
    "        registers[inputs[2]] = inputs[0] > registers[inputs[1]]\n",
    "    \n",
    "    def run_gtri(inputs):\n",
    "        registers[inputs[2]] = registers[inputs[0]] > inputs[1]\n",
    "    \n",
    "    def run_gtrr(inputs):\n",
    "        registers[inputs[2]] = registers[inputs[0]] > registers[inputs[1]]\n",
    "    \n",
    "    def run_eqir(inputs):\n",
    "        registers[inputs[2]] = inputs[0] == registers[inputs[1]]\n",
    "    \n",
    "    def run_eqri(inputs):\n",
    "        registers[inputs[2]] = registers[inputs[0]] == inputs[1]\n",
    "    \n",
    "    def run_eqrr(inputs):\n",
    "        registers[inputs[2]] = registers[inputs[0]] == registers[inputs[1]]\n",
    "    \n",
    "    functions = {'addr':run_addr, 'addi':run_addi,'mulr': run_mulr, 'muli':run_muli,\n",
    "                 'banr':run_banr, 'bani':run_bani, 'borr':run_borr, 'bori':run_bori, \n",
    "                 'setr':run_setr, 'seti':run_seti, 'gtir':run_gtir, 'gtri':run_gtri, \n",
    "                 'gtrr':run_gtrr, 'eqir':run_eqir, 'eqri':run_eqri, 'eqrr':run_eqrr}\n",
    "    \n",
    "    tracker = defaultdict(int)\n",
    "    last_v = 0\n",
    "    while 0 <= registers[IDX_REGISTER] < len(COMMANDS):\n",
    "        idx = registers[IDX_REGISTER]\n",
    "        command = COMMANDS[idx].split()\n",
    "        if idx == 24 and registers[4] > registers[5] *  270 and registers[4] > 300:\n",
    "            #print('speed up')\n",
    "            #print([(i, int(registers[i])) for i in range(6)])\n",
    "            registers[5] = registers[4]//256 - 1\n",
    "            idx += 1\n",
    "            continue\n",
    "        if idx == 28:\n",
    "            pass\n",
    "            #tracker[registers[1]] += 1\n",
    "            #if tracker[registers[1]] == 2:\n",
    "            #    return last_v, tracker\n",
    "            #last_v = tracker[registers[1]]\n",
    "            print([(i, int(registers[i])) for i in range(6)])\n",
    "        #print(idx, command, [(i, int(registers[i])) for i in range(6)])\n",
    "        #print([(i, int(registers[i])) for i in range(6)])\n",
    "        vals = [int(x) for x in command[1:]]\n",
    "        functions[command[0]](vals)\n",
    "        registers[IDX_REGISTER] += 1\n",
    "    \n",
    "    return registers[0]\n",
    "    "
   ]
  },
  {
   "cell_type": "code",
   "execution_count": 375,
   "metadata": {},
   "outputs": [
    {
     "name": "stdout",
     "output_type": "stream",
     "text": [
      "repeat 16006745 after 12454\n"
     ]
    },
    {
     "data": {
      "text/plain": [
       "5857354"
      ]
     },
     "execution_count": 375,
     "metadata": {},
     "output_type": "execute_result"
    }
   ],
   "source": [
    "def aoc_21helper():\n",
    "    states = set()\n",
    "    x = 12262664\n",
    "    y = 65536\n",
    "    while True:\n",
    "        if y < 256:\n",
    "            if x in states:\n",
    "                print('repeat', x, 'after', len(states))\n",
    "                return last_x\n",
    "            last_x = x\n",
    "            states.add(x)\n",
    "            y = 65536 | x\n",
    "            x = 16298264\n",
    "        else:\n",
    "            y //= 256\n",
    "        x += y&255\n",
    "        x *= 65899\n",
    "        x &= 16777215\n",
    "        #print(x, y)\n",
    "aoc_21helper()"
   ]
  },
  {
   "cell_type": "code",
   "execution_count": 386,
   "metadata": {},
   "outputs": [],
   "source": [
    "aoc_input = [int(x) for x in re.findall('\\d+', read_raw_input(22))]"
   ]
  },
  {
   "cell_type": "code",
   "execution_count": 393,
   "metadata": {},
   "outputs": [],
   "source": [
    "def aoc_22(cord):\n",
    "    DEPTH, TARGET_X, TARGET_Y = cord\n",
    "    X_CONST = 16807\n",
    "    Y_CONST = 48271\n",
    "    GEO_MOD = 20183\n",
    "    \n",
    "    cave = {}\n",
    "    for i in range(0, TARGET_X+1):\n",
    "        cave[i*1j] = (i*X_CONST + DEPTH) % GEO_MOD\n",
    "    for i in range(1 ,TARGET_Y+1):\n",
    "        cave[i] = (i*Y_CONST + DEPTH) % GEO_MOD\n",
    "    for i in range(1, TARGET_Y+1):\n",
    "        for j in range(1, TARGET_X+1):\n",
    "            cave[i+j*1j] = (cave[i-1+j*1j] * cave[i+(j-1)*1j] + DEPTH) % GEO_MOD\n",
    "    \n",
    "    cave[TARGET_X*1j+TARGET_Y] = DEPTH % GEO_MOD\n",
    "    \n",
    "    return sum([v%3 for v in cave.values()])\n",
    "            \n",
    "            "
   ]
  },
  {
   "cell_type": "code",
   "execution_count": 394,
   "metadata": {},
   "outputs": [
    {
     "data": {
      "text/plain": [
       "7402"
      ]
     },
     "execution_count": 394,
     "metadata": {},
     "output_type": "execute_result"
    }
   ],
   "source": [
    "aoc_22(aoc_input)"
   ]
  },
  {
   "cell_type": "code",
   "execution_count": 435,
   "metadata": {},
   "outputs": [],
   "source": [
    "def aoc_22b(input_data):\n",
    "    DIRECTIONS = {1, -1, 1j, -1j}\n",
    "    ROCKY, WET, NARROW = [0, 1, 2]\n",
    "    NEITHER, TORCH, CLIMBING = [0, 1, 2]\n",
    "    TARGET = input_data[1]*1j + input_data[2]\n",
    "    DELAY = 7\n",
    "  \n",
    "    def get_risk(cord):\n",
    "        DEPTH = input_data[0]\n",
    "        TARGET = input_data[1]*1j + input_data[2]\n",
    "        X_CONST = 16807\n",
    "        Y_CONST = 48271\n",
    "        GEO_MOD = 20183\n",
    "        if cord in cave:\n",
    "            return cave[cord]\n",
    "        if cord == 0 or cord == TARGET:\n",
    "            cave[cord] = DEPTH%GEO_MOD\n",
    "            return cave[cord]\n",
    "        if cord.real == 0:\n",
    "            cave[cord] = (cord.imag * X_CONST + DEPTH) % GEO_MOD\n",
    "            return cave[cord]\n",
    "        if cord.imag == 0:\n",
    "            cave[cord] = (cord.real * Y_CONST + DEPTH) % GEO_MOD\n",
    "            return cave[cord]\n",
    "        cave[cord] = (get_risk(cord-1) * get_risk(cord-1j) + DEPTH) % GEO_MOD\n",
    "        return cave[cord]\n",
    "        \n",
    "    cave = {}\n",
    "    paths = {(0, 1)}\n",
    "    delay_paths = defaultdict(list)\n",
    "    num_steps = 0\n",
    "    traversed = set()\n",
    "    while paths or delay_paths:\n",
    "        new_paths = []\n",
    "        if num_steps in delay_paths:\n",
    "            new_paths += [p for p in delay_paths[num_steps] if p not in traversed]\n",
    "            del delay_paths[num_steps]\n",
    "        for path in paths:\n",
    "            traversed.add(path)\n",
    "            if path == (TARGET, 1):\n",
    "                return num_steps\n",
    "            for step in DIRECTIONS:\n",
    "                new_path = path[0]+step\n",
    "                if new_path.real < 0 or new_path.imag < 0 or (new_path, path[1]) in traversed:\n",
    "                    continue\n",
    "                if get_risk(new_path)%3 != path[1]:\n",
    "                    new_paths.append((new_path, path[1]))\n",
    "            for i in range(3):\n",
    "                if i != path[1] and i != get_risk(path[0])%3 and (path[0], i) not in traversed:\n",
    "                    delay_paths[num_steps+DELAY-1].append((path[0], i))\n",
    "                        \n",
    "        paths = set(new_paths)\n",
    "        num_steps += 1\n",
    "    return num_steps"
   ]
  },
  {
   "cell_type": "code",
   "execution_count": 436,
   "metadata": {
    "scrolled": false
   },
   "outputs": [
    {
     "data": {
      "text/plain": [
       "1025"
      ]
     },
     "execution_count": 436,
     "metadata": {},
     "output_type": "execute_result"
    }
   ],
   "source": [
    "aoc_22b(aoc_input)"
   ]
  },
  {
   "cell_type": "code",
   "execution_count": 437,
   "metadata": {},
   "outputs": [],
   "source": [
    "aoc_input = read_raw_input(23).split('\\n')"
   ]
  },
  {
   "cell_type": "code",
   "execution_count": 453,
   "metadata": {},
   "outputs": [],
   "source": [
    "def aoc_23(nanobots):\n",
    "    bots = []\n",
    "    radii = []\n",
    "    for nanobot in nanobots:\n",
    "        data = [int(x) for x in re.findall('-*\\d+', nanobot)]\n",
    "        radii.append(data[3])\n",
    "        bots.append(np.array(data[:3]))\n",
    "    bot = np.argmax(radii)\n",
    "    return np.sum(np.sum(np.abs(bots[bot] - bots), axis=1) <= radii[bot])\n",
    "        "
   ]
  },
  {
   "cell_type": "code",
   "execution_count": 455,
   "metadata": {},
   "outputs": [
    {
     "data": {
      "text/plain": [
       "619"
      ]
     },
     "execution_count": 455,
     "metadata": {},
     "output_type": "execute_result"
    }
   ],
   "source": [
    "aoc_23(aoc_input)"
   ]
  },
  {
   "cell_type": "code",
   "execution_count": 849,
   "metadata": {},
   "outputs": [],
   "source": [
    "def aoc_23b(nanobots):\n",
    "    lower_xpypz = []\n",
    "    upper_xpypz = []\n",
    "    lower_xpymz = []\n",
    "    upper_xpymz = []\n",
    "    lower_xmypz = []\n",
    "    upper_xmypz = []\n",
    "    lower_xmymz = []\n",
    "    upper_xmymz = []\n",
    "    bot_data = []\n",
    "    radii = []\n",
    "    for i, nanobot in enumerate(nanobots):\n",
    "        data = [int(x) for x in re.findall('-*\\d+', nanobot)]\n",
    "        bot = np.array(data[:3])\n",
    "        bot_data.append(bot)\n",
    "        radii.append(data[3])\n",
    "        \n",
    "        left_point = (data[0]-data[3], data[1], data[2])\n",
    "        right_point = (data[0]+data[3], data[1], data[2])\n",
    "        \n",
    "        lower_xpypz.append((left_point[0]+left_point[1]+left_point[2], i))\n",
    "        upper_xpypz.append((right_point[0]+right_point[1]+right_point[2], i))\n",
    "        lower_xpymz.append((left_point[0]+left_point[1]-left_point[2], i))\n",
    "        upper_xpymz.append((right_point[0]+right_point[1]-right_point[2], i))\n",
    "        lower_xmypz.append((left_point[0]-left_point[1]+left_point[2], i))\n",
    "        upper_xmypz.append((right_point[0]-right_point[1]+right_point[2], i))\n",
    "        lower_xmymz.append((left_point[0]-left_point[1]-left_point[2], i))\n",
    "        upper_xmymz.append((right_point[0]-right_point[1]-right_point[2], i))\n",
    "    \n",
    "    def get_clusters(lower, upper):\n",
    "        lower = sorted(lower)\n",
    "        upper = sorted(upper)\n",
    "        #print(lower, upper)\n",
    "        include = []\n",
    "        exclude = []\n",
    "        res = []\n",
    "        idx_l = idx_r = 0\n",
    "        while idx_l < len(lower):\n",
    "            #print('adding', idx_l, idx_r)\n",
    "            while idx_l < len(lower) and lower[idx_l][0] <= upper[idx_r][0]:\n",
    "                include.append(lower[idx_l][1])\n",
    "                #print(include[-1])\n",
    "                idx_l += 1\n",
    "            res.append(set(include)-set(exclude))\n",
    "            #print('removing', idx_l, idx_r)\n",
    "            while idx_l < len(lower) and upper[idx_r][0] < lower[idx_l][0]:\n",
    "                exclude.append(upper[idx_r][1])\n",
    "                #print(exclude[-1])\n",
    "                idx_r += 1\n",
    "        #print(res)\n",
    "        return res\n",
    "        \n",
    "    clusters = []\n",
    "    clusters.append(get_clusters(lower_xpypz, upper_xpypz))\n",
    "    clusters.append(get_clusters(lower_xpymz, upper_xpymz))\n",
    "    clusters.append(get_clusters(lower_xmypz, upper_xmypz))\n",
    "    clusters.append(get_clusters(lower_xmymz, upper_xmymz))\n",
    "    \n",
    "    nanocombos = clusters[0]\n",
    "    #print(nanocombos)\n",
    "    for cluster in clusters[1:]:\n",
    "        #print(cluster)\n",
    "        new_combos = []\n",
    "        for nanocombo in nanocombos:\n",
    "            for c in cluster:\n",
    "                new_combos.append(nanocombo.intersection(c))\n",
    "                #print(new_combos)\n",
    "        nanocombos = new_combos\n",
    "    max_num = max([len(nanocombo) for nanocombo in nanocombos])\n",
    "    print(sorted([len(nanocombo) for nanocombo in nanocombos], reverse=True)[:10])\n",
    "    max_combo = [nanocombo for nanocombo in nanocombos if len(nanocombo) == max_num].pop()\n",
    "    \n",
    "    min_xpypz = max([lower_xpypz[i][0] for i in range(len(lower_xpypz)) if i in max_combo])\n",
    "    max_xpypz = min([upper_xpypz[i][0] for i in range(len(upper_xpypz)) if i in max_combo])\n",
    "    min_xpymz = max([lower_xpymz[i][0] for i in range(len(lower_xpymz)) if i in max_combo])\n",
    "    max_xpymz = min([upper_xpymz[i][0] for i in range(len(upper_xpymz)) if i in max_combo])\n",
    "    min_xmypz = max([lower_xmypz[i][0] for i in range(len(lower_xmypz)) if i in max_combo])\n",
    "    max_xmypz = min([upper_xmypz[i][0] for i in range(len(upper_xmypz)) if i in max_combo])\n",
    "    min_xmymz = max([lower_xmymz[i][0] for i in range(len(lower_xmymz)) if i in max_combo])\n",
    "    max_xmymz = min([upper_xmymz[i][0] for i in range(len(upper_xmymz)) if i in max_combo])\n",
    "    \n",
    "    x = (min_xpypz+min_xmymz)/2\n",
    "    y = (min_xpymz-min_xmymz)/2\n",
    "    z = (min_xpypz-min_xpymz)/2\n",
    "    res = np.array([x, y, z])\n",
    "    print(res)\n",
    "    print(len([i for i in range(len(radii)) if np.sum(np.abs(res-bot_data[i])) <= radii[i]]))\n",
    "    print(x, y, z, x+y+z)\n",
    "    return min_xpypz, max_xpypz, min_xpymz, max_xpymz, min_xmypz, max_xmypz, min_xmymz, max_xmymz\n",
    "\n",
    "        "
   ]
  },
  {
   "cell_type": "code",
   "execution_count": 850,
   "metadata": {},
   "outputs": [
    {
     "name": "stdout",
     "output_type": "stream",
     "text": [
      "[5, 3]\n",
      "[12. 12. 12.]\n",
      "5\n",
      "12.0 12.0 12.0 36.0\n"
     ]
    },
    {
     "data": {
      "text/plain": [
       "(36, 36, 12, 12, 12, 12, -12, -12)"
      ]
     },
     "execution_count": 850,
     "metadata": {},
     "output_type": "execute_result"
    }
   ],
   "source": [
    "aoc_23b(t)"
   ]
  },
  {
   "cell_type": "code",
   "execution_count": 1131,
   "metadata": {},
   "outputs": [],
   "source": [
    "aoc_input = read_raw_input(24).split('\\n\\n')"
   ]
  },
  {
   "cell_type": "code",
   "execution_count": 1504,
   "metadata": {},
   "outputs": [],
   "source": [
    "def aoc_24(systems, boost=0):\n",
    "    factions = []\n",
    "    group_units = {}\n",
    "    group_stats = {}\n",
    "    group_specials = {}\n",
    "    SPECIAL = {'weak':2, 'immune':0}\n",
    "    \n",
    "    def get_damage(actor, target):\n",
    "        dmg_type = group_stats[actor][2]\n",
    "        multiplier = group_specials[target].get(dmg_type, 1)\n",
    "        return group_units[actor] * group_stats[actor][1] * multiplier\n",
    "        \n",
    "    for i, system in enumerate(systems):\n",
    "        groups = system.split('\\n')\n",
    "        faction = set()\n",
    "        for group in groups[1:]:\n",
    "            faction.add(init)\n",
    "            unit, hp, dmg, init = [int(x) for x in re.findall('\\d+', group)]\n",
    "            if i == 0:\n",
    "                dmg += boost\n",
    "            dmg_type = re.search('(\\w+) damage', group)[1]\n",
    "            \n",
    "            special = {}\n",
    "            for special_trait, multipler in SPECIAL.items():\n",
    "                trait_list = re.findall(special_trait + ' to ([ \\w]+)', group.replace(',', ''))\n",
    "                trait_list = [] if not trait_list else trait_list[0].split()\n",
    "                for trait in trait_list:\n",
    "                    special[trait] = multipler\n",
    "            group_specials[init] = special\n",
    "                \n",
    "            group_stats[init] = (hp, dmg, dmg_type)\n",
    "            group_units[init] = unit\n",
    "        factions.append(faction)\n",
    "    \n",
    "    while factions[0] and factions[1]:\n",
    "        actions = {}\n",
    "        effective_powers = {init:unit*group_stats[init][1] for init, unit in group_units.items()}\n",
    "        selection_orders = sorted([(v, k) for k, v in effective_powers.items()], reverse=True)\n",
    "        for _, actor in selection_orders:\n",
    "            target_order = []\n",
    "            faction = actor in factions[1]\n",
    "            for enemy_init in factions[1-faction]:\n",
    "                if enemy_init in actions.values():\n",
    "                    continue\n",
    "                enemy_damage = get_damage(actor, enemy_init)\n",
    "                if enemy_damage == 0:\n",
    "                    continue\n",
    "                target_order.append((enemy_damage, effective_powers[enemy_init], enemy_init))\n",
    "            if target_order:\n",
    "                target = sorted(target_order, reverse=True)[0]\n",
    "                actions[actor] = target[2]\n",
    "        group_inits = sorted(group_units.keys(), reverse=True)\n",
    "        kills = 0\n",
    "        for group_init in group_inits:\n",
    "            if group_init not in actions or group_init not in group_units:\n",
    "                continue\n",
    "            faction = group_init in factions[1]\n",
    "            target = actions[group_init]\n",
    "            kill = get_damage(group_init, target)//group_stats[target][0]\n",
    "            group_units[target] -= kill\n",
    "            kills += kill\n",
    "            if group_units[target] <= 0:\n",
    "                del group_units[target]\n",
    "                del group_stats[target]\n",
    "                del group_specials[target]\n",
    "                factions[1-faction].remove(target)\n",
    "        if kills == 0:\n",
    "            return -1, False\n",
    "    if factions[0]:\n",
    "        return sum(group_units.values()), True\n",
    "    return sum(group_units.values()), False"
   ]
  },
  {
   "cell_type": "code",
   "execution_count": 1505,
   "metadata": {},
   "outputs": [
    {
     "data": {
      "text/plain": [
       "(9328, False)"
      ]
     },
     "execution_count": 1505,
     "metadata": {},
     "output_type": "execute_result"
    }
   ],
   "source": [
    "aoc_24(aoc_input)"
   ]
  },
  {
   "cell_type": "code",
   "execution_count": 1506,
   "metadata": {},
   "outputs": [],
   "source": [
    "def aoc_24b(aoc_input):\n",
    "    win = False\n",
    "    boost = 3\n",
    "    while not win:\n",
    "        boost += 1\n",
    "        res, win = aoc_24(aoc_input, boost)\n",
    "        print(boost, res, win)\n",
    "    return res"
   ]
  },
  {
   "cell_type": "code",
   "execution_count": 1507,
   "metadata": {},
   "outputs": [
    {
     "name": "stdout",
     "output_type": "stream",
     "text": [
      "4 8976 False\n",
      "5 8934 False\n",
      "6 8816 False\n",
      "7 8736 False\n",
      "8 8625 False\n",
      "9 8511 False\n",
      "10 8534 False\n",
      "11 8408 False\n",
      "12 8264 False\n",
      "13 8130 False\n",
      "14 7968 False\n",
      "15 7824 False\n",
      "16 7684 False\n",
      "17 7481 False\n",
      "18 7184 False\n",
      "19 7076 False\n",
      "20 6826 False\n",
      "21 6715 False\n",
      "22 6543 False\n",
      "23 6335 False\n",
      "24 -1 False\n",
      "25 -1 False\n",
      "26 -1 False\n",
      "27 -1 False\n",
      "28 -1 False\n",
      "29 2172 True\n"
     ]
    },
    {
     "data": {
      "text/plain": [
       "2172"
      ]
     },
     "execution_count": 1507,
     "metadata": {},
     "output_type": "execute_result"
    }
   ],
   "source": [
    "aoc_24b(aoc_input)"
   ]
  },
  {
   "cell_type": "code",
   "execution_count": 1070,
   "metadata": {},
   "outputs": [],
   "source": [
    "aoc_input = read_raw_input(25).split('\\n')"
   ]
  },
  {
   "cell_type": "code",
   "execution_count": 1127,
   "metadata": {},
   "outputs": [],
   "source": [
    "def aoc_25(star_data):\n",
    "    stars = np.array([int(x) for x in re.findall('-*\\d+', ' '.join(star_data))]).reshape(-1, 4)\n",
    "    star_relations = defaultdict(list)\n",
    "    for i, star in enumerate(stars):\n",
    "        star_relations[i] = list(np.arange(stars.shape[0])[np.sum(np.abs(stars - star), axis=1) <= 3])\n",
    "                \n",
    "    stars = set(range(stars.shape[0]))\n",
    "    num_constellations = 0\n",
    "    while stars:\n",
    "        num_constellations += 1\n",
    "        constellations = {stars.pop()}\n",
    "        while constellations:\n",
    "            traversed = set()\n",
    "            new_constellations = []\n",
    "            for constellation in constellations:\n",
    "                traversed.add(constellation)\n",
    "                new_constellations += [x for x in star_relations[constellation]\n",
    "                                       if x in stars and x not in traversed]\n",
    "            constellations = set(new_constellations)\n",
    "            stars -= constellations\n",
    "    return num_constellations\n"
   ]
  },
  {
   "cell_type": "code",
   "execution_count": 1128,
   "metadata": {},
   "outputs": [
    {
     "data": {
      "text/plain": [
       "359"
      ]
     },
     "execution_count": 1128,
     "metadata": {},
     "output_type": "execute_result"
    }
   ],
   "source": [
    "aoc_25(aoc_input)"
   ]
  },
  {
   "cell_type": "code",
   "execution_count": null,
   "metadata": {},
   "outputs": [],
   "source": []
  }
 ],
 "metadata": {
  "kernelspec": {
   "display_name": "Python 3",
   "language": "python",
   "name": "python3"
  },
  "language_info": {
   "codemirror_mode": {
    "name": "ipython",
    "version": 3
   },
   "file_extension": ".py",
   "mimetype": "text/x-python",
   "name": "python",
   "nbconvert_exporter": "python",
   "pygments_lexer": "ipython3",
   "version": "3.7.6"
  }
 },
 "nbformat": 4,
 "nbformat_minor": 4
}
