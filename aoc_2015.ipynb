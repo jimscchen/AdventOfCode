{
 "cells": [
  {
   "cell_type": "code",
   "execution_count": 1140,
   "metadata": {},
   "outputs": [],
   "source": [
    "import numpy as np\n",
    "import pandas as pd\n",
    "\n",
    "from collections import Counter, defaultdict\n",
    "from itertools import permutations, combinations, combinations_with_replacement\n",
    "import itertools\n",
    "\n",
    "import re\n",
    "\n",
    "import hashlib"
   ]
  },
  {
   "cell_type": "code",
   "execution_count": 4,
   "metadata": {},
   "outputs": [],
   "source": [
    "def read_raw_input(day):\n",
    "    with open('input_' + str(day)) as inputfile:\n",
    "         return inputfile.read().strip()"
   ]
  },
  {
   "cell_type": "code",
   "execution_count": 5,
   "metadata": {},
   "outputs": [],
   "source": [
    "aoc_input = read_raw_input(1)"
   ]
  },
  {
   "cell_type": "code",
   "execution_count": 6,
   "metadata": {},
   "outputs": [],
   "source": [
    "def aoc_1(stairs):\n",
    "    return stairs.count('(') - stairs.count(')')"
   ]
  },
  {
   "cell_type": "code",
   "execution_count": 7,
   "metadata": {},
   "outputs": [
    {
     "data": {
      "text/plain": [
       "138"
      ]
     },
     "execution_count": 7,
     "metadata": {},
     "output_type": "execute_result"
    }
   ],
   "source": [
    "aoc_1(aoc_input)"
   ]
  },
  {
   "cell_type": "code",
   "execution_count": 10,
   "metadata": {},
   "outputs": [],
   "source": [
    "def aoc_1_b(stairs):\n",
    "    current_floor = 0\n",
    "    for i, stair in enumerate(stairs):\n",
    "        if stair == '(':\n",
    "            current_floor += 1\n",
    "        if stair == ')':\n",
    "            current_floor -= 1\n",
    "        if current_floor < 0:\n",
    "            return i+1"
   ]
  },
  {
   "cell_type": "code",
   "execution_count": 11,
   "metadata": {},
   "outputs": [
    {
     "data": {
      "text/plain": [
       "1771"
      ]
     },
     "execution_count": 11,
     "metadata": {},
     "output_type": "execute_result"
    }
   ],
   "source": [
    "aoc_1_b(aoc_input)"
   ]
  },
  {
   "cell_type": "code",
   "execution_count": 13,
   "metadata": {},
   "outputs": [],
   "source": [
    "aoc_input = read_raw_input(2).split('\\n')"
   ]
  },
  {
   "cell_type": "code",
   "execution_count": 16,
   "metadata": {},
   "outputs": [],
   "source": [
    "def aoc_2(dimensions):\n",
    "    def wrapper(dimension):\n",
    "        x, y, z = sorted([int(dim) for dim in dimension.split('x')])\n",
    "        return (x*y + x*z + y*z) * 2 + x*y\n",
    "    return sum([wrapper(dimension) for dimension in dimensions])"
   ]
  },
  {
   "cell_type": "code",
   "execution_count": 17,
   "metadata": {},
   "outputs": [
    {
     "data": {
      "text/plain": [
       "1606483"
      ]
     },
     "execution_count": 17,
     "metadata": {},
     "output_type": "execute_result"
    }
   ],
   "source": [
    "aoc_2(aoc_input)"
   ]
  },
  {
   "cell_type": "code",
   "execution_count": 20,
   "metadata": {},
   "outputs": [],
   "source": [
    "def aoc_2_b(dimensions):\n",
    "    def ribbon(dimension):\n",
    "        x, y, z = sorted([int(dim) for dim in dimension.split('x')])\n",
    "        return 2*(x + y) + x*y*z\n",
    "    return sum([ribbon(dimension) for dimension in dimensions])"
   ]
  },
  {
   "cell_type": "code",
   "execution_count": 21,
   "metadata": {},
   "outputs": [
    {
     "data": {
      "text/plain": [
       "3842356"
      ]
     },
     "execution_count": 21,
     "metadata": {},
     "output_type": "execute_result"
    }
   ],
   "source": [
    "aoc_2_b(aoc_input)"
   ]
  },
  {
   "cell_type": "code",
   "execution_count": 22,
   "metadata": {},
   "outputs": [],
   "source": [
    "aoc_input = read_raw_input(3)"
   ]
  },
  {
   "cell_type": "code",
   "execution_count": 29,
   "metadata": {},
   "outputs": [],
   "source": [
    "def aoc_3(directions):\n",
    "    DIRECTION = {'>':1, '<':-1, '^':1j, 'v':-1j}\n",
    "    delivered = defaultdict(int)\n",
    "    coordinate = 0j\n",
    "    delivered[coordinate] = 1\n",
    "    for direction in directions:\n",
    "        coordinate += DIRECTION[direction]\n",
    "        delivered[coordinate] += 1\n",
    "    return len(delivered)"
   ]
  },
  {
   "cell_type": "code",
   "execution_count": 30,
   "metadata": {},
   "outputs": [
    {
     "data": {
      "text/plain": [
       "2592"
      ]
     },
     "execution_count": 30,
     "metadata": {},
     "output_type": "execute_result"
    }
   ],
   "source": [
    "aoc_3(aoc_input)"
   ]
  },
  {
   "cell_type": "code",
   "execution_count": 33,
   "metadata": {},
   "outputs": [],
   "source": [
    "def aoc_3_b(directions):\n",
    "    DIRECTION = {'>':1, '<':-1, '^':1j, 'v':-1j}\n",
    "    delivered = defaultdict(int)\n",
    "    coordinate_santa = 0j\n",
    "    coordinate_robo = 0j\n",
    "    delivered[coordinate_santa] = 1\n",
    "    santa_turn = True\n",
    "    for direction in directions:\n",
    "        if santa_turn:\n",
    "            coordinate_santa += DIRECTION[direction]\n",
    "            delivered[coordinate_santa] += 1\n",
    "        else:\n",
    "            coordinate_robo += DIRECTION[direction]\n",
    "            delivered[coordinate_robo] += 1\n",
    "            \n",
    "        santa_turn = not santa_turn\n",
    "    return len(delivered)"
   ]
  },
  {
   "cell_type": "code",
   "execution_count": 34,
   "metadata": {},
   "outputs": [
    {
     "data": {
      "text/plain": [
       "2360"
      ]
     },
     "execution_count": 34,
     "metadata": {},
     "output_type": "execute_result"
    }
   ],
   "source": [
    "aoc_3_b(aoc_input)"
   ]
  },
  {
   "cell_type": "code",
   "execution_count": 46,
   "metadata": {},
   "outputs": [],
   "source": [
    "aoc_input = 'yzbqklnj'"
   ]
  },
  {
   "cell_type": "code",
   "execution_count": 61,
   "metadata": {},
   "outputs": [],
   "source": [
    "def aoc_4(hashkey):\n",
    "    i = 1\n",
    "    while True:\n",
    "        if hashlib.md5((hashkey+str(i)).encode()).hexdigest()[:5] == '00000':\n",
    "            return i\n",
    "        i += 1"
   ]
  },
  {
   "cell_type": "code",
   "execution_count": 59,
   "metadata": {},
   "outputs": [
    {
     "data": {
      "text/plain": [
       "282749"
      ]
     },
     "execution_count": 59,
     "metadata": {},
     "output_type": "execute_result"
    }
   ],
   "source": [
    "aoc_4(aoc_input)"
   ]
  },
  {
   "cell_type": "code",
   "execution_count": 62,
   "metadata": {},
   "outputs": [],
   "source": [
    "def aoc_4_b(hashkey):\n",
    "    i = 1\n",
    "    while True:\n",
    "        if hashlib.md5((hashkey+str(i)).encode()).hexdigest()[:6] == '000000':\n",
    "            return i\n",
    "        i += 1"
   ]
  },
  {
   "cell_type": "code",
   "execution_count": 63,
   "metadata": {},
   "outputs": [
    {
     "data": {
      "text/plain": [
       "9962624"
      ]
     },
     "execution_count": 63,
     "metadata": {},
     "output_type": "execute_result"
    }
   ],
   "source": [
    "aoc_4_b(aoc_input)"
   ]
  },
  {
   "cell_type": "code",
   "execution_count": 65,
   "metadata": {},
   "outputs": [],
   "source": [
    "aoc_input = read_raw_input(5).split('\\n')"
   ]
  },
  {
   "cell_type": "code",
   "execution_count": 109,
   "metadata": {},
   "outputs": [],
   "source": [
    "def aoc_5(strings):\n",
    "    def is_nice_string(s):\n",
    "        vowel_count = 0\n",
    "        has_repeat = False\n",
    "        for i in range(len(s)):\n",
    "            if s[i] in 'aeiou':\n",
    "                vowel_count += 1\n",
    "            if s[i:i+2] in ['ab', 'cd', 'pq', 'xy']:\n",
    "                return False\n",
    "            if i < len(s)-1 and s[i] == s[i+1]:\n",
    "                has_repeat = True\n",
    "        return vowel_count >= 3 and has_repeat\n",
    "    \n",
    "    return len([s for s in strings if is_nice_string(s)])"
   ]
  },
  {
   "cell_type": "code",
   "execution_count": 110,
   "metadata": {},
   "outputs": [
    {
     "data": {
      "text/plain": [
       "238"
      ]
     },
     "execution_count": 110,
     "metadata": {},
     "output_type": "execute_result"
    }
   ],
   "source": [
    "aoc_5(aoc_input)"
   ]
  },
  {
   "cell_type": "code",
   "execution_count": 113,
   "metadata": {},
   "outputs": [],
   "source": [
    "def aoc_5_b(strings):\n",
    "    def is_nice_string(s):\n",
    "        has_aba = False\n",
    "        string_pair = defaultdict(list)\n",
    "        for i in range(len(s)-1):\n",
    "            string_pair[s[i:i+2]].append(i)\n",
    "            if i < len(s)-2 and s[i] == s[i+2]:\n",
    "                has_aba = True\n",
    "        proper_pair = [k for k, v in string_pair.items() if max(v) - min(v) > 1]\n",
    "        return has_aba and len(proper_pair) > 0\n",
    "    return len([s for s in strings if is_nice_string(s)])"
   ]
  },
  {
   "cell_type": "code",
   "execution_count": 114,
   "metadata": {},
   "outputs": [
    {
     "data": {
      "text/plain": [
       "69"
      ]
     },
     "execution_count": 114,
     "metadata": {},
     "output_type": "execute_result"
    }
   ],
   "source": [
    "aoc_5_b(aoc_input)"
   ]
  },
  {
   "cell_type": "code",
   "execution_count": 115,
   "metadata": {},
   "outputs": [],
   "source": [
    "aoc_input = read_raw_input(6).split('\\n')"
   ]
  },
  {
   "cell_type": "code",
   "execution_count": 139,
   "metadata": {},
   "outputs": [
    {
     "data": {
      "text/plain": [
       "'370'"
      ]
     },
     "execution_count": 139,
     "metadata": {},
     "output_type": "execute_result"
    }
   ],
   "source": [
    "re.match('(.+) (\\d+),(\\d+) through (\\d+),(\\d+)', aoc_input[1])[2]"
   ]
  },
  {
   "cell_type": "code",
   "execution_count": 159,
   "metadata": {},
   "outputs": [],
   "source": [
    "def aoc_6(instructions):\n",
    "    light_grid = np.zeros((1000, 1000))\n",
    "    for instruction in instructions:\n",
    "        matched = re.match('(.+) (\\d+),(\\d+) through (\\d+),(\\d+)', instruction)\n",
    "        move = matched[1]\n",
    "        begin_x = int(matched[2])\n",
    "        begin_y = int(matched[3])\n",
    "        end_x = int(matched[4])+1\n",
    "        end_y = int(matched[5])+1\n",
    "        \n",
    "        if move == 'toggle':\n",
    "            light_grid[begin_x:end_x, begin_y:end_y] = 1 - light_grid[begin_x:end_x, begin_y:end_y]\n",
    "        if move == 'turn on':\n",
    "            light_grid[begin_x:end_x, begin_y:end_y] = 1\n",
    "        if move == 'turn off':\n",
    "            light_grid[begin_x:end_x, begin_y:end_y] = 0\n",
    "    return np.sum(light_grid)"
   ]
  },
  {
   "cell_type": "code",
   "execution_count": 160,
   "metadata": {},
   "outputs": [
    {
     "data": {
      "text/plain": [
       "543903.0"
      ]
     },
     "execution_count": 160,
     "metadata": {},
     "output_type": "execute_result"
    }
   ],
   "source": [
    "aoc_6(aoc_input)"
   ]
  },
  {
   "cell_type": "code",
   "execution_count": 157,
   "metadata": {},
   "outputs": [],
   "source": [
    "def aoc_6_b(instructions):\n",
    "    light_grid = np.zeros((1000, 1000))\n",
    "    for instruction in instructions:\n",
    "        matched = re.match('(.+) (\\d+),(\\d+) through (\\d+),(\\d+)', instruction)\n",
    "        move = matched[1]\n",
    "        begin_x = int(matched[2])\n",
    "        begin_y = int(matched[3])\n",
    "        end_x = int(matched[4])+1\n",
    "        end_y = int(matched[5])+1\n",
    "        \n",
    "        if move == 'toggle':\n",
    "            light_grid[begin_x:end_x, begin_y:end_y] += 2\n",
    "        if move == 'turn on':\n",
    "            light_grid[begin_x:end_x, begin_y:end_y] += 1\n",
    "        if move == 'turn off':\n",
    "            light_grid[begin_x:end_x, begin_y:end_y][light_grid[begin_x:end_x, begin_y:end_y] > 0] -= 1\n",
    "    return np.sum(light_grid)"
   ]
  },
  {
   "cell_type": "code",
   "execution_count": 158,
   "metadata": {},
   "outputs": [
    {
     "data": {
      "text/plain": [
       "14687245.0"
      ]
     },
     "execution_count": 158,
     "metadata": {},
     "output_type": "execute_result"
    }
   ],
   "source": [
    "aoc_6_b(aoc_input)"
   ]
  },
  {
   "cell_type": "code",
   "execution_count": 197,
   "metadata": {},
   "outputs": [],
   "source": [
    "aoc_input = read_raw_input(7).split('\\n')"
   ]
  },
  {
   "cell_type": "code",
   "execution_count": 253,
   "metadata": {},
   "outputs": [],
   "source": [
    "def aoc_7(logics):\n",
    "    lookup = {}\n",
    "    for logic in logics:\n",
    "        matched = re.match('(.+) -> (.+)', logic)\n",
    "        lookup[matched[2]] = matched[1]\n",
    "    results = {}\n",
    "    def find_value(circuit):\n",
    "        if circuit in results:\n",
    "            return results[circuit]\n",
    "        if re.match('\\d+', circuit):\n",
    "            return np.array([int(circuit)]).astype(np.ushort)\n",
    "        res = 0\n",
    "        logic = lookup[circuit]\n",
    "        if 'NOT' in logic:\n",
    "            variable = re.match('NOT (\\w+)', logic)[1]\n",
    "            res = ~find_value(variable)\n",
    "        elif 'AND' in logic:\n",
    "            matched = re.match('(\\w+) AND (\\w+)', logic)\n",
    "            variable_1 = matched[1]\n",
    "            variable_2 = matched[2]\n",
    "            res = find_value(variable_1) & find_value(variable_2)\n",
    "        elif 'OR' in logic:\n",
    "            matched = re.match('(\\w+) OR (\\w+)', logic)\n",
    "            variable_1 = matched[1]\n",
    "            variable_2 = matched[2]\n",
    "            res = find_value(variable_1) | find_value(variable_2)\n",
    "        elif 'LSHIFT' in logic:\n",
    "            matched = re.match('(\\w+) LSHIFT (\\d+)', logic)\n",
    "            variable = matched[1]\n",
    "            shift = int(matched[2])\n",
    "            res = find_value(variable) << shift\n",
    "        elif 'RSHIFT' in logic:\n",
    "            matched = re.match('(\\w+) RSHIFT (\\d+)', logic)\n",
    "            variable = matched[1]\n",
    "            shift = int(matched[2])\n",
    "            res = find_value(variable) >> shift\n",
    "        elif re.match(('\\D+'), logic):\n",
    "            res = find_value(logic)\n",
    "        else:\n",
    "            res = np.array([int(logic)]).astype(np.ushort)\n",
    "        results[circuit] = res\n",
    "        return res\n",
    "    return find_value('a')[0]"
   ]
  },
  {
   "cell_type": "code",
   "execution_count": 252,
   "metadata": {
    "scrolled": true
   },
   "outputs": [
    {
     "data": {
      "text/plain": [
       "956"
      ]
     },
     "execution_count": 252,
     "metadata": {},
     "output_type": "execute_result"
    }
   ],
   "source": [
    "aoc_7(aoc_input)"
   ]
  },
  {
   "cell_type": "code",
   "execution_count": 258,
   "metadata": {},
   "outputs": [],
   "source": [
    "def aoc_7_b(logics):\n",
    "    lookup = {}\n",
    "    for logic in logics:\n",
    "        matched = re.match('(.+) -> (.+)', logic)\n",
    "        lookup[matched[2]] = matched[1]\n",
    "    results = {'b':np.array([956]).astype(np.ushort)}\n",
    "    def find_value(circuit):\n",
    "        if circuit in results:\n",
    "            return results[circuit]\n",
    "        if re.match('\\d+', circuit):\n",
    "            return np.array([int(circuit)]).astype(np.ushort)\n",
    "        res = 0\n",
    "        logic = lookup[circuit]\n",
    "        if 'NOT' in logic:\n",
    "            variable = re.match('NOT (\\w+)', logic)[1]\n",
    "            res = ~find_value(variable)\n",
    "        elif 'AND' in logic:\n",
    "            matched = re.match('(\\w+) AND (\\w+)', logic)\n",
    "            variable_1 = matched[1]\n",
    "            variable_2 = matched[2]\n",
    "            res = find_value(variable_1) & find_value(variable_2)\n",
    "        elif 'OR' in logic:\n",
    "            matched = re.match('(\\w+) OR (\\w+)', logic)\n",
    "            variable_1 = matched[1]\n",
    "            variable_2 = matched[2]\n",
    "            res = find_value(variable_1) | find_value(variable_2)\n",
    "        elif 'LSHIFT' in logic:\n",
    "            matched = re.match('(\\w+) LSHIFT (\\d+)', logic)\n",
    "            variable = matched[1]\n",
    "            shift = int(matched[2])\n",
    "            res = find_value(variable) << shift\n",
    "        elif 'RSHIFT' in logic:\n",
    "            matched = re.match('(\\w+) RSHIFT (\\d+)', logic)\n",
    "            variable = matched[1]\n",
    "            shift = int(matched[2])\n",
    "            res = find_value(variable) >> shift\n",
    "        elif re.match(('\\D+'), logic):\n",
    "            res = find_value(logic)\n",
    "        else:\n",
    "            res = np.array([int(logic)]).astype(np.ushort)\n",
    "        results[circuit] = res\n",
    "        return res\n",
    "    return find_value('a')[0]"
   ]
  },
  {
   "cell_type": "code",
   "execution_count": 259,
   "metadata": {},
   "outputs": [
    {
     "data": {
      "text/plain": [
       "40149"
      ]
     },
     "execution_count": 259,
     "metadata": {},
     "output_type": "execute_result"
    }
   ],
   "source": [
    "aoc_7_b(aoc_input)"
   ]
  },
  {
   "cell_type": "code",
   "execution_count": 262,
   "metadata": {},
   "outputs": [],
   "source": [
    "aoc_input = read_raw_input(8).split('\\n')"
   ]
  },
  {
   "cell_type": "code",
   "execution_count": 268,
   "metadata": {},
   "outputs": [],
   "source": [
    "def aoc_8(strings):\n",
    "    return sum([len(s) - len(eval(s)) for s in strings])"
   ]
  },
  {
   "cell_type": "code",
   "execution_count": 269,
   "metadata": {},
   "outputs": [
    {
     "data": {
      "text/plain": [
       "1371"
      ]
     },
     "execution_count": 269,
     "metadata": {},
     "output_type": "execute_result"
    }
   ],
   "source": [
    "aoc_8(aoc_input)"
   ]
  },
  {
   "cell_type": "code",
   "execution_count": 270,
   "metadata": {},
   "outputs": [],
   "source": [
    "def aoc_8_b(strings):\n",
    "    return sum([2 + s.count('\"') + s.count('\\\\') for s in strings])"
   ]
  },
  {
   "cell_type": "code",
   "execution_count": 271,
   "metadata": {},
   "outputs": [
    {
     "data": {
      "text/plain": [
       "2117"
      ]
     },
     "execution_count": 271,
     "metadata": {},
     "output_type": "execute_result"
    }
   ],
   "source": [
    "aoc_8_b(aoc_input)"
   ]
  },
  {
   "cell_type": "code",
   "execution_count": 280,
   "metadata": {},
   "outputs": [],
   "source": [
    "aoc_input = read_raw_input(9).split('\\n')"
   ]
  },
  {
   "cell_type": "code",
   "execution_count": 329,
   "metadata": {},
   "outputs": [],
   "source": [
    "def aoc_9(paths):\n",
    "    lookup = defaultdict(dict)\n",
    "    min_distance = [0]\n",
    "    for path in paths:\n",
    "        matched = re.match('(\\w+) to (\\w+) = (\\d+)', path)\n",
    "        city_a = matched[1]\n",
    "        city_b = matched[2]\n",
    "        distance = int(matched[3])\n",
    "        lookup[city_a][city_b] = distance\n",
    "        lookup[city_b][city_a] = distance\n",
    "        min_distance[0] += distance\n",
    "    \n",
    "    traversed = []\n",
    "    def find_path(origin, current_distance=0):\n",
    "        #print(traversed, origin, current_distance)\n",
    "        if len(traversed) == len(lookup):\n",
    "            #print(traversed, min_distance, current_distance)\n",
    "            min_distance[0] = min(current_distance, min_distance[0])\n",
    "            return\n",
    "        if current_distance >= min_distance[0]:\n",
    "            return \n",
    "        for destination, distance in lookup[origin].items():\n",
    "            if destination in traversed:\n",
    "                continue\n",
    "            traversed.append(destination)\n",
    "            find_path(destination, current_distance+distance)\n",
    "            traversed.pop()\n",
    "    for city in lookup:\n",
    "        traversed.append(city)\n",
    "        find_path(city)\n",
    "        traversed.pop()\n",
    "    return min_distance[0]"
   ]
  },
  {
   "cell_type": "code",
   "execution_count": 330,
   "metadata": {},
   "outputs": [
    {
     "data": {
      "text/plain": [
       "207"
      ]
     },
     "execution_count": 330,
     "metadata": {},
     "output_type": "execute_result"
    }
   ],
   "source": [
    "aoc_9(aoc_input)"
   ]
  },
  {
   "cell_type": "code",
   "execution_count": 331,
   "metadata": {},
   "outputs": [],
   "source": [
    "def aoc_9_b(paths):\n",
    "    lookup = defaultdict(dict)\n",
    "    max_distance = [0]\n",
    "    for path in paths:\n",
    "        matched = re.match('(\\w+) to (\\w+) = (\\d+)', path)\n",
    "        city_a = matched[1]\n",
    "        city_b = matched[2]\n",
    "        distance = int(matched[3])\n",
    "        lookup[city_a][city_b] = distance\n",
    "        lookup[city_b][city_a] = distance\n",
    "    \n",
    "    traversed = []\n",
    "    def find_path(origin, current_distance=0):\n",
    "        #print(traversed, origin, current_distance)\n",
    "        if len(traversed) == len(lookup):\n",
    "            #print(traversed, min_distance, current_distance)\n",
    "            max_distance[0] = max(current_distance, max_distance[0])\n",
    "            return\n",
    "        for destination, distance in lookup[origin].items():\n",
    "            if destination in traversed:\n",
    "                continue\n",
    "            traversed.append(destination)\n",
    "            find_path(destination, current_distance+distance)\n",
    "            traversed.pop()\n",
    "    for city in lookup:\n",
    "        traversed.append(city)\n",
    "        find_path(city)\n",
    "        traversed.pop()\n",
    "    return max_distance[0]"
   ]
  },
  {
   "cell_type": "code",
   "execution_count": 332,
   "metadata": {},
   "outputs": [
    {
     "data": {
      "text/plain": [
       "804"
      ]
     },
     "execution_count": 332,
     "metadata": {},
     "output_type": "execute_result"
    }
   ],
   "source": [
    "aoc_9_b(aoc_input)"
   ]
  },
  {
   "cell_type": "code",
   "execution_count": 333,
   "metadata": {},
   "outputs": [],
   "source": [
    "aoc_input = '1321131112'"
   ]
  },
  {
   "cell_type": "code",
   "execution_count": 350,
   "metadata": {},
   "outputs": [],
   "source": [
    "def aoc_10(s):\n",
    "    def transmute(s):\n",
    "        res = ''\n",
    "        token = ''\n",
    "        token_count = 1\n",
    "        for c in s:\n",
    "            if token != c:\n",
    "                if token != '':\n",
    "                    res += str(token_count) + token\n",
    "                token = c\n",
    "                token_count = 1\n",
    "            else:\n",
    "                token_count += 1\n",
    "        res += str(token_count) + token\n",
    "        return res\n",
    "    for _ in range(40):\n",
    "        s = transmute(s)\n",
    "    return len(s)\n",
    "    "
   ]
  },
  {
   "cell_type": "code",
   "execution_count": 351,
   "metadata": {},
   "outputs": [
    {
     "data": {
      "text/plain": [
       "492982"
      ]
     },
     "execution_count": 351,
     "metadata": {},
     "output_type": "execute_result"
    }
   ],
   "source": [
    "aoc_10(aoc_input)"
   ]
  },
  {
   "cell_type": "code",
   "execution_count": 352,
   "metadata": {},
   "outputs": [],
   "source": [
    "def aoc_10_b(s):\n",
    "    def transmute(s):\n",
    "        res = ''\n",
    "        token = ''\n",
    "        token_count = 1\n",
    "        for c in s:\n",
    "            if token != c:\n",
    "                if token != '':\n",
    "                    res += str(token_count) + token\n",
    "                token = c\n",
    "                token_count = 1\n",
    "            else:\n",
    "                token_count += 1\n",
    "        res += str(token_count) + token\n",
    "        return res\n",
    "    for _ in range(50):\n",
    "        s = transmute(s)\n",
    "    return len(s)\n",
    "    "
   ]
  },
  {
   "cell_type": "code",
   "execution_count": 353,
   "metadata": {},
   "outputs": [
    {
     "data": {
      "text/plain": [
       "6989950"
      ]
     },
     "execution_count": 353,
     "metadata": {},
     "output_type": "execute_result"
    }
   ],
   "source": [
    "aoc_10_b(aoc_input)"
   ]
  },
  {
   "cell_type": "code",
   "execution_count": 362,
   "metadata": {},
   "outputs": [],
   "source": [
    "aoc_input = 'hepxcrrq'"
   ]
  },
  {
   "cell_type": "code",
   "execution_count": 385,
   "metadata": {},
   "outputs": [],
   "source": [
    "def aoc_11(password):\n",
    "    int_tracker = [ord(c) - ord('a') for c in password[::-1]]\n",
    "    def good_password(tracker):\n",
    "        if ord('i')-ord('a') in tracker or ord('o')-ord('a') in tracker or ord('l')-ord('a') in tracker:\n",
    "            return False\n",
    "        incre = False\n",
    "        pair = 0\n",
    "        last_pair = -2\n",
    "        for i in range(len(tracker)-1):\n",
    "            if i < len(tracker)-2 and tracker[i]-tracker[i+1] == 1 and tracker[i+1]-tracker[i+2] == 1:\n",
    "                incre = True\n",
    "            if tracker[i] == tracker[i+1] and i-last_pair > 1:\n",
    "                last_pair = i\n",
    "                pair += 1\n",
    "        return incre and pair >= 2\n",
    "    \n",
    "    def increment(tracker):\n",
    "        carry = 1\n",
    "        for i in range(len(tracker)):\n",
    "            carry, tracker[i] = divmod(tracker[i]+carry, 26)\n",
    "    \n",
    "    while not good_password(int_tracker):\n",
    "        increment(int_tracker)\n",
    "    return ''.join([chr(x+ord('a')) for x in int_tracker[::-1]])\n",
    "    "
   ]
  },
  {
   "cell_type": "code",
   "execution_count": 387,
   "metadata": {},
   "outputs": [
    {
     "data": {
      "text/plain": [
       "'hepxxyzz'"
      ]
     },
     "execution_count": 387,
     "metadata": {},
     "output_type": "execute_result"
    }
   ],
   "source": [
    "aoc_11(aoc_input)"
   ]
  },
  {
   "cell_type": "code",
   "execution_count": 388,
   "metadata": {},
   "outputs": [
    {
     "data": {
      "text/plain": [
       "'heqaabcc'"
      ]
     },
     "execution_count": 388,
     "metadata": {},
     "output_type": "execute_result"
    }
   ],
   "source": [
    "aoc_11('hepxxzaa')"
   ]
  },
  {
   "cell_type": "code",
   "execution_count": 405,
   "metadata": {},
   "outputs": [],
   "source": [
    "aoc_input = read_raw_input(12)"
   ]
  },
  {
   "cell_type": "code",
   "execution_count": 406,
   "metadata": {},
   "outputs": [],
   "source": [
    "def aoc_12(doc):\n",
    "    return sum([int(x) for x in re.findall('-*\\d+', doc)])"
   ]
  },
  {
   "cell_type": "code",
   "execution_count": 407,
   "metadata": {},
   "outputs": [
    {
     "data": {
      "text/plain": [
       "111754"
      ]
     },
     "execution_count": 407,
     "metadata": {},
     "output_type": "execute_result"
    }
   ],
   "source": [
    "aoc_12(aoc_input)"
   ]
  },
  {
   "cell_type": "code",
   "execution_count": 451,
   "metadata": {},
   "outputs": [],
   "source": [
    "def aoc_12_b(doc):\n",
    "    total = aoc_12(doc)\n",
    "    i = 0\n",
    "    depth = 0\n",
    "    tracker = defaultdict(list)\n",
    "    reverse_tracker = {}\n",
    "    for i in range(len(doc)-2):\n",
    "        if doc[i] in '[{':\n",
    "            depth += 1\n",
    "        if doc[i] in ']}':\n",
    "            depth -= 1\n",
    "        if doc[i:i+3] == 'red':\n",
    "            tracker[depth].append(i)\n",
    "            reverse_tracker[i] = depth\n",
    "\n",
    "    covered = set()\n",
    "    \n",
    "    def find_substring(idx, direction=1):\n",
    "        depth = 0\n",
    "        LOOKUP = {1:']}', -1:'[{'}\n",
    "        tmp = set()\n",
    "        while depth != 0 or doc[idx] not in LOOKUP[direction]:\n",
    "            if doc[idx] in '[{':\n",
    "                depth += 1\n",
    "            if doc[idx] in ']}':\n",
    "                depth -= 1\n",
    "            idx += direction\n",
    "            if idx in reverse_tracker:\n",
    "                tmp.add(idx)\n",
    "        return idx, tmp\n",
    "    \n",
    "    for i in sorted(tracker):\n",
    "        for j in tracker[i]:\n",
    "            if j in covered:\n",
    "                continue\n",
    "            start_idx, cf = find_substring(j, -1)\n",
    "            end_idx, ce = find_substring(j, 1)\n",
    "            if doc[start_idx] in '{}':\n",
    "                covered = covered.union(cf)\n",
    "                covered = covered.union(ce)\n",
    "                total -= aoc_12(doc[start_idx:end_idx+1])\n",
    "    return total"
   ]
  },
  {
   "cell_type": "code",
   "execution_count": 453,
   "metadata": {},
   "outputs": [
    {
     "data": {
      "text/plain": [
       "65402"
      ]
     },
     "execution_count": 453,
     "metadata": {},
     "output_type": "execute_result"
    }
   ],
   "source": [
    "aoc_12_b(aoc_input)"
   ]
  },
  {
   "cell_type": "code",
   "execution_count": 471,
   "metadata": {},
   "outputs": [],
   "source": [
    "aoc_input = read_raw_input(13).split('\\n')"
   ]
  },
  {
   "cell_type": "code",
   "execution_count": 480,
   "metadata": {},
   "outputs": [],
   "source": [
    "def aoc_13_parse(relations):\n",
    "    relation_table = defaultdict(dict)\n",
    "    for relation in relations:\n",
    "        matched = re.match('(\\w+) would (\\w+) (\\d+) .+ next to (\\w+).', relation)\n",
    "        happiness = int(matched[3])\n",
    "        if matched[2] == 'lose':\n",
    "            happiness = - happiness\n",
    "        relation_table[matched[1]][matched[4]] = happiness\n",
    "    return relation_table"
   ]
  },
  {
   "cell_type": "code",
   "execution_count": 489,
   "metadata": {},
   "outputs": [],
   "source": [
    "def aoc_13(relations):\n",
    "    relation_table = aoc_13_parse(relations)\n",
    "    happiness = 0\n",
    "    \n",
    "    def get_happiness(combo):\n",
    "        num_people = len(combo)\n",
    "        happiness = 0\n",
    "        for i in range(num_people):\n",
    "            left = combo[(i+1)%num_people]\n",
    "            right = combo[(i-1)%num_people]\n",
    "            happiness += relation_table[combo[i]][left]\n",
    "            happiness += relation_table[combo[i]][right]\n",
    "        return happiness\n",
    "            \n",
    "    combos = permutations(relation_table)\n",
    "    for combo in combos:\n",
    "        happiness = max(happiness, get_happiness(combo))\n",
    "    return happiness"
   ]
  },
  {
   "cell_type": "code",
   "execution_count": 490,
   "metadata": {},
   "outputs": [
    {
     "data": {
      "text/plain": [
       "733"
      ]
     },
     "execution_count": 490,
     "metadata": {},
     "output_type": "execute_result"
    }
   ],
   "source": [
    "aoc_13(aoc_input)"
   ]
  },
  {
   "cell_type": "code",
   "execution_count": 500,
   "metadata": {},
   "outputs": [],
   "source": [
    "def aoc_13_b(relations):\n",
    "    relation_table = aoc_13_parse(relations)\n",
    "    guests = list(relation_table.keys())\n",
    "    for guest in guests:\n",
    "        relation_table['me'][guest] = 0\n",
    "        relation_table[guest]['me'] = 0\n",
    "    happiness = 0\n",
    "    \n",
    "    def get_happiness(combo):\n",
    "        num_people = len(combo)\n",
    "        happiness = 0\n",
    "        for i in range(num_people):\n",
    "            left = combo[(i+1)%num_people]\n",
    "            right = combo[(i-1)%num_people]\n",
    "            happiness += relation_table[combo[i]][left]\n",
    "            happiness += relation_table[combo[i]][right]\n",
    "        return happiness\n",
    "            \n",
    "    combos = permutations(relation_table)\n",
    "    for combo in combos:\n",
    "        happiness = max(happiness, get_happiness(combo))\n",
    "    return happiness"
   ]
  },
  {
   "cell_type": "code",
   "execution_count": 501,
   "metadata": {},
   "outputs": [
    {
     "data": {
      "text/plain": [
       "725"
      ]
     },
     "execution_count": 501,
     "metadata": {},
     "output_type": "execute_result"
    }
   ],
   "source": [
    "aoc_13_b(aoc_input)"
   ]
  },
  {
   "cell_type": "code",
   "execution_count": 503,
   "metadata": {},
   "outputs": [],
   "source": [
    "aoc_input = read_raw_input(14).split('\\n')"
   ]
  },
  {
   "cell_type": "code",
   "execution_count": 531,
   "metadata": {},
   "outputs": [],
   "source": [
    "def aoc_14(reindeers):\n",
    "    deertable = []\n",
    "    for reindeer in reindeers:\n",
    "        deertable.append([int(x) for x in re.findall('\\d+', reindeer)])\n",
    "    \n",
    "    def get_distance(deer):\n",
    "        full_cycle, remain = divmod(2503, deer[1]+deer[2])\n",
    "        #print(full_cycle, deer)\n",
    "        return deer[0]*(full_cycle*deer[1]+min(remain, deer[1]))\n",
    "    return max([get_distance(deer) for deer in deertable])"
   ]
  },
  {
   "cell_type": "code",
   "execution_count": 532,
   "metadata": {},
   "outputs": [
    {
     "data": {
      "text/plain": [
       "2696"
      ]
     },
     "execution_count": 532,
     "metadata": {},
     "output_type": "execute_result"
    }
   ],
   "source": [
    "aoc_14(aoc_input)"
   ]
  },
  {
   "cell_type": "code",
   "execution_count": 548,
   "metadata": {},
   "outputs": [],
   "source": [
    "def aoc_14_b(reindeers):\n",
    "    deertable = []\n",
    "    scores = np.zeros(len(reindeers))\n",
    "    distances = np.zeros(len(reindeers))\n",
    "    for reindeer in reindeers:\n",
    "        deertable.append([int(x) for x in re.findall('\\d+', reindeer)])\n",
    "    \n",
    "    deertable = np.array(deertable)\n",
    "    for i in range(2503):\n",
    "        distances += deertable[:, 0] * (i%(deertable[:, 1] + deertable[:, 2]) < deertable[:, 1])\n",
    "        max_distance = np.max(distances)\n",
    "        scores += distances == max_distance\n",
    "    return np.max(scores)\n",
    "    return max([get_distance(deer) for deer in deertable])"
   ]
  },
  {
   "cell_type": "code",
   "execution_count": 550,
   "metadata": {},
   "outputs": [],
   "source": [
    "aoc_input = read_raw_input(15).split('\\n')"
   ]
  },
  {
   "cell_type": "code",
   "execution_count": 573,
   "metadata": {},
   "outputs": [],
   "source": [
    "def aoc_15(ingredients):\n",
    "    ingredient_table = []\n",
    "    for ingredient in ingredients:\n",
    "        ingredient_table.append([int(x) for x in re.findall('-*\\d+', ingredient)[:-1]])\n",
    "    ingredient_table = np.array(ingredient_table)\n",
    "    \n",
    "    current = np.sum(ingredient_table, axis=0)\n",
    "    for _ in range(96):\n",
    "        best_ingredient = np.argmax(np.prod(ingredient_table + current, axis=1))\n",
    "        current += ingredient_table[best_ingredient]\n",
    "    return np.prod(current)"
   ]
  },
  {
   "cell_type": "code",
   "execution_count": 574,
   "metadata": {},
   "outputs": [
    {
     "data": {
      "text/plain": [
       "18965440"
      ]
     },
     "execution_count": 574,
     "metadata": {},
     "output_type": "execute_result"
    }
   ],
   "source": [
    "aoc_15(aoc_input)"
   ]
  },
  {
   "cell_type": "code",
   "execution_count": 640,
   "metadata": {},
   "outputs": [],
   "source": [
    "def aoc_15_b(ingredients):\n",
    "    weight_table = []\n",
    "    ingredient_table = []\n",
    "    for ingredient in ingredients:\n",
    "        ing = [int(x) for x in re.findall('-*\\d+', ingredient)]\n",
    "        weight_table.append(ing[-1])\n",
    "        ingredient_table.append(ing[:-1])\n",
    "    ingredient_table = np.array(ingredient_table)\n",
    "    \n",
    "    dp = {}\n",
    "    def find_combo(tbsp=100, target=500):\n",
    "        if (tbsp, target) in dp:\n",
    "            return dp[(tbsp, target)]\n",
    "        res = set()\n",
    "        if tbsp == 1:\n",
    "            for i in range(len(weight_table)):\n",
    "                if weight_table[i] == target:\n",
    "                    tmp = [0]*len(weight_table)\n",
    "                    tmp[i] = 1\n",
    "                    res.add(tuple(tmp))\n",
    "                    dp[(tbsp, target)] = res\n",
    "            return res\n",
    "        \n",
    "        for i in range(len(ingredient_table)):\n",
    "            combos = find_combo(tbsp-1, target-weight_table[i])\n",
    "            for combo in combos:\n",
    "                tmp = list(combo)\n",
    "                tmp[i] += 1\n",
    "                res.add(tuple(tmp))\n",
    "        dp[(tbsp, target)] = res\n",
    "        return res\n",
    "\n",
    "    combos = find_combo()\n",
    "    max_score = 0\n",
    "    for combo in combos:\n",
    "        ingredient = np.sum(ingredient_table * (np.array(combo).reshape(-1, 1)), axis=0)\n",
    "        if np.sum(ingredient <= 0) > 0:\n",
    "            continue\n",
    "        tmp_score = np.prod(ingredient)\n",
    "        max_score = max(tmp_score, max_score)\n",
    "    return max_score"
   ]
  },
  {
   "cell_type": "code",
   "execution_count": 641,
   "metadata": {},
   "outputs": [
    {
     "data": {
      "text/plain": [
       "15862900"
      ]
     },
     "execution_count": 641,
     "metadata": {},
     "output_type": "execute_result"
    }
   ],
   "source": [
    "aoc_15_b(aoc_input)"
   ]
  },
  {
   "cell_type": "code",
   "execution_count": 642,
   "metadata": {},
   "outputs": [],
   "source": [
    "aoc_input = read_raw_input(16).split('\\n')"
   ]
  },
  {
   "cell_type": "code",
   "execution_count": 651,
   "metadata": {},
   "outputs": [],
   "source": [
    "def aoc_16(aunts):\n",
    "    GIFTS = {'children: 3', 'cats: 7', 'samoyeds: 2', 'pomeranians: 3', 'akitas: 0',\n",
    "             'vizslas: 0', 'goldfish: 5', 'trees: 3', 'cars: 2', 'perfumes: 1'}\n",
    "    for i, aunt in enumerate(aunts):\n",
    "        matches = re.findall('(\\w+: \\d+)+', aunt)\n",
    "        if len(matches) == len([x for x in matches if x in GIFTS]):\n",
    "            return i+1\n",
    "    return -1"
   ]
  },
  {
   "cell_type": "code",
   "execution_count": 649,
   "metadata": {},
   "outputs": [
    {
     "data": {
      "text/plain": [
       "103"
      ]
     },
     "execution_count": 649,
     "metadata": {},
     "output_type": "execute_result"
    }
   ],
   "source": [
    "aoc_16(aoc_input)"
   ]
  },
  {
   "cell_type": "code",
   "execution_count": 668,
   "metadata": {},
   "outputs": [],
   "source": [
    "def aoc_16_b(aunts):\n",
    "    GIFTS = {'children': 3, 'cats': 7, 'samoyeds': 2, 'pomeranians': 3, 'akitas': 0,\n",
    "             'vizslas': 0, 'goldfish': 5, 'trees': 3, 'cars': 2, 'perfumes': 1}\n",
    "    GREATER = {'cats', 'trees'}\n",
    "    LESS = {'goldfish', 'pomeranians'}\n",
    "    for i, aunt in enumerate(aunts):\n",
    "        matches = re.findall('(\\w+: \\d+)+', aunt)\n",
    "        for gift_data in matches:\n",
    "            gift, num = gift_data.split(':')\n",
    "            num = int(num)\n",
    "            if gift in GREATER:\n",
    "                if num <= GIFTS[gift]:\n",
    "                    break\n",
    "            elif gift in LESS:\n",
    "                if num >= GIFTS[gift]:\n",
    "                    break\n",
    "            elif num != GIFTS[gift]:\n",
    "                break\n",
    "        else:\n",
    "            return i+1\n",
    "    return -1"
   ]
  },
  {
   "cell_type": "code",
   "execution_count": 669,
   "metadata": {},
   "outputs": [
    {
     "data": {
      "text/plain": [
       "405"
      ]
     },
     "execution_count": 669,
     "metadata": {},
     "output_type": "execute_result"
    }
   ],
   "source": [
    "aoc_16_b(aoc_input)"
   ]
  },
  {
   "cell_type": "code",
   "execution_count": 670,
   "metadata": {},
   "outputs": [],
   "source": [
    "aoc_input = [int(x) for x in read_raw_input(17).split('\\n')]"
   ]
  },
  {
   "cell_type": "code",
   "execution_count": 702,
   "metadata": {},
   "outputs": [],
   "source": [
    "def aoc_17(containers):\n",
    "    dp = defaultdict(set)\n",
    "    dp[0] = set([(-1,)])\n",
    "    for n in range(1, 151):\n",
    "        res = []\n",
    "        for i, container in enumerate(containers):\n",
    "            if n-container in dp:\n",
    "                for combo in dp[n-container]:\n",
    "                    if i not in combo and i >= combo[-1]:\n",
    "                        res.append(combo+(i,))\n",
    "        if res:\n",
    "            dp[n] = set(res)\n",
    "            #return res\n",
    "        \n",
    "    return len(dp[150])"
   ]
  },
  {
   "cell_type": "code",
   "execution_count": 703,
   "metadata": {},
   "outputs": [
    {
     "data": {
      "text/plain": [
       "654"
      ]
     },
     "execution_count": 703,
     "metadata": {},
     "output_type": "execute_result"
    }
   ],
   "source": [
    "aoc_17(aoc_input)"
   ]
  },
  {
   "cell_type": "code",
   "execution_count": 705,
   "metadata": {},
   "outputs": [],
   "source": [
    "def aoc_17_b(containers):\n",
    "    dp = defaultdict(set)\n",
    "    dp[0] = set([(-1,)])\n",
    "    for n in range(1, 151):\n",
    "        res = []\n",
    "        for i, container in enumerate(containers):\n",
    "            if n-container in dp:\n",
    "                for combo in dp[n-container]:\n",
    "                    if i not in combo and i >= combo[-1]:\n",
    "                        res.append(combo+(i,))\n",
    "        if res:\n",
    "            dp[n] = set(res)\n",
    "    min_buckets = min([len(k) for k in dp[150]])\n",
    "    return len([k for k in dp[150] if len(k) == min_buckets])"
   ]
  },
  {
   "cell_type": "code",
   "execution_count": 706,
   "metadata": {},
   "outputs": [
    {
     "data": {
      "text/plain": [
       "57"
      ]
     },
     "execution_count": 706,
     "metadata": {},
     "output_type": "execute_result"
    }
   ],
   "source": [
    "aoc_17_b(aoc_input)"
   ]
  },
  {
   "cell_type": "code",
   "execution_count": 707,
   "metadata": {},
   "outputs": [],
   "source": [
    "aoc_input = read_raw_input(18).split('\\n')"
   ]
  },
  {
   "cell_type": "code",
   "execution_count": 712,
   "metadata": {},
   "outputs": [],
   "source": [
    "def aoc_18(grid):\n",
    "    current_map = {}\n",
    "    for i in range(len(grid)):\n",
    "        for j in range(len(grid[0])):\n",
    "            current_map[i+j*1j] = int(grid[i][j]=='#')\n",
    "    \n",
    "    DIRECTIONS = {1, 1+1j, 1j, -1+1j, -1, -1-1j, -1j, 1-1j}\n",
    "    for _ in range(100):\n",
    "        new_map = current_map.copy()\n",
    "        for cord, val in current_map.items():\n",
    "            adj = sum([current_map.get(cord+d, 0) for d in DIRECTIONS])\n",
    "            if current_map[cord] == 1 and adj in [2, 3]:\n",
    "                new_map[cord] = 1\n",
    "            elif current_map[cord] == 0 and adj == 3:\n",
    "                new_map[cord] = 1\n",
    "            else:\n",
    "                new_map[cord] = 0\n",
    "        current_map = new_map\n",
    "    return sum([v for k, v in current_map.items()])"
   ]
  },
  {
   "cell_type": "code",
   "execution_count": 713,
   "metadata": {},
   "outputs": [
    {
     "data": {
      "text/plain": [
       "821"
      ]
     },
     "execution_count": 713,
     "metadata": {},
     "output_type": "execute_result"
    }
   ],
   "source": [
    "aoc_18(aoc_input)"
   ]
  },
  {
   "cell_type": "code",
   "execution_count": 719,
   "metadata": {},
   "outputs": [],
   "source": [
    "def aoc_18_b(grid):\n",
    "    current_map = {}\n",
    "    num_row = len(grid)\n",
    "    num_col = len(grid[0])\n",
    "    for i in range(num_row):\n",
    "        for j in range(num_col):\n",
    "            current_map[i+j*1j] = int(grid[i][j]=='#')\n",
    "    \n",
    "    DIRECTIONS = {1, 1+1j, 1j, -1+1j, -1, -1-1j, -1j, 1-1j}\n",
    "    STUCK = {0, num_row-1, (num_col-1)*1j, num_row-1+(num_col-1)*1j}\n",
    "    for s in STUCK:\n",
    "        current_map[s] = 1\n",
    "    for _ in range(100):\n",
    "        new_map = current_map.copy()\n",
    "        for cord, val in current_map.items():\n",
    "            if cord in STUCK:\n",
    "                continue\n",
    "            adj = sum([current_map.get(cord+d, 0) for d in DIRECTIONS])\n",
    "            if current_map[cord] == 1 and adj in [2, 3]:\n",
    "                new_map[cord] = 1\n",
    "            elif current_map[cord] == 0 and adj == 3:\n",
    "                new_map[cord] = 1\n",
    "            else:\n",
    "                new_map[cord] = 0\n",
    "        current_map = new_map\n",
    "    return sum([v for k, v in current_map.items()])"
   ]
  },
  {
   "cell_type": "code",
   "execution_count": 720,
   "metadata": {},
   "outputs": [
    {
     "data": {
      "text/plain": [
       "886"
      ]
     },
     "execution_count": 720,
     "metadata": {},
     "output_type": "execute_result"
    }
   ],
   "source": [
    "aoc_18_b(aoc_input)"
   ]
  },
  {
   "cell_type": "code",
   "execution_count": 722,
   "metadata": {},
   "outputs": [
    {
     "data": {
      "text/plain": [
       "1"
      ]
     },
     "execution_count": 722,
     "metadata": {},
     "output_type": "execute_result"
    }
   ],
   "source": [
    "'123'.count('12')"
   ]
  },
  {
   "cell_type": "code",
   "execution_count": 725,
   "metadata": {},
   "outputs": [],
   "source": [
    "aoc_input = read_raw_input(19).split('\\n\\n')"
   ]
  },
  {
   "cell_type": "code",
   "execution_count": 752,
   "metadata": {},
   "outputs": [],
   "source": [
    "def aoc_19(reactions):\n",
    "    s = reactions[1]\n",
    "    increments = defaultdict(list)\n",
    "    for reaction in reactions[0].split('\\n'):\n",
    "        element, replacement = reaction.split(' => ')\n",
    "        increments[element].append(replacement)\n",
    "    cur_string = ''\n",
    "    cur_set = set()\n",
    "    last_c = ''\n",
    "    for i, c in enumerate(s):\n",
    "        new_set = {x+c for x in cur_set}\n",
    "        if c in increments:\n",
    "            for replacement in increments[c]:\n",
    "                new_set.add(cur_string+replacement)\n",
    "        if last_c+c in increments:\n",
    "            for replacement in increments[last_c+c]:\n",
    "                new_set.add(cur_string[:-1]+replacement)\n",
    "        cur_string += c\n",
    "        last_c = c\n",
    "        cur_set = new_set\n",
    "    return len(cur_set)"
   ]
  },
  {
   "cell_type": "code",
   "execution_count": 753,
   "metadata": {},
   "outputs": [
    {
     "data": {
      "text/plain": [
       "535"
      ]
     },
     "execution_count": 753,
     "metadata": {},
     "output_type": "execute_result"
    }
   ],
   "source": [
    "aoc_19(aoc_input)"
   ]
  },
  {
   "cell_type": "code",
   "execution_count": 836,
   "metadata": {},
   "outputs": [],
   "source": [
    "def aoc_19_b(reactions):\n",
    "    medicine = reactions[1]\n",
    "    increments = {}\n",
    "    cuts = []\n",
    "    for reaction in reactions[0].split('\\n'):\n",
    "        element, replacement = reaction.split(' => ')\n",
    "        increments[replacement] = element\n",
    "        cuts.append(len(replacement)-len(element))\n",
    "    \n",
    "    cuts = sorted(list(set(cuts)), reverse=True) \n",
    "    dp = {'e':0}\n",
    "    \n",
    "    def get_num_increments(molecule):\n",
    "        if molecule in dp:\n",
    "            return dp[molecule]\n",
    "        candidate_dict = defaultdict(list)\n",
    "        for i, c in enumerate(molecule):\n",
    "            for cut in cuts:\n",
    "                element = molecule[i-cut:i+1]\n",
    "                if element in increments:\n",
    "                    candidate_dict[cut].append(molecule[:i-cut] + increments[element] + molecule[i+1:])\n",
    "        for cut in cuts:\n",
    "            for candidate in candidate_dict[cut]:\n",
    "                outcome = get_num_increments(candidate)\n",
    "                if outcome != -1:\n",
    "                    return outcome + 1\n",
    "                \n",
    "    return get_num_increments(medicine)"
   ]
  },
  {
   "cell_type": "code",
   "execution_count": 837,
   "metadata": {},
   "outputs": [
    {
     "data": {
      "text/plain": [
       "212"
      ]
     },
     "execution_count": 837,
     "metadata": {},
     "output_type": "execute_result"
    }
   ],
   "source": [
    "aoc_19_b(aoc_input)"
   ]
  },
  {
   "cell_type": "code",
   "execution_count": 1124,
   "metadata": {},
   "outputs": [],
   "source": [
    "aoc_input = 3400000"
   ]
  },
  {
   "cell_type": "code",
   "execution_count": 1588,
   "metadata": {},
   "outputs": [],
   "source": [
    "def aoc_20(num_presents):\n",
    "    PRIMES = [2, 3, 5, 7, 11, 13, 17]\n",
    "    MAXES = [8, 5, 3, 3, 3, 3, 3]\n",
    "    def get_present(nums):\n",
    "        combos = [range(num+1) for num in nums]\n",
    "        res = []\n",
    "        for combo in itertools.product(*combos):\n",
    "            tmp = np.prod([PRIMES[i]**combo[i] for i in range(len(PRIMES))])\n",
    "            res.append(tmp)\n",
    "        return max(res), sum(res), aoc_input-sum(res), sum(res)/max(res)\n",
    "    \n",
    "    current_min = 1000000\n",
    "    combos = [range(num) for num in MAXES]\n",
    "    #print(len(list(itertools.product(*combos))))\n",
    "    for combo in itertools.product(*combos):\n",
    "        a, b, c, d = get_present(combo)\n",
    "        if c <= 0 and a < current_min:\n",
    "            current_min = a\n",
    "            print(combo)\n",
    "            print(a, b, c, d)\n",
    "    return current_min\n"
   ]
  },
  {
   "cell_type": "code",
   "execution_count": 1589,
   "metadata": {},
   "outputs": [
    {
     "name": "stdout",
     "output_type": "stream",
     "text": [
      "(1, 2, 1, 1, 2, 1, 0)\n",
      "990990 3485664 -85664 3.5173553719008264\n",
      "(2, 2, 2, 1, 1, 1, 0)\n",
      "900900 3791424 -391424 4.208484848484848\n",
      "(2, 4, 1, 2, 1, 0, 0)\n",
      "873180 3476088 -76088 3.980952380952381\n",
      "(3, 1, 1, 2, 1, 1, 0)\n",
      "840840 3447360 -47360 4.0999000999001\n",
      "(4, 3, 2, 1, 1, 0, 0)\n",
      "831600 3690240 -290240 4.437518037518037\n",
      "(6, 3, 1, 1, 0, 1, 0)\n",
      "786240 3413760 -13760 4.3418803418803416\n"
     ]
    },
    {
     "data": {
      "text/plain": [
       "786240"
      ]
     },
     "execution_count": 1589,
     "metadata": {},
     "output_type": "execute_result"
    }
   ],
   "source": [
    "aoc_20(aoc_input)"
   ]
  },
  {
   "cell_type": "code",
   "execution_count": 1591,
   "metadata": {},
   "outputs": [],
   "source": [
    "aoc_input = 34000000"
   ]
  },
  {
   "cell_type": "code",
   "execution_count": 1597,
   "metadata": {},
   "outputs": [],
   "source": [
    "def aoc_20_b(num_presents):\n",
    "    PRIMES = [2, 3, 5, 7, 11, 13, 17]\n",
    "    MAXES = [8, 5, 3, 3, 3, 3, 3]\n",
    "    def get_present(nums, present, target):\n",
    "        combos = [range(num+1) for num in nums]\n",
    "        res = []\n",
    "        \n",
    "        for combo in itertools.product(*combos):\n",
    "            tmp = np.prod([PRIMES[i]**combo[i] for i in range(len(PRIMES))])\n",
    "            if present /tmp <= 50:\n",
    "                res.append(tmp)\n",
    "        return max(res), sum(res), target-sum(res)*11, sum(res)/max(res)\n",
    "    \n",
    "    current_min = 1000000\n",
    "    combos = [range(num) for num in MAXES]\n",
    "    #print(len(list(itertools.product(*combos))))\n",
    "    for combo in itertools.product(*combos):\n",
    "        presents = np.prod([PRIMES[i]**combo[i] for i in range(len(PRIMES))])\n",
    "        a, b, c, d = get_present(combo, presents, num_presents)\n",
    "        if c <= 0 and a < current_min:\n",
    "            current_min = a\n",
    "            print(combo)\n",
    "            print(a, b, c, d)\n",
    "    return current_min\n"
   ]
  },
  {
   "cell_type": "code",
   "execution_count": 1598,
   "metadata": {},
   "outputs": [
    {
     "name": "stdout",
     "output_type": "stream",
     "text": [
      "(1, 2, 1, 1, 2, 1, 0)\n",
      "990990 3181937 -1001307 3.210866910866911\n",
      "(2, 2, 2, 1, 1, 1, 0)\n",
      "900900 3369744 -3067184 3.7404195804195806\n",
      "(2, 4, 1, 2, 1, 0, 0)\n",
      "873180 3140688 -547568 3.5968391396962827\n",
      "(4, 2, 1, 1, 0, 2, 0)\n",
      "851760 3207750 -1285250 3.766025641025641\n",
      "(4, 3, 2, 1, 1, 0, 0)\n",
      "831600 3252746 -1780206 3.9114309764309763\n"
     ]
    },
    {
     "data": {
      "text/plain": [
       "831600"
      ]
     },
     "execution_count": 1598,
     "metadata": {},
     "output_type": "execute_result"
    }
   ],
   "source": [
    "aoc_20_b(34000000)"
   ]
  },
  {
   "cell_type": "code",
   "execution_count": 1497,
   "metadata": {},
   "outputs": [],
   "source": [
    "def aoc_21(boss_hp = 103, boss_stat=9+2j):\n",
    "    hp = 100\n",
    "    def can_win(stat, hp=hp, boss_hp=boss_hp, boss_stat=boss_stat):\n",
    "        t = stat\n",
    "        stat = stat[1]\n",
    "        dmg, amr = int(stat.real), int(stat.imag)\n",
    "        boss_dmg, boss_amr = int(boss_stat.real), int(boss_stat.imag)\n",
    "        if boss_dmg - amr <= 0:\n",
    "            return True\n",
    "        q, r = divmod(boss_hp, dmg-boss_amr)\n",
    "        pturn = q + (r != 0)\n",
    "        q, r = divmod(hp, boss_dmg-amr)\n",
    "        bturn = q + (r != 0)\n",
    "        res = pturn <= bturn\n",
    "        #if res:\n",
    "            #print(t)\n",
    "        return res\n",
    "    \n",
    "    def sum_stats(item_combo):\n",
    "        return (sum([item[0] for item in item_combo]), sum([item[1] for item in item_combo]))\n",
    "    \n",
    "    hp = 100\n",
    "    WEAPONS = [(8, 4), (10, 5), (25, 6), (40, 7), (74, 8)]\n",
    "    ARMORS = [(0, 0), (13, 1j), (31, 2j), (53, 3j), (75, 4j)]\n",
    "    RINGS = [(25, 1), (50, 2), (100, 3), (20, 1j), (40, 2j), (80, 3j)]\n",
    "    two_ring_combo = [sum_stats(combo) for combo in combinations(RINGS, 2)]\n",
    "    ring_combo = [(0, 0)] + RINGS + two_ring_combo\n",
    "    \n",
    "    item_combos = itertools.product(*[WEAPONS, ARMORS, ring_combo])\n",
    "    stat_combos = [sum_stats(item_combo) for item_combo in item_combos]\n",
    "    winning_combos = [stat_combo for stat_combo in stat_combos if can_win(stat_combo)]\n",
    "    return min([combo[0] for combo in winning_combos])"
   ]
  },
  {
   "cell_type": "code",
   "execution_count": 1120,
   "metadata": {},
   "outputs": [
    {
     "data": {
      "text/plain": [
       "121"
      ]
     },
     "execution_count": 1120,
     "metadata": {},
     "output_type": "execute_result"
    }
   ],
   "source": [
    "aoc_21()"
   ]
  },
  {
   "cell_type": "code",
   "execution_count": 1121,
   "metadata": {},
   "outputs": [],
   "source": [
    "def aoc_21_b(boss_hp = 103, boss_stat=9+2j):\n",
    "    hp = 100\n",
    "    def can_win(stat, hp=hp, boss_hp=boss_hp, boss_stat=boss_stat):\n",
    "        t = stat\n",
    "        stat = stat[1]\n",
    "        dmg, amr = int(stat.real), int(stat.imag)\n",
    "        boss_dmg, boss_amr = int(boss_stat.real), int(boss_stat.imag)\n",
    "        if boss_dmg - amr <= 0:\n",
    "            return True\n",
    "        q, r = divmod(boss_hp, dmg-boss_amr)\n",
    "        pturn = q + (r != 0)\n",
    "        q, r = divmod(hp, boss_dmg-amr)\n",
    "        bturn = q + (r != 0)\n",
    "        res = pturn <= bturn\n",
    "        return res\n",
    "    \n",
    "    def sum_stats(item_combo):\n",
    "        return (sum([item[0] for item in item_combo]), sum([item[1] for item in item_combo]))\n",
    "    \n",
    "    hp = 100\n",
    "    WEAPONS = [(8, 4), (10, 5), (25, 6), (40, 7), (74, 8)]\n",
    "    ARMORS = [(0, 0), (13, 1j), (31, 2j), (53, 3j), (75, 4j)]\n",
    "    RINGS = [(25, 1), (50, 2), (100, 3), (20, 1j), (40, 2j), (80, 3j)]\n",
    "    two_ring_combo = [sum_stats(combo) for combo in combinations(RINGS, 2)]\n",
    "    ring_combo = [(0, 0)] + RINGS + two_ring_combo\n",
    "    \n",
    "    item_combos = itertools.product(*[WEAPONS, ARMORS, ring_combo])\n",
    "    stat_combos = [sum_stats(item_combo) for item_combo in item_combos]\n",
    "    winning_combos = [stat_combo for stat_combo in stat_combos if not can_win(stat_combo)]\n",
    "    return max([combo[0] for combo in winning_combos])"
   ]
  },
  {
   "cell_type": "code",
   "execution_count": 1123,
   "metadata": {},
   "outputs": [
    {
     "data": {
      "text/plain": [
       "201"
      ]
     },
     "execution_count": 1123,
     "metadata": {},
     "output_type": "execute_result"
    }
   ],
   "source": [
    "aoc_21_b()"
   ]
  },
  {
   "cell_type": "code",
   "execution_count": 1605,
   "metadata": {},
   "outputs": [
    {
     "data": {
      "text/plain": [
       "9765625"
      ]
     },
     "execution_count": 1605,
     "metadata": {},
     "output_type": "execute_result"
    }
   ],
   "source": [
    "5**10"
   ]
  },
  {
   "cell_type": "code",
   "execution_count": 1665,
   "metadata": {},
   "outputs": [],
   "source": [
    "def aoc_22(boss_hp = 58, boss_dmg = 9):\n",
    "    hp = 50\n",
    "    mana = 500\n",
    "    \n",
    "    POISON_DAMAGE = 3\n",
    "    SHIELD_ARMOR = 7\n",
    "    MISSILE_DAMAGE = 4\n",
    "    DRAIN_DAMAGE = 2\n",
    "    DRAIN_HEAL = 2\n",
    "    RECHARGE_MANA = 101\n",
    "    CONSUMPTION_CAP = 1500\n",
    "    \n",
    "    CONSUMPTION = {'M':53, 'P':173, 'D':73, 'S':113, 'R':229}\n",
    "    \n",
    "    INITIAL_STATE = ('', hp+boss_dmg, mana, boss_hp, 0, 0, 0, 0)\n",
    "    \n",
    "    states = [INITIAL_STATE]\n",
    "    winning_sequence = []\n",
    "    \n",
    "    while states:\n",
    "        new_states = []\n",
    "        for state in states:\n",
    "            seq, hp, mana, boss_hp, shield, poison, recharge, consumption = state\n",
    "            \n",
    "            if consumption > CONSUMPTION_CAP:\n",
    "                continue\n",
    "            #process status\n",
    "            if poison > 0:\n",
    "                boss_hp -= POISON_DAMAGE*2\n",
    "                poison -= 2\n",
    "            if shield > 0:\n",
    "                hp -= (boss_dmg-SHIELD_ARMOR)\n",
    "                shield -= 2\n",
    "            else:\n",
    "                hp -= boss_dmg\n",
    "            if recharge > 0:\n",
    "                recharge -= 2\n",
    "                mana += RECHARGE_MANA*2\n",
    "                if recharge == -1:\n",
    "                    recharge = 0\n",
    "                    mana -= RECHARGE_MANA\n",
    "            \n",
    "            if boss_hp <= 0:\n",
    "                winning_sequence.append((seq, consumption))\n",
    "                #print('won', seq, hp, consumption)\n",
    "                continue\n",
    "                \n",
    "            if hp <= 0:\n",
    "                continue\n",
    "            \n",
    "            if mana >= CONSUMPTION['M']:\n",
    "                new_states.append((seq+'M', hp, mana-CONSUMPTION['M'], boss_hp-MISSILE_DAMAGE,\n",
    "                                  shield, poison, recharge, consumption+CONSUMPTION['M']))\n",
    "            if mana >= CONSUMPTION['D']:\n",
    "                new_states.append((seq+'D', hp+DRAIN_HEAL, mana-CONSUMPTION['D'], boss_hp-DRAIN_DAMAGE,\n",
    "                                  shield, poison, recharge, consumption+CONSUMPTION['D']))\n",
    "            if poison == 0 and mana >= CONSUMPTION['P']:\n",
    "                new_states.append((seq+'P', hp, mana-CONSUMPTION['P'], boss_hp,\n",
    "                                  shield, 6, recharge, consumption+CONSUMPTION['P']))\n",
    "            if recharge == 0 and 2*CONSUMPTION['R'] > mana >= CONSUMPTION['R']:\n",
    "                new_states.append((seq+'R', hp, mana-CONSUMPTION['R'], boss_hp,\n",
    "                                  shield, poison, 5, consumption+CONSUMPTION['R']))\n",
    "            if shield == 0 and mana >= CONSUMPTION['S']:\n",
    "                new_states.append((seq+'S', hp, mana-CONSUMPTION['S'], boss_hp,\n",
    "                                  6, poison, recharge, consumption+CONSUMPTION['S']))\n",
    "        states = new_states\n",
    "    return min([x[1] for x in winning_sequence])"
   ]
  },
  {
   "cell_type": "code",
   "execution_count": 1667,
   "metadata": {},
   "outputs": [
    {
     "data": {
      "text/plain": [
       "1269"
      ]
     },
     "execution_count": 1667,
     "metadata": {},
     "output_type": "execute_result"
    }
   ],
   "source": [
    "aoc_22()"
   ]
  },
  {
   "cell_type": "code",
   "execution_count": 1668,
   "metadata": {},
   "outputs": [],
   "source": [
    "def aoc_22_b(boss_hp = 58, boss_dmg = 9):\n",
    "    hp = 50\n",
    "    mana = 500\n",
    "    \n",
    "    POISON_DAMAGE = 3\n",
    "    SHIELD_ARMOR = 7\n",
    "    MISSILE_DAMAGE = 4\n",
    "    DRAIN_DAMAGE = 2\n",
    "    DRAIN_HEAL = 2\n",
    "    RECHARGE_MANA = 101\n",
    "    CONSUMPTION_CAP = 1500\n",
    "    \n",
    "    CONSUMPTION = {'M':53, 'P':173, 'D':73, 'S':113, 'R':229}\n",
    "    \n",
    "    INITIAL_STATE = ('', hp+boss_dmg, mana, boss_hp, 0, 0, 0, 0)\n",
    "    \n",
    "    states = [INITIAL_STATE]\n",
    "    winning_sequence = []\n",
    "    \n",
    "    while states:\n",
    "        new_states = []\n",
    "        for state in states:\n",
    "            seq, hp, mana, boss_hp, shield, poison, recharge, consumption = state\n",
    "            \n",
    "            hp -= 1\n",
    "            if consumption > CONSUMPTION_CAP:\n",
    "                continue\n",
    "            #process status\n",
    "            if poison > 0:\n",
    "                boss_hp -= POISON_DAMAGE*2\n",
    "                poison -= 2\n",
    "            if shield > 0:\n",
    "                hp -= (boss_dmg-SHIELD_ARMOR)\n",
    "                shield -= 2\n",
    "            else:\n",
    "                hp -= boss_dmg\n",
    "            if recharge > 0:\n",
    "                recharge -= 2\n",
    "                mana += RECHARGE_MANA*2\n",
    "                if recharge == -1:\n",
    "                    recharge = 0\n",
    "                    mana -= RECHARGE_MANA\n",
    "            \n",
    "            if boss_hp <= 0:\n",
    "                winning_sequence.append((seq, consumption))\n",
    "                #print('won', seq, hp, consumption)\n",
    "                continue\n",
    "                \n",
    "            if hp <= 0:\n",
    "                continue\n",
    "            \n",
    "            if mana >= CONSUMPTION['M']:\n",
    "                new_states.append((seq+'M', hp, mana-CONSUMPTION['M'], boss_hp-MISSILE_DAMAGE,\n",
    "                                  shield, poison, recharge, consumption+CONSUMPTION['M']))\n",
    "            if mana >= CONSUMPTION['D']:\n",
    "                new_states.append((seq+'D', hp+DRAIN_HEAL, mana-CONSUMPTION['D'], boss_hp-DRAIN_DAMAGE,\n",
    "                                  shield, poison, recharge, consumption+CONSUMPTION['D']))\n",
    "            if poison == 0 and mana >= CONSUMPTION['P']:\n",
    "                new_states.append((seq+'P', hp, mana-CONSUMPTION['P'], boss_hp,\n",
    "                                  shield, 6, recharge, consumption+CONSUMPTION['P']))\n",
    "            if recharge == 0 and 2*CONSUMPTION['R'] > mana >= CONSUMPTION['R']:\n",
    "                new_states.append((seq+'R', hp, mana-CONSUMPTION['R'], boss_hp,\n",
    "                                  shield, poison, 5, consumption+CONSUMPTION['R']))\n",
    "            if shield == 0 and mana >= CONSUMPTION['S']:\n",
    "                new_states.append((seq+'S', hp, mana-CONSUMPTION['S'], boss_hp,\n",
    "                                  6, poison, recharge, consumption+CONSUMPTION['S']))\n",
    "        states = new_states\n",
    "    return min([x[1] for x in winning_sequence])"
   ]
  },
  {
   "cell_type": "code",
   "execution_count": 1669,
   "metadata": {},
   "outputs": [
    {
     "data": {
      "text/plain": [
       "1309"
      ]
     },
     "execution_count": 1669,
     "metadata": {},
     "output_type": "execute_result"
    }
   ],
   "source": [
    "aoc_22_b()"
   ]
  },
  {
   "cell_type": "code",
   "execution_count": 957,
   "metadata": {},
   "outputs": [],
   "source": [
    "aoc_input = read_raw_input(23).split('\\n')"
   ]
  },
  {
   "cell_type": "code",
   "execution_count": 961,
   "metadata": {},
   "outputs": [],
   "source": [
    "def aoc_23(instructions, register={'a':0, 'b':0}):\n",
    "    cmds = [x.split() for x in instructions]\n",
    "    idx = 0\n",
    "    #register = {'a':0, 'b':0}\n",
    "    while idx < len(cmds):\n",
    "        cmd = cmds[idx]\n",
    "        #print(idx, cmds[idx], register)\n",
    "        if cmd[0] == 'jmp':\n",
    "            idx += int(cmd[1])\n",
    "            #print('jump', idx, int(cmd))\n",
    "            continue\n",
    "        if cmd[0] == 'jie':\n",
    "            if register[cmd[1][0]] %2 == 0:\n",
    "                idx += int(cmd[2])\n",
    "                continue\n",
    "        if cmd[0] == 'jio':\n",
    "            if register[cmd[1][0]] == 1:\n",
    "                idx += int(cmd[2])\n",
    "                continue\n",
    "        if cmd[0] == 'inc':\n",
    "            register[cmd[1]] = register[cmd[1]]+1\n",
    "        if cmd[0] == 'tpl':\n",
    "            register[cmd[1]] = register[cmd[1]]*3\n",
    "        if cmd[0] == 'hlf':\n",
    "            register[cmd[1]] = register[cmd[1]]//2\n",
    "        idx += 1\n",
    "    return register['b']"
   ]
  },
  {
   "cell_type": "code",
   "execution_count": 962,
   "metadata": {},
   "outputs": [
    {
     "data": {
      "text/plain": [
       "184"
      ]
     },
     "execution_count": 962,
     "metadata": {},
     "output_type": "execute_result"
    }
   ],
   "source": [
    "aoc_23(aoc_input)"
   ]
  },
  {
   "cell_type": "code",
   "execution_count": 964,
   "metadata": {},
   "outputs": [
    {
     "data": {
      "text/plain": [
       "231"
      ]
     },
     "execution_count": 964,
     "metadata": {},
     "output_type": "execute_result"
    }
   ],
   "source": [
    "aoc_23(aoc_input, {'a':1, 'b':0})"
   ]
  },
  {
   "cell_type": "code",
   "execution_count": 966,
   "metadata": {},
   "outputs": [],
   "source": [
    "aoc_input = [int(x) for x in read_raw_input(24).split('\\n')]"
   ]
  },
  {
   "cell_type": "code",
   "execution_count": 1019,
   "metadata": {},
   "outputs": [],
   "source": [
    "def aoc_24(boxes, num_parts=3):\n",
    "    target = sum(boxes)/num_parts\n",
    "    \n",
    "    boxes = sorted(boxes, reverse=True)\n",
    "    def find_set(num_box, remaining=boxes, target=target):\n",
    "        if not remaining or num_box == 0 or remaining[0]*num_box < target:\n",
    "            return []\n",
    "        res = []\n",
    "        for i, box in enumerate(remaining):\n",
    "            if box == target and num_box == 1:\n",
    "                return [(box,)]\n",
    "            if box > target:\n",
    "                continue\n",
    "            tmp = find_set(num_box-1, list(remaining[i+1:]), target-box)\n",
    "            #print(tmp)\n",
    "            for combo in tmp:\n",
    "                res.append(tuple((box,)+combo))\n",
    "        return res\n",
    "    for i in range(1, len(boxes)//3):\n",
    "        res = find_set(i)\n",
    "        if res:\n",
    "            return min([np.prod(x) for x in res])\n",
    "                "
   ]
  },
  {
   "cell_type": "code",
   "execution_count": 1020,
   "metadata": {},
   "outputs": [
    {
     "data": {
      "text/plain": [
       "11846773891"
      ]
     },
     "execution_count": 1020,
     "metadata": {},
     "output_type": "execute_result"
    }
   ],
   "source": [
    "aoc_24(aoc_input)"
   ]
  },
  {
   "cell_type": "code",
   "execution_count": 1021,
   "metadata": {},
   "outputs": [
    {
     "data": {
      "text/plain": [
       "80393059"
      ]
     },
     "execution_count": 1021,
     "metadata": {},
     "output_type": "execute_result"
    }
   ],
   "source": [
    "aoc_24(aoc_input, 4)"
   ]
  },
  {
   "cell_type": "code",
   "execution_count": 902,
   "metadata": {},
   "outputs": [],
   "source": [
    "aoc_input = (2981, 3075)"
   ]
  },
  {
   "cell_type": "code",
   "execution_count": 903,
   "metadata": {},
   "outputs": [],
   "source": [
    "def aoc_25(cord):\n",
    "    num = sum(range(sum(cord)-1)) + cord[1] - 1\n",
    "    n = 20151125\n",
    "    for _ in range(num):\n",
    "        n = (n*252533) % 33554393\n",
    "    return n"
   ]
  },
  {
   "cell_type": "code",
   "execution_count": 904,
   "metadata": {},
   "outputs": [
    {
     "data": {
      "text/plain": [
       "9132360"
      ]
     },
     "execution_count": 904,
     "metadata": {},
     "output_type": "execute_result"
    }
   ],
   "source": [
    "aoc_25(aoc_input)"
   ]
  },
  {
   "cell_type": "code",
   "execution_count": null,
   "metadata": {},
   "outputs": [],
   "source": []
  }
 ],
 "metadata": {
  "kernelspec": {
   "display_name": "Python 3",
   "language": "python",
   "name": "python3"
  },
  "language_info": {
   "codemirror_mode": {
    "name": "ipython",
    "version": 3
   },
   "file_extension": ".py",
   "mimetype": "text/x-python",
   "name": "python",
   "nbconvert_exporter": "python",
   "pygments_lexer": "ipython3",
   "version": "3.7.6"
  }
 },
 "nbformat": 4,
 "nbformat_minor": 4
}
